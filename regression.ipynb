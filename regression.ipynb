{
 "cells": [
  {
   "cell_type": "markdown",
   "metadata": {},
   "source": [
    "# Municipality Analysis"
   ]
  },
  {
   "cell_type": "code",
   "execution_count": 1,
   "metadata": {},
   "outputs": [],
   "source": [
    "#Cargando librerías\n",
    "import pandas as pd\n",
    "import numpy as np\n",
    "import matplotlib.pyplot as plt\n",
    "import seaborn as sns\n",
    "from tqdm import tqdm\n",
    "#import reverse_geocoder as rg \n",
    "#import pprint "
   ]
  },
  {
   "cell_type": "code",
   "execution_count": 2,
   "metadata": {
    "scrolled": false
   },
   "outputs": [
    {
     "name": "stderr",
     "output_type": "stream",
     "text": [
      "C:\\Users\\OMAR\\Anaconda3\\lib\\site-packages\\IPython\\core\\interactiveshell.py:3058: DtypeWarning: Columns (0) have mixed types. Specify dtype option on import or set low_memory=False.\n",
      "  interactivity=interactivity, compiler=compiler, result=result)\n"
     ]
    }
   ],
   "source": [
    "df = pd.read_csv('datasets.csv', index_col=False)\n",
    "df = df.reset_index(drop=True)\n",
    "df = df.drop(columns=['Unnamed: 0'])"
   ]
  },
  {
   "cell_type": "code",
   "execution_count": 3,
   "metadata": {},
   "outputs": [
    {
     "data": {
      "text/plain": [
       "(937785, 25)"
      ]
     },
     "execution_count": 3,
     "metadata": {},
     "output_type": "execute_result"
    }
   ],
   "source": [
    "df.shape"
   ]
  },
  {
   "cell_type": "markdown",
   "metadata": {},
   "source": [
    "## Some Metadata\n",
    "### l6 .... l1 : Administrative Level\n",
    "### surface_total: Total surface in m2\n",
    "### surface_covered : Total surface covered in m2\n",
    "### bathrooms\n",
    "### bedrooms\n",
    "### lat\n",
    "### lon"
   ]
  },
  {
   "cell_type": "markdown",
   "metadata": {},
   "source": [
    "## Utility Functions"
   ]
  },
  {
   "cell_type": "code",
   "execution_count": 4,
   "metadata": {},
   "outputs": [],
   "source": [
    "#import os\n",
    "#os.getcwd()\n",
    "#from utils.utils import relocate\n",
    "#from [dir].[file.py] import relocate\n",
    "#from .utils imprt relocate"
   ]
  },
  {
   "cell_type": "code",
   "execution_count": 5,
   "metadata": {},
   "outputs": [],
   "source": [
    "def reverseGeocode(coordinates): \n",
    "    result = rg.search(coordinates) \n",
    "    \n",
    "    return result[0]['admin1'], result[0]['name']\n",
    "\n",
    "# Dataframe must have been given reset_indexed\n",
    "# Complete missing values where deparment and municipality are unknown\n",
    "def relocate(df_geo):\n",
    "    n = df_geo.shape[0]\n",
    "    for i in tqdm(range(0,n)):\n",
    "        lat = df_geo.loc[i, 'lat']\n",
    "        lon = df_geo.loc[i, 'lon']\n",
    "        l2 = df_geo.loc[i, 'l2']\n",
    "        l3 = df_geo.loc[i, 'l3']\n",
    "        if (~np.isnan(lat) and ~np.isnan(lon)) and (pd.isnull(l3) or pd.isnull(l2)):\n",
    "            df_geo.loc[i, 'l2'], df_geo.loc[i, 'l3'] = reverseGeocode((lat,lon))\n",
    "            \n",
    "    return df_geo\n",
    "\n",
    "#Calculates missing data and shows dataframe\n",
    "def calculate_missing(df):\n",
    "    s_types = df.dtypes\n",
    "    missing = df.isnull().sum()\n",
    "    missing_per = (df.isnull().sum()/df.shape[0])*100\n",
    "\n",
    "    explo = pd.DataFrame({'Type' : s_types, 'Missing' : missing,\n",
    "                       'Missing%' : missing_per}).sort_values(by=['Missing%', 'Type'], ascending=False)\n",
    "\n",
    "    return explo\n",
    "\n",
    "#Graph missing data given dataframe\n",
    "def graph_missing(df):\n",
    "\n",
    "    df_missing = calculate_missing(df)\n",
    "\n",
    "    df_missing = df_missing.where(df_missing['Missing%'] > 25).dropna(subset=['Missing%'])\n",
    "\n",
    "    sns.barplot(x=df_missing.index, y=df_missing['Missing%'], data=df_missing)"
   ]
  },
  {
   "cell_type": "markdown",
   "metadata": {},
   "source": [
    "## Sell and Rent Counting"
   ]
  },
  {
   "cell_type": "code",
   "execution_count": 6,
   "metadata": {
    "scrolled": true
   },
   "outputs": [
    {
     "data": {
      "text/plain": [
       "<matplotlib.axes._subplots.AxesSubplot at 0x15a7ae1e888>"
      ]
     },
     "execution_count": 6,
     "metadata": {},
     "output_type": "execute_result"
    },
    {
     "data": {
      "image/png": "[encoded data removed]",
      "text/plain": [
       "<Figure size 842.4x595.44 with 1 Axes>"
      ]
     },
     "metadata": {},
     "output_type": "display_data"
    }
   ],
   "source": [
    "sns.set(rc={'figure.figsize':(11.7,8.27)})     \n",
    "df = df.where(df['operation_type'] != 'Arriendo temporal')\n",
    "sns.countplot(data = df, x = 'operation_type')"
   ]
  },
  {
   "cell_type": "code",
   "execution_count": 7,
   "metadata": {},
   "outputs": [],
   "source": [
    "df_sell = df.where(df['operation_type'] == 'Venta').dropna(subset=['operation_type'])\n",
    "df_rent = df.where(df['operation_type'] == 'Arriendo').dropna(subset=['operation_type'])"
   ]
  },
  {
   "cell_type": "markdown",
   "metadata": {},
   "source": [
    "## Missing Values Graph - Sell"
   ]
  },
  {
   "cell_type": "code",
   "execution_count": 8,
   "metadata": {
    "scrolled": true
   },
   "outputs": [
    {
     "data": {
      "image/png": "[encoded data removed]",
      "text/plain": [
       "<Figure size 842.4x595.44 with 1 Axes>"
      ]
     },
     "metadata": {},
     "output_type": "display_data"
    }
   ],
   "source": [
    "graph_missing(df_sell)"
   ]
  },
  {
   "cell_type": "markdown",
   "metadata": {},
   "source": [
    "## Missing Values Graph - Rent"
   ]
  },
  {
   "cell_type": "code",
   "execution_count": 9,
   "metadata": {},
   "outputs": [
    {
     "data": {
      "image/png": "[encoded data removed]",
      "text/plain": [
       "<Figure size 842.4x595.44 with 1 Axes>"
      ]
     },
     "metadata": {},
     "output_type": "display_data"
    }
   ],
   "source": [
    "graph_missing(df_rent)"
   ]
  },
  {
   "cell_type": "code",
   "execution_count": 10,
   "metadata": {},
   "outputs": [],
   "source": [
    "df_rent.drop(columns=['l6', 'l5', 'l4', 'rooms', 'price_period', 'surface_covered'], inplace=True)\n",
    "df_sell.drop(columns=['l6', 'l5', 'l4', 'rooms', 'price_period', 'surface_covered'], inplace=True)"
   ]
  },
  {
   "cell_type": "code",
   "execution_count": 11,
   "metadata": {},
   "outputs": [
    {
     "data": {
      "text/plain": [
       "(613054, 19)"
      ]
     },
     "execution_count": 11,
     "metadata": {},
     "output_type": "execute_result"
    }
   ],
   "source": [
    "df_sell.shape"
   ]
  },
  {
   "cell_type": "code",
   "execution_count": 12,
   "metadata": {
    "scrolled": true
   },
   "outputs": [],
   "source": [
    "df_medellin = df_sell.copy()\n",
    "\n",
    "def new_features(df):\n",
    "    df_features = df.copy()\n",
    "    df_features = df_features[df_features[\"end_date\"].str.contains('9999')==False]\n",
    "    df_features['price_m2'] = df['price'] / df['surface_total']\n",
    "    df_features['end_date'] = pd.to_datetime(df_features.end_date)\n",
    "    df_features['created_on'] = pd.to_datetime(df_features.created_on)\n",
    "    df_features['delta_time'] = df_features['end_date'] - df_features['created_on'] \n",
    "    df_features['delta_time'] = df_features['delta_time'].dt.days\n",
    "    \n",
    "    return df_features\n",
    "    \n",
    "df_medellin = df_medellin[df_medellin['price']<df_medellin['price'].quantile(0.99)]\n",
    "df_medellin = df_medellin[df_medellin['price'] > df_medellin['price'].quantile(0.1)]\n",
    "#df_medellin = df_medellin[df_medellin['surface_total'] > 0]\n",
    "\n",
    "df_medellin = new_features(df_medellin)\n",
    "df_medellin = df_medellin[~np.isnan(df_medellin['price']) & df_medellin['price'] > 0]\n",
    "df_medellin = df_medellin[df_medellin['surface_total'] > 0]\n",
    "\n",
    "df_medellin['price'] = np.log(df_medellin['price'])\n",
    "\n",
    "del df_medellin['delta_time']\n",
    "\n",
    "#hue='species'\n",
    "#sns.pairplot(df_medellin, height=2.5);"
   ]
  },
  {
   "cell_type": "code",
   "execution_count": 13,
   "metadata": {},
   "outputs": [
    {
     "data": {
      "text/plain": [
       "(0, 20)"
      ]
     },
     "execution_count": 13,
     "metadata": {},
     "output_type": "execute_result"
    }
   ],
   "source": [
    "df_medellin[np.isnan(df_medellin['surface_total'])].shape"
   ]
  },
  {
   "cell_type": "code",
   "execution_count": 14,
   "metadata": {},
   "outputs": [
    {
     "data": {
      "text/plain": [
       "Bogotá D.C          60884\n",
       "Medellín            32749\n",
       "Cali                28261\n",
       "Barranquilla        26985\n",
       "Manizales           11458\n",
       "                    ...  \n",
       "Supata                  1\n",
       "El Bordo                1\n",
       "Los Palmitos            1\n",
       "Puerto Concordia        1\n",
       "La Macarena             1\n",
       "Name: l3, Length: 619, dtype: int64"
      ]
     },
     "execution_count": 14,
     "metadata": {},
     "output_type": "execute_result"
    }
   ],
   "source": [
    "df_medellin['l3'].value_counts()"
   ]
  },
  {
   "cell_type": "markdown",
   "metadata": {},
   "source": [
    "## Bogota and Medellin Logarithmic Distribution  "
   ]
  },
  {
   "cell_type": "code",
   "execution_count": 15,
   "metadata": {
    "scrolled": false
   },
   "outputs": [
    {
     "data": {
      "image/png": "[encoded data removed]",
      "text/plain": [
       "<Figure size 842.4x595.44 with 1 Axes>"
      ]
     },
     "metadata": {},
     "output_type": "display_data"
    }
   ],
   "source": [
    "ax = sns.distplot(np.log(df_medellin['price']));\n",
    "ax.set(xlabel='', ylabel='Frecuency',title =\"Bogota and Medellin Price Distribution (Log)\")\n",
    "plt.show()"
   ]
  },
  {
   "cell_type": "code",
   "execution_count": 16,
   "metadata": {},
   "outputs": [],
   "source": [
    "df_medellin = df_medellin.drop(columns=['id', 'ad_type', 'start_date', 'end_date', 'created_on',\n",
    "                          'l1', 'l2', 'l3', 'currency', 'title', 'description', 'operation_type'])"
   ]
  },
  {
   "cell_type": "code",
   "execution_count": 17,
   "metadata": {},
   "outputs": [
    {
     "data": {
      "text/plain": [
       "(289389, 8)"
      ]
     },
     "execution_count": 17,
     "metadata": {},
     "output_type": "execute_result"
    }
   ],
   "source": [
    "df_medellin.shape"
   ]
  },
  {
   "cell_type": "markdown",
   "metadata": {},
   "source": [
    "## Medellin and Bogotá Sell Correlation Matrix"
   ]
  },
  {
   "cell_type": "code",
   "execution_count": 18,
   "metadata": {},
   "outputs": [
    {
     "data": {
      "text/plain": [
       "<matplotlib.axes._subplots.AxesSubplot at 0x15a2232c888>"
      ]
     },
     "execution_count": 18,
     "metadata": {},
     "output_type": "execute_result"
    },
    {
     "data": {
      "image/png": "[encoded data removed]",
      "text/plain": [
       "<Figure size 1080x1080 with 2 Axes>"
      ]
     },
     "metadata": {},
     "output_type": "display_data"
    }
   ],
   "source": [
    "corr = df_medellin.corr()\n",
    "plt.figure(figsize=(15,15))\n",
    "sns.heatmap(corr, annot=True)"
   ]
  },
  {
   "cell_type": "markdown",
   "metadata": {},
   "source": [
    "## Machine Learning - Initial Model"
   ]
  },
  {
   "cell_type": "code",
   "execution_count": 19,
   "metadata": {},
   "outputs": [],
   "source": [
    "X_df = df_medellin.drop('price', axis=1).copy()\n",
    "Y_df = df_medellin['price'].copy()"
   ]
  },
  {
   "cell_type": "code",
   "execution_count": 20,
   "metadata": {},
   "outputs": [],
   "source": [
    "from sklearn.model_selection import train_test_split"
   ]
  },
  {
   "cell_type": "code",
   "execution_count": 21,
   "metadata": {},
   "outputs": [],
   "source": [
    "X_train_or, X_test_or, Y_train_or, Y_test_or = train_test_split(X_df, Y_df, \n",
    "                                                    test_size=0.2, \n",
    "                                                    random_state=2)"
   ]
  },
  {
   "cell_type": "code",
   "execution_count": 22,
   "metadata": {},
   "outputs": [],
   "source": [
    "# Para eliminar SettingWithCopyWarning\n",
    "X_train = X_train_or.copy()\n",
    "X_test = X_test_or.copy()\n",
    "Y_train = Y_train_or.copy()\n",
    "Y_test = Y_test_or.copy()"
   ]
  },
  {
   "cell_type": "code",
   "execution_count": 23,
   "metadata": {},
   "outputs": [],
   "source": [
    "from sklearn.preprocessing import (PowerTransformer, StandardScaler, \n",
    "                                   MinMaxScaler, LabelEncoder, OneHotEncoder)"
   ]
  },
  {
   "cell_type": "code",
   "execution_count": 24,
   "metadata": {
    "scrolled": true
   },
   "outputs": [
    {
     "data": {
      "image/png": "[encoded data removed]",
      "text/plain": [
       "<Figure size 842.4x595.44 with 1 Axes>"
      ]
     },
     "metadata": {},
     "output_type": "display_data"
    }
   ],
   "source": [
    "# Validar que todos los valores sean mayores a 0 para poder realizar la transformación.\n",
    "(X_train[\"surface_total\"]>0).sum() == len(X_train)\n",
    "X_train[\"surface_total\"].hist(bins=100)\n",
    "plt.title(\"First Distribution\")\n",
    "plt.show()"
   ]
  },
  {
   "cell_type": "code",
   "execution_count": 25,
   "metadata": {},
   "outputs": [
    {
     "data": {
      "image/png": "[encoded data removed]",
      "text/plain": [
       "<Figure size 1440x1440 with 6 Axes>"
      ]
     },
     "metadata": {},
     "output_type": "display_data"
    }
   ],
   "source": [
    "X_train_or.hist(bins=50, figsize=(20,20))\n",
    "plt.show()"
   ]
  },
  {
   "cell_type": "markdown",
   "metadata": {},
   "source": [
    "### Power Transformer Labels (Box-Cox)\n",
    "\n",
    "Normalize and reduce scale"
   ]
  },
  {
   "cell_type": "code",
   "execution_count": 26,
   "metadata": {},
   "outputs": [
    {
     "data": {
      "text/html": [
       "<div>\n",
       "<style scoped>\n",
       "    .dataframe tbody tr th:only-of-type {\n",
       "        vertical-align: middle;\n",
       "    }\n",
       "\n",
       "    .dataframe tbody tr th {\n",
       "        vertical-align: top;\n",
       "    }\n",
       "\n",
       "    .dataframe thead th {\n",
       "        text-align: right;\n",
       "    }\n",
       "</style>\n",
       "<table border=\"1\" class=\"dataframe\">\n",
       "  <thead>\n",
       "    <tr style=\"text-align: right;\">\n",
       "      <th></th>\n",
       "      <th>lat</th>\n",
       "      <th>lon</th>\n",
       "      <th>bedrooms</th>\n",
       "      <th>bathrooms</th>\n",
       "      <th>surface_total</th>\n",
       "      <th>property_type</th>\n",
       "      <th>price_m2</th>\n",
       "    </tr>\n",
       "  </thead>\n",
       "  <tbody>\n",
       "    <tr>\n",
       "      <td>754716</td>\n",
       "      <td>4.896848</td>\n",
       "      <td>-74.035945</td>\n",
       "      <td>NaN</td>\n",
       "      <td>5.0</td>\n",
       "      <td>1.290786</td>\n",
       "      <td>Casa</td>\n",
       "      <td>1.239474e+06</td>\n",
       "    </tr>\n",
       "    <tr>\n",
       "      <td>916360</td>\n",
       "      <td>4.705000</td>\n",
       "      <td>-74.028000</td>\n",
       "      <td>3.0</td>\n",
       "      <td>2.0</td>\n",
       "      <td>-2.956952</td>\n",
       "      <td>Apartamento</td>\n",
       "      <td>2.500000e+07</td>\n",
       "    </tr>\n",
       "    <tr>\n",
       "      <td>370778</td>\n",
       "      <td>4.100000</td>\n",
       "      <td>-73.651001</td>\n",
       "      <td>4.0</td>\n",
       "      <td>2.0</td>\n",
       "      <td>-0.130203</td>\n",
       "      <td>Casa</td>\n",
       "      <td>1.147541e+06</td>\n",
       "    </tr>\n",
       "    <tr>\n",
       "      <td>839510</td>\n",
       "      <td>4.745000</td>\n",
       "      <td>-74.056000</td>\n",
       "      <td>3.0</td>\n",
       "      <td>2.0</td>\n",
       "      <td>-0.837188</td>\n",
       "      <td>Apartamento</td>\n",
       "      <td>3.571429e+06</td>\n",
       "    </tr>\n",
       "    <tr>\n",
       "      <td>880843</td>\n",
       "      <td>NaN</td>\n",
       "      <td>NaN</td>\n",
       "      <td>NaN</td>\n",
       "      <td>3.0</td>\n",
       "      <td>0.021091</td>\n",
       "      <td>Apartamento</td>\n",
       "      <td>1.785714e+06</td>\n",
       "    </tr>\n",
       "  </tbody>\n",
       "</table>\n",
       "</div>"
      ],
      "text/plain": [
       "             lat        lon  bedrooms  bathrooms  surface_total property_type  \\\n",
       "754716  4.896848 -74.035945       NaN        5.0       1.290786          Casa   \n",
       "916360  4.705000 -74.028000       3.0        2.0      -2.956952   Apartamento   \n",
       "370778  4.100000 -73.651001       4.0        2.0      -0.130203          Casa   \n",
       "839510  4.745000 -74.056000       3.0        2.0      -0.837188   Apartamento   \n",
       "880843       NaN        NaN       NaN        3.0       0.021091   Apartamento   \n",
       "\n",
       "            price_m2  \n",
       "754716  1.239474e+06  \n",
       "916360  2.500000e+07  \n",
       "370778  1.147541e+06  \n",
       "839510  3.571429e+06  \n",
       "880843  1.785714e+06  "
      ]
     },
     "execution_count": 26,
     "metadata": {},
     "output_type": "execute_result"
    }
   ],
   "source": [
    "box_cox = PowerTransformer(method='box-cox') # Box-Cox object instance\n",
    "box_cox.fit(X_train[\"surface_total\"].values.reshape(-1,1)) # Box-Cox, array 2 dimensions\n",
    "X_train.loc[:,\"surface_total\"] = box_cox.transform(X_train[\"surface_total\"].values.reshape(-1,1)) # Transformamos el array\n",
    "X_train.head()"
   ]
  },
  {
   "cell_type": "code",
   "execution_count": 27,
   "metadata": {},
   "outputs": [
    {
     "data": {
      "text/plain": [
       "array([-0.41630483])"
      ]
     },
     "execution_count": 27,
     "metadata": {},
     "output_type": "execute_result"
    }
   ],
   "source": [
    "box_cox.lambdas_ # Lambdas aprendidos"
   ]
  },
  {
   "cell_type": "code",
   "execution_count": 28,
   "metadata": {
    "scrolled": true
   },
   "outputs": [
    {
     "data": {
      "image/png": "[encoded data removed]",
      "text/plain": [
       "<Figure size 842.4x595.44 with 1 Axes>"
      ]
     },
     "metadata": {},
     "output_type": "display_data"
    }
   ],
   "source": [
    "# Visualización de distribución\n",
    "X_train[\"surface_total\"].hist(bins=100)\n",
    "plt.show()\n",
    "# Se aproxima en gran medida a una distribución normal visualmente\n",
    "# Nótese que los datos están centrados en 0 y pareciera que tiene desviación unitaria."
   ]
  },
  {
   "cell_type": "markdown",
   "metadata": {},
   "source": [
    "### Standard Scaler\n",
    "El Standard Scaler sirve para centrar una distribución en 0 y que tenga desviación estándar unitaria.\n",
    "\n",
    " $$\\mathbf{Z} = \\frac{\\mathbf{X} - \\mathbf{\\mu}}{\\mathbf{\\sigma}}$$\n"
   ]
  },
  {
   "cell_type": "code",
   "execution_count": 29,
   "metadata": {},
   "outputs": [
    {
     "name": "stdout",
     "output_type": "stream",
     "text": [
      "Classes:  ['Casa' 'Apartamento' 'Lote' 'Otro' 'Finca' 'Oficina' 'Parqueadero'\n",
      " 'Local comercial' 'Depósito']\n"
     ]
    },
    {
     "data": {
      "text/html": [
       "<div>\n",
       "<style scoped>\n",
       "    .dataframe tbody tr th:only-of-type {\n",
       "        vertical-align: middle;\n",
       "    }\n",
       "\n",
       "    .dataframe tbody tr th {\n",
       "        vertical-align: top;\n",
       "    }\n",
       "\n",
       "    .dataframe thead th {\n",
       "        text-align: right;\n",
       "    }\n",
       "</style>\n",
       "<table border=\"1\" class=\"dataframe\">\n",
       "  <thead>\n",
       "    <tr style=\"text-align: right;\">\n",
       "      <th></th>\n",
       "      <th>lat</th>\n",
       "      <th>lon</th>\n",
       "      <th>bedrooms</th>\n",
       "      <th>bathrooms</th>\n",
       "      <th>surface_total</th>\n",
       "      <th>property_type</th>\n",
       "      <th>price_m2</th>\n",
       "    </tr>\n",
       "  </thead>\n",
       "  <tbody>\n",
       "    <tr>\n",
       "      <td>754716</td>\n",
       "      <td>4.896848</td>\n",
       "      <td>-74.035945</td>\n",
       "      <td>NaN</td>\n",
       "      <td>5.0</td>\n",
       "      <td>1.290786</td>\n",
       "      <td>Casa</td>\n",
       "      <td>1.239474e+06</td>\n",
       "    </tr>\n",
       "    <tr>\n",
       "      <td>916360</td>\n",
       "      <td>4.705000</td>\n",
       "      <td>-74.028000</td>\n",
       "      <td>3.0</td>\n",
       "      <td>2.0</td>\n",
       "      <td>-2.956952</td>\n",
       "      <td>Apartamento</td>\n",
       "      <td>2.500000e+07</td>\n",
       "    </tr>\n",
       "    <tr>\n",
       "      <td>370778</td>\n",
       "      <td>4.100000</td>\n",
       "      <td>-73.651001</td>\n",
       "      <td>4.0</td>\n",
       "      <td>2.0</td>\n",
       "      <td>-0.130203</td>\n",
       "      <td>Casa</td>\n",
       "      <td>1.147541e+06</td>\n",
       "    </tr>\n",
       "    <tr>\n",
       "      <td>839510</td>\n",
       "      <td>4.745000</td>\n",
       "      <td>-74.056000</td>\n",
       "      <td>3.0</td>\n",
       "      <td>2.0</td>\n",
       "      <td>-0.837188</td>\n",
       "      <td>Apartamento</td>\n",
       "      <td>3.571429e+06</td>\n",
       "    </tr>\n",
       "    <tr>\n",
       "      <td>880843</td>\n",
       "      <td>NaN</td>\n",
       "      <td>NaN</td>\n",
       "      <td>NaN</td>\n",
       "      <td>3.0</td>\n",
       "      <td>0.021091</td>\n",
       "      <td>Apartamento</td>\n",
       "      <td>1.785714e+06</td>\n",
       "    </tr>\n",
       "  </tbody>\n",
       "</table>\n",
       "</div>"
      ],
      "text/plain": [
       "             lat        lon  bedrooms  bathrooms  surface_total property_type  \\\n",
       "754716  4.896848 -74.035945       NaN        5.0       1.290786          Casa   \n",
       "916360  4.705000 -74.028000       3.0        2.0      -2.956952   Apartamento   \n",
       "370778  4.100000 -73.651001       4.0        2.0      -0.130203          Casa   \n",
       "839510  4.745000 -74.056000       3.0        2.0      -0.837188   Apartamento   \n",
       "880843       NaN        NaN       NaN        3.0       0.021091   Apartamento   \n",
       "\n",
       "            price_m2  \n",
       "754716  1.239474e+06  \n",
       "916360  2.500000e+07  \n",
       "370778  1.147541e+06  \n",
       "839510  3.571429e+06  \n",
       "880843  1.785714e+06  "
      ]
     },
     "execution_count": 29,
     "metadata": {},
     "output_type": "execute_result"
    }
   ],
   "source": [
    "print(\"Classes: \", X_train['property_type'].unique()) # Clases categoricas\n",
    "X_train.head()"
   ]
  },
  {
   "cell_type": "code",
   "execution_count": 30,
   "metadata": {},
   "outputs": [],
   "source": [
    "le_proper_type = LabelEncoder()\n",
    "le_proper_type.fit(X_train['property_type'])\n",
    "X_train['property_type'] = le_proper_type.transform(X_train['property_type'])"
   ]
  },
  {
   "cell_type": "code",
   "execution_count": 31,
   "metadata": {},
   "outputs": [
    {
     "name": "stderr",
     "output_type": "stream",
     "text": [
      "C:\\Users\\OMAR\\Anaconda3\\lib\\site-packages\\sklearn\\preprocessing\\_encoders.py:415: FutureWarning: The handling of integer data will change in version 0.22. Currently, the categories are determined based on the range [0, max(values)], while in the future they will be determined based on the unique values.\n",
      "If you want the future behaviour and silence this warning, you can specify \"categories='auto'\".\n",
      "In case you used a LabelEncoder before this OneHotEncoder to convert the categories to integers, then you can now use the OneHotEncoder directly.\n",
      "  warnings.warn(msg, FutureWarning)\n"
     ]
    }
   ],
   "source": [
    "ohe_proper_type = OneHotEncoder()\n",
    "ohe_proper_type.fit(X_train[\"property_type\"].values[:,None])\n",
    "out = ohe_proper_type.transform(X_train[\"property_type\"].values[:,None]) \n",
    "out_array = out.toarray()\n",
    "ohe_cols_op = []\n",
    "for category in ohe_proper_type.categories_[0]:\n",
    "    current_class = le_proper_type.classes_[int(category)]\n",
    "    col_add = \"op_\" + current_class\n",
    "    ohe_cols_op.append(col_add)\n",
    "    X_train[col_add] = out_array[:,int(category)]\n",
    "\n",
    "X_train = X_train.drop(\"property_type\", axis =1)"
   ]
  },
  {
   "cell_type": "code",
   "execution_count": 32,
   "metadata": {},
   "outputs": [
    {
     "data": {
      "text/html": [
       "<div>\n",
       "<style scoped>\n",
       "    .dataframe tbody tr th:only-of-type {\n",
       "        vertical-align: middle;\n",
       "    }\n",
       "\n",
       "    .dataframe tbody tr th {\n",
       "        vertical-align: top;\n",
       "    }\n",
       "\n",
       "    .dataframe thead th {\n",
       "        text-align: right;\n",
       "    }\n",
       "</style>\n",
       "<table border=\"1\" class=\"dataframe\">\n",
       "  <thead>\n",
       "    <tr style=\"text-align: right;\">\n",
       "      <th></th>\n",
       "      <th>lat</th>\n",
       "      <th>lon</th>\n",
       "      <th>bedrooms</th>\n",
       "      <th>bathrooms</th>\n",
       "      <th>surface_total</th>\n",
       "      <th>price_m2</th>\n",
       "      <th>op_Apartamento</th>\n",
       "      <th>op_Casa</th>\n",
       "      <th>op_Depósito</th>\n",
       "      <th>op_Finca</th>\n",
       "      <th>op_Local comercial</th>\n",
       "      <th>op_Lote</th>\n",
       "      <th>op_Oficina</th>\n",
       "      <th>op_Otro</th>\n",
       "      <th>op_Parqueadero</th>\n",
       "    </tr>\n",
       "  </thead>\n",
       "  <tbody>\n",
       "    <tr>\n",
       "      <td>754716</td>\n",
       "      <td>4.896848</td>\n",
       "      <td>-74.035945</td>\n",
       "      <td>NaN</td>\n",
       "      <td>5.0</td>\n",
       "      <td>1.290786</td>\n",
       "      <td>1.239474e+06</td>\n",
       "      <td>0.0</td>\n",
       "      <td>1.0</td>\n",
       "      <td>0.0</td>\n",
       "      <td>0.0</td>\n",
       "      <td>0.0</td>\n",
       "      <td>0.0</td>\n",
       "      <td>0.0</td>\n",
       "      <td>0.0</td>\n",
       "      <td>0.0</td>\n",
       "    </tr>\n",
       "    <tr>\n",
       "      <td>916360</td>\n",
       "      <td>4.705000</td>\n",
       "      <td>-74.028000</td>\n",
       "      <td>3.0</td>\n",
       "      <td>2.0</td>\n",
       "      <td>-2.956952</td>\n",
       "      <td>2.500000e+07</td>\n",
       "      <td>1.0</td>\n",
       "      <td>0.0</td>\n",
       "      <td>0.0</td>\n",
       "      <td>0.0</td>\n",
       "      <td>0.0</td>\n",
       "      <td>0.0</td>\n",
       "      <td>0.0</td>\n",
       "      <td>0.0</td>\n",
       "      <td>0.0</td>\n",
       "    </tr>\n",
       "    <tr>\n",
       "      <td>370778</td>\n",
       "      <td>4.100000</td>\n",
       "      <td>-73.651001</td>\n",
       "      <td>4.0</td>\n",
       "      <td>2.0</td>\n",
       "      <td>-0.130203</td>\n",
       "      <td>1.147541e+06</td>\n",
       "      <td>0.0</td>\n",
       "      <td>1.0</td>\n",
       "      <td>0.0</td>\n",
       "      <td>0.0</td>\n",
       "      <td>0.0</td>\n",
       "      <td>0.0</td>\n",
       "      <td>0.0</td>\n",
       "      <td>0.0</td>\n",
       "      <td>0.0</td>\n",
       "    </tr>\n",
       "    <tr>\n",
       "      <td>839510</td>\n",
       "      <td>4.745000</td>\n",
       "      <td>-74.056000</td>\n",
       "      <td>3.0</td>\n",
       "      <td>2.0</td>\n",
       "      <td>-0.837188</td>\n",
       "      <td>3.571429e+06</td>\n",
       "      <td>1.0</td>\n",
       "      <td>0.0</td>\n",
       "      <td>0.0</td>\n",
       "      <td>0.0</td>\n",
       "      <td>0.0</td>\n",
       "      <td>0.0</td>\n",
       "      <td>0.0</td>\n",
       "      <td>0.0</td>\n",
       "      <td>0.0</td>\n",
       "    </tr>\n",
       "    <tr>\n",
       "      <td>880843</td>\n",
       "      <td>NaN</td>\n",
       "      <td>NaN</td>\n",
       "      <td>NaN</td>\n",
       "      <td>3.0</td>\n",
       "      <td>0.021091</td>\n",
       "      <td>1.785714e+06</td>\n",
       "      <td>1.0</td>\n",
       "      <td>0.0</td>\n",
       "      <td>0.0</td>\n",
       "      <td>0.0</td>\n",
       "      <td>0.0</td>\n",
       "      <td>0.0</td>\n",
       "      <td>0.0</td>\n",
       "      <td>0.0</td>\n",
       "      <td>0.0</td>\n",
       "    </tr>\n",
       "  </tbody>\n",
       "</table>\n",
       "</div>"
      ],
      "text/plain": [
       "             lat        lon  bedrooms  bathrooms  surface_total      price_m2  \\\n",
       "754716  4.896848 -74.035945       NaN        5.0       1.290786  1.239474e+06   \n",
       "916360  4.705000 -74.028000       3.0        2.0      -2.956952  2.500000e+07   \n",
       "370778  4.100000 -73.651001       4.0        2.0      -0.130203  1.147541e+06   \n",
       "839510  4.745000 -74.056000       3.0        2.0      -0.837188  3.571429e+06   \n",
       "880843       NaN        NaN       NaN        3.0       0.021091  1.785714e+06   \n",
       "\n",
       "        op_Apartamento  op_Casa  op_Depósito  op_Finca  op_Local comercial  \\\n",
       "754716             0.0      1.0          0.0       0.0                 0.0   \n",
       "916360             1.0      0.0          0.0       0.0                 0.0   \n",
       "370778             0.0      1.0          0.0       0.0                 0.0   \n",
       "839510             1.0      0.0          0.0       0.0                 0.0   \n",
       "880843             1.0      0.0          0.0       0.0                 0.0   \n",
       "\n",
       "        op_Lote  op_Oficina  op_Otro  op_Parqueadero  \n",
       "754716      0.0         0.0      0.0             0.0  \n",
       "916360      0.0         0.0      0.0             0.0  \n",
       "370778      0.0         0.0      0.0             0.0  \n",
       "839510      0.0         0.0      0.0             0.0  \n",
       "880843      0.0         0.0      0.0             0.0  "
      ]
     },
     "execution_count": 32,
     "metadata": {},
     "output_type": "execute_result"
    }
   ],
   "source": [
    "X_train.head()"
   ]
  },
  {
   "cell_type": "markdown",
   "metadata": {},
   "source": [
    "### Tratamiento de datos faltantes o NaN"
   ]
  },
  {
   "cell_type": "code",
   "execution_count": 33,
   "metadata": {},
   "outputs": [
    {
     "data": {
      "text/plain": [
       "lat                   33652\n",
       "lon                   33652\n",
       "bedrooms              77022\n",
       "bathrooms             20194\n",
       "surface_total             0\n",
       "price_m2                  0\n",
       "op_Apartamento            0\n",
       "op_Casa                   0\n",
       "op_Depósito               0\n",
       "op_Finca                  0\n",
       "op_Local comercial        0\n",
       "op_Lote                   0\n",
       "op_Oficina                0\n",
       "op_Otro                   0\n",
       "op_Parqueadero            0\n",
       "dtype: int64"
      ]
     },
     "execution_count": 33,
     "metadata": {},
     "output_type": "execute_result"
    }
   ],
   "source": [
    "from sklearn.impute import SimpleImputer\n",
    "# NaNs Columns\n",
    "X_train.isnull().sum()"
   ]
  },
  {
   "cell_type": "code",
   "execution_count": 34,
   "metadata": {},
   "outputs": [],
   "source": [
    "#Using Simple Imputer\n",
    "\n",
    "si_bedrooms = SimpleImputer(strategy='mean')\n",
    "si_bedrooms.fit(X_train[\"bedrooms\"].values[:,None])\n",
    "X_train[\"bedrooms\"] = si_bedrooms.transform(X_train[\"bedrooms\"].values[:,None])\n",
    "\n",
    "si_lat = SimpleImputer(strategy='mean')\n",
    "si_lat.fit(X_train[\"lat\"].values[:,None])\n",
    "X_train[\"lat\"] = si_lat.transform(X_train[\"lat\"].values[:,None])\n",
    "\n",
    "si_lon = SimpleImputer(strategy='mean')\n",
    "si_lon.fit(X_train[\"lon\"].values[:,None])\n",
    "X_train[\"lon\"] = si_lon.transform(X_train[\"lon\"].values[:,None])\n",
    "\n",
    "si_bath = SimpleImputer(strategy='mean')\n",
    "si_bath.fit(X_train[\"bathrooms\"].values[:,None])\n",
    "X_train[\"bathrooms\"] = si_bath.transform(X_train[\"bathrooms\"].values[:,None])"
   ]
  },
  {
   "cell_type": "code",
   "execution_count": 35,
   "metadata": {
    "scrolled": true
   },
   "outputs": [
    {
     "data": {
      "text/html": [
       "<div>\n",
       "<style scoped>\n",
       "    .dataframe tbody tr th:only-of-type {\n",
       "        vertical-align: middle;\n",
       "    }\n",
       "\n",
       "    .dataframe tbody tr th {\n",
       "        vertical-align: top;\n",
       "    }\n",
       "\n",
       "    .dataframe thead th {\n",
       "        text-align: right;\n",
       "    }\n",
       "</style>\n",
       "<table border=\"1\" class=\"dataframe\">\n",
       "  <thead>\n",
       "    <tr style=\"text-align: right;\">\n",
       "      <th></th>\n",
       "      <th>lat</th>\n",
       "      <th>lon</th>\n",
       "      <th>bedrooms</th>\n",
       "      <th>bathrooms</th>\n",
       "      <th>surface_total</th>\n",
       "      <th>price_m2</th>\n",
       "      <th>op_Apartamento</th>\n",
       "      <th>op_Casa</th>\n",
       "      <th>op_Depósito</th>\n",
       "      <th>op_Finca</th>\n",
       "      <th>op_Local comercial</th>\n",
       "      <th>op_Lote</th>\n",
       "      <th>op_Oficina</th>\n",
       "      <th>op_Otro</th>\n",
       "      <th>op_Parqueadero</th>\n",
       "    </tr>\n",
       "  </thead>\n",
       "  <tbody>\n",
       "    <tr>\n",
       "      <td>754716</td>\n",
       "      <td>-4.780117e-01</td>\n",
       "      <td>9.444525e-01</td>\n",
       "      <td>-1.981414e-16</td>\n",
       "      <td>1.515727</td>\n",
       "      <td>1.290786</td>\n",
       "      <td>-0.290666</td>\n",
       "      <td>0.0</td>\n",
       "      <td>1.0</td>\n",
       "      <td>0.0</td>\n",
       "      <td>0.0</td>\n",
       "      <td>0.0</td>\n",
       "      <td>0.0</td>\n",
       "      <td>0.0</td>\n",
       "      <td>0.0</td>\n",
       "      <td>0.0</td>\n",
       "    </tr>\n",
       "    <tr>\n",
       "      <td>916360</td>\n",
       "      <td>-5.665709e-01</td>\n",
       "      <td>9.526055e-01</td>\n",
       "      <td>-1.025293e-01</td>\n",
       "      <td>-0.632642</td>\n",
       "      <td>-2.956952</td>\n",
       "      <td>2.397055</td>\n",
       "      <td>1.0</td>\n",
       "      <td>0.0</td>\n",
       "      <td>0.0</td>\n",
       "      <td>0.0</td>\n",
       "      <td>0.0</td>\n",
       "      <td>0.0</td>\n",
       "      <td>0.0</td>\n",
       "      <td>0.0</td>\n",
       "      <td>0.0</td>\n",
       "    </tr>\n",
       "    <tr>\n",
       "      <td>370778</td>\n",
       "      <td>-8.458462e-01</td>\n",
       "      <td>1.339451e+00</td>\n",
       "      <td>1.205581e-01</td>\n",
       "      <td>-0.632642</td>\n",
       "      <td>-0.130203</td>\n",
       "      <td>-0.301065</td>\n",
       "      <td>0.0</td>\n",
       "      <td>1.0</td>\n",
       "      <td>0.0</td>\n",
       "      <td>0.0</td>\n",
       "      <td>0.0</td>\n",
       "      <td>0.0</td>\n",
       "      <td>0.0</td>\n",
       "      <td>0.0</td>\n",
       "      <td>0.0</td>\n",
       "    </tr>\n",
       "    <tr>\n",
       "      <td>839510</td>\n",
       "      <td>-5.481065e-01</td>\n",
       "      <td>9.238744e-01</td>\n",
       "      <td>-1.025293e-01</td>\n",
       "      <td>-0.632642</td>\n",
       "      <td>-0.837188</td>\n",
       "      <td>-0.026882</td>\n",
       "      <td>1.0</td>\n",
       "      <td>0.0</td>\n",
       "      <td>0.0</td>\n",
       "      <td>0.0</td>\n",
       "      <td>0.0</td>\n",
       "      <td>0.0</td>\n",
       "      <td>0.0</td>\n",
       "      <td>0.0</td>\n",
       "      <td>0.0</td>\n",
       "    </tr>\n",
       "    <tr>\n",
       "      <td>880843</td>\n",
       "      <td>4.099938e-16</td>\n",
       "      <td>-2.916406e-14</td>\n",
       "      <td>-1.981414e-16</td>\n",
       "      <td>0.083481</td>\n",
       "      <td>0.021091</td>\n",
       "      <td>-0.228877</td>\n",
       "      <td>1.0</td>\n",
       "      <td>0.0</td>\n",
       "      <td>0.0</td>\n",
       "      <td>0.0</td>\n",
       "      <td>0.0</td>\n",
       "      <td>0.0</td>\n",
       "      <td>0.0</td>\n",
       "      <td>0.0</td>\n",
       "      <td>0.0</td>\n",
       "    </tr>\n",
       "  </tbody>\n",
       "</table>\n",
       "</div>"
      ],
      "text/plain": [
       "                 lat           lon      bedrooms  bathrooms  surface_total  \\\n",
       "754716 -4.780117e-01  9.444525e-01 -1.981414e-16   1.515727       1.290786   \n",
       "916360 -5.665709e-01  9.526055e-01 -1.025293e-01  -0.632642      -2.956952   \n",
       "370778 -8.458462e-01  1.339451e+00  1.205581e-01  -0.632642      -0.130203   \n",
       "839510 -5.481065e-01  9.238744e-01 -1.025293e-01  -0.632642      -0.837188   \n",
       "880843  4.099938e-16 -2.916406e-14 -1.981414e-16   0.083481       0.021091   \n",
       "\n",
       "        price_m2  op_Apartamento  op_Casa  op_Depósito  op_Finca  \\\n",
       "754716 -0.290666             0.0      1.0          0.0       0.0   \n",
       "916360  2.397055             1.0      0.0          0.0       0.0   \n",
       "370778 -0.301065             0.0      1.0          0.0       0.0   \n",
       "839510 -0.026882             1.0      0.0          0.0       0.0   \n",
       "880843 -0.228877             1.0      0.0          0.0       0.0   \n",
       "\n",
       "        op_Local comercial  op_Lote  op_Oficina  op_Otro  op_Parqueadero  \n",
       "754716                 0.0      0.0         0.0      0.0             0.0  \n",
       "916360                 0.0      0.0         0.0      0.0             0.0  \n",
       "370778                 0.0      0.0         0.0      0.0             0.0  \n",
       "839510                 0.0      0.0         0.0      0.0             0.0  \n",
       "880843                 0.0      0.0         0.0      0.0             0.0  "
      ]
     },
     "execution_count": 35,
     "metadata": {},
     "output_type": "execute_result"
    }
   ],
   "source": [
    "#Otras transformaciones\n",
    "cols2scale = ['lon', 'lat', 'bedrooms', 'bathrooms', 'price_m2']\n",
    "se_cols2scale = StandardScaler()\n",
    "se_cols2scale.fit(X_train[cols2scale])\n",
    "X_train[cols2scale] = se_cols2scale.transform(X_train[cols2scale])\n",
    "X_train.head()"
   ]
  },
  {
   "cell_type": "code",
   "execution_count": 36,
   "metadata": {},
   "outputs": [],
   "source": [
    "X_test['surface_total'] = box_cox.transform(X_test['surface_total'].values[:,None])\n"
   ]
  },
  {
   "cell_type": "code",
   "execution_count": 37,
   "metadata": {},
   "outputs": [],
   "source": [
    "X_test['property_type'] = le_proper_type.transform(X_test['property_type'])"
   ]
  },
  {
   "cell_type": "code",
   "execution_count": 38,
   "metadata": {},
   "outputs": [],
   "source": [
    "temp_test = ohe_proper_type.transform(X_test[\"property_type\"].values[:,None]).toarray()\n",
    "for idx, col in enumerate(ohe_cols_op):\n",
    "    X_test[col] = temp_test[:,idx]\n",
    "\n",
    "X_test = X_test.drop(\"property_type\", axis=1)"
   ]
  },
  {
   "cell_type": "code",
   "execution_count": 39,
   "metadata": {},
   "outputs": [],
   "source": [
    "X_test['bedrooms'] = si_bedrooms.transform(X_test[\"bedrooms\"].values[:,None])\n",
    "X_test['lat'] = si_lat.transform(X_test['lat'].values[:, None])\n",
    "X_test['lon'] = si_lon.transform(X_test['lon'].values[:, None])\n",
    "X_test['bathrooms'] = si_bath.transform(X_test['bathrooms'].values[:,None])"
   ]
  },
  {
   "cell_type": "code",
   "execution_count": 40,
   "metadata": {},
   "outputs": [],
   "source": [
    "X_test[cols2scale] = se_cols2scale.transform(X_test[cols2scale])"
   ]
  },
  {
   "cell_type": "code",
   "execution_count": 41,
   "metadata": {},
   "outputs": [],
   "source": [
    "assert (X_test.columns.values == X_train.columns.values).all()"
   ]
  },
  {
   "cell_type": "code",
   "execution_count": 42,
   "metadata": {
    "scrolled": true
   },
   "outputs": [
    {
     "data": {
      "text/html": [
       "<div>\n",
       "<style scoped>\n",
       "    .dataframe tbody tr th:only-of-type {\n",
       "        vertical-align: middle;\n",
       "    }\n",
       "\n",
       "    .dataframe tbody tr th {\n",
       "        vertical-align: top;\n",
       "    }\n",
       "\n",
       "    .dataframe thead th {\n",
       "        text-align: right;\n",
       "    }\n",
       "</style>\n",
       "<table border=\"1\" class=\"dataframe\">\n",
       "  <thead>\n",
       "    <tr style=\"text-align: right;\">\n",
       "      <th></th>\n",
       "      <th>lat</th>\n",
       "      <th>lon</th>\n",
       "      <th>bedrooms</th>\n",
       "      <th>bathrooms</th>\n",
       "      <th>surface_total</th>\n",
       "      <th>price_m2</th>\n",
       "      <th>op_Apartamento</th>\n",
       "      <th>op_Casa</th>\n",
       "      <th>op_Depósito</th>\n",
       "      <th>op_Finca</th>\n",
       "      <th>op_Local comercial</th>\n",
       "      <th>op_Lote</th>\n",
       "      <th>op_Oficina</th>\n",
       "      <th>op_Otro</th>\n",
       "      <th>op_Parqueadero</th>\n",
       "    </tr>\n",
       "  </thead>\n",
       "  <tbody>\n",
       "    <tr>\n",
       "      <td>593046</td>\n",
       "      <td>4.923670e-01</td>\n",
       "      <td>1.951019e+00</td>\n",
       "      <td>-0.102529</td>\n",
       "      <td>-0.632642</td>\n",
       "      <td>-0.878759</td>\n",
       "      <td>-0.166377</td>\n",
       "      <td>1.0</td>\n",
       "      <td>0.0</td>\n",
       "      <td>0.0</td>\n",
       "      <td>0.0</td>\n",
       "      <td>0.0</td>\n",
       "      <td>0.0</td>\n",
       "      <td>0.0</td>\n",
       "      <td>0.0</td>\n",
       "      <td>0.0</td>\n",
       "    </tr>\n",
       "    <tr>\n",
       "      <td>930217</td>\n",
       "      <td>1.300015e-01</td>\n",
       "      <td>-6.286442e-01</td>\n",
       "      <td>-0.102529</td>\n",
       "      <td>0.799604</td>\n",
       "      <td>-0.102863</td>\n",
       "      <td>0.211633</td>\n",
       "      <td>1.0</td>\n",
       "      <td>0.0</td>\n",
       "      <td>0.0</td>\n",
       "      <td>0.0</td>\n",
       "      <td>0.0</td>\n",
       "      <td>0.0</td>\n",
       "      <td>0.0</td>\n",
       "      <td>0.0</td>\n",
       "      <td>0.0</td>\n",
       "    </tr>\n",
       "    <tr>\n",
       "      <td>629599</td>\n",
       "      <td>-5.684173e-01</td>\n",
       "      <td>7.607250e-01</td>\n",
       "      <td>-0.102529</td>\n",
       "      <td>-0.632642</td>\n",
       "      <td>-1.257636</td>\n",
       "      <td>-0.078715</td>\n",
       "      <td>1.0</td>\n",
       "      <td>0.0</td>\n",
       "      <td>0.0</td>\n",
       "      <td>0.0</td>\n",
       "      <td>0.0</td>\n",
       "      <td>0.0</td>\n",
       "      <td>0.0</td>\n",
       "      <td>0.0</td>\n",
       "      <td>0.0</td>\n",
       "    </tr>\n",
       "    <tr>\n",
       "      <td>103171</td>\n",
       "      <td>9.087409e-01</td>\n",
       "      <td>2.554378e+00</td>\n",
       "      <td>-0.102529</td>\n",
       "      <td>-0.632642</td>\n",
       "      <td>-0.120985</td>\n",
       "      <td>-0.154976</td>\n",
       "      <td>0.0</td>\n",
       "      <td>1.0</td>\n",
       "      <td>0.0</td>\n",
       "      <td>0.0</td>\n",
       "      <td>0.0</td>\n",
       "      <td>0.0</td>\n",
       "      <td>0.0</td>\n",
       "      <td>0.0</td>\n",
       "      <td>0.0</td>\n",
       "    </tr>\n",
       "    <tr>\n",
       "      <td>602608</td>\n",
       "      <td>-1.202211e+00</td>\n",
       "      <td>-1.726592e+00</td>\n",
       "      <td>-0.325617</td>\n",
       "      <td>-0.632642</td>\n",
       "      <td>-0.900200</td>\n",
       "      <td>0.193805</td>\n",
       "      <td>1.0</td>\n",
       "      <td>0.0</td>\n",
       "      <td>0.0</td>\n",
       "      <td>0.0</td>\n",
       "      <td>0.0</td>\n",
       "      <td>0.0</td>\n",
       "      <td>0.0</td>\n",
       "      <td>0.0</td>\n",
       "      <td>0.0</td>\n",
       "    </tr>\n",
       "    <tr>\n",
       "      <td>...</td>\n",
       "      <td>...</td>\n",
       "      <td>...</td>\n",
       "      <td>...</td>\n",
       "      <td>...</td>\n",
       "      <td>...</td>\n",
       "      <td>...</td>\n",
       "      <td>...</td>\n",
       "      <td>...</td>\n",
       "      <td>...</td>\n",
       "      <td>...</td>\n",
       "      <td>...</td>\n",
       "      <td>...</td>\n",
       "      <td>...</td>\n",
       "      <td>...</td>\n",
       "      <td>...</td>\n",
       "    </tr>\n",
       "    <tr>\n",
       "      <td>241469</td>\n",
       "      <td>-5.781998e-01</td>\n",
       "      <td>9.251538e-01</td>\n",
       "      <td>-0.548704</td>\n",
       "      <td>-0.632642</td>\n",
       "      <td>-0.944473</td>\n",
       "      <td>0.668974</td>\n",
       "      <td>1.0</td>\n",
       "      <td>0.0</td>\n",
       "      <td>0.0</td>\n",
       "      <td>0.0</td>\n",
       "      <td>0.0</td>\n",
       "      <td>0.0</td>\n",
       "      <td>0.0</td>\n",
       "      <td>0.0</td>\n",
       "      <td>0.0</td>\n",
       "    </tr>\n",
       "    <tr>\n",
       "      <td>100142</td>\n",
       "      <td>9.965470e-02</td>\n",
       "      <td>-6.880409e-01</td>\n",
       "      <td>-0.102529</td>\n",
       "      <td>-0.632642</td>\n",
       "      <td>-0.758884</td>\n",
       "      <td>-0.056362</td>\n",
       "      <td>0.0</td>\n",
       "      <td>0.0</td>\n",
       "      <td>0.0</td>\n",
       "      <td>0.0</td>\n",
       "      <td>0.0</td>\n",
       "      <td>0.0</td>\n",
       "      <td>0.0</td>\n",
       "      <td>1.0</td>\n",
       "      <td>0.0</td>\n",
       "    </tr>\n",
       "    <tr>\n",
       "      <td>145708</td>\n",
       "      <td>4.099938e-16</td>\n",
       "      <td>-2.916406e-14</td>\n",
       "      <td>-0.102529</td>\n",
       "      <td>0.083481</td>\n",
       "      <td>0.275971</td>\n",
       "      <td>-0.066383</td>\n",
       "      <td>1.0</td>\n",
       "      <td>0.0</td>\n",
       "      <td>0.0</td>\n",
       "      <td>0.0</td>\n",
       "      <td>0.0</td>\n",
       "      <td>0.0</td>\n",
       "      <td>0.0</td>\n",
       "      <td>0.0</td>\n",
       "      <td>0.0</td>\n",
       "    </tr>\n",
       "    <tr>\n",
       "      <td>11042</td>\n",
       "      <td>4.099938e-16</td>\n",
       "      <td>-2.916406e-14</td>\n",
       "      <td>0.789820</td>\n",
       "      <td>2.947973</td>\n",
       "      <td>0.929541</td>\n",
       "      <td>0.021597</td>\n",
       "      <td>0.0</td>\n",
       "      <td>1.0</td>\n",
       "      <td>0.0</td>\n",
       "      <td>0.0</td>\n",
       "      <td>0.0</td>\n",
       "      <td>0.0</td>\n",
       "      <td>0.0</td>\n",
       "      <td>0.0</td>\n",
       "      <td>0.0</td>\n",
       "    </tr>\n",
       "    <tr>\n",
       "      <td>70611</td>\n",
       "      <td>1.441753e-01</td>\n",
       "      <td>-6.618229e-01</td>\n",
       "      <td>-0.102529</td>\n",
       "      <td>-0.632642</td>\n",
       "      <td>-0.652037</td>\n",
       "      <td>0.162993</td>\n",
       "      <td>0.0</td>\n",
       "      <td>0.0</td>\n",
       "      <td>0.0</td>\n",
       "      <td>0.0</td>\n",
       "      <td>0.0</td>\n",
       "      <td>0.0</td>\n",
       "      <td>0.0</td>\n",
       "      <td>1.0</td>\n",
       "      <td>0.0</td>\n",
       "    </tr>\n",
       "  </tbody>\n",
       "</table>\n",
       "<p>57878 rows × 15 columns</p>\n",
       "</div>"
      ],
      "text/plain": [
       "                 lat           lon  bedrooms  bathrooms  surface_total  \\\n",
       "593046  4.923670e-01  1.951019e+00 -0.102529  -0.632642      -0.878759   \n",
       "930217  1.300015e-01 -6.286442e-01 -0.102529   0.799604      -0.102863   \n",
       "629599 -5.684173e-01  7.607250e-01 -0.102529  -0.632642      -1.257636   \n",
       "103171  9.087409e-01  2.554378e+00 -0.102529  -0.632642      -0.120985   \n",
       "602608 -1.202211e+00 -1.726592e+00 -0.325617  -0.632642      -0.900200   \n",
       "...              ...           ...       ...        ...            ...   \n",
       "241469 -5.781998e-01  9.251538e-01 -0.548704  -0.632642      -0.944473   \n",
       "100142  9.965470e-02 -6.880409e-01 -0.102529  -0.632642      -0.758884   \n",
       "145708  4.099938e-16 -2.916406e-14 -0.102529   0.083481       0.275971   \n",
       "11042   4.099938e-16 -2.916406e-14  0.789820   2.947973       0.929541   \n",
       "70611   1.441753e-01 -6.618229e-01 -0.102529  -0.632642      -0.652037   \n",
       "\n",
       "        price_m2  op_Apartamento  op_Casa  op_Depósito  op_Finca  \\\n",
       "593046 -0.166377             1.0      0.0          0.0       0.0   \n",
       "930217  0.211633             1.0      0.0          0.0       0.0   \n",
       "629599 -0.078715             1.0      0.0          0.0       0.0   \n",
       "103171 -0.154976             0.0      1.0          0.0       0.0   \n",
       "602608  0.193805             1.0      0.0          0.0       0.0   \n",
       "...          ...             ...      ...          ...       ...   \n",
       "241469  0.668974             1.0      0.0          0.0       0.0   \n",
       "100142 -0.056362             0.0      0.0          0.0       0.0   \n",
       "145708 -0.066383             1.0      0.0          0.0       0.0   \n",
       "11042   0.021597             0.0      1.0          0.0       0.0   \n",
       "70611   0.162993             0.0      0.0          0.0       0.0   \n",
       "\n",
       "        op_Local comercial  op_Lote  op_Oficina  op_Otro  op_Parqueadero  \n",
       "593046                 0.0      0.0         0.0      0.0             0.0  \n",
       "930217                 0.0      0.0         0.0      0.0             0.0  \n",
       "629599                 0.0      0.0         0.0      0.0             0.0  \n",
       "103171                 0.0      0.0         0.0      0.0             0.0  \n",
       "602608                 0.0      0.0         0.0      0.0             0.0  \n",
       "...                    ...      ...         ...      ...             ...  \n",
       "241469                 0.0      0.0         0.0      0.0             0.0  \n",
       "100142                 0.0      0.0         0.0      1.0             0.0  \n",
       "145708                 0.0      0.0         0.0      0.0             0.0  \n",
       "11042                  0.0      0.0         0.0      0.0             0.0  \n",
       "70611                  0.0      0.0         0.0      1.0             0.0  \n",
       "\n",
       "[57878 rows x 15 columns]"
      ]
     },
     "execution_count": 42,
     "metadata": {},
     "output_type": "execute_result"
    }
   ],
   "source": [
    "X_test"
   ]
  },
  {
   "cell_type": "markdown",
   "metadata": {},
   "source": [
    "## Linear Regression"
   ]
  },
  {
   "cell_type": "code",
   "execution_count": 43,
   "metadata": {},
   "outputs": [
    {
     "data": {
      "text/plain": [
       "(19.88230777299,\n",
       " array([-0.        ,  0.        , -0.        ,  0.18097121,  0.35008239,\n",
       "         0.15861736, -0.        , -0.        ,  0.        ,  0.        ,\n",
       "         0.        , -0.        ,  0.        ,  0.        ,  0.        ]))"
      ]
     },
     "execution_count": 43,
     "metadata": {},
     "output_type": "execute_result"
    }
   ],
   "source": [
    "from sklearn.linear_model import LinearRegression \n",
    "lin_reg = LinearRegression()\n",
    "lin_reg.fit(X_train, Y_train)\n",
    "lin_reg.intercept_, lin_reg.coef_"
   ]
  },
  {
   "cell_type": "code",
   "execution_count": 44,
   "metadata": {},
   "outputs": [],
   "source": [
    "Y_test_estimate = lin_reg.predict(X_test)"
   ]
  },
  {
   "cell_type": "code",
   "execution_count": 45,
   "metadata": {},
   "outputs": [],
   "source": [
    "from sklearn.metrics import mean_squared_error, r2_score, mean_absolute_error"
   ]
  },
  {
   "cell_type": "code",
   "execution_count": 46,
   "metadata": {},
   "outputs": [
    {
     "name": "stdout",
     "output_type": "stream",
     "text": [
      "Root Mean Square Error (RMSE)= 0.33\n"
     ]
    }
   ],
   "source": [
    "rmse = mean_squared_error(Y_test, Y_test_estimate)\n",
    "print(\"Root Mean Square Error (RMSE)= {:.2f}\".format(rmse))"
   ]
  },
  {
   "cell_type": "code",
   "execution_count": 47,
   "metadata": {},
   "outputs": [
    {
     "name": "stdout",
     "output_type": "stream",
     "text": [
      "Mean Absolute Error (MAE)= 0.45\n"
     ]
    }
   ],
   "source": [
    "mae = mean_absolute_error(Y_test, Y_test_estimate)\n",
    "print(\"Mean Absolute Error (MAE)= {:.2f}\".format(mae))"
   ]
  },
  {
   "cell_type": "code",
   "execution_count": 48,
   "metadata": {},
   "outputs": [
    {
     "name": "stdout",
     "output_type": "stream",
     "text": [
      "R_2 = 0.510\n"
     ]
    }
   ],
   "source": [
    "r2 = r2_score(Y_test, Y_test_estimate)\n",
    "print(\"R_2 = {:.3f}\".format(r2))"
   ]
  },
  {
   "cell_type": "markdown",
   "metadata": {},
   "source": [
    "### Estimated vs Real"
   ]
  },
  {
   "cell_type": "code",
   "execution_count": 49,
   "metadata": {},
   "outputs": [
    {
     "data": {
      "text/plain": [
       "<matplotlib.collections.PathCollection at 0x15a28906548>"
      ]
     },
     "execution_count": 49,
     "metadata": {},
     "output_type": "execute_result"
    },
    {
     "data": {
      "image/png": "[encoded data removed]",
      "text/plain": [
       "<Figure size 842.4x595.44 with 1 Axes>"
      ]
     },
     "metadata": {},
     "output_type": "display_data"
    }
   ],
   "source": [
    "plt.scatter(Y_test, Y_test_estimate)"
   ]
  },
  {
   "cell_type": "code",
   "execution_count": 50,
   "metadata": {},
   "outputs": [],
   "source": [
    "X_test = X_test.reset_index(drop = True)\n",
    "Y_test = Y_test.reset_index(drop = True)"
   ]
  },
  {
   "cell_type": "code",
   "execution_count": 51,
   "metadata": {},
   "outputs": [
    {
     "data": {
      "text/plain": [
       "0        18.884415\n",
       "1        20.380776\n",
       "2        18.921456\n",
       "3        19.519293\n",
       "4        19.729014\n",
       "           ...    \n",
       "57873    20.264400\n",
       "57874    19.316769\n",
       "57875    20.178539\n",
       "57876    21.193269\n",
       "57877    19.855765\n",
       "Name: price, Length: 57878, dtype: float64"
      ]
     },
     "execution_count": 51,
     "metadata": {},
     "output_type": "execute_result"
    }
   ],
   "source": [
    "Y_test"
   ]
  },
  {
   "cell_type": "code",
   "execution_count": 52,
   "metadata": {
    "scrolled": true
   },
   "outputs": [],
   "source": [
    "for i in range(0, 100):\n",
    "    my_max = max(abs(Y_test_estimate))\n",
    "    index_max = np.where(Y_test_estimate == my_max)[0][0]\n",
    "    X_test = X_test.drop(index_max).reset_index(drop=True)\n",
    "    Y_test = Y_test.drop(index_max).reset_index(drop=True)\n",
    "    Y_test_estimate = np.delete(Y_test_estimate, index_max)\n",
    "    "
   ]
  },
  {
   "cell_type": "code",
   "execution_count": 53,
   "metadata": {},
   "outputs": [],
   "source": [
    "for i in range(0, 40):\n",
    "    my_max = min(abs(Y_test_estimate))\n",
    "    index_max = np.where(Y_test_estimate == my_max)[0][0]\n",
    "    X_test = X_test.drop(index_max).reset_index(drop=True)\n",
    "    Y_test = Y_test.drop(index_max).reset_index(drop=True)\n",
    "    Y_test_estimate = np.delete(Y_test_estimate, index_max)"
   ]
  },
  {
   "cell_type": "code",
   "execution_count": 54,
   "metadata": {},
   "outputs": [
    {
     "data": {
      "text/html": [
       "<div>\n",
       "<style scoped>\n",
       "    .dataframe tbody tr th:only-of-type {\n",
       "        vertical-align: middle;\n",
       "    }\n",
       "\n",
       "    .dataframe tbody tr th {\n",
       "        vertical-align: top;\n",
       "    }\n",
       "\n",
       "    .dataframe thead th {\n",
       "        text-align: right;\n",
       "    }\n",
       "</style>\n",
       "<table border=\"1\" class=\"dataframe\">\n",
       "  <thead>\n",
       "    <tr style=\"text-align: right;\">\n",
       "      <th></th>\n",
       "      <th>lat</th>\n",
       "      <th>lon</th>\n",
       "      <th>bedrooms</th>\n",
       "      <th>bathrooms</th>\n",
       "      <th>surface_total</th>\n",
       "      <th>price_m2</th>\n",
       "      <th>op_Apartamento</th>\n",
       "      <th>op_Casa</th>\n",
       "      <th>op_Depósito</th>\n",
       "      <th>op_Finca</th>\n",
       "      <th>op_Local comercial</th>\n",
       "      <th>op_Lote</th>\n",
       "      <th>op_Oficina</th>\n",
       "      <th>op_Otro</th>\n",
       "      <th>op_Parqueadero</th>\n",
       "    </tr>\n",
       "  </thead>\n",
       "  <tbody>\n",
       "    <tr>\n",
       "      <td>0</td>\n",
       "      <td>4.923670e-01</td>\n",
       "      <td>1.951019e+00</td>\n",
       "      <td>-0.102529</td>\n",
       "      <td>-0.632642</td>\n",
       "      <td>-0.878759</td>\n",
       "      <td>-0.166377</td>\n",
       "      <td>1.0</td>\n",
       "      <td>0.0</td>\n",
       "      <td>0.0</td>\n",
       "      <td>0.0</td>\n",
       "      <td>0.0</td>\n",
       "      <td>0.0</td>\n",
       "      <td>0.0</td>\n",
       "      <td>0.0</td>\n",
       "      <td>0.0</td>\n",
       "    </tr>\n",
       "    <tr>\n",
       "      <td>1</td>\n",
       "      <td>1.300015e-01</td>\n",
       "      <td>-6.286442e-01</td>\n",
       "      <td>-0.102529</td>\n",
       "      <td>0.799604</td>\n",
       "      <td>-0.102863</td>\n",
       "      <td>0.211633</td>\n",
       "      <td>1.0</td>\n",
       "      <td>0.0</td>\n",
       "      <td>0.0</td>\n",
       "      <td>0.0</td>\n",
       "      <td>0.0</td>\n",
       "      <td>0.0</td>\n",
       "      <td>0.0</td>\n",
       "      <td>0.0</td>\n",
       "      <td>0.0</td>\n",
       "    </tr>\n",
       "    <tr>\n",
       "      <td>2</td>\n",
       "      <td>-5.684173e-01</td>\n",
       "      <td>7.607250e-01</td>\n",
       "      <td>-0.102529</td>\n",
       "      <td>-0.632642</td>\n",
       "      <td>-1.257636</td>\n",
       "      <td>-0.078715</td>\n",
       "      <td>1.0</td>\n",
       "      <td>0.0</td>\n",
       "      <td>0.0</td>\n",
       "      <td>0.0</td>\n",
       "      <td>0.0</td>\n",
       "      <td>0.0</td>\n",
       "      <td>0.0</td>\n",
       "      <td>0.0</td>\n",
       "      <td>0.0</td>\n",
       "    </tr>\n",
       "    <tr>\n",
       "      <td>3</td>\n",
       "      <td>9.087409e-01</td>\n",
       "      <td>2.554378e+00</td>\n",
       "      <td>-0.102529</td>\n",
       "      <td>-0.632642</td>\n",
       "      <td>-0.120985</td>\n",
       "      <td>-0.154976</td>\n",
       "      <td>0.0</td>\n",
       "      <td>1.0</td>\n",
       "      <td>0.0</td>\n",
       "      <td>0.0</td>\n",
       "      <td>0.0</td>\n",
       "      <td>0.0</td>\n",
       "      <td>0.0</td>\n",
       "      <td>0.0</td>\n",
       "      <td>0.0</td>\n",
       "    </tr>\n",
       "    <tr>\n",
       "      <td>4</td>\n",
       "      <td>-1.202211e+00</td>\n",
       "      <td>-1.726592e+00</td>\n",
       "      <td>-0.325617</td>\n",
       "      <td>-0.632642</td>\n",
       "      <td>-0.900200</td>\n",
       "      <td>0.193805</td>\n",
       "      <td>1.0</td>\n",
       "      <td>0.0</td>\n",
       "      <td>0.0</td>\n",
       "      <td>0.0</td>\n",
       "      <td>0.0</td>\n",
       "      <td>0.0</td>\n",
       "      <td>0.0</td>\n",
       "      <td>0.0</td>\n",
       "      <td>0.0</td>\n",
       "    </tr>\n",
       "    <tr>\n",
       "      <td>...</td>\n",
       "      <td>...</td>\n",
       "      <td>...</td>\n",
       "      <td>...</td>\n",
       "      <td>...</td>\n",
       "      <td>...</td>\n",
       "      <td>...</td>\n",
       "      <td>...</td>\n",
       "      <td>...</td>\n",
       "      <td>...</td>\n",
       "      <td>...</td>\n",
       "      <td>...</td>\n",
       "      <td>...</td>\n",
       "      <td>...</td>\n",
       "      <td>...</td>\n",
       "      <td>...</td>\n",
       "    </tr>\n",
       "    <tr>\n",
       "      <td>57733</td>\n",
       "      <td>-5.781998e-01</td>\n",
       "      <td>9.251538e-01</td>\n",
       "      <td>-0.548704</td>\n",
       "      <td>-0.632642</td>\n",
       "      <td>-0.944473</td>\n",
       "      <td>0.668974</td>\n",
       "      <td>1.0</td>\n",
       "      <td>0.0</td>\n",
       "      <td>0.0</td>\n",
       "      <td>0.0</td>\n",
       "      <td>0.0</td>\n",
       "      <td>0.0</td>\n",
       "      <td>0.0</td>\n",
       "      <td>0.0</td>\n",
       "      <td>0.0</td>\n",
       "    </tr>\n",
       "    <tr>\n",
       "      <td>57734</td>\n",
       "      <td>9.965470e-02</td>\n",
       "      <td>-6.880409e-01</td>\n",
       "      <td>-0.102529</td>\n",
       "      <td>-0.632642</td>\n",
       "      <td>-0.758884</td>\n",
       "      <td>-0.056362</td>\n",
       "      <td>0.0</td>\n",
       "      <td>0.0</td>\n",
       "      <td>0.0</td>\n",
       "      <td>0.0</td>\n",
       "      <td>0.0</td>\n",
       "      <td>0.0</td>\n",
       "      <td>0.0</td>\n",
       "      <td>1.0</td>\n",
       "      <td>0.0</td>\n",
       "    </tr>\n",
       "    <tr>\n",
       "      <td>57735</td>\n",
       "      <td>4.099938e-16</td>\n",
       "      <td>-2.916406e-14</td>\n",
       "      <td>-0.102529</td>\n",
       "      <td>0.083481</td>\n",
       "      <td>0.275971</td>\n",
       "      <td>-0.066383</td>\n",
       "      <td>1.0</td>\n",
       "      <td>0.0</td>\n",
       "      <td>0.0</td>\n",
       "      <td>0.0</td>\n",
       "      <td>0.0</td>\n",
       "      <td>0.0</td>\n",
       "      <td>0.0</td>\n",
       "      <td>0.0</td>\n",
       "      <td>0.0</td>\n",
       "    </tr>\n",
       "    <tr>\n",
       "      <td>57736</td>\n",
       "      <td>4.099938e-16</td>\n",
       "      <td>-2.916406e-14</td>\n",
       "      <td>0.789820</td>\n",
       "      <td>2.947973</td>\n",
       "      <td>0.929541</td>\n",
       "      <td>0.021597</td>\n",
       "      <td>0.0</td>\n",
       "      <td>1.0</td>\n",
       "      <td>0.0</td>\n",
       "      <td>0.0</td>\n",
       "      <td>0.0</td>\n",
       "      <td>0.0</td>\n",
       "      <td>0.0</td>\n",
       "      <td>0.0</td>\n",
       "      <td>0.0</td>\n",
       "    </tr>\n",
       "    <tr>\n",
       "      <td>57737</td>\n",
       "      <td>1.441753e-01</td>\n",
       "      <td>-6.618229e-01</td>\n",
       "      <td>-0.102529</td>\n",
       "      <td>-0.632642</td>\n",
       "      <td>-0.652037</td>\n",
       "      <td>0.162993</td>\n",
       "      <td>0.0</td>\n",
       "      <td>0.0</td>\n",
       "      <td>0.0</td>\n",
       "      <td>0.0</td>\n",
       "      <td>0.0</td>\n",
       "      <td>0.0</td>\n",
       "      <td>0.0</td>\n",
       "      <td>1.0</td>\n",
       "      <td>0.0</td>\n",
       "    </tr>\n",
       "  </tbody>\n",
       "</table>\n",
       "<p>57738 rows × 15 columns</p>\n",
       "</div>"
      ],
      "text/plain": [
       "                lat           lon  bedrooms  bathrooms  surface_total  \\\n",
       "0      4.923670e-01  1.951019e+00 -0.102529  -0.632642      -0.878759   \n",
       "1      1.300015e-01 -6.286442e-01 -0.102529   0.799604      -0.102863   \n",
       "2     -5.684173e-01  7.607250e-01 -0.102529  -0.632642      -1.257636   \n",
       "3      9.087409e-01  2.554378e+00 -0.102529  -0.632642      -0.120985   \n",
       "4     -1.202211e+00 -1.726592e+00 -0.325617  -0.632642      -0.900200   \n",
       "...             ...           ...       ...        ...            ...   \n",
       "57733 -5.781998e-01  9.251538e-01 -0.548704  -0.632642      -0.944473   \n",
       "57734  9.965470e-02 -6.880409e-01 -0.102529  -0.632642      -0.758884   \n",
       "57735  4.099938e-16 -2.916406e-14 -0.102529   0.083481       0.275971   \n",
       "57736  4.099938e-16 -2.916406e-14  0.789820   2.947973       0.929541   \n",
       "57737  1.441753e-01 -6.618229e-01 -0.102529  -0.632642      -0.652037   \n",
       "\n",
       "       price_m2  op_Apartamento  op_Casa  op_Depósito  op_Finca  \\\n",
       "0     -0.166377             1.0      0.0          0.0       0.0   \n",
       "1      0.211633             1.0      0.0          0.0       0.0   \n",
       "2     -0.078715             1.0      0.0          0.0       0.0   \n",
       "3     -0.154976             0.0      1.0          0.0       0.0   \n",
       "4      0.193805             1.0      0.0          0.0       0.0   \n",
       "...         ...             ...      ...          ...       ...   \n",
       "57733  0.668974             1.0      0.0          0.0       0.0   \n",
       "57734 -0.056362             0.0      0.0          0.0       0.0   \n",
       "57735 -0.066383             1.0      0.0          0.0       0.0   \n",
       "57736  0.021597             0.0      1.0          0.0       0.0   \n",
       "57737  0.162993             0.0      0.0          0.0       0.0   \n",
       "\n",
       "       op_Local comercial  op_Lote  op_Oficina  op_Otro  op_Parqueadero  \n",
       "0                     0.0      0.0         0.0      0.0             0.0  \n",
       "1                     0.0      0.0         0.0      0.0             0.0  \n",
       "2                     0.0      0.0         0.0      0.0             0.0  \n",
       "3                     0.0      0.0         0.0      0.0             0.0  \n",
       "4                     0.0      0.0         0.0      0.0             0.0  \n",
       "...                   ...      ...         ...      ...             ...  \n",
       "57733                 0.0      0.0         0.0      0.0             0.0  \n",
       "57734                 0.0      0.0         0.0      1.0             0.0  \n",
       "57735                 0.0      0.0         0.0      0.0             0.0  \n",
       "57736                 0.0      0.0         0.0      0.0             0.0  \n",
       "57737                 0.0      0.0         0.0      1.0             0.0  \n",
       "\n",
       "[57738 rows x 15 columns]"
      ]
     },
     "execution_count": 54,
     "metadata": {},
     "output_type": "execute_result"
    }
   ],
   "source": [
    "X_test"
   ]
  },
  {
   "cell_type": "code",
   "execution_count": null,
   "metadata": {},
   "outputs": [],
   "source": []
  },
  {
   "cell_type": "code",
   "execution_count": null,
   "metadata": {},
   "outputs": [],
   "source": []
  }
 ],
 "metadata": {
  "kernelspec": {
   "display_name": "Python 3",
   "language": "python",
   "name": "python3"
  },
  "language_info": {
   "codemirror_mode": {
    "name": "ipython",
    "version": 3
   },
   "file_extension": ".py",
   "mimetype": "text/x-python",
   "name": "python",
   "nbconvert_exporter": "python",
   "pygments_lexer": "ipython3",
   "version": "3.7.4"
  }
 },
 "nbformat": 4,
 "nbformat_minor": 4
}
