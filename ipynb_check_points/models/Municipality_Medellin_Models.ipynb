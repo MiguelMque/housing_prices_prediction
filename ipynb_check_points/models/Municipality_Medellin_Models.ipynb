{
 "cells": [
  {
   "cell_type": "markdown",
   "metadata": {},
   "source": [
    "# Modelos Bagging y Bagging con Extratree"
   ]
  },
  {
   "cell_type": "code",
   "execution_count": 26,
   "metadata": {},
   "outputs": [
    {
     "name": "stdout",
     "output_type": "stream",
     "text": [
      "tamaños de train , test  (12174, 24) (5218, 24)\n"
     ]
    }
   ],
   "source": [
    "import pandas as pd\n",
    "import numpy as np\n",
    "import sklearn \n",
    "import matplotlib.pyplot as plt\n",
    "from sklearn.model_selection import train_test_split\n",
    "\n",
    "df_M = pd.read_csv('C:/Users/danie/Documents/Daniel/SIMAT/datosstand_con_comuna.csv')\n",
    "df_M = df_M.loc[:, ~df_M.columns.str.contains('^Unnamed')]\n",
    "\n",
    "# Conjunto de variables que consideramos relevantes en el modelo\n",
    "inputs = df_M[['bedrooms', 'bathrooms', 'surface_total', 'Apartamento', 'Casa', 'price']]\n",
    "inputs1 = df_M.loc[:,'ALTAVISTA':]\n",
    "inputs = pd.concat([inputs,inputs1], axis = 1)\n",
    "\n",
    "# Eliminamos Casa y AltaVista para evitar redundancias en el modelo\n",
    "esCasaoApto = inputs[['Apartamento', 'Casa']].apply(lambda x: False if (x[0] == 0 and x[1] == 0) else True, axis = 1)\n",
    "inputs = inputs.loc[esCasaoApto]\n",
    "\n",
    "# Como resultado tenemos nuestras variables independientes\n",
    "inputs = inputs.drop(columns = ['Casa', 'ALTAVISTA'])\n",
    "\n",
    "# Target\n",
    "output = inputs['price']\n",
    "\n",
    "# Eliminamos el precio\n",
    "inputs = inputs.drop(columns = ['price'])\n",
    "\n",
    "# Separamos datos de entrenamiento con los de validacion\n",
    "X_train, X_test, Y_train, Y_test = train_test_split(inputs, output, train_size=0.7, random_state=40)\n",
    "print('tamaños de train , test ',X_train.shape, X_test.shape)"
   ]
  },
  {
   "cell_type": "markdown",
   "metadata": {},
   "source": [
    "BaggingRegressor"
   ]
  },
  {
   "cell_type": "code",
   "execution_count": 27,
   "metadata": {},
   "outputs": [
    {
     "data": {
      "text/plain": [
       "0.6665088756576012"
      ]
     },
     "execution_count": 27,
     "metadata": {},
     "output_type": "execute_result"
    }
   ],
   "source": [
    "import sklearn\n",
    "from sklearn.ensemble import BaggingRegressor\n",
    "model2 = sklearn.ensemble.BaggingRegressor(n_estimators = 2000, max_samples = 20, max_features =19)\n",
    "model2.fit(X_train, Y_train)\n",
    "\n",
    "prediction2 = model2.predict(X_test)\n",
    "score = model2.score(X_test, Y_test)\n",
    "\n",
    "score"
   ]
  },
  {
   "cell_type": "markdown",
   "metadata": {},
   "source": [
    "Bagging with Extratree"
   ]
  },
  {
   "cell_type": "code",
   "execution_count": 28,
   "metadata": {},
   "outputs": [
    {
     "data": {
      "text/plain": [
       "BaggingRegressor(base_estimator=ExtraTreeRegressor(criterion='mse',\n",
       "                                                   max_depth=None,\n",
       "                                                   max_features='auto',\n",
       "                                                   max_leaf_nodes=None,\n",
       "                                                   min_impurity_decrease=0.0,\n",
       "                                                   min_impurity_split=None,\n",
       "                                                   min_samples_leaf=1,\n",
       "                                                   min_samples_split=2,\n",
       "                                                   min_weight_fraction_leaf=0.0,\n",
       "                                                   random_state=1000,\n",
       "                                                   splitter='best'),\n",
       "                 bootstrap=True, bootstrap_features=False, max_features=1.0,\n",
       "                 max_samples=1.0, n_estimators=20, n_jobs=None, oob_score=False,\n",
       "                 random_state=1000, verbose=0, warm_start=False)"
      ]
     },
     "execution_count": 28,
     "metadata": {},
     "output_type": "execute_result"
    }
   ],
   "source": [
    "from sklearn.ensemble import BaggingRegressor\n",
    "from sklearn.tree import ExtraTreeRegressor\n",
    "extra_tree = ExtraTreeRegressor(splitter = \"best\" ,random_state=1000)\n",
    "lin_reg = BaggingRegressor(extra_tree, random_state=1000, n_estimators=20)\n",
    "lin_reg.fit(X_train, Y_train)"
   ]
  },
  {
   "cell_type": "code",
   "execution_count": 29,
   "metadata": {},
   "outputs": [
    {
     "name": "stdout",
     "output_type": "stream",
     "text": [
      "Root Mean Square Error (RMSE)= 0.08140501184108863\n",
      "Mean Absolute Error (MAE)= 0.1893441859224025\n",
      "R^2 = 0.7704192852461851\n"
     ]
    }
   ],
   "source": [
    "Y_test_estimate = lin_reg.predict(X_test)\n",
    "from sklearn.metrics import mean_squared_error, r2_score, mean_absolute_error\n",
    "rmse = mean_squared_error(Y_test, Y_test_estimate)\n",
    "print(\"Root Mean Square Error (RMSE)= {}\".format(rmse))\n",
    "mae = mean_absolute_error(Y_test, Y_test_estimate)\n",
    "print(\"Mean Absolute Error (MAE)= {}\".format(mae))\n",
    "r2 = r2_score(Y_test, Y_test_estimate)\n",
    "print(\"R^2 = {}\".format(r2))"
   ]
  },
  {
   "cell_type": "code",
   "execution_count": 10,
   "metadata": {
    "scrolled": true
   },
   "outputs": [
    {
     "data": {
      "image/png": "[encoded data removed]",
      "text/plain": [
       "<Figure size 432x288 with 1 Axes>"
      ]
     },
     "metadata": {
      "needs_background": "light"
     },
     "output_type": "display_data"
    }
   ],
   "source": [
    "import matplotlib.pyplot as plt\n",
    "plt.scatter(Y_test, Y_test_estimate)\n",
    "plt.xlabel(\"Y_test\")\n",
    "plt.ylabel(\"Y_estimate\")\n",
    "plt.show()"
   ]
  },
  {
   "cell_type": "markdown",
   "metadata": {},
   "source": [
    "# Solo con casas"
   ]
  },
  {
   "cell_type": "code",
   "execution_count": 21,
   "metadata": {},
   "outputs": [
    {
     "name": "stdout",
     "output_type": "stream",
     "text": [
      "tamaños de train , test  (4621, 26) (1981, 26)\n"
     ]
    }
   ],
   "source": [
    "import pandas as pd\n",
    "import numpy as np\n",
    "import sklearn \n",
    "import matplotlib.pyplot as plt\n",
    "from sklearn.model_selection import train_test_split\n",
    "\n",
    "df_M = pd.read_csv('C:/Users/danie/Documents/Daniel/SIMAT/datosstand_con_comuna.csv')\n",
    "df_M = df_M.loc[:, ~df_M.columns.str.contains('^Unnamed')]\n",
    "\n",
    "# Conjunto de variables que consideramos relevantes en el modelo\n",
    "inputs = df_M.drop(columns = ['price_real', 'created_on', 'end_date'])\n",
    "\n",
    "# Seleccionamos unicamente casas\n",
    "inputs = inputs[inputs['Casa'] == 1]\n",
    "\n",
    "# Como resultado tenemos nuestras variables independientes\n",
    "inputs = inputs.drop(columns = df_M.loc[:,'Apartamento':'ALTAVISTA'].keys())\n",
    "\n",
    "# Target\n",
    "output = inputs['price']\n",
    "\n",
    "# Eliminamos el precio\n",
    "inputs = inputs.drop(columns = ['price'])\n",
    "\n",
    "# Separamos datos de entrenamiento con los de validacion\n",
    "X_train, X_test, Y_train, Y_test = train_test_split(inputs, output, train_size=0.7, random_state=40)\n",
    "print('tamaños de train , test ',X_train.shape, X_test.shape)"
   ]
  },
  {
   "cell_type": "code",
   "execution_count": 22,
   "metadata": {
    "scrolled": false
   },
   "outputs": [
    {
     "data": {
      "text/plain": [
       "0.6920262694174785"
      ]
     },
     "execution_count": 22,
     "metadata": {},
     "output_type": "execute_result"
    }
   ],
   "source": [
    "import sklearn\n",
    "from sklearn.ensemble import BaggingRegressor\n",
    "model2 = sklearn.ensemble.BaggingRegressor(n_estimators = 2000, max_samples = 20, max_features =19)\n",
    "model2.fit(X_train, Y_train)\n",
    "\n",
    "prediction2 = model2.predict(X_test)\n",
    "score = model2.score(X_test, Y_test)\n",
    "\n",
    "score"
   ]
  },
  {
   "cell_type": "code",
   "execution_count": 23,
   "metadata": {},
   "outputs": [
    {
     "data": {
      "text/plain": [
       "BaggingRegressor(base_estimator=ExtraTreeRegressor(criterion='mse',\n",
       "                                                   max_depth=None,\n",
       "                                                   max_features='auto',\n",
       "                                                   max_leaf_nodes=None,\n",
       "                                                   min_impurity_decrease=0.0,\n",
       "                                                   min_impurity_split=None,\n",
       "                                                   min_samples_leaf=1,\n",
       "                                                   min_samples_split=2,\n",
       "                                                   min_weight_fraction_leaf=0.0,\n",
       "                                                   random_state=1000,\n",
       "                                                   splitter='best'),\n",
       "                 bootstrap=True, bootstrap_features=False, max_features=1.0,\n",
       "                 max_samples=1.0, n_estimators=20, n_jobs=None, oob_score=False,\n",
       "                 random_state=1000, verbose=0, warm_start=False)"
      ]
     },
     "execution_count": 23,
     "metadata": {},
     "output_type": "execute_result"
    }
   ],
   "source": [
    "from sklearn.ensemble import BaggingRegressor\n",
    "from sklearn.tree import ExtraTreeRegressor\n",
    "extra_tree = ExtraTreeRegressor(splitter = \"best\" ,random_state=1000)\n",
    "lin_reg = BaggingRegressor(extra_tree, random_state=1000, n_estimators=20)\n",
    "lin_reg.fit(X_train, Y_train)"
   ]
  },
  {
   "cell_type": "code",
   "execution_count": 25,
   "metadata": {
    "scrolled": true
   },
   "outputs": [
    {
     "name": "stdout",
     "output_type": "stream",
     "text": [
      "Root Mean Square Error (RMSE)= 0.0883447942207841\n",
      "Mean Absolute Error (MAE)= 0.21228750487170917\n",
      "R^2 = 0.8080416676517304\n"
     ]
    }
   ],
   "source": [
    "Y_test_estimate = lin_reg.predict(X_test)\n",
    "from sklearn.metrics import mean_squared_error, r2_score, mean_absolute_error\n",
    "rmse = mean_squared_error(Y_test, Y_test_estimate)\n",
    "print(\"Root Mean Square Error (RMSE)= {}\".format(rmse))\n",
    "mae = mean_absolute_error(Y_test, Y_test_estimate)\n",
    "print(\"Mean Absolute Error (MAE)= {}\".format(mae))\n",
    "r2 = r2_score(Y_test, Y_test_estimate)\n",
    "print(\"R^2 = {}\".format(r2))"
   ]
  },
  {
   "cell_type": "code",
   "execution_count": 30,
   "metadata": {},
   "outputs": [
    {
     "data": {
      "image/png": "[encoded data removed]",
      "text/plain": [
       "<Figure size 432x288 with 1 Axes>"
      ]
     },
     "metadata": {
      "needs_background": "light"
     },
     "output_type": "display_data"
    }
   ],
   "source": [
    "import matplotlib.pyplot as plt\n",
    "plt.scatter(Y_test, Y_test_estimate)\n",
    "plt.xlabel(\"Y_test\")\n",
    "plt.ylabel(\"Y_estimate\")\n",
    "plt.show()"
   ]
  },
  {
   "cell_type": "markdown",
   "metadata": {},
   "source": [
    "# Solo con Apartamentos"
   ]
  },
  {
   "cell_type": "code",
   "execution_count": 31,
   "metadata": {},
   "outputs": [
    {
     "name": "stdout",
     "output_type": "stream",
     "text": [
      "tamaños de train , test  (7552, 26) (3238, 26)\n"
     ]
    }
   ],
   "source": [
    "import pandas as pd\n",
    "import numpy as np\n",
    "import sklearn \n",
    "import matplotlib.pyplot as plt\n",
    "from sklearn.model_selection import train_test_split\n",
    "\n",
    "df_M = pd.read_csv('C:/Users/danie/Documents/Daniel/SIMAT/datosstand_con_comuna.csv')\n",
    "df_M = df_M.loc[:, ~df_M.columns.str.contains('^Unnamed')]\n",
    "\n",
    "# Conjunto de variables que consideramos relevantes en el modelo\n",
    "inputs = df_M.drop(columns = ['price_real', 'created_on', 'end_date'])\n",
    "\n",
    "# Seleccionamos unicamente casas\n",
    "inputs = inputs[inputs['Apartamento'] == 1]\n",
    "\n",
    "# Como resultado tenemos nuestras variables independientes\n",
    "inputs = inputs.drop(columns = df_M.loc[:,'Apartamento':'ALTAVISTA'].keys())\n",
    "\n",
    "# Target\n",
    "output = inputs['price']\n",
    "\n",
    "# Eliminamos el precio\n",
    "inputs = inputs.drop(columns = ['price'])\n",
    "\n",
    "# Separamos datos de entrenamiento con los de validacion\n",
    "X_train, X_test, Y_train, Y_test = train_test_split(inputs, output, train_size=0.7, random_state=40)\n",
    "print('tamaños de train , test ',X_train.shape, X_test.shape)"
   ]
  },
  {
   "cell_type": "code",
   "execution_count": 32,
   "metadata": {},
   "outputs": [
    {
     "data": {
      "text/plain": [
       "0.6369266985938687"
      ]
     },
     "execution_count": 32,
     "metadata": {},
     "output_type": "execute_result"
    }
   ],
   "source": [
    "import sklearn\n",
    "from sklearn.ensemble import BaggingRegressor\n",
    "model2 = sklearn.ensemble.BaggingRegressor(n_estimators = 2000, max_samples = 20, max_features =19)\n",
    "model2.fit(X_train, Y_train)\n",
    "\n",
    "prediction2 = model2.predict(X_test)\n",
    "score = model2.score(X_test, Y_test)\n",
    "\n",
    "score"
   ]
  },
  {
   "cell_type": "code",
   "execution_count": 33,
   "metadata": {},
   "outputs": [
    {
     "data": {
      "text/plain": [
       "BaggingRegressor(base_estimator=ExtraTreeRegressor(criterion='mse',\n",
       "                                                   max_depth=None,\n",
       "                                                   max_features='auto',\n",
       "                                                   max_leaf_nodes=None,\n",
       "                                                   min_impurity_decrease=0.0,\n",
       "                                                   min_impurity_split=None,\n",
       "                                                   min_samples_leaf=1,\n",
       "                                                   min_samples_split=2,\n",
       "                                                   min_weight_fraction_leaf=0.0,\n",
       "                                                   random_state=1000,\n",
       "                                                   splitter='best'),\n",
       "                 bootstrap=True, bootstrap_features=False, max_features=1.0,\n",
       "                 max_samples=1.0, n_estimators=20, n_jobs=None, oob_score=False,\n",
       "                 random_state=1000, verbose=0, warm_start=False)"
      ]
     },
     "execution_count": 33,
     "metadata": {},
     "output_type": "execute_result"
    }
   ],
   "source": [
    "from sklearn.ensemble import BaggingRegressor\n",
    "from sklearn.tree import ExtraTreeRegressor\n",
    "extra_tree = ExtraTreeRegressor(splitter = \"best\" ,random_state=1000)\n",
    "lin_reg = BaggingRegressor(extra_tree, random_state=1000, n_estimators=20)\n",
    "lin_reg.fit(X_train, Y_train)"
   ]
  },
  {
   "cell_type": "code",
   "execution_count": 34,
   "metadata": {},
   "outputs": [
    {
     "name": "stdout",
     "output_type": "stream",
     "text": [
      "Root Mean Square Error (RMSE)= 0.05429312375515767\n",
      "Mean Absolute Error (MAE)= 0.16340733261513407\n",
      "R^2 = 0.7611069271599399\n"
     ]
    }
   ],
   "source": [
    "Y_test_estimate = lin_reg.predict(X_test)\n",
    "from sklearn.metrics import mean_squared_error, r2_score, mean_absolute_error\n",
    "rmse = mean_squared_error(Y_test, Y_test_estimate)\n",
    "print(\"Root Mean Square Error (RMSE)= {}\".format(rmse))\n",
    "mae = mean_absolute_error(Y_test, Y_test_estimate)\n",
    "print(\"Mean Absolute Error (MAE)= {}\".format(mae))\n",
    "r2 = r2_score(Y_test, Y_test_estimate)\n",
    "print(\"R^2 = {}\".format(r2))"
   ]
  },
  {
   "cell_type": "code",
   "execution_count": 35,
   "metadata": {},
   "outputs": [
    {
     "data": {
      "image/png": "[encoded data removed]",
      "text/plain": [
       "<Figure size 432x288 with 1 Axes>"
      ]
     },
     "metadata": {
      "needs_background": "light"
     },
     "output_type": "display_data"
    }
   ],
   "source": [
    "import matplotlib.pyplot as plt\n",
    "plt.scatter(Y_test, Y_test_estimate)\n",
    "plt.xlabel(\"Y_test\")\n",
    "plt.ylabel(\"Y_estimate\")\n",
    "plt.show()"
   ]
  },
  {
   "cell_type": "markdown",
   "metadata": {},
   "source": [
    "# Modelos con Random Forest"
   ]
  },
  {
   "cell_type": "code",
   "execution_count": 36,
   "metadata": {},
   "outputs": [
    {
     "name": "stdout",
     "output_type": "stream",
     "text": [
      "tamaños de train , test  (12174, 24) (5218, 24)\n"
     ]
    }
   ],
   "source": [
    "import pandas as pd\n",
    "import numpy as np\n",
    "import sklearn \n",
    "import matplotlib.pyplot as plt\n",
    "from sklearn.model_selection import train_test_split\n",
    "\n",
    "df_M = pd.read_csv('C:/Users/danie/Documents/Daniel/SIMAT/datosstand_con_comuna.csv')\n",
    "df_M = df_M.loc[:, ~df_M.columns.str.contains('^Unnamed')]\n",
    "\n",
    "# Conjunto de variables que consideramos relevantes en el modelo\n",
    "inputs = df_M[['bedrooms', 'bathrooms', 'surface_total', 'Apartamento', 'Casa', 'price']]\n",
    "inputs1 = df_M.loc[:,'ALTAVISTA':]\n",
    "inputs = pd.concat([inputs,inputs1], axis = 1)\n",
    "\n",
    "# Eliminamos Casa y AltaVista para evitar redundancias en el modelo\n",
    "esCasaoApto = inputs[['Apartamento', 'Casa']].apply(lambda x: False if (x[0] == 0 and x[1] == 0) else True, axis = 1)\n",
    "inputs = inputs.loc[esCasaoApto]\n",
    "\n",
    "# Como resultado tenemos nuestras variables independientes\n",
    "inputs = inputs.drop(columns = ['Casa', 'ALTAVISTA'])\n",
    "\n",
    "# Target\n",
    "output = inputs['price']\n",
    "\n",
    "# Eliminamos el precio\n",
    "inputs = inputs.drop(columns = ['price'])\n",
    "\n",
    "# Separamos datos de entrenamiento con los de validacion\n",
    "X_train, X_test, Y_train, Y_test = train_test_split(inputs, output, train_size=0.7, random_state=40)\n",
    "print('tamaños de train , test ',X_train.shape, X_test.shape)"
   ]
  },
  {
   "cell_type": "code",
   "execution_count": 43,
   "metadata": {},
   "outputs": [
    {
     "data": {
      "text/plain": [
       "0.7777230864892176"
      ]
     },
     "execution_count": 43,
     "metadata": {},
     "output_type": "execute_result"
    }
   ],
   "source": [
    "from sklearn.ensemble import RandomForestRegressor\n",
    "model2 = RandomForestRegressor(n_estimators = 2000, max_features =19)\n",
    "model2.fit(X_train, Y_train)\n",
    "score = model2.score(X_test, Y_test)\n",
    "score"
   ]
  },
  {
   "cell_type": "code",
   "execution_count": 44,
   "metadata": {
    "scrolled": false
   },
   "outputs": [
    {
     "name": "stdout",
     "output_type": "stream",
     "text": [
      "Root Mean Square Error (RMSE)= 0.07881522102476685\n",
      "Mean Absolute Error (MAE)= 0.18692089627024544\n",
      "R^2 = 0.7777230864892176\n"
     ]
    }
   ],
   "source": [
    "Y_test_estimate = model2.predict(X_test)\n",
    "from sklearn.metrics import mean_squared_error, r2_score, mean_absolute_error\n",
    "rmse = mean_squared_error(Y_test, Y_test_estimate)\n",
    "print(\"Root Mean Square Error (RMSE)= {}\".format(rmse))\n",
    "mae = mean_absolute_error(Y_test, Y_test_estimate)\n",
    "print(\"Mean Absolute Error (MAE)= {}\".format(mae))\n",
    "r2 = r2_score(Y_test, Y_test_estimate)\n",
    "print(\"R^2 = {}\".format(r2))"
   ]
  },
  {
   "cell_type": "code",
   "execution_count": 45,
   "metadata": {},
   "outputs": [
    {
     "data": {
      "image/png": "[encoded data removed]",
      "text/plain": [
       "<Figure size 432x288 with 1 Axes>"
      ]
     },
     "metadata": {
      "needs_background": "light"
     },
     "output_type": "display_data"
    }
   ],
   "source": [
    "import matplotlib.pyplot as plt\n",
    "plt.scatter(Y_test, Y_test_estimate)\n",
    "plt.xlabel(\"Y_test\")\n",
    "plt.ylabel(\"Y_estimate\")\n",
    "plt.show()"
   ]
  },
  {
   "cell_type": "markdown",
   "metadata": {},
   "source": [
    "# Solo casa"
   ]
  },
  {
   "cell_type": "code",
   "execution_count": 57,
   "metadata": {},
   "outputs": [
    {
     "name": "stdout",
     "output_type": "stream",
     "text": [
      "tamaños de train , test  (4621, 26) (1981, 26)\n"
     ]
    }
   ],
   "source": [
    "import pandas as pd\n",
    "import numpy as np\n",
    "import sklearn \n",
    "import matplotlib.pyplot as plt\n",
    "from sklearn.model_selection import train_test_split\n",
    "\n",
    "df_M = pd.read_csv('C:/Users/danie/Documents/Daniel/SIMAT/datosstand_con_comuna.csv')\n",
    "df_M = df_M.loc[:, ~df_M.columns.str.contains('^Unnamed')]\n",
    "\n",
    "# Conjunto de variables que consideramos relevantes en el modelo\n",
    "inputs = df_M.drop(columns = ['price_real', 'created_on', 'end_date'])\n",
    "\n",
    "# Seleccionamos unicamente casas\n",
    "inputs = inputs[inputs['Casa'] == 1]\n",
    "\n",
    "# Como resultado tenemos nuestras variables independientes\n",
    "inputs = inputs.drop(columns = df_M.loc[:,'Apartamento':'ALTAVISTA'].keys())\n",
    "\n",
    "# Target\n",
    "output = inputs['price']\n",
    "\n",
    "# Eliminamos el precio\n",
    "inputs = inputs.drop(columns = ['price'])\n",
    "\n",
    "# Separamos datos de entrenamiento con los de validacion\n",
    "X_train, X_test, Y_train, Y_test = train_test_split(inputs, output, train_size=0.7, random_state=40)\n",
    "print('tamaños de train , test ',X_train.shape, X_test.shape)"
   ]
  },
  {
   "cell_type": "code",
   "execution_count": 58,
   "metadata": {},
   "outputs": [
    {
     "data": {
      "text/plain": [
       "0.819735304384972"
      ]
     },
     "execution_count": 58,
     "metadata": {},
     "output_type": "execute_result"
    }
   ],
   "source": [
    "from sklearn.ensemble import RandomForestRegressor\n",
    "model2 = RandomForestRegressor(n_estimators = 2000, max_features =19)\n",
    "model2.fit(X_train, Y_train)\n",
    "score = model2.score(X_test, Y_test)\n",
    "score"
   ]
  },
  {
   "cell_type": "code",
   "execution_count": 59,
   "metadata": {},
   "outputs": [
    {
     "name": "stdout",
     "output_type": "stream",
     "text": [
      "Root Mean Square Error (RMSE)= 0.08296304330508783\n",
      "Mean Absolute Error (MAE)= 0.20344538644093374\n",
      "R^2 = 0.819735304384972\n"
     ]
    }
   ],
   "source": [
    "Y_test_estimate = model2.predict(X_test)\n",
    "from sklearn.metrics import mean_squared_error, r2_score, mean_absolute_error\n",
    "rmse = mean_squared_error(Y_test, Y_test_estimate)\n",
    "print(\"Root Mean Square Error (RMSE)= {}\".format(rmse))\n",
    "mae = mean_absolute_error(Y_test, Y_test_estimate)\n",
    "print(\"Mean Absolute Error (MAE)= {}\".format(mae))\n",
    "r2 = r2_score(Y_test, Y_test_estimate)\n",
    "print(\"R^2 = {}\".format(r2))"
   ]
  },
  {
   "cell_type": "code",
   "execution_count": 60,
   "metadata": {},
   "outputs": [
    {
     "data": {
      "image/png": "[encoded data removed]",
      "text/plain": [
       "<Figure size 432x288 with 1 Axes>"
      ]
     },
     "metadata": {
      "needs_background": "light"
     },
     "output_type": "display_data"
    }
   ],
   "source": [
    "import matplotlib.pyplot as plt\n",
    "plt.scatter(Y_test, Y_test_estimate)\n",
    "plt.xlabel(\"Y_test\")\n",
    "plt.ylabel(\"Y_estimate\")\n",
    "plt.show()"
   ]
  },
  {
   "cell_type": "markdown",
   "metadata": {},
   "source": [
    "# Solo Apartamentos"
   ]
  },
  {
   "cell_type": "code",
   "execution_count": 61,
   "metadata": {},
   "outputs": [
    {
     "name": "stdout",
     "output_type": "stream",
     "text": [
      "tamaños de train , test  (7552, 26) (3238, 26)\n"
     ]
    }
   ],
   "source": [
    "import pandas as pd\n",
    "import numpy as np\n",
    "import sklearn \n",
    "import matplotlib.pyplot as plt\n",
    "from sklearn.model_selection import train_test_split\n",
    "\n",
    "df_M = pd.read_csv('C:/Users/danie/Documents/Daniel/SIMAT/datosstand_con_comuna.csv')\n",
    "df_M = df_M.loc[:, ~df_M.columns.str.contains('^Unnamed')]\n",
    "\n",
    "# Conjunto de variables que consideramos relevantes en el modelo\n",
    "inputs = df_M.drop(columns = ['price_real', 'created_on', 'end_date'])\n",
    "\n",
    "# Seleccionamos unicamente casas\n",
    "inputs = inputs[inputs['Apartamento'] == 1]\n",
    "\n",
    "# Como resultado tenemos nuestras variables independientes\n",
    "inputs = inputs.drop(columns = df_M.loc[:,'Apartamento':'ALTAVISTA'].keys())\n",
    "\n",
    "# Target\n",
    "output = inputs['price']\n",
    "\n",
    "# Eliminamos el precio\n",
    "inputs = inputs.drop(columns = ['price'])\n",
    "\n",
    "# Separamos datos de entrenamiento con los de validacion\n",
    "X_train, X_test, Y_train, Y_test = train_test_split(inputs, output, train_size=0.7, random_state=40)\n",
    "print('tamaños de train , test ',X_train.shape, X_test.shape)"
   ]
  },
  {
   "cell_type": "code",
   "execution_count": 62,
   "metadata": {},
   "outputs": [
    {
     "data": {
      "text/plain": [
       "0.7709997960837576"
      ]
     },
     "execution_count": 62,
     "metadata": {},
     "output_type": "execute_result"
    }
   ],
   "source": [
    "from sklearn.ensemble import RandomForestRegressor\n",
    "model2 = RandomForestRegressor(n_estimators = 2000, max_features =19)\n",
    "model2.fit(X_train, Y_train)\n",
    "score = model2.score(X_test, Y_test)\n",
    "score"
   ]
  },
  {
   "cell_type": "code",
   "execution_count": 63,
   "metadata": {},
   "outputs": [
    {
     "name": "stdout",
     "output_type": "stream",
     "text": [
      "Root Mean Square Error (RMSE)= 0.05204477577926645\n",
      "Mean Absolute Error (MAE)= 0.1609039763248285\n",
      "R^2 = 0.7709997960837576\n"
     ]
    }
   ],
   "source": [
    "Y_test_estimate = model2.predict(X_test)\n",
    "from sklearn.metrics import mean_squared_error, r2_score, mean_absolute_error\n",
    "rmse = mean_squared_error(Y_test, Y_test_estimate)\n",
    "print(\"Root Mean Square Error (RMSE)= {}\".format(rmse))\n",
    "mae = mean_absolute_error(Y_test, Y_test_estimate)\n",
    "print(\"Mean Absolute Error (MAE)= {}\".format(mae))\n",
    "r2 = r2_score(Y_test, Y_test_estimate)\n",
    "print(\"R^2 = {}\".format(r2))"
   ]
  },
  {
   "cell_type": "code",
   "execution_count": 64,
   "metadata": {},
   "outputs": [
    {
     "data": {
      "image/png": "[encoded data removed]",
      "text/plain": [
       "<Figure size 432x288 with 1 Axes>"
      ]
     },
     "metadata": {
      "needs_background": "light"
     },
     "output_type": "display_data"
    }
   ],
   "source": [
    "import matplotlib.pyplot as plt\n",
    "plt.scatter(Y_test, Y_test_estimate)\n",
    "plt.xlabel(\"Y_test\")\n",
    "plt.ylabel(\"Y_estimate\")\n",
    "plt.show()"
   ]
  },
  {
   "cell_type": "code",
   "execution_count": null,
   "metadata": {},
   "outputs": [],
   "source": []
  }
 ],
 "metadata": {
  "kernelspec": {
   "display_name": "Python 3",
   "language": "python",
   "name": "python3"
  },
  "language_info": {
   "codemirror_mode": {
    "name": "ipython",
    "version": 3
   },
   "file_extension": ".py",
   "mimetype": "text/x-python",
   "name": "python",
   "nbconvert_exporter": "python",
   "pygments_lexer": "ipython3",
   "version": "3.7.4"
  }
 },
 "nbformat": 4,
 "nbformat_minor": 2
}
