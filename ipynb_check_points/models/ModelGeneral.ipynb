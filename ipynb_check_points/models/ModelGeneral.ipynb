{
 "cells": [
  {
   "cell_type": "markdown",
   "metadata": {
    "colab_type": "text",
    "id": "fX_CcNMdnDKw"
   },
   "source": [
    "# Municipality Analysis"
   ]
  },
  {
   "cell_type": "code",
   "execution_count": 2,
   "metadata": {
    "colab": {},
    "colab_type": "code",
    "id": "lFSxC4xFnDK0"
   },
   "outputs": [],
   "source": [
    "#Cargando librerías\n",
    "import pandas as pd\n",
    "import numpy as np\n",
    "import matplotlib.pyplot as plt\n",
    "import seaborn as sns"
   ]
  },
  {
   "cell_type": "code",
   "execution_count": 3,
   "metadata": {
    "colab": {
     "base_uri": "https://localhost:8080/",
     "height": 165
    },
    "colab_type": "code",
    "id": "Ea8FjNbknDK6",
    "outputId": "632a942a-ae74-455d-eeba-c59df929fe97",
    "scrolled": false
   },
   "outputs": [
    {
     "name": "stderr",
     "output_type": "stream",
     "text": [
      "C:\\Users\\OMAR\\Anaconda3\\lib\\site-packages\\IPython\\core\\interactiveshell.py:3058: DtypeWarning: Columns (0) have mixed types. Specify dtype option on import or set low_memory=False.\n",
      "  interactivity=interactivity, compiler=compiler, result=result)\n"
     ]
    }
   ],
   "source": [
    "df = pd.read_csv('nutritive.csv')\n",
    "df = df.drop(columns=['Unnamed: 0'])"
   ]
  },
  {
   "cell_type": "code",
   "execution_count": 4,
   "metadata": {},
   "outputs": [
    {
     "data": {
      "text/plain": [
       "array(['Casa', 'Otro', 'Lote', 'Finca', 'Oficina', 'Apartamento',\n",
       "       'Parqueadero', 'Local comercial', 'Depósito', nan], dtype=object)"
      ]
     },
     "execution_count": 4,
     "metadata": {},
     "output_type": "execute_result"
    }
   ],
   "source": [
    "df.property_type.unique()"
   ]
  },
  {
   "cell_type": "markdown",
   "metadata": {
    "colab_type": "text",
    "id": "7qM6Zg72nDLO"
   },
   "source": [
    "## Sell and Rent Counting"
   ]
  },
  {
   "cell_type": "code",
   "execution_count": 5,
   "metadata": {
    "colab": {},
    "colab_type": "code",
    "id": "tdHloB68nDLT"
   },
   "outputs": [
    {
     "data": {
      "text/plain": [
       "(613054, 7)"
      ]
     },
     "execution_count": 5,
     "metadata": {},
     "output_type": "execute_result"
    }
   ],
   "source": [
    "df = df.where(df['operation_type'] == 'Venta').dropna(subset=['operation_type'])\n",
    "df.drop(columns=['id',\"ad_type\",'start_date', 'start_date','created_on','end_date',\n",
    "                 'l1','l2', 'l3', 'l4','l6', 'l5', \n",
    "                 'rooms', 'price_period', 'surface_covered',\n",
    "                 'operation_type','currency', 'title', 'description'], inplace=True)\n",
    "df.shape"
   ]
  },
  {
   "cell_type": "code",
   "execution_count": 6,
   "metadata": {
    "colab": {},
    "colab_type": "code",
    "id": "ZNeWLziZnDLq",
    "scrolled": true
   },
   "outputs": [],
   "source": [
    "df_train = df.copy()\n",
    "    \n",
    "df_train = df_train[df_train['price']<df_train['price'].quantile(0.99)]\n",
    "df_train = df_train[df_train['price'] > df_train['price'].quantile(0.1)]\n",
    "df_train = df_train[df_train['surface_total'] > 0]\n",
    "df_train = df_train[~np.isnan(df_train['price']) & df_train['price'] > 0]\n",
    "df_train = df_train[df_train['surface_total'] > 0]\n",
    "\n",
    "df_train['price'] = np.log(df_train['price'])"
   ]
  },
  {
   "cell_type": "code",
   "execution_count": 7,
   "metadata": {},
   "outputs": [
    {
     "data": {
      "text/html": [
       "<div>\n",
       "<style scoped>\n",
       "    .dataframe tbody tr th:only-of-type {\n",
       "        vertical-align: middle;\n",
       "    }\n",
       "\n",
       "    .dataframe tbody tr th {\n",
       "        vertical-align: top;\n",
       "    }\n",
       "\n",
       "    .dataframe thead th {\n",
       "        text-align: right;\n",
       "    }\n",
       "</style>\n",
       "<table border=\"1\" class=\"dataframe\">\n",
       "  <thead>\n",
       "    <tr style=\"text-align: right;\">\n",
       "      <th></th>\n",
       "      <th>lat</th>\n",
       "      <th>lon</th>\n",
       "      <th>bedrooms</th>\n",
       "      <th>bathrooms</th>\n",
       "      <th>surface_total</th>\n",
       "      <th>price</th>\n",
       "      <th>property_type</th>\n",
       "    </tr>\n",
       "  </thead>\n",
       "  <tbody>\n",
       "    <tr>\n",
       "      <td>0</td>\n",
       "      <td>3.439000</td>\n",
       "      <td>-76.541000</td>\n",
       "      <td>12.0</td>\n",
       "      <td>6.0</td>\n",
       "      <td>202.0</td>\n",
       "      <td>5.000000e+08</td>\n",
       "      <td>Casa</td>\n",
       "    </tr>\n",
       "    <tr>\n",
       "      <td>2</td>\n",
       "      <td>3.566000</td>\n",
       "      <td>-76.550000</td>\n",
       "      <td>6.0</td>\n",
       "      <td>2.0</td>\n",
       "      <td>2500.0</td>\n",
       "      <td>1.400000e+08</td>\n",
       "      <td>Casa</td>\n",
       "    </tr>\n",
       "    <tr>\n",
       "      <td>3</td>\n",
       "      <td>4.736000</td>\n",
       "      <td>-75.896000</td>\n",
       "      <td>8.0</td>\n",
       "      <td>5.0</td>\n",
       "      <td>45000.0</td>\n",
       "      <td>8.000000e+08</td>\n",
       "      <td>Casa</td>\n",
       "    </tr>\n",
       "    <tr>\n",
       "      <td>4</td>\n",
       "      <td>3.661000</td>\n",
       "      <td>-76.576000</td>\n",
       "      <td>6.0</td>\n",
       "      <td>6.0</td>\n",
       "      <td>650.0</td>\n",
       "      <td>2.900000e+08</td>\n",
       "      <td>Casa</td>\n",
       "    </tr>\n",
       "    <tr>\n",
       "      <td>5</td>\n",
       "      <td>6.238877</td>\n",
       "      <td>-75.600494</td>\n",
       "      <td>7.0</td>\n",
       "      <td>4.0</td>\n",
       "      <td>290.0</td>\n",
       "      <td>0.000000e+00</td>\n",
       "      <td>Otro</td>\n",
       "    </tr>\n",
       "    <tr>\n",
       "      <td>...</td>\n",
       "      <td>...</td>\n",
       "      <td>...</td>\n",
       "      <td>...</td>\n",
       "      <td>...</td>\n",
       "      <td>...</td>\n",
       "      <td>...</td>\n",
       "      <td>...</td>\n",
       "    </tr>\n",
       "    <tr>\n",
       "      <td>937780</td>\n",
       "      <td>7.869000</td>\n",
       "      <td>-72.465000</td>\n",
       "      <td>5.0</td>\n",
       "      <td>7.0</td>\n",
       "      <td>1000.0</td>\n",
       "      <td>3.500000e+09</td>\n",
       "      <td>Casa</td>\n",
       "    </tr>\n",
       "    <tr>\n",
       "      <td>937781</td>\n",
       "      <td>7.873000</td>\n",
       "      <td>-72.464000</td>\n",
       "      <td>5.0</td>\n",
       "      <td>7.0</td>\n",
       "      <td>1262.0</td>\n",
       "      <td>1.500000e+09</td>\n",
       "      <td>Casa</td>\n",
       "    </tr>\n",
       "    <tr>\n",
       "      <td>937782</td>\n",
       "      <td>7.844000</td>\n",
       "      <td>-72.467000</td>\n",
       "      <td>5.0</td>\n",
       "      <td>7.0</td>\n",
       "      <td>344.0</td>\n",
       "      <td>1.100000e+09</td>\n",
       "      <td>Casa</td>\n",
       "    </tr>\n",
       "    <tr>\n",
       "      <td>937783</td>\n",
       "      <td>7.855000</td>\n",
       "      <td>-72.464000</td>\n",
       "      <td>7.0</td>\n",
       "      <td>7.0</td>\n",
       "      <td>500.0</td>\n",
       "      <td>8.500000e+08</td>\n",
       "      <td>Casa</td>\n",
       "    </tr>\n",
       "    <tr>\n",
       "      <td>937784</td>\n",
       "      <td>4.153000</td>\n",
       "      <td>-74.715000</td>\n",
       "      <td>6.0</td>\n",
       "      <td>7.0</td>\n",
       "      <td>10000.0</td>\n",
       "      <td>1.000000e+09</td>\n",
       "      <td>Otro</td>\n",
       "    </tr>\n",
       "  </tbody>\n",
       "</table>\n",
       "<p>613054 rows × 7 columns</p>\n",
       "</div>"
      ],
      "text/plain": [
       "             lat        lon  bedrooms  bathrooms  surface_total         price  \\\n",
       "0       3.439000 -76.541000      12.0        6.0          202.0  5.000000e+08   \n",
       "2       3.566000 -76.550000       6.0        2.0         2500.0  1.400000e+08   \n",
       "3       4.736000 -75.896000       8.0        5.0        45000.0  8.000000e+08   \n",
       "4       3.661000 -76.576000       6.0        6.0          650.0  2.900000e+08   \n",
       "5       6.238877 -75.600494       7.0        4.0          290.0  0.000000e+00   \n",
       "...          ...        ...       ...        ...            ...           ...   \n",
       "937780  7.869000 -72.465000       5.0        7.0         1000.0  3.500000e+09   \n",
       "937781  7.873000 -72.464000       5.0        7.0         1262.0  1.500000e+09   \n",
       "937782  7.844000 -72.467000       5.0        7.0          344.0  1.100000e+09   \n",
       "937783  7.855000 -72.464000       7.0        7.0          500.0  8.500000e+08   \n",
       "937784  4.153000 -74.715000       6.0        7.0        10000.0  1.000000e+09   \n",
       "\n",
       "       property_type  \n",
       "0               Casa  \n",
       "2               Casa  \n",
       "3               Casa  \n",
       "4               Casa  \n",
       "5               Otro  \n",
       "...              ...  \n",
       "937780          Casa  \n",
       "937781          Casa  \n",
       "937782          Casa  \n",
       "937783          Casa  \n",
       "937784          Otro  \n",
       "\n",
       "[613054 rows x 7 columns]"
      ]
     },
     "execution_count": 7,
     "metadata": {},
     "output_type": "execute_result"
    }
   ],
   "source": [
    "df"
   ]
  },
  {
   "cell_type": "markdown",
   "metadata": {
    "colab_type": "text",
    "id": "6oX3GfCmnDMJ"
   },
   "source": [
    "## Machine Learning - Initial Model"
   ]
  },
  {
   "cell_type": "code",
   "execution_count": 8,
   "metadata": {
    "colab": {},
    "colab_type": "code",
    "id": "o4NLXP9qnDMK"
   },
   "outputs": [],
   "source": [
    "X_df = df_train.drop('price', axis=1).copy()\n",
    "Y_df = df_train['price'].copy()"
   ]
  },
  {
   "cell_type": "code",
   "execution_count": 9,
   "metadata": {
    "colab": {},
    "colab_type": "code",
    "id": "vpvO2oN9nDMN"
   },
   "outputs": [],
   "source": [
    "from sklearn.model_selection import train_test_split"
   ]
  },
  {
   "cell_type": "code",
   "execution_count": 10,
   "metadata": {
    "colab": {},
    "colab_type": "code",
    "id": "4CG8xM85nDMR"
   },
   "outputs": [],
   "source": [
    "X_train_or, X_test_or, Y_train_or, Y_test_or = train_test_split(\n",
    "    X_df, Y_df, test_size=0.2, random_state=5000)"
   ]
  },
  {
   "cell_type": "code",
   "execution_count": 11,
   "metadata": {
    "colab": {},
    "colab_type": "code",
    "id": "sarIj-WynDMU"
   },
   "outputs": [],
   "source": [
    "# Para eliminar SettingWithCopyWarning\n",
    "\n",
    "X_train = X_train_or.copy()\n",
    "X_test = X_test_or.copy()\n",
    "Y_train = Y_train_or.copy()\n",
    "Y_test = Y_test_or.copy()"
   ]
  },
  {
   "cell_type": "code",
   "execution_count": 12,
   "metadata": {
    "colab": {},
    "colab_type": "code",
    "id": "H41yPQZJnDMX"
   },
   "outputs": [],
   "source": [
    "from sklearn.preprocessing import (PowerTransformer, StandardScaler, \n",
    "                                   MinMaxScaler, LabelEncoder, OneHotEncoder)"
   ]
  },
  {
   "cell_type": "markdown",
   "metadata": {
    "colab_type": "text",
    "id": "XYxFQQdnnDMg"
   },
   "source": [
    "### Power Transformer Labels (Box-Cox)\n",
    "\n",
    "Normalize and reduce scale"
   ]
  },
  {
   "cell_type": "code",
   "execution_count": 13,
   "metadata": {
    "colab": {
     "base_uri": "https://localhost:8080/",
     "height": 198
    },
    "colab_type": "code",
    "id": "RA7ERD9anDMh",
    "outputId": "d6e0d96c-a25e-46b6-e5e0-8a2f6f2a19dd"
   },
   "outputs": [
    {
     "data": {
      "text/html": [
       "<div>\n",
       "<style scoped>\n",
       "    .dataframe tbody tr th:only-of-type {\n",
       "        vertical-align: middle;\n",
       "    }\n",
       "\n",
       "    .dataframe tbody tr th {\n",
       "        vertical-align: top;\n",
       "    }\n",
       "\n",
       "    .dataframe thead th {\n",
       "        text-align: right;\n",
       "    }\n",
       "</style>\n",
       "<table border=\"1\" class=\"dataframe\">\n",
       "  <thead>\n",
       "    <tr style=\"text-align: right;\">\n",
       "      <th></th>\n",
       "      <th>lat</th>\n",
       "      <th>lon</th>\n",
       "      <th>bedrooms</th>\n",
       "      <th>bathrooms</th>\n",
       "      <th>surface_total</th>\n",
       "      <th>property_type</th>\n",
       "    </tr>\n",
       "  </thead>\n",
       "  <tbody>\n",
       "    <tr>\n",
       "      <td>20891</td>\n",
       "      <td>10.520541</td>\n",
       "      <td>-75.459302</td>\n",
       "      <td>NaN</td>\n",
       "      <td>2.0</td>\n",
       "      <td>-1.121563</td>\n",
       "      <td>Apartamento</td>\n",
       "    </tr>\n",
       "    <tr>\n",
       "      <td>721130</td>\n",
       "      <td>6.221462</td>\n",
       "      <td>-75.574342</td>\n",
       "      <td>NaN</td>\n",
       "      <td>NaN</td>\n",
       "      <td>2.368462</td>\n",
       "      <td>Lote</td>\n",
       "    </tr>\n",
       "    <tr>\n",
       "      <td>323198</td>\n",
       "      <td>4.109000</td>\n",
       "      <td>-73.632004</td>\n",
       "      <td>3.0</td>\n",
       "      <td>2.0</td>\n",
       "      <td>-0.977095</td>\n",
       "      <td>Apartamento</td>\n",
       "    </tr>\n",
       "    <tr>\n",
       "      <td>262458</td>\n",
       "      <td>1.214098</td>\n",
       "      <td>-77.284714</td>\n",
       "      <td>3.0</td>\n",
       "      <td>2.0</td>\n",
       "      <td>-0.332522</td>\n",
       "      <td>Apartamento</td>\n",
       "    </tr>\n",
       "    <tr>\n",
       "      <td>608336</td>\n",
       "      <td>10.434000</td>\n",
       "      <td>-75.533997</td>\n",
       "      <td>3.0</td>\n",
       "      <td>2.0</td>\n",
       "      <td>-1.121563</td>\n",
       "      <td>Apartamento</td>\n",
       "    </tr>\n",
       "  </tbody>\n",
       "</table>\n",
       "</div>"
      ],
      "text/plain": [
       "              lat        lon  bedrooms  bathrooms  surface_total property_type\n",
       "20891   10.520541 -75.459302       NaN        2.0      -1.121563   Apartamento\n",
       "721130   6.221462 -75.574342       NaN        NaN       2.368462          Lote\n",
       "323198   4.109000 -73.632004       3.0        2.0      -0.977095   Apartamento\n",
       "262458   1.214098 -77.284714       3.0        2.0      -0.332522   Apartamento\n",
       "608336  10.434000 -75.533997       3.0        2.0      -1.121563   Apartamento"
      ]
     },
     "execution_count": 13,
     "metadata": {},
     "output_type": "execute_result"
    }
   ],
   "source": [
    "box_cox = PowerTransformer(method='box-cox') # Box-Cox object instance\n",
    "box_cox.fit(X_train[\"surface_total\"].values.reshape(-1,1)) # Box-Cox, array 2 dimensions\n",
    "X_train.loc[:,\"surface_total\"] = box_cox.transform(X_train[\"surface_total\"].values.reshape(-1,1)) # Transformamos el array\n",
    "X_train.head()"
   ]
  },
  {
   "cell_type": "markdown",
   "metadata": {
    "colab_type": "text",
    "id": "Gf-a5hWQnDMr"
   },
   "source": [
    "### Standard Scaler\n",
    "El Standard Scaler sirve para centrar una distribución en 0 y que tenga desviación estándar unitaria.\n",
    "\n",
    " $$\\mathbf{Z} = \\frac{\\mathbf{X} - \\mathbf{\\mu}}{\\mathbf{\\sigma}}$$\n"
   ]
  },
  {
   "cell_type": "code",
   "execution_count": 14,
   "metadata": {
    "colab": {
     "base_uri": "https://localhost:8080/",
     "height": 235
    },
    "colab_type": "code",
    "id": "EL0C-avKnDMs",
    "outputId": "daf199fc-69c5-4f6d-8cf6-a47114712954"
   },
   "outputs": [
    {
     "name": "stdout",
     "output_type": "stream",
     "text": [
      "Classes:  ['Apartamento' 'Lote' 'Casa' 'Otro' 'Finca' 'Local comercial' 'Depósito'\n",
      " 'Oficina' 'Parqueadero']\n"
     ]
    },
    {
     "data": {
      "text/html": [
       "<div>\n",
       "<style scoped>\n",
       "    .dataframe tbody tr th:only-of-type {\n",
       "        vertical-align: middle;\n",
       "    }\n",
       "\n",
       "    .dataframe tbody tr th {\n",
       "        vertical-align: top;\n",
       "    }\n",
       "\n",
       "    .dataframe thead th {\n",
       "        text-align: right;\n",
       "    }\n",
       "</style>\n",
       "<table border=\"1\" class=\"dataframe\">\n",
       "  <thead>\n",
       "    <tr style=\"text-align: right;\">\n",
       "      <th></th>\n",
       "      <th>lat</th>\n",
       "      <th>lon</th>\n",
       "      <th>bedrooms</th>\n",
       "      <th>bathrooms</th>\n",
       "      <th>surface_total</th>\n",
       "      <th>property_type</th>\n",
       "    </tr>\n",
       "  </thead>\n",
       "  <tbody>\n",
       "    <tr>\n",
       "      <td>20891</td>\n",
       "      <td>10.520541</td>\n",
       "      <td>-75.459302</td>\n",
       "      <td>NaN</td>\n",
       "      <td>2.0</td>\n",
       "      <td>-1.121563</td>\n",
       "      <td>Apartamento</td>\n",
       "    </tr>\n",
       "    <tr>\n",
       "      <td>721130</td>\n",
       "      <td>6.221462</td>\n",
       "      <td>-75.574342</td>\n",
       "      <td>NaN</td>\n",
       "      <td>NaN</td>\n",
       "      <td>2.368462</td>\n",
       "      <td>Lote</td>\n",
       "    </tr>\n",
       "    <tr>\n",
       "      <td>323198</td>\n",
       "      <td>4.109000</td>\n",
       "      <td>-73.632004</td>\n",
       "      <td>3.0</td>\n",
       "      <td>2.0</td>\n",
       "      <td>-0.977095</td>\n",
       "      <td>Apartamento</td>\n",
       "    </tr>\n",
       "    <tr>\n",
       "      <td>262458</td>\n",
       "      <td>1.214098</td>\n",
       "      <td>-77.284714</td>\n",
       "      <td>3.0</td>\n",
       "      <td>2.0</td>\n",
       "      <td>-0.332522</td>\n",
       "      <td>Apartamento</td>\n",
       "    </tr>\n",
       "    <tr>\n",
       "      <td>608336</td>\n",
       "      <td>10.434000</td>\n",
       "      <td>-75.533997</td>\n",
       "      <td>3.0</td>\n",
       "      <td>2.0</td>\n",
       "      <td>-1.121563</td>\n",
       "      <td>Apartamento</td>\n",
       "    </tr>\n",
       "  </tbody>\n",
       "</table>\n",
       "</div>"
      ],
      "text/plain": [
       "              lat        lon  bedrooms  bathrooms  surface_total property_type\n",
       "20891   10.520541 -75.459302       NaN        2.0      -1.121563   Apartamento\n",
       "721130   6.221462 -75.574342       NaN        NaN       2.368462          Lote\n",
       "323198   4.109000 -73.632004       3.0        2.0      -0.977095   Apartamento\n",
       "262458   1.214098 -77.284714       3.0        2.0      -0.332522   Apartamento\n",
       "608336  10.434000 -75.533997       3.0        2.0      -1.121563   Apartamento"
      ]
     },
     "execution_count": 14,
     "metadata": {},
     "output_type": "execute_result"
    }
   ],
   "source": [
    "# Categorical Class\n",
    "\n",
    "print(\"Classes: \", X_train['property_type'].unique())\n",
    "X_train.head()"
   ]
  },
  {
   "cell_type": "code",
   "execution_count": 15,
   "metadata": {
    "colab": {},
    "colab_type": "code",
    "id": "i8zKj42wnDMw"
   },
   "outputs": [],
   "source": [
    "le_proper_type = LabelEncoder()\n",
    "le_proper_type.fit(X_train['property_type'])\n",
    "X_train['property_type'] = le_proper_type.transform(X_train['property_type'])"
   ]
  },
  {
   "cell_type": "code",
   "execution_count": 16,
   "metadata": {
    "colab": {},
    "colab_type": "code",
    "id": "vn7yK53WnDMz"
   },
   "outputs": [
    {
     "name": "stderr",
     "output_type": "stream",
     "text": [
      "C:\\Users\\OMAR\\Anaconda3\\lib\\site-packages\\sklearn\\preprocessing\\_encoders.py:415: FutureWarning: The handling of integer data will change in version 0.22. Currently, the categories are determined based on the range [0, max(values)], while in the future they will be determined based on the unique values.\n",
      "If you want the future behaviour and silence this warning, you can specify \"categories='auto'\".\n",
      "In case you used a LabelEncoder before this OneHotEncoder to convert the categories to integers, then you can now use the OneHotEncoder directly.\n",
      "  warnings.warn(msg, FutureWarning)\n"
     ]
    }
   ],
   "source": [
    "ohe_proper_type = OneHotEncoder()\n",
    "ohe_proper_type.fit(X_train[\"property_type\"].values[:,None])\n",
    "out = ohe_proper_type.transform(X_train[\"property_type\"].values[:,None]) \n",
    "out_array = out.toarray()\n",
    "ohe_cols_op = []\n",
    "for category in ohe_proper_type.categories_[0]:\n",
    "    current_class = le_proper_type.classes_[int(category)]\n",
    "    col_add = \"op_\" + current_class\n",
    "    ohe_cols_op.append(col_add)\n",
    "    X_train[col_add] = out_array[:,int(category)]\n",
    "\n",
    "X_train = X_train.drop(\"property_type\", axis =1)"
   ]
  },
  {
   "cell_type": "markdown",
   "metadata": {
    "colab_type": "text",
    "id": "OGpBNrhAnDM7"
   },
   "source": [
    "### Tratamiento de datos faltantes o NaN"
   ]
  },
  {
   "cell_type": "code",
   "execution_count": 17,
   "metadata": {
    "colab": {},
    "colab_type": "code",
    "id": "DSMMWE0pnDM8"
   },
   "outputs": [],
   "source": [
    "from sklearn.impute import SimpleImputer"
   ]
  },
  {
   "cell_type": "code",
   "execution_count": 18,
   "metadata": {
    "colab": {},
    "colab_type": "code",
    "id": "yl0Q_7xmnDNA"
   },
   "outputs": [],
   "source": [
    "# Using Simple Imputer\n",
    "\n",
    "si_bedrooms = SimpleImputer(strategy='mean')\n",
    "si_bedrooms.fit(X_train[\"bedrooms\"].values[:,None])\n",
    "X_train[\"bedrooms\"] = si_bedrooms.transform(X_train[\"bedrooms\"].values[:,None])\n",
    "\n",
    "si_lat = SimpleImputer(strategy='mean')\n",
    "si_lat.fit(X_train[\"lat\"].values[:,None])\n",
    "X_train[\"lat\"] = si_lat.transform(X_train[\"lat\"].values[:,None])\n",
    "\n",
    "si_lon = SimpleImputer(strategy='mean')\n",
    "si_lon.fit(X_train[\"lon\"].values[:,None])\n",
    "X_train[\"lon\"] = si_lon.transform(X_train[\"lon\"].values[:,None])\n",
    "\n",
    "si_bath = SimpleImputer(strategy='mean')\n",
    "si_bath.fit(X_train[\"bathrooms\"].values[:,None])\n",
    "X_train[\"bathrooms\"] = si_bath.transform(X_train[\"bathrooms\"].values[:,None])"
   ]
  },
  {
   "cell_type": "code",
   "execution_count": 19,
   "metadata": {
    "colab": {
     "base_uri": "https://localhost:8080/",
     "height": 235
    },
    "colab_type": "code",
    "id": "qvXbbN-2nDNC",
    "outputId": "4a81d42f-a500-4ad3-ec59-b0d73b027da5",
    "scrolled": true
   },
   "outputs": [
    {
     "data": {
      "text/html": [
       "<div>\n",
       "<style scoped>\n",
       "    .dataframe tbody tr th:only-of-type {\n",
       "        vertical-align: middle;\n",
       "    }\n",
       "\n",
       "    .dataframe tbody tr th {\n",
       "        vertical-align: top;\n",
       "    }\n",
       "\n",
       "    .dataframe thead th {\n",
       "        text-align: right;\n",
       "    }\n",
       "</style>\n",
       "<table border=\"1\" class=\"dataframe\">\n",
       "  <thead>\n",
       "    <tr style=\"text-align: right;\">\n",
       "      <th></th>\n",
       "      <th>lat</th>\n",
       "      <th>lon</th>\n",
       "      <th>bedrooms</th>\n",
       "      <th>bathrooms</th>\n",
       "      <th>surface_total</th>\n",
       "      <th>op_Apartamento</th>\n",
       "      <th>op_Casa</th>\n",
       "      <th>op_Depósito</th>\n",
       "      <th>op_Finca</th>\n",
       "      <th>op_Local comercial</th>\n",
       "      <th>op_Lote</th>\n",
       "      <th>op_Oficina</th>\n",
       "      <th>op_Otro</th>\n",
       "      <th>op_Parqueadero</th>\n",
       "    </tr>\n",
       "  </thead>\n",
       "  <tbody>\n",
       "    <tr>\n",
       "      <td>20891</td>\n",
       "      <td>10.520541</td>\n",
       "      <td>-75.459302</td>\n",
       "      <td>-1.054210e-16</td>\n",
       "      <td>-0.644547</td>\n",
       "      <td>-1.121563</td>\n",
       "      <td>1.0</td>\n",
       "      <td>0.0</td>\n",
       "      <td>0.0</td>\n",
       "      <td>0.0</td>\n",
       "      <td>0.0</td>\n",
       "      <td>0.0</td>\n",
       "      <td>0.0</td>\n",
       "      <td>0.0</td>\n",
       "      <td>0.0</td>\n",
       "    </tr>\n",
       "    <tr>\n",
       "      <td>721130</td>\n",
       "      <td>6.221462</td>\n",
       "      <td>-75.574342</td>\n",
       "      <td>-1.054210e-16</td>\n",
       "      <td>0.000000</td>\n",
       "      <td>2.368462</td>\n",
       "      <td>0.0</td>\n",
       "      <td>0.0</td>\n",
       "      <td>0.0</td>\n",
       "      <td>0.0</td>\n",
       "      <td>0.0</td>\n",
       "      <td>1.0</td>\n",
       "      <td>0.0</td>\n",
       "      <td>0.0</td>\n",
       "      <td>0.0</td>\n",
       "    </tr>\n",
       "    <tr>\n",
       "      <td>323198</td>\n",
       "      <td>4.109000</td>\n",
       "      <td>-73.632004</td>\n",
       "      <td>-1.141283e-01</td>\n",
       "      <td>-0.644547</td>\n",
       "      <td>-0.977095</td>\n",
       "      <td>1.0</td>\n",
       "      <td>0.0</td>\n",
       "      <td>0.0</td>\n",
       "      <td>0.0</td>\n",
       "      <td>0.0</td>\n",
       "      <td>0.0</td>\n",
       "      <td>0.0</td>\n",
       "      <td>0.0</td>\n",
       "      <td>0.0</td>\n",
       "    </tr>\n",
       "    <tr>\n",
       "      <td>262458</td>\n",
       "      <td>1.214098</td>\n",
       "      <td>-77.284714</td>\n",
       "      <td>-1.141283e-01</td>\n",
       "      <td>-0.644547</td>\n",
       "      <td>-0.332522</td>\n",
       "      <td>1.0</td>\n",
       "      <td>0.0</td>\n",
       "      <td>0.0</td>\n",
       "      <td>0.0</td>\n",
       "      <td>0.0</td>\n",
       "      <td>0.0</td>\n",
       "      <td>0.0</td>\n",
       "      <td>0.0</td>\n",
       "      <td>0.0</td>\n",
       "    </tr>\n",
       "    <tr>\n",
       "      <td>608336</td>\n",
       "      <td>10.434000</td>\n",
       "      <td>-75.533997</td>\n",
       "      <td>-1.141283e-01</td>\n",
       "      <td>-0.644547</td>\n",
       "      <td>-1.121563</td>\n",
       "      <td>1.0</td>\n",
       "      <td>0.0</td>\n",
       "      <td>0.0</td>\n",
       "      <td>0.0</td>\n",
       "      <td>0.0</td>\n",
       "      <td>0.0</td>\n",
       "      <td>0.0</td>\n",
       "      <td>0.0</td>\n",
       "      <td>0.0</td>\n",
       "    </tr>\n",
       "  </tbody>\n",
       "</table>\n",
       "</div>"
      ],
      "text/plain": [
       "              lat        lon      bedrooms  bathrooms  surface_total  \\\n",
       "20891   10.520541 -75.459302 -1.054210e-16  -0.644547      -1.121563   \n",
       "721130   6.221462 -75.574342 -1.054210e-16   0.000000       2.368462   \n",
       "323198   4.109000 -73.632004 -1.141283e-01  -0.644547      -0.977095   \n",
       "262458   1.214098 -77.284714 -1.141283e-01  -0.644547      -0.332522   \n",
       "608336  10.434000 -75.533997 -1.141283e-01  -0.644547      -1.121563   \n",
       "\n",
       "        op_Apartamento  op_Casa  op_Depósito  op_Finca  op_Local comercial  \\\n",
       "20891              1.0      0.0          0.0       0.0                 0.0   \n",
       "721130             0.0      0.0          0.0       0.0                 0.0   \n",
       "323198             1.0      0.0          0.0       0.0                 0.0   \n",
       "262458             1.0      0.0          0.0       0.0                 0.0   \n",
       "608336             1.0      0.0          0.0       0.0                 0.0   \n",
       "\n",
       "        op_Lote  op_Oficina  op_Otro  op_Parqueadero  \n",
       "20891       0.0         0.0      0.0             0.0  \n",
       "721130      1.0         0.0      0.0             0.0  \n",
       "323198      0.0         0.0      0.0             0.0  \n",
       "262458      0.0         0.0      0.0             0.0  \n",
       "608336      0.0         0.0      0.0             0.0  "
      ]
     },
     "execution_count": 19,
     "metadata": {},
     "output_type": "execute_result"
    }
   ],
   "source": [
    "#Otras transformaciones\n",
    "cols2scale = ['bedrooms', 'bathrooms']\n",
    "se_cols2scale = StandardScaler()\n",
    "se_cols2scale.fit(X_train[cols2scale])\n",
    "X_train[cols2scale] = se_cols2scale.transform(X_train[cols2scale])\n",
    "X_train.head()"
   ]
  },
  {
   "cell_type": "code",
   "execution_count": 20,
   "metadata": {
    "colab": {},
    "colab_type": "code",
    "id": "jJqmtLw0nDNE"
   },
   "outputs": [],
   "source": [
    "X_test['surface_total'] = box_cox.transform(X_test['surface_total'].values[:,None])\n"
   ]
  },
  {
   "cell_type": "code",
   "execution_count": 21,
   "metadata": {
    "colab": {},
    "colab_type": "code",
    "id": "Tzhsfv9gnDNH"
   },
   "outputs": [],
   "source": [
    "X_test['property_type'] = le_proper_type.transform(X_test['property_type'])"
   ]
  },
  {
   "cell_type": "code",
   "execution_count": 22,
   "metadata": {
    "colab": {},
    "colab_type": "code",
    "id": "P5dhAGxMnDNK"
   },
   "outputs": [],
   "source": [
    "temp_test = ohe_proper_type.transform(X_test[\"property_type\"].values[:,None]).toarray()\n",
    "for idx, col in enumerate(ohe_cols_op):\n",
    "    X_test[col] = temp_test[:,idx]\n",
    "\n",
    "X_test = X_test.drop(\"property_type\", axis=1)"
   ]
  },
  {
   "cell_type": "code",
   "execution_count": 23,
   "metadata": {
    "colab": {},
    "colab_type": "code",
    "id": "wC6Uv-LAnDNO"
   },
   "outputs": [],
   "source": [
    "X_test['bedrooms'] = si_bedrooms.transform(X_test[\"bedrooms\"].values[:,None])\n",
    "X_test['lat'] = si_lat.transform(X_test['lat'].values[:, None])\n",
    "X_test['lon'] = si_lon.transform(X_test['lon'].values[:, None])\n",
    "X_test['bathrooms'] = si_bath.transform(X_test['bathrooms'].values[:,None])"
   ]
  },
  {
   "cell_type": "code",
   "execution_count": 24,
   "metadata": {
    "colab": {},
    "colab_type": "code",
    "id": "-6M_4BYsnDNR"
   },
   "outputs": [],
   "source": [
    "X_test[cols2scale] = se_cols2scale.transform(X_test[cols2scale])"
   ]
  },
  {
   "cell_type": "code",
   "execution_count": 25,
   "metadata": {
    "colab": {},
    "colab_type": "code",
    "id": "JdU2FI8AnDNV"
   },
   "outputs": [],
   "source": [
    "assert (X_test.columns.values == X_train.columns.values).all()"
   ]
  },
  {
   "cell_type": "code",
   "execution_count": 26,
   "metadata": {
    "colab": {
     "base_uri": "https://localhost:8080/",
     "height": 445
    },
    "colab_type": "code",
    "id": "rBmAwltYnDNY",
    "outputId": "01c0fc06-5e1b-48e1-d3e7-e5da6a89276a",
    "scrolled": true
   },
   "outputs": [
    {
     "data": {
      "text/html": [
       "<div>\n",
       "<style scoped>\n",
       "    .dataframe tbody tr th:only-of-type {\n",
       "        vertical-align: middle;\n",
       "    }\n",
       "\n",
       "    .dataframe tbody tr th {\n",
       "        vertical-align: top;\n",
       "    }\n",
       "\n",
       "    .dataframe thead th {\n",
       "        text-align: right;\n",
       "    }\n",
       "</style>\n",
       "<table border=\"1\" class=\"dataframe\">\n",
       "  <thead>\n",
       "    <tr style=\"text-align: right;\">\n",
       "      <th></th>\n",
       "      <th>lat</th>\n",
       "      <th>lon</th>\n",
       "      <th>bedrooms</th>\n",
       "      <th>bathrooms</th>\n",
       "      <th>surface_total</th>\n",
       "      <th>op_Apartamento</th>\n",
       "      <th>op_Casa</th>\n",
       "      <th>op_Depósito</th>\n",
       "      <th>op_Finca</th>\n",
       "      <th>op_Local comercial</th>\n",
       "      <th>op_Lote</th>\n",
       "      <th>op_Oficina</th>\n",
       "      <th>op_Otro</th>\n",
       "      <th>op_Parqueadero</th>\n",
       "    </tr>\n",
       "  </thead>\n",
       "  <tbody>\n",
       "    <tr>\n",
       "      <td>600077</td>\n",
       "      <td>4.695000</td>\n",
       "      <td>-74.065000</td>\n",
       "      <td>-1.141283e-01</td>\n",
       "      <td>-0.644547</td>\n",
       "      <td>-0.622408</td>\n",
       "      <td>1.0</td>\n",
       "      <td>0.0</td>\n",
       "      <td>0.0</td>\n",
       "      <td>0.0</td>\n",
       "      <td>0.0</td>\n",
       "      <td>0.0</td>\n",
       "      <td>0.0</td>\n",
       "      <td>0.0</td>\n",
       "      <td>0.0</td>\n",
       "    </tr>\n",
       "    <tr>\n",
       "      <td>474616</td>\n",
       "      <td>5.051308</td>\n",
       "      <td>-75.498328</td>\n",
       "      <td>8.354200e-01</td>\n",
       "      <td>-0.644547</td>\n",
       "      <td>-0.075920</td>\n",
       "      <td>0.0</td>\n",
       "      <td>1.0</td>\n",
       "      <td>0.0</td>\n",
       "      <td>0.0</td>\n",
       "      <td>0.0</td>\n",
       "      <td>0.0</td>\n",
       "      <td>0.0</td>\n",
       "      <td>0.0</td>\n",
       "      <td>0.0</td>\n",
       "    </tr>\n",
       "    <tr>\n",
       "      <td>891871</td>\n",
       "      <td>5.996558</td>\n",
       "      <td>-74.959800</td>\n",
       "      <td>8.354200e-01</td>\n",
       "      <td>4.355790</td>\n",
       "      <td>0.057304</td>\n",
       "      <td>0.0</td>\n",
       "      <td>1.0</td>\n",
       "      <td>0.0</td>\n",
       "      <td>0.0</td>\n",
       "      <td>0.0</td>\n",
       "      <td>0.0</td>\n",
       "      <td>0.0</td>\n",
       "      <td>0.0</td>\n",
       "      <td>0.0</td>\n",
       "    </tr>\n",
       "    <tr>\n",
       "      <td>718075</td>\n",
       "      <td>3.395000</td>\n",
       "      <td>-76.531000</td>\n",
       "      <td>3.606458e-01</td>\n",
       "      <td>1.498455</td>\n",
       "      <td>0.121964</td>\n",
       "      <td>0.0</td>\n",
       "      <td>1.0</td>\n",
       "      <td>0.0</td>\n",
       "      <td>0.0</td>\n",
       "      <td>0.0</td>\n",
       "      <td>0.0</td>\n",
       "      <td>0.0</td>\n",
       "      <td>0.0</td>\n",
       "      <td>0.0</td>\n",
       "    </tr>\n",
       "    <tr>\n",
       "      <td>315157</td>\n",
       "      <td>3.371071</td>\n",
       "      <td>-76.509701</td>\n",
       "      <td>-1.054210e-16</td>\n",
       "      <td>-0.644547</td>\n",
       "      <td>-1.071152</td>\n",
       "      <td>1.0</td>\n",
       "      <td>0.0</td>\n",
       "      <td>0.0</td>\n",
       "      <td>0.0</td>\n",
       "      <td>0.0</td>\n",
       "      <td>0.0</td>\n",
       "      <td>0.0</td>\n",
       "      <td>0.0</td>\n",
       "      <td>0.0</td>\n",
       "    </tr>\n",
       "    <tr>\n",
       "      <td>...</td>\n",
       "      <td>...</td>\n",
       "      <td>...</td>\n",
       "      <td>...</td>\n",
       "      <td>...</td>\n",
       "      <td>...</td>\n",
       "      <td>...</td>\n",
       "      <td>...</td>\n",
       "      <td>...</td>\n",
       "      <td>...</td>\n",
       "      <td>...</td>\n",
       "      <td>...</td>\n",
       "      <td>...</td>\n",
       "      <td>...</td>\n",
       "      <td>...</td>\n",
       "    </tr>\n",
       "    <tr>\n",
       "      <td>657254</td>\n",
       "      <td>6.244705</td>\n",
       "      <td>-75.601334</td>\n",
       "      <td>-1.141283e-01</td>\n",
       "      <td>-0.644547</td>\n",
       "      <td>-0.850546</td>\n",
       "      <td>0.0</td>\n",
       "      <td>1.0</td>\n",
       "      <td>0.0</td>\n",
       "      <td>0.0</td>\n",
       "      <td>0.0</td>\n",
       "      <td>0.0</td>\n",
       "      <td>0.0</td>\n",
       "      <td>0.0</td>\n",
       "      <td>0.0</td>\n",
       "    </tr>\n",
       "    <tr>\n",
       "      <td>3450</td>\n",
       "      <td>4.644000</td>\n",
       "      <td>-74.074997</td>\n",
       "      <td>1.232588e-01</td>\n",
       "      <td>-0.644547</td>\n",
       "      <td>0.643914</td>\n",
       "      <td>0.0</td>\n",
       "      <td>1.0</td>\n",
       "      <td>0.0</td>\n",
       "      <td>0.0</td>\n",
       "      <td>0.0</td>\n",
       "      <td>0.0</td>\n",
       "      <td>0.0</td>\n",
       "      <td>0.0</td>\n",
       "      <td>0.0</td>\n",
       "    </tr>\n",
       "    <tr>\n",
       "      <td>610777</td>\n",
       "      <td>4.684866</td>\n",
       "      <td>-74.125485</td>\n",
       "      <td>-1.054210e-16</td>\n",
       "      <td>2.212788</td>\n",
       "      <td>0.505177</td>\n",
       "      <td>0.0</td>\n",
       "      <td>0.0</td>\n",
       "      <td>0.0</td>\n",
       "      <td>0.0</td>\n",
       "      <td>0.0</td>\n",
       "      <td>0.0</td>\n",
       "      <td>1.0</td>\n",
       "      <td>0.0</td>\n",
       "      <td>0.0</td>\n",
       "    </tr>\n",
       "    <tr>\n",
       "      <td>10576</td>\n",
       "      <td>5.996558</td>\n",
       "      <td>-74.959800</td>\n",
       "      <td>-1.141283e-01</td>\n",
       "      <td>0.069787</td>\n",
       "      <td>-0.257707</td>\n",
       "      <td>1.0</td>\n",
       "      <td>0.0</td>\n",
       "      <td>0.0</td>\n",
       "      <td>0.0</td>\n",
       "      <td>0.0</td>\n",
       "      <td>0.0</td>\n",
       "      <td>0.0</td>\n",
       "      <td>0.0</td>\n",
       "      <td>0.0</td>\n",
       "    </tr>\n",
       "    <tr>\n",
       "      <td>498602</td>\n",
       "      <td>5.996558</td>\n",
       "      <td>-74.959800</td>\n",
       "      <td>-1.054210e-16</td>\n",
       "      <td>0.784121</td>\n",
       "      <td>0.256274</td>\n",
       "      <td>0.0</td>\n",
       "      <td>1.0</td>\n",
       "      <td>0.0</td>\n",
       "      <td>0.0</td>\n",
       "      <td>0.0</td>\n",
       "      <td>0.0</td>\n",
       "      <td>0.0</td>\n",
       "      <td>0.0</td>\n",
       "      <td>0.0</td>\n",
       "    </tr>\n",
       "  </tbody>\n",
       "</table>\n",
       "<p>67111 rows × 14 columns</p>\n",
       "</div>"
      ],
      "text/plain": [
       "             lat        lon      bedrooms  bathrooms  surface_total  \\\n",
       "600077  4.695000 -74.065000 -1.141283e-01  -0.644547      -0.622408   \n",
       "474616  5.051308 -75.498328  8.354200e-01  -0.644547      -0.075920   \n",
       "891871  5.996558 -74.959800  8.354200e-01   4.355790       0.057304   \n",
       "718075  3.395000 -76.531000  3.606458e-01   1.498455       0.121964   \n",
       "315157  3.371071 -76.509701 -1.054210e-16  -0.644547      -1.071152   \n",
       "...          ...        ...           ...        ...            ...   \n",
       "657254  6.244705 -75.601334 -1.141283e-01  -0.644547      -0.850546   \n",
       "3450    4.644000 -74.074997  1.232588e-01  -0.644547       0.643914   \n",
       "610777  4.684866 -74.125485 -1.054210e-16   2.212788       0.505177   \n",
       "10576   5.996558 -74.959800 -1.141283e-01   0.069787      -0.257707   \n",
       "498602  5.996558 -74.959800 -1.054210e-16   0.784121       0.256274   \n",
       "\n",
       "        op_Apartamento  op_Casa  op_Depósito  op_Finca  op_Local comercial  \\\n",
       "600077             1.0      0.0          0.0       0.0                 0.0   \n",
       "474616             0.0      1.0          0.0       0.0                 0.0   \n",
       "891871             0.0      1.0          0.0       0.0                 0.0   \n",
       "718075             0.0      1.0          0.0       0.0                 0.0   \n",
       "315157             1.0      0.0          0.0       0.0                 0.0   \n",
       "...                ...      ...          ...       ...                 ...   \n",
       "657254             0.0      1.0          0.0       0.0                 0.0   \n",
       "3450               0.0      1.0          0.0       0.0                 0.0   \n",
       "610777             0.0      0.0          0.0       0.0                 0.0   \n",
       "10576              1.0      0.0          0.0       0.0                 0.0   \n",
       "498602             0.0      1.0          0.0       0.0                 0.0   \n",
       "\n",
       "        op_Lote  op_Oficina  op_Otro  op_Parqueadero  \n",
       "600077      0.0         0.0      0.0             0.0  \n",
       "474616      0.0         0.0      0.0             0.0  \n",
       "891871      0.0         0.0      0.0             0.0  \n",
       "718075      0.0         0.0      0.0             0.0  \n",
       "315157      0.0         0.0      0.0             0.0  \n",
       "...         ...         ...      ...             ...  \n",
       "657254      0.0         0.0      0.0             0.0  \n",
       "3450        0.0         0.0      0.0             0.0  \n",
       "610777      0.0         1.0      0.0             0.0  \n",
       "10576       0.0         0.0      0.0             0.0  \n",
       "498602      0.0         0.0      0.0             0.0  \n",
       "\n",
       "[67111 rows x 14 columns]"
      ]
     },
     "execution_count": 26,
     "metadata": {},
     "output_type": "execute_result"
    }
   ],
   "source": [
    "X_test"
   ]
  },
  {
   "cell_type": "markdown",
   "metadata": {
    "colab_type": "text",
    "id": "jXT2biLlnDNa"
   },
   "source": [
    "## Using Regression"
   ]
  },
  {
   "cell_type": "code",
   "execution_count": 27,
   "metadata": {
    "colab": {
     "base_uri": "https://localhost:8080/",
     "height": 290
    },
    "colab_type": "code",
    "id": "P8uWX-XknDNb",
    "outputId": "9425b9ff-e73e-4ea4-9d84-d74640ce0407"
   },
   "outputs": [
    {
     "data": {
      "text/plain": [
       "BaggingRegressor(base_estimator=ExtraTreeRegressor(criterion='mse',\n",
       "                                                   max_depth=None,\n",
       "                                                   max_features='auto',\n",
       "                                                   max_leaf_nodes=None,\n",
       "                                                   min_impurity_decrease=0.0,\n",
       "                                                   min_impurity_split=None,\n",
       "                                                   min_samples_leaf=1,\n",
       "                                                   min_samples_split=2,\n",
       "                                                   min_weight_fraction_leaf=0.0,\n",
       "                                                   random_state=1000,\n",
       "                                                   splitter='best'),\n",
       "                 bootstrap=True, bootstrap_features=False, max_features=1.0,\n",
       "                 max_samples=1.0, n_estimators=40, n_jobs=None, oob_score=False,\n",
       "                 random_state=1000, verbose=0, warm_start=False)"
      ]
     },
     "execution_count": 27,
     "metadata": {},
     "output_type": "execute_result"
    }
   ],
   "source": [
    "from sklearn.ensemble import BaggingRegressor\n",
    "from sklearn.tree import ExtraTreeRegressor\n",
    "extra_tree = ExtraTreeRegressor(splitter = \"best\" ,random_state=1000)\n",
    "lin_reg = BaggingRegressor(extra_tree, random_state=1000, n_estimators=40)\n",
    "lin_reg.fit(X_train, Y_train)"
   ]
  },
  {
   "cell_type": "code",
   "execution_count": 28,
   "metadata": {
    "colab": {
     "base_uri": "https://localhost:8080/",
     "height": 72
    },
    "colab_type": "code",
    "id": "6NP1A_GCnDNe",
    "outputId": "a134b800-9753-49a7-b431-ccb436ad438e"
   },
   "outputs": [
    {
     "name": "stdout",
     "output_type": "stream",
     "text": [
      "Root Mean Square Error (RMSE)= 0.13\n",
      "Mean Absolute Error (MAE)= 0.22\n",
      "R^2 = 0.816\n"
     ]
    }
   ],
   "source": [
    "Y_test_estimate = lin_reg.predict(X_test)\n",
    "from sklearn.metrics import mean_squared_error, r2_score, mean_absolute_error\n",
    "rmse = mean_squared_error(Y_test, Y_test_estimate)\n",
    "print(\"Root Mean Square Error (RMSE)= {:.2f}\".format(rmse))\n",
    "mae = mean_absolute_error(Y_test, Y_test_estimate)\n",
    "print(\"Mean Absolute Error (MAE)= {:.2f}\".format(mae))\n",
    "r2 = r2_score(Y_test, Y_test_estimate)\n",
    "print(\"R^2 = {:.3f}\".format(r2))"
   ]
  },
  {
   "cell_type": "code",
   "execution_count": 29,
   "metadata": {},
   "outputs": [
    {
     "name": "stdout",
     "output_type": "stream",
     "text": [
      "Efectividad en la validacion :  [0.80001756 0.80016965 0.79337731 0.79759199 0.79441382] \n",
      " Promedio de Efectividad predicciones :  0.797\n"
     ]
    }
   ],
   "source": [
    "#### cross validation of model\n",
    "\n",
    "from sklearn.model_selection import  cross_val_score, KFold\n",
    "kfold = KFold(n_splits=5)\n",
    "results = cross_val_score(lin_reg, X_train, Y_train, cv=kfold)\n",
    "print(\"Efectividad en la validacion : \", results,\"\\n Promedio de Efectividad predicciones : \", round(np.mean(results), 3))"
   ]
  },
  {
   "cell_type": "code",
   "execution_count": 30,
   "metadata": {
    "colab": {
     "base_uri": "https://localhost:8080/",
     "height": 298
    },
    "colab_type": "code",
    "id": "XFMDqGfenDNw",
    "outputId": "a344d014-7443-43e1-b6fd-f8287fd4f539"
   },
   "outputs": [
    {
     "data": {
      "image/png": "[encoded data removed]",
      "text/plain": [
       "<Figure size 432x288 with 1 Axes>"
      ]
     },
     "metadata": {
      "needs_background": "light"
     },
     "output_type": "display_data"
    }
   ],
   "source": [
    "plt.scatter(Y_test, Y_test_estimate)\n",
    "plt.xlabel(\"Y_test\")\n",
    "plt.ylabel(\"Y_estimate\")\n",
    "plt.show()"
   ]
  }
 ],
 "metadata": {
  "colab": {
   "name": "regression.ipynb",
   "provenance": []
  },
  "kernelspec": {
   "display_name": "Python 3",
   "language": "python",
   "name": "python3"
  },
  "language_info": {
   "codemirror_mode": {
    "name": "ipython",
    "version": 3
   },
   "file_extension": ".py",
   "mimetype": "text/x-python",
   "name": "python",
   "nbconvert_exporter": "python",
   "pygments_lexer": "ipython3",
   "version": "3.7.4"
  }
 },
 "nbformat": 4,
 "nbformat_minor": 1
}
