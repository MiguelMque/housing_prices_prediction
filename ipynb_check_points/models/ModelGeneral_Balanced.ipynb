{
 "cells": [
  {
   "cell_type": "markdown",
   "metadata": {
    "colab_type": "text",
    "id": "fX_CcNMdnDKw"
   },
   "source": [
    "# Municipality Analysis"
   ]
  },
  {
   "cell_type": "code",
   "execution_count": 1,
   "metadata": {
    "colab": {},
    "colab_type": "code",
    "id": "lFSxC4xFnDK0"
   },
   "outputs": [],
   "source": [
    "#Cargando librerías\n",
    "import pandas as pd\n",
    "import numpy as np\n",
    "import matplotlib.pyplot as plt\n",
    "import seaborn as sns"
   ]
  },
  {
   "cell_type": "code",
   "execution_count": 2,
   "metadata": {
    "colab": {
     "base_uri": "https://localhost:8080/",
     "height": 165
    },
    "colab_type": "code",
    "id": "Ea8FjNbknDK6",
    "outputId": "632a942a-ae74-455d-eeba-c59df929fe97",
    "scrolled": false
   },
   "outputs": [
    {
     "name": "stderr",
     "output_type": "stream",
     "text": [
      "/home/localhost/miniconda3/lib/python3.7/site-packages/IPython/core/interactiveshell.py:3063: DtypeWarning: Columns (0) have mixed types.Specify dtype option on import or set low_memory=False.\n",
      "  interactivity=interactivity, compiler=compiler, result=result)\n"
     ]
    }
   ],
   "source": [
    "df = pd.read_csv('nutritive.csv')\n",
    "df.drop(columns=['Unnamed: 0'], inplace=True)"
   ]
  },
  {
   "cell_type": "code",
   "execution_count": 3,
   "metadata": {
    "scrolled": true
   },
   "outputs": [
    {
     "data": {
      "text/plain": [
       "array(['Casa', 'Otro', 'Lote', 'Finca', 'Oficina', 'Apartamento',\n",
       "       'Parqueadero', 'Local comercial', 'Depósito', nan], dtype=object)"
      ]
     },
     "execution_count": 3,
     "metadata": {},
     "output_type": "execute_result"
    }
   ],
   "source": [
    "df.property_type.unique()"
   ]
  },
  {
   "cell_type": "code",
   "execution_count": 4,
   "metadata": {},
   "outputs": [],
   "source": [
    "import re\n",
    "from unicodedata import normalize\n",
    "def cleanText(inputString):\n",
    "    return (re.sub(\n",
    "        r\"([^n\\u0300-\\u036f]|n(?!\\u0303(?![\\u0300-\\u036f])))[\\u0300-\\u036f]+\", r\"\\1\", \n",
    "        normalize( \"NFD\", inputString), 0, re.I\n",
    "    )).lower()\n",
    "\n",
    "def clean_l3(row):\n",
    "    row.l3 = cleanText(row.l3)\n",
    "    return row\n",
    "\n"
   ]
  },
  {
   "cell_type": "markdown",
   "metadata": {
    "colab_type": "text",
    "id": "7qM6Zg72nDLO"
   },
   "source": [
    "## Sell and Rent Counting"
   ]
  },
  {
   "cell_type": "code",
   "execution_count": 5,
   "metadata": {
    "colab": {},
    "colab_type": "code",
    "id": "tdHloB68nDLT"
   },
   "outputs": [
    {
     "data": {
      "text/plain": [
       "(613054, 25)"
      ]
     },
     "execution_count": 5,
     "metadata": {},
     "output_type": "execute_result"
    }
   ],
   "source": [
    "df = df.where(df['operation_type'] == 'Venta').dropna(subset=['operation_type'])\n",
    "df = df.apply(lambda x: clean_l3(x), axis=1)\n",
    "df.shape"
   ]
  },
  {
   "cell_type": "code",
   "execution_count": 6,
   "metadata": {
    "colab": {},
    "colab_type": "code",
    "id": "ZNeWLziZnDLq",
    "scrolled": true
   },
   "outputs": [],
   "source": [
    "df_train = df.copy()\n",
    "    \n",
    "df_train = df_train[df_train['price']<df_train['price'].quantile(0.99)]\n",
    "df_train = df_train[df_train['price'] > df_train['price'].quantile(0.1)]\n",
    "df_train = df_train[df_train['surface_total'] > 0]\n",
    "df_train = df_train[~np.isnan(df_train['price']) & df_train['price'] > 0]\n",
    "df_train = df_train[df_train['surface_total'] > 0]\n",
    "\n",
    "df_train['price'] = np.log(df_train['price'])"
   ]
  },
  {
   "cell_type": "code",
   "execution_count": 7,
   "metadata": {},
   "outputs": [],
   "source": [
    "df_final = df_train.copy()"
   ]
  },
  {
   "cell_type": "code",
   "execution_count": 8,
   "metadata": {
    "scrolled": true
   },
   "outputs": [],
   "source": [
    "n = 10 #First n most frequent municipalities\n",
    "series = df_train['l3'].value_counts()[:n]\n",
    "municipalities = list(series.index)\n",
    "freq = list(series)"
   ]
  },
  {
   "cell_type": "code",
   "execution_count": 9,
   "metadata": {},
   "outputs": [],
   "source": [
    "df_balanced = pd.DataFrame(columns=list(df_train.columns))"
   ]
  },
  {
   "cell_type": "code",
   "execution_count": 10,
   "metadata": {},
   "outputs": [],
   "source": [
    "#To make undersampling\n",
    "n_under = min(freq) #Undersampling min number\n",
    "df_final = df_train[df_train['l3'].isin(municipalities)]\n",
    "\n",
    "for x in municipalities:\n",
    "    temp_df = df_final[df_final['l3'] == x].sample(n = n_under, random_state=4)\n",
    "    df_balanced = pd.concat([df_balanced, temp_df], ignore_index=True)\n",
    "    "
   ]
  },
  {
   "cell_type": "code",
   "execution_count": 11,
   "metadata": {},
   "outputs": [],
   "source": [
    "df_balanced.drop(columns=['id',\"ad_type\",'start_date', 'start_date','created_on','end_date',\n",
    "                 'l1','l2', 'l3', 'l4','l6', 'l5', \n",
    "                 'rooms', 'price_period', 'surface_covered',\n",
    "                 'operation_type','currency', 'title', 'description'], inplace=True)"
   ]
  },
  {
   "cell_type": "code",
   "execution_count": 12,
   "metadata": {},
   "outputs": [],
   "source": [
    "df_train = df_balanced.copy()"
   ]
  },
  {
   "cell_type": "markdown",
   "metadata": {
    "colab_type": "text",
    "id": "6oX3GfCmnDMJ"
   },
   "source": [
    "## Machine Learning - Initial Model"
   ]
  },
  {
   "cell_type": "code",
   "execution_count": 13,
   "metadata": {
    "colab": {},
    "colab_type": "code",
    "id": "o4NLXP9qnDMK"
   },
   "outputs": [],
   "source": [
    "X_df = df_train.drop('price', axis=1).copy()\n",
    "Y_df = df_train['price'].copy()"
   ]
  },
  {
   "cell_type": "code",
   "execution_count": 14,
   "metadata": {
    "colab": {},
    "colab_type": "code",
    "id": "vpvO2oN9nDMN"
   },
   "outputs": [],
   "source": [
    "from sklearn.model_selection import train_test_split"
   ]
  },
  {
   "cell_type": "code",
   "execution_count": 15,
   "metadata": {
    "colab": {},
    "colab_type": "code",
    "id": "4CG8xM85nDMR"
   },
   "outputs": [],
   "source": [
    "X_train_or, X_test_or, Y_train_or, Y_test_or = train_test_split(\n",
    "    X_df, Y_df, test_size=0.2, random_state=5000)"
   ]
  },
  {
   "cell_type": "code",
   "execution_count": 16,
   "metadata": {
    "colab": {},
    "colab_type": "code",
    "id": "sarIj-WynDMU"
   },
   "outputs": [],
   "source": [
    "# Para eliminar SettingWithCopyWarning\n",
    "\n",
    "X_train = X_train_or.copy()\n",
    "X_test = X_test_or.copy()\n",
    "Y_train = Y_train_or.copy()\n",
    "Y_test = Y_test_or.copy()"
   ]
  },
  {
   "cell_type": "code",
   "execution_count": 17,
   "metadata": {
    "colab": {},
    "colab_type": "code",
    "id": "H41yPQZJnDMX"
   },
   "outputs": [],
   "source": [
    "from sklearn.preprocessing import (PowerTransformer, StandardScaler, \n",
    "                                   MinMaxScaler, LabelEncoder, OneHotEncoder)"
   ]
  },
  {
   "cell_type": "code",
   "execution_count": null,
   "metadata": {},
   "outputs": [],
   "source": []
  },
  {
   "cell_type": "markdown",
   "metadata": {
    "colab_type": "text",
    "id": "XYxFQQdnnDMg"
   },
   "source": [
    "### Power Transformer Labels (Box-Cox)\n",
    "\n",
    "Normalize and reduce scale"
   ]
  },
  {
   "cell_type": "code",
   "execution_count": 18,
   "metadata": {
    "colab": {
     "base_uri": "https://localhost:8080/",
     "height": 198
    },
    "colab_type": "code",
    "id": "RA7ERD9anDMh",
    "outputId": "d6e0d96c-a25e-46b6-e5e0-8a2f6f2a19dd"
   },
   "outputs": [
    {
     "data": {
      "text/html": [
       "<div>\n",
       "<style scoped>\n",
       "    .dataframe tbody tr th:only-of-type {\n",
       "        vertical-align: middle;\n",
       "    }\n",
       "\n",
       "    .dataframe tbody tr th {\n",
       "        vertical-align: top;\n",
       "    }\n",
       "\n",
       "    .dataframe thead th {\n",
       "        text-align: right;\n",
       "    }\n",
       "</style>\n",
       "<table border=\"1\" class=\"dataframe\">\n",
       "  <thead>\n",
       "    <tr style=\"text-align: right;\">\n",
       "      <th></th>\n",
       "      <th>lat</th>\n",
       "      <th>lon</th>\n",
       "      <th>bedrooms</th>\n",
       "      <th>bathrooms</th>\n",
       "      <th>surface_total</th>\n",
       "      <th>property_type</th>\n",
       "    </tr>\n",
       "  </thead>\n",
       "  <tbody>\n",
       "    <tr>\n",
       "      <th>64916</th>\n",
       "      <td>7.100000</td>\n",
       "      <td>-73.116997</td>\n",
       "      <td>5.0</td>\n",
       "      <td>2.0</td>\n",
       "      <td>0.190543</td>\n",
       "      <td>Apartamento</td>\n",
       "    </tr>\n",
       "    <tr>\n",
       "      <th>20641</th>\n",
       "      <td>11.023675</td>\n",
       "      <td>-74.860947</td>\n",
       "      <td>NaN</td>\n",
       "      <td>3.0</td>\n",
       "      <td>-0.092228</td>\n",
       "      <td>Casa</td>\n",
       "    </tr>\n",
       "    <tr>\n",
       "      <th>29793</th>\n",
       "      <td>5.072902</td>\n",
       "      <td>-75.523653</td>\n",
       "      <td>4.0</td>\n",
       "      <td>2.0</td>\n",
       "      <td>0.861274</td>\n",
       "      <td>Casa</td>\n",
       "    </tr>\n",
       "    <tr>\n",
       "      <th>45451</th>\n",
       "      <td>7.893000</td>\n",
       "      <td>-72.488000</td>\n",
       "      <td>2.0</td>\n",
       "      <td>2.0</td>\n",
       "      <td>-0.714284</td>\n",
       "      <td>Apartamento</td>\n",
       "    </tr>\n",
       "    <tr>\n",
       "      <th>62604</th>\n",
       "      <td>NaN</td>\n",
       "      <td>NaN</td>\n",
       "      <td>4.0</td>\n",
       "      <td>4.0</td>\n",
       "      <td>0.768529</td>\n",
       "      <td>Apartamento</td>\n",
       "    </tr>\n",
       "  </tbody>\n",
       "</table>\n",
       "</div>"
      ],
      "text/plain": [
       "             lat        lon  bedrooms  bathrooms  surface_total property_type\n",
       "64916   7.100000 -73.116997       5.0        2.0       0.190543   Apartamento\n",
       "20641  11.023675 -74.860947       NaN        3.0      -0.092228          Casa\n",
       "29793   5.072902 -75.523653       4.0        2.0       0.861274          Casa\n",
       "45451   7.893000 -72.488000       2.0        2.0      -0.714284   Apartamento\n",
       "62604        NaN        NaN       4.0        4.0       0.768529   Apartamento"
      ]
     },
     "execution_count": 18,
     "metadata": {},
     "output_type": "execute_result"
    }
   ],
   "source": [
    "box_cox = PowerTransformer(method='box-cox') # Box-Cox object instance\n",
    "box_cox.fit(X_train[\"surface_total\"].values.reshape(-1,1)) # Box-Cox, array 2 dimensions\n",
    "X_train.loc[:,\"surface_total\"] = box_cox.transform(X_train[\"surface_total\"].values.reshape(-1,1)) # Transformamos el array\n",
    "X_train.head()"
   ]
  },
  {
   "cell_type": "markdown",
   "metadata": {
    "colab_type": "text",
    "id": "Gf-a5hWQnDMr"
   },
   "source": [
    "### Standard Scaler\n",
    "El Standard Scaler sirve para centrar una distribución en 0 y que tenga desviación estándar unitaria.\n",
    "\n",
    " $$\\mathbf{Z} = \\frac{\\mathbf{X} - \\mathbf{\\mu}}{\\mathbf{\\sigma}}$$\n"
   ]
  },
  {
   "cell_type": "code",
   "execution_count": 19,
   "metadata": {
    "colab": {
     "base_uri": "https://localhost:8080/",
     "height": 235
    },
    "colab_type": "code",
    "id": "EL0C-avKnDMs",
    "outputId": "daf199fc-69c5-4f6d-8cf6-a47114712954"
   },
   "outputs": [
    {
     "name": "stdout",
     "output_type": "stream",
     "text": [
      "Classes:  ['Apartamento' 'Casa' 'Lote' 'Finca' 'Otro' 'Parqueadero' 'Oficina'\n",
      " 'Local comercial' 'Depósito']\n"
     ]
    },
    {
     "data": {
      "text/html": [
       "<div>\n",
       "<style scoped>\n",
       "    .dataframe tbody tr th:only-of-type {\n",
       "        vertical-align: middle;\n",
       "    }\n",
       "\n",
       "    .dataframe tbody tr th {\n",
       "        vertical-align: top;\n",
       "    }\n",
       "\n",
       "    .dataframe thead th {\n",
       "        text-align: right;\n",
       "    }\n",
       "</style>\n",
       "<table border=\"1\" class=\"dataframe\">\n",
       "  <thead>\n",
       "    <tr style=\"text-align: right;\">\n",
       "      <th></th>\n",
       "      <th>lat</th>\n",
       "      <th>lon</th>\n",
       "      <th>bedrooms</th>\n",
       "      <th>bathrooms</th>\n",
       "      <th>surface_total</th>\n",
       "      <th>property_type</th>\n",
       "    </tr>\n",
       "  </thead>\n",
       "  <tbody>\n",
       "    <tr>\n",
       "      <th>64916</th>\n",
       "      <td>7.100000</td>\n",
       "      <td>-73.116997</td>\n",
       "      <td>5.0</td>\n",
       "      <td>2.0</td>\n",
       "      <td>0.190543</td>\n",
       "      <td>Apartamento</td>\n",
       "    </tr>\n",
       "    <tr>\n",
       "      <th>20641</th>\n",
       "      <td>11.023675</td>\n",
       "      <td>-74.860947</td>\n",
       "      <td>NaN</td>\n",
       "      <td>3.0</td>\n",
       "      <td>-0.092228</td>\n",
       "      <td>Casa</td>\n",
       "    </tr>\n",
       "    <tr>\n",
       "      <th>29793</th>\n",
       "      <td>5.072902</td>\n",
       "      <td>-75.523653</td>\n",
       "      <td>4.0</td>\n",
       "      <td>2.0</td>\n",
       "      <td>0.861274</td>\n",
       "      <td>Casa</td>\n",
       "    </tr>\n",
       "    <tr>\n",
       "      <th>45451</th>\n",
       "      <td>7.893000</td>\n",
       "      <td>-72.488000</td>\n",
       "      <td>2.0</td>\n",
       "      <td>2.0</td>\n",
       "      <td>-0.714284</td>\n",
       "      <td>Apartamento</td>\n",
       "    </tr>\n",
       "    <tr>\n",
       "      <th>62604</th>\n",
       "      <td>NaN</td>\n",
       "      <td>NaN</td>\n",
       "      <td>4.0</td>\n",
       "      <td>4.0</td>\n",
       "      <td>0.768529</td>\n",
       "      <td>Apartamento</td>\n",
       "    </tr>\n",
       "  </tbody>\n",
       "</table>\n",
       "</div>"
      ],
      "text/plain": [
       "             lat        lon  bedrooms  bathrooms  surface_total property_type\n",
       "64916   7.100000 -73.116997       5.0        2.0       0.190543   Apartamento\n",
       "20641  11.023675 -74.860947       NaN        3.0      -0.092228          Casa\n",
       "29793   5.072902 -75.523653       4.0        2.0       0.861274          Casa\n",
       "45451   7.893000 -72.488000       2.0        2.0      -0.714284   Apartamento\n",
       "62604        NaN        NaN       4.0        4.0       0.768529   Apartamento"
      ]
     },
     "execution_count": 19,
     "metadata": {},
     "output_type": "execute_result"
    }
   ],
   "source": [
    "# Categorical Class\n",
    "\n",
    "print(\"Classes: \", X_train['property_type'].unique())\n",
    "X_train.head()"
   ]
  },
  {
   "cell_type": "code",
   "execution_count": 20,
   "metadata": {
    "colab": {},
    "colab_type": "code",
    "id": "i8zKj42wnDMw"
   },
   "outputs": [],
   "source": [
    "le_proper_type = LabelEncoder()\n",
    "le_proper_type.fit(X_train['property_type'])\n",
    "X_train['property_type'] = le_proper_type.transform(X_train['property_type'])"
   ]
  },
  {
   "cell_type": "code",
   "execution_count": 21,
   "metadata": {
    "colab": {},
    "colab_type": "code",
    "id": "vn7yK53WnDMz"
   },
   "outputs": [],
   "source": [
    "ohe_proper_type = OneHotEncoder()\n",
    "ohe_proper_type.fit(X_train[\"property_type\"].values[:,None])\n",
    "out = ohe_proper_type.transform(X_train[\"property_type\"].values[:,None]) \n",
    "out_array = out.toarray()\n",
    "ohe_cols_op = []\n",
    "for category in ohe_proper_type.categories_[0]:\n",
    "    current_class = le_proper_type.classes_[int(category)]\n",
    "    col_add = \"op_\" + current_class\n",
    "    ohe_cols_op.append(col_add)\n",
    "    X_train[col_add] = out_array[:,int(category)]\n",
    "\n",
    "X_train = X_train.drop(\"property_type\", axis =1)"
   ]
  },
  {
   "cell_type": "markdown",
   "metadata": {
    "colab_type": "text",
    "id": "OGpBNrhAnDM7"
   },
   "source": [
    "### Tratamiento de datos faltantes o NaN"
   ]
  },
  {
   "cell_type": "code",
   "execution_count": 22,
   "metadata": {
    "colab": {},
    "colab_type": "code",
    "id": "DSMMWE0pnDM8"
   },
   "outputs": [],
   "source": [
    "from sklearn.impute import SimpleImputer"
   ]
  },
  {
   "cell_type": "code",
   "execution_count": 23,
   "metadata": {
    "colab": {},
    "colab_type": "code",
    "id": "yl0Q_7xmnDNA"
   },
   "outputs": [],
   "source": [
    "# Using Simple Imputer\n",
    "\n",
    "si_bedrooms = SimpleImputer(strategy='mean')\n",
    "si_bedrooms.fit(X_train[\"bedrooms\"].values[:,None])\n",
    "X_train[\"bedrooms\"] = si_bedrooms.transform(X_train[\"bedrooms\"].values[:,None])\n",
    "\n",
    "si_lat = SimpleImputer(strategy='mean')\n",
    "si_lat.fit(X_train[\"lat\"].values[:,None])\n",
    "X_train[\"lat\"] = si_lat.transform(X_train[\"lat\"].values[:,None])\n",
    "\n",
    "si_lon = SimpleImputer(strategy='mean')\n",
    "si_lon.fit(X_train[\"lon\"].values[:,None])\n",
    "X_train[\"lon\"] = si_lon.transform(X_train[\"lon\"].values[:,None])\n",
    "\n",
    "si_bath = SimpleImputer(strategy='mean')\n",
    "si_bath.fit(X_train[\"bathrooms\"].values[:,None])\n",
    "X_train[\"bathrooms\"] = si_bath.transform(X_train[\"bathrooms\"].values[:,None])"
   ]
  },
  {
   "cell_type": "code",
   "execution_count": 24,
   "metadata": {
    "colab": {
     "base_uri": "https://localhost:8080/",
     "height": 235
    },
    "colab_type": "code",
    "id": "qvXbbN-2nDNC",
    "outputId": "4a81d42f-a500-4ad3-ec59-b0d73b027da5",
    "scrolled": true
   },
   "outputs": [
    {
     "data": {
      "text/html": [
       "<div>\n",
       "<style scoped>\n",
       "    .dataframe tbody tr th:only-of-type {\n",
       "        vertical-align: middle;\n",
       "    }\n",
       "\n",
       "    .dataframe tbody tr th {\n",
       "        vertical-align: top;\n",
       "    }\n",
       "\n",
       "    .dataframe thead th {\n",
       "        text-align: right;\n",
       "    }\n",
       "</style>\n",
       "<table border=\"1\" class=\"dataframe\">\n",
       "  <thead>\n",
       "    <tr style=\"text-align: right;\">\n",
       "      <th></th>\n",
       "      <th>lat</th>\n",
       "      <th>lon</th>\n",
       "      <th>bedrooms</th>\n",
       "      <th>bathrooms</th>\n",
       "      <th>surface_total</th>\n",
       "      <th>op_Apartamento</th>\n",
       "      <th>op_Casa</th>\n",
       "      <th>op_Depósito</th>\n",
       "      <th>op_Finca</th>\n",
       "      <th>op_Local comercial</th>\n",
       "      <th>op_Lote</th>\n",
       "      <th>op_Oficina</th>\n",
       "      <th>op_Otro</th>\n",
       "      <th>op_Parqueadero</th>\n",
       "    </tr>\n",
       "  </thead>\n",
       "  <tbody>\n",
       "    <tr>\n",
       "      <th>64916</th>\n",
       "      <td>7.100000</td>\n",
       "      <td>-73.116997</td>\n",
       "      <td>1.013676e+00</td>\n",
       "      <td>-0.605380</td>\n",
       "      <td>0.190543</td>\n",
       "      <td>1.0</td>\n",
       "      <td>0.0</td>\n",
       "      <td>0.0</td>\n",
       "      <td>0.0</td>\n",
       "      <td>0.0</td>\n",
       "      <td>0.0</td>\n",
       "      <td>0.0</td>\n",
       "      <td>0.0</td>\n",
       "      <td>0.0</td>\n",
       "    </tr>\n",
       "    <tr>\n",
       "      <th>20641</th>\n",
       "      <td>11.023675</td>\n",
       "      <td>-74.860947</td>\n",
       "      <td>5.776931e-16</td>\n",
       "      <td>0.134606</td>\n",
       "      <td>-0.092228</td>\n",
       "      <td>0.0</td>\n",
       "      <td>1.0</td>\n",
       "      <td>0.0</td>\n",
       "      <td>0.0</td>\n",
       "      <td>0.0</td>\n",
       "      <td>0.0</td>\n",
       "      <td>0.0</td>\n",
       "      <td>0.0</td>\n",
       "      <td>0.0</td>\n",
       "    </tr>\n",
       "    <tr>\n",
       "      <th>29793</th>\n",
       "      <td>5.072902</td>\n",
       "      <td>-75.523653</td>\n",
       "      <td>3.632511e-01</td>\n",
       "      <td>-0.605380</td>\n",
       "      <td>0.861274</td>\n",
       "      <td>0.0</td>\n",
       "      <td>1.0</td>\n",
       "      <td>0.0</td>\n",
       "      <td>0.0</td>\n",
       "      <td>0.0</td>\n",
       "      <td>0.0</td>\n",
       "      <td>0.0</td>\n",
       "      <td>0.0</td>\n",
       "      <td>0.0</td>\n",
       "    </tr>\n",
       "    <tr>\n",
       "      <th>45451</th>\n",
       "      <td>7.893000</td>\n",
       "      <td>-72.488000</td>\n",
       "      <td>-9.375981e-01</td>\n",
       "      <td>-0.605380</td>\n",
       "      <td>-0.714284</td>\n",
       "      <td>1.0</td>\n",
       "      <td>0.0</td>\n",
       "      <td>0.0</td>\n",
       "      <td>0.0</td>\n",
       "      <td>0.0</td>\n",
       "      <td>0.0</td>\n",
       "      <td>0.0</td>\n",
       "      <td>0.0</td>\n",
       "      <td>0.0</td>\n",
       "    </tr>\n",
       "    <tr>\n",
       "      <th>62604</th>\n",
       "      <td>6.747057</td>\n",
       "      <td>-74.861314</td>\n",
       "      <td>3.632511e-01</td>\n",
       "      <td>0.874593</td>\n",
       "      <td>0.768529</td>\n",
       "      <td>1.0</td>\n",
       "      <td>0.0</td>\n",
       "      <td>0.0</td>\n",
       "      <td>0.0</td>\n",
       "      <td>0.0</td>\n",
       "      <td>0.0</td>\n",
       "      <td>0.0</td>\n",
       "      <td>0.0</td>\n",
       "      <td>0.0</td>\n",
       "    </tr>\n",
       "  </tbody>\n",
       "</table>\n",
       "</div>"
      ],
      "text/plain": [
       "             lat        lon      bedrooms  bathrooms  surface_total  \\\n",
       "64916   7.100000 -73.116997  1.013676e+00  -0.605380       0.190543   \n",
       "20641  11.023675 -74.860947  5.776931e-16   0.134606      -0.092228   \n",
       "29793   5.072902 -75.523653  3.632511e-01  -0.605380       0.861274   \n",
       "45451   7.893000 -72.488000 -9.375981e-01  -0.605380      -0.714284   \n",
       "62604   6.747057 -74.861314  3.632511e-01   0.874593       0.768529   \n",
       "\n",
       "       op_Apartamento  op_Casa  op_Depósito  op_Finca  op_Local comercial  \\\n",
       "64916             1.0      0.0          0.0       0.0                 0.0   \n",
       "20641             0.0      1.0          0.0       0.0                 0.0   \n",
       "29793             0.0      1.0          0.0       0.0                 0.0   \n",
       "45451             1.0      0.0          0.0       0.0                 0.0   \n",
       "62604             1.0      0.0          0.0       0.0                 0.0   \n",
       "\n",
       "       op_Lote  op_Oficina  op_Otro  op_Parqueadero  \n",
       "64916      0.0         0.0      0.0             0.0  \n",
       "20641      0.0         0.0      0.0             0.0  \n",
       "29793      0.0         0.0      0.0             0.0  \n",
       "45451      0.0         0.0      0.0             0.0  \n",
       "62604      0.0         0.0      0.0             0.0  "
      ]
     },
     "execution_count": 24,
     "metadata": {},
     "output_type": "execute_result"
    }
   ],
   "source": [
    "#Otras transformaciones\n",
    "cols2scale = ['bedrooms', 'bathrooms']\n",
    "se_cols2scale = StandardScaler()\n",
    "se_cols2scale.fit(X_train[cols2scale])\n",
    "X_train[cols2scale] = se_cols2scale.transform(X_train[cols2scale])\n",
    "X_train.head()"
   ]
  },
  {
   "cell_type": "code",
   "execution_count": 25,
   "metadata": {
    "colab": {},
    "colab_type": "code",
    "id": "jJqmtLw0nDNE"
   },
   "outputs": [],
   "source": [
    "X_test['surface_total'] = box_cox.transform(X_test['surface_total'].values[:,None])\n"
   ]
  },
  {
   "cell_type": "code",
   "execution_count": 26,
   "metadata": {
    "colab": {},
    "colab_type": "code",
    "id": "Tzhsfv9gnDNH"
   },
   "outputs": [],
   "source": [
    "X_test['property_type'] = le_proper_type.transform(X_test['property_type'])"
   ]
  },
  {
   "cell_type": "code",
   "execution_count": 27,
   "metadata": {
    "colab": {},
    "colab_type": "code",
    "id": "P5dhAGxMnDNK"
   },
   "outputs": [],
   "source": [
    "temp_test = ohe_proper_type.transform(X_test[\"property_type\"].values[:,None]).toarray()\n",
    "for idx, col in enumerate(ohe_cols_op):\n",
    "    X_test[col] = temp_test[:,idx]\n",
    "\n",
    "X_test = X_test.drop(\"property_type\", axis=1)"
   ]
  },
  {
   "cell_type": "code",
   "execution_count": 28,
   "metadata": {
    "colab": {},
    "colab_type": "code",
    "id": "wC6Uv-LAnDNO"
   },
   "outputs": [],
   "source": [
    "X_test['bedrooms'] = si_bedrooms.transform(X_test[\"bedrooms\"].values[:,None])\n",
    "X_test['lat'] = si_lat.transform(X_test['lat'].values[:, None])\n",
    "X_test['lon'] = si_lon.transform(X_test['lon'].values[:, None])\n",
    "X_test['bathrooms'] = si_bath.transform(X_test['bathrooms'].values[:,None])"
   ]
  },
  {
   "cell_type": "code",
   "execution_count": 29,
   "metadata": {
    "colab": {},
    "colab_type": "code",
    "id": "-6M_4BYsnDNR"
   },
   "outputs": [],
   "source": [
    "X_test[cols2scale] = se_cols2scale.transform(X_test[cols2scale])"
   ]
  },
  {
   "cell_type": "code",
   "execution_count": 30,
   "metadata": {
    "colab": {},
    "colab_type": "code",
    "id": "JdU2FI8AnDNV"
   },
   "outputs": [],
   "source": [
    "assert (X_test.columns.values == X_train.columns.values).all()"
   ]
  },
  {
   "cell_type": "code",
   "execution_count": 31,
   "metadata": {
    "colab": {
     "base_uri": "https://localhost:8080/",
     "height": 445
    },
    "colab_type": "code",
    "id": "rBmAwltYnDNY",
    "outputId": "01c0fc06-5e1b-48e1-d3e7-e5da6a89276a",
    "scrolled": true
   },
   "outputs": [
    {
     "data": {
      "text/html": [
       "<div>\n",
       "<style scoped>\n",
       "    .dataframe tbody tr th:only-of-type {\n",
       "        vertical-align: middle;\n",
       "    }\n",
       "\n",
       "    .dataframe tbody tr th {\n",
       "        vertical-align: top;\n",
       "    }\n",
       "\n",
       "    .dataframe thead th {\n",
       "        text-align: right;\n",
       "    }\n",
       "</style>\n",
       "<table border=\"1\" class=\"dataframe\">\n",
       "  <thead>\n",
       "    <tr style=\"text-align: right;\">\n",
       "      <th></th>\n",
       "      <th>lat</th>\n",
       "      <th>lon</th>\n",
       "      <th>bedrooms</th>\n",
       "      <th>bathrooms</th>\n",
       "      <th>surface_total</th>\n",
       "      <th>op_Apartamento</th>\n",
       "      <th>op_Casa</th>\n",
       "      <th>op_Depósito</th>\n",
       "      <th>op_Finca</th>\n",
       "      <th>op_Local comercial</th>\n",
       "      <th>op_Lote</th>\n",
       "      <th>op_Oficina</th>\n",
       "      <th>op_Otro</th>\n",
       "      <th>op_Parqueadero</th>\n",
       "    </tr>\n",
       "  </thead>\n",
       "  <tbody>\n",
       "    <tr>\n",
       "      <th>25116</th>\n",
       "      <td>3.420000</td>\n",
       "      <td>-76.540000</td>\n",
       "      <td>3.632511e-01</td>\n",
       "      <td>1.346065e-01</td>\n",
       "      <td>-0.476691</td>\n",
       "      <td>0.0</td>\n",
       "      <td>1.0</td>\n",
       "      <td>0.0</td>\n",
       "      <td>0.0</td>\n",
       "      <td>0.0</td>\n",
       "      <td>0.0</td>\n",
       "      <td>0.0</td>\n",
       "      <td>0.0</td>\n",
       "      <td>0.0</td>\n",
       "    </tr>\n",
       "    <tr>\n",
       "      <th>41210</th>\n",
       "      <td>6.173000</td>\n",
       "      <td>-75.581000</td>\n",
       "      <td>-2.871735e-01</td>\n",
       "      <td>-6.053802e-01</td>\n",
       "      <td>-0.195453</td>\n",
       "      <td>1.0</td>\n",
       "      <td>0.0</td>\n",
       "      <td>0.0</td>\n",
       "      <td>0.0</td>\n",
       "      <td>0.0</td>\n",
       "      <td>0.0</td>\n",
       "      <td>0.0</td>\n",
       "      <td>0.0</td>\n",
       "      <td>0.0</td>\n",
       "    </tr>\n",
       "    <tr>\n",
       "      <th>66693</th>\n",
       "      <td>6.747057</td>\n",
       "      <td>-74.861314</td>\n",
       "      <td>-2.871735e-01</td>\n",
       "      <td>8.745932e-01</td>\n",
       "      <td>0.404388</td>\n",
       "      <td>1.0</td>\n",
       "      <td>0.0</td>\n",
       "      <td>0.0</td>\n",
       "      <td>0.0</td>\n",
       "      <td>0.0</td>\n",
       "      <td>0.0</td>\n",
       "      <td>0.0</td>\n",
       "      <td>0.0</td>\n",
       "      <td>0.0</td>\n",
       "    </tr>\n",
       "    <tr>\n",
       "      <th>60839</th>\n",
       "      <td>7.118697</td>\n",
       "      <td>-73.112144</td>\n",
       "      <td>-2.871735e-01</td>\n",
       "      <td>-6.053802e-01</td>\n",
       "      <td>-0.561740</td>\n",
       "      <td>0.0</td>\n",
       "      <td>0.0</td>\n",
       "      <td>0.0</td>\n",
       "      <td>0.0</td>\n",
       "      <td>0.0</td>\n",
       "      <td>0.0</td>\n",
       "      <td>0.0</td>\n",
       "      <td>1.0</td>\n",
       "      <td>0.0</td>\n",
       "    </tr>\n",
       "    <tr>\n",
       "      <th>36843</th>\n",
       "      <td>6.180504</td>\n",
       "      <td>-75.586551</td>\n",
       "      <td>5.776931e-16</td>\n",
       "      <td>-6.053802e-01</td>\n",
       "      <td>0.109448</td>\n",
       "      <td>1.0</td>\n",
       "      <td>0.0</td>\n",
       "      <td>0.0</td>\n",
       "      <td>0.0</td>\n",
       "      <td>0.0</td>\n",
       "      <td>0.0</td>\n",
       "      <td>0.0</td>\n",
       "      <td>0.0</td>\n",
       "      <td>0.0</td>\n",
       "    </tr>\n",
       "    <tr>\n",
       "      <th>...</th>\n",
       "      <td>...</td>\n",
       "      <td>...</td>\n",
       "      <td>...</td>\n",
       "      <td>...</td>\n",
       "      <td>...</td>\n",
       "      <td>...</td>\n",
       "      <td>...</td>\n",
       "      <td>...</td>\n",
       "      <td>...</td>\n",
       "      <td>...</td>\n",
       "      <td>...</td>\n",
       "      <td>...</td>\n",
       "      <td>...</td>\n",
       "      <td>...</td>\n",
       "    </tr>\n",
       "    <tr>\n",
       "      <th>44233</th>\n",
       "      <td>7.889000</td>\n",
       "      <td>-72.497002</td>\n",
       "      <td>-2.871735e-01</td>\n",
       "      <td>1.346065e-01</td>\n",
       "      <td>-0.561740</td>\n",
       "      <td>0.0</td>\n",
       "      <td>1.0</td>\n",
       "      <td>0.0</td>\n",
       "      <td>0.0</td>\n",
       "      <td>0.0</td>\n",
       "      <td>0.0</td>\n",
       "      <td>0.0</td>\n",
       "      <td>0.0</td>\n",
       "      <td>0.0</td>\n",
       "    </tr>\n",
       "    <tr>\n",
       "      <th>7948</th>\n",
       "      <td>6.244705</td>\n",
       "      <td>-75.601334</td>\n",
       "      <td>-2.871735e-01</td>\n",
       "      <td>8.745932e-01</td>\n",
       "      <td>0.550659</td>\n",
       "      <td>0.0</td>\n",
       "      <td>1.0</td>\n",
       "      <td>0.0</td>\n",
       "      <td>0.0</td>\n",
       "      <td>0.0</td>\n",
       "      <td>0.0</td>\n",
       "      <td>0.0</td>\n",
       "      <td>0.0</td>\n",
       "      <td>0.0</td>\n",
       "    </tr>\n",
       "    <tr>\n",
       "      <th>47265</th>\n",
       "      <td>7.928000</td>\n",
       "      <td>-72.522000</td>\n",
       "      <td>3.632511e-01</td>\n",
       "      <td>-6.053802e-01</td>\n",
       "      <td>0.038192</td>\n",
       "      <td>0.0</td>\n",
       "      <td>1.0</td>\n",
       "      <td>0.0</td>\n",
       "      <td>0.0</td>\n",
       "      <td>0.0</td>\n",
       "      <td>0.0</td>\n",
       "      <td>0.0</td>\n",
       "      <td>0.0</td>\n",
       "      <td>0.0</td>\n",
       "    </tr>\n",
       "    <tr>\n",
       "      <th>54755</th>\n",
       "      <td>4.805000</td>\n",
       "      <td>-75.694000</td>\n",
       "      <td>-2.871735e-01</td>\n",
       "      <td>1.346065e-01</td>\n",
       "      <td>2.192063</td>\n",
       "      <td>0.0</td>\n",
       "      <td>1.0</td>\n",
       "      <td>0.0</td>\n",
       "      <td>0.0</td>\n",
       "      <td>0.0</td>\n",
       "      <td>0.0</td>\n",
       "      <td>0.0</td>\n",
       "      <td>0.0</td>\n",
       "      <td>0.0</td>\n",
       "    </tr>\n",
       "    <tr>\n",
       "      <th>53465</th>\n",
       "      <td>4.802687</td>\n",
       "      <td>-75.839996</td>\n",
       "      <td>5.776931e-16</td>\n",
       "      <td>3.286201e-16</td>\n",
       "      <td>2.402238</td>\n",
       "      <td>0.0</td>\n",
       "      <td>0.0</td>\n",
       "      <td>0.0</td>\n",
       "      <td>0.0</td>\n",
       "      <td>0.0</td>\n",
       "      <td>0.0</td>\n",
       "      <td>0.0</td>\n",
       "      <td>1.0</td>\n",
       "      <td>0.0</td>\n",
       "    </tr>\n",
       "  </tbody>\n",
       "</table>\n",
       "<p>14590 rows × 14 columns</p>\n",
       "</div>"
      ],
      "text/plain": [
       "            lat        lon      bedrooms     bathrooms  surface_total  \\\n",
       "25116  3.420000 -76.540000  3.632511e-01  1.346065e-01      -0.476691   \n",
       "41210  6.173000 -75.581000 -2.871735e-01 -6.053802e-01      -0.195453   \n",
       "66693  6.747057 -74.861314 -2.871735e-01  8.745932e-01       0.404388   \n",
       "60839  7.118697 -73.112144 -2.871735e-01 -6.053802e-01      -0.561740   \n",
       "36843  6.180504 -75.586551  5.776931e-16 -6.053802e-01       0.109448   \n",
       "...         ...        ...           ...           ...            ...   \n",
       "44233  7.889000 -72.497002 -2.871735e-01  1.346065e-01      -0.561740   \n",
       "7948   6.244705 -75.601334 -2.871735e-01  8.745932e-01       0.550659   \n",
       "47265  7.928000 -72.522000  3.632511e-01 -6.053802e-01       0.038192   \n",
       "54755  4.805000 -75.694000 -2.871735e-01  1.346065e-01       2.192063   \n",
       "53465  4.802687 -75.839996  5.776931e-16  3.286201e-16       2.402238   \n",
       "\n",
       "       op_Apartamento  op_Casa  op_Depósito  op_Finca  op_Local comercial  \\\n",
       "25116             0.0      1.0          0.0       0.0                 0.0   \n",
       "41210             1.0      0.0          0.0       0.0                 0.0   \n",
       "66693             1.0      0.0          0.0       0.0                 0.0   \n",
       "60839             0.0      0.0          0.0       0.0                 0.0   \n",
       "36843             1.0      0.0          0.0       0.0                 0.0   \n",
       "...               ...      ...          ...       ...                 ...   \n",
       "44233             0.0      1.0          0.0       0.0                 0.0   \n",
       "7948              0.0      1.0          0.0       0.0                 0.0   \n",
       "47265             0.0      1.0          0.0       0.0                 0.0   \n",
       "54755             0.0      1.0          0.0       0.0                 0.0   \n",
       "53465             0.0      0.0          0.0       0.0                 0.0   \n",
       "\n",
       "       op_Lote  op_Oficina  op_Otro  op_Parqueadero  \n",
       "25116      0.0         0.0      0.0             0.0  \n",
       "41210      0.0         0.0      0.0             0.0  \n",
       "66693      0.0         0.0      0.0             0.0  \n",
       "60839      0.0         0.0      1.0             0.0  \n",
       "36843      0.0         0.0      0.0             0.0  \n",
       "...        ...         ...      ...             ...  \n",
       "44233      0.0         0.0      0.0             0.0  \n",
       "7948       0.0         0.0      0.0             0.0  \n",
       "47265      0.0         0.0      0.0             0.0  \n",
       "54755      0.0         0.0      0.0             0.0  \n",
       "53465      0.0         0.0      1.0             0.0  \n",
       "\n",
       "[14590 rows x 14 columns]"
      ]
     },
     "execution_count": 31,
     "metadata": {},
     "output_type": "execute_result"
    }
   ],
   "source": [
    "X_test"
   ]
  },
  {
   "cell_type": "markdown",
   "metadata": {
    "colab_type": "text",
    "id": "jXT2biLlnDNa"
   },
   "source": [
    "## Using Regression"
   ]
  },
  {
   "cell_type": "code",
   "execution_count": 32,
   "metadata": {
    "colab": {
     "base_uri": "https://localhost:8080/",
     "height": 290
    },
    "colab_type": "code",
    "id": "P8uWX-XknDNb",
    "outputId": "9425b9ff-e73e-4ea4-9d84-d74640ce0407"
   },
   "outputs": [
    {
     "data": {
      "text/plain": [
       "BaggingRegressor(base_estimator=ExtraTreeRegressor(ccp_alpha=0.0,\n",
       "                                                   criterion='mse',\n",
       "                                                   max_depth=None,\n",
       "                                                   max_features='auto',\n",
       "                                                   max_leaf_nodes=None,\n",
       "                                                   min_impurity_decrease=0.0,\n",
       "                                                   min_impurity_split=None,\n",
       "                                                   min_samples_leaf=1,\n",
       "                                                   min_samples_split=2,\n",
       "                                                   min_weight_fraction_leaf=0.0,\n",
       "                                                   random_state=1000,\n",
       "                                                   splitter='best'),\n",
       "                 bootstrap=True, bootstrap_features=False, max_features=1.0,\n",
       "                 max_samples=1.0, n_estimators=40, n_jobs=None, oob_score=False,\n",
       "                 random_state=1000, verbose=0, warm_start=False)"
      ]
     },
     "execution_count": 32,
     "metadata": {},
     "output_type": "execute_result"
    }
   ],
   "source": [
    "from sklearn.ensemble import BaggingRegressor\n",
    "from sklearn.tree import ExtraTreeRegressor\n",
    "extra_tree = ExtraTreeRegressor(splitter = \"best\" ,random_state=1000)\n",
    "lin_reg = BaggingRegressor(extra_tree, random_state=1000, n_estimators=40)\n",
    "lin_reg.fit(X_train, Y_train)"
   ]
  },
  {
   "cell_type": "code",
   "execution_count": 33,
   "metadata": {
    "colab": {
     "base_uri": "https://localhost:8080/",
     "height": 72
    },
    "colab_type": "code",
    "id": "6NP1A_GCnDNe",
    "outputId": "a134b800-9753-49a7-b431-ccb436ad438e"
   },
   "outputs": [
    {
     "name": "stdout",
     "output_type": "stream",
     "text": [
      "Root Mean Square Error (RMSE)= 0.14\n",
      "Mean Absolute Error (MAE)= 0.24\n",
      "R^2 = 0.778\n"
     ]
    }
   ],
   "source": [
    "Y_test_estimate = lin_reg.predict(X_test)\n",
    "from sklearn.metrics import mean_squared_error, r2_score, mean_absolute_error\n",
    "rmse = mean_squared_error(Y_test, Y_test_estimate)\n",
    "print(\"Root Mean Square Error (RMSE)= {:.2f}\".format(rmse))\n",
    "mae = mean_absolute_error(Y_test, Y_test_estimate)\n",
    "print(\"Mean Absolute Error (MAE)= {:.2f}\".format(mae))\n",
    "r2 = r2_score(Y_test, Y_test_estimate)\n",
    "print(\"R^2 = {:.3f}\".format(r2))"
   ]
  },
  {
   "cell_type": "code",
   "execution_count": 34,
   "metadata": {},
   "outputs": [
    {
     "name": "stdout",
     "output_type": "stream",
     "text": [
      "Efectividad en la validacion :  [0.76281223 0.77082191 0.76522981 0.76891624 0.77139145] \n",
      " Promedio de Efectividad predicciones :  0.768\n"
     ]
    }
   ],
   "source": [
    "#### cross validation of model\n",
    "\n",
    "from sklearn.model_selection import  cross_val_score, KFold\n",
    "kfold = KFold(n_splits=5)\n",
    "results = cross_val_score(lin_reg, X_train, Y_train, cv=kfold)\n",
    "print(\"Efectividad en la validacion : \", results,\"\\n Promedio de Efectividad predicciones : \", round(np.mean(results), 3))"
   ]
  },
  {
   "cell_type": "code",
   "execution_count": 35,
   "metadata": {
    "colab": {
     "base_uri": "https://localhost:8080/",
     "height": 298
    },
    "colab_type": "code",
    "id": "XFMDqGfenDNw",
    "outputId": "a344d014-7443-43e1-b6fd-f8287fd4f539"
   },
   "outputs": [
    {
     "data": {
      "image/png": "[encoded data removed]",
      "text/plain": [
       "<Figure size 432x288 with 1 Axes>"
      ]
     },
     "metadata": {
      "needs_background": "light"
     },
     "output_type": "display_data"
    }
   ],
   "source": [
    "plt.scatter(Y_test, Y_test_estimate)\n",
    "plt.xlabel(\"Y_test\")\n",
    "plt.ylabel(\"Y_estimate\")\n",
    "plt.show()"
   ]
  },
  {
   "cell_type": "code",
   "execution_count": null,
   "metadata": {},
   "outputs": [],
   "source": []
  }
 ],
 "metadata": {
  "colab": {
   "name": "regression.ipynb",
   "provenance": []
  },
  "kernelspec": {
   "display_name": "Python 3",
   "language": "python",
   "name": "python3"
  },
  "language_info": {
   "codemirror_mode": {
    "name": "ipython",
    "version": 3
   },
   "file_extension": ".py",
   "mimetype": "text/x-python",
   "name": "python",
   "nbconvert_exporter": "python",
   "pygments_lexer": "ipython3",
   "version": "3.7.6"
  }
 },
 "nbformat": 4,
 "nbformat_minor": 1
}
