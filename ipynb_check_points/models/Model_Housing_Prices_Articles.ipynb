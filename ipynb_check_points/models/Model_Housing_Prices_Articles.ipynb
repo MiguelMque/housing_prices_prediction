{
  "nbformat": 4,
  "nbformat_minor": 0,
  "metadata": {
    "colab": {
      "name": "Model.ipynb",
      "provenance": [],
      "collapsed_sections": [],
      "include_colab_link": true
    },
    "kernelspec": {
      "display_name": "Python 3",
      "language": "python",
      "name": "python3"
    },
    "language_info": {
      "codemirror_mode": {
        "name": "ipython",
        "version": 3
      },
      "file_extension": ".py",
      "mimetype": "text/x-python",
      "name": "python",
      "nbconvert_exporter": "python",
      "pygments_lexer": "ipython3",
      "version": "3.7.4"
    }
  },
  "cells": [
    {
      "cell_type": "markdown",
      "metadata": {
        "id": "view-in-github",
        "colab_type": "text"
      },
      "source": [
        "<a href=\"https://colab.research.google.com/github/MiguelMque/housing_prices_prediction/blob/master/ipynb_check_points/models/Model_Housing_Prices_Articles.ipynb\" target=\"_parent\"><img src=\"https://colab.research.google.com/assets/colab-badge.svg\" alt=\"Open In Colab\"/></a>"
      ]
    },
    {
      "cell_type": "markdown",
      "metadata": {
        "colab_type": "text",
        "id": "fX_CcNMdnDKw"
      },
      "source": [
        "# Municipality Analysis"
      ]
    },
    {
      "cell_type": "code",
      "metadata": {
        "colab_type": "code",
        "id": "lFSxC4xFnDK0",
        "colab": {
          "base_uri": "https://localhost:8080/",
          "height": 34
        },
        "outputId": "ff5555a4-710c-4263-812e-3375562c7425"
      },
      "source": [
        "#Cargando librerías\n",
        "import pandas as pd\n",
        "import numpy as np\n",
        "import matplotlib.pyplot as plt\n",
        "import seaborn as sns\n",
        "import warnings\n",
        "warnings.filterwarnings('ignore')\n",
        "\n",
        "from google.colab import drive\n",
        "drive.mount('/content/drive')"
      ],
      "execution_count": null,
      "outputs": [
        {
          "output_type": "stream",
          "text": [
            "Drive already mounted at /content/drive; to attempt to forcibly remount, call drive.mount(\"/content/drive\", force_remount=True).\n"
          ],
          "name": "stdout"
        }
      ]
    },
    {
      "cell_type": "code",
      "metadata": {
        "colab_type": "code",
        "id": "Ea8FjNbknDK6",
        "scrolled": false,
        "colab": {}
      },
      "source": [
        "df = pd.read_csv('/content/drive/My Drive/nutritive.csv')\n",
        "df = df.drop(columns=['Unnamed: 0'])"
      ],
      "execution_count": null,
      "outputs": []
    },
    {
      "cell_type": "code",
      "metadata": {
        "colab_type": "code",
        "id": "LgpaPTyDFTth",
        "colab": {}
      },
      "source": [
        "import re\n",
        "from unicodedata import normalize\n",
        "def cleanText(inputString):\n",
        "    return (re.sub(\n",
        "        r\"([^n\\u0300-\\u036f]|n(?!\\u0303(?![\\u0300-\\u036f])))[\\u0300-\\u036f]+\", r\"\\1\", \n",
        "        normalize( \"NFD\", inputString), 0, re.I\n",
        "    )).lower()\n",
        "\n",
        "def clean_l3(row):\n",
        "    row.l3 = cleanText(row.l3)\n",
        "    return row\n",
        "\n",
        "def clean_alpha(inputString):\n",
        "    return re.sub('[^A-Za-z0-9]+', '', inputString)"
      ],
      "execution_count": null,
      "outputs": []
    },
    {
      "cell_type": "markdown",
      "metadata": {
        "colab_type": "text",
        "id": "7qM6Zg72nDLO"
      },
      "source": [
        "## Sell and Rent Counting"
      ]
    },
    {
      "cell_type": "code",
      "metadata": {
        "id": "UUiTFZDrnRRm",
        "colab_type": "code",
        "colab": {
          "base_uri": "https://localhost:8080/",
          "height": 34
        },
        "outputId": "3e7af29e-ecb3-4e33-d807-3c1af1e3c2e8"
      },
      "source": [
        "df.l1.unique()"
      ],
      "execution_count": null,
      "outputs": [
        {
          "output_type": "execute_result",
          "data": {
            "text/plain": [
              "array(['Colombia', nan], dtype=object)"
            ]
          },
          "metadata": {
            "tags": []
          },
          "execution_count": 7
        }
      ]
    },
    {
      "cell_type": "code",
      "metadata": {
        "id": "z3HZS6Ehnu1k",
        "colab_type": "code",
        "colab": {
          "base_uri": "https://localhost:8080/",
          "height": 34
        },
        "outputId": "80fb7b0f-df00-4cc6-afe1-f76d657a642a"
      },
      "source": [
        "df.operation_type.unique()"
      ],
      "execution_count": null,
      "outputs": [
        {
          "output_type": "execute_result",
          "data": {
            "text/plain": [
              "array(['Venta', 'Arriendo', 'Arriendo temporal', nan], dtype=object)"
            ]
          },
          "metadata": {
            "tags": []
          },
          "execution_count": 8
        }
      ]
    },
    {
      "cell_type": "code",
      "metadata": {
        "id": "sr1gnU9Hje8i",
        "colab_type": "code",
        "colab": {}
      },
      "source": [
        "import unicodedata\n",
        "\n",
        "def strip_accents(text):\n",
        "    if text == np.nan or type(text) != type('ssd'):\n",
        "        return np.nan\n",
        "    try:\n",
        "        text = unicode(text, 'utf-8')\n",
        "    except NameError: # unicode is a default on python 3 \n",
        "        pass\n",
        "\n",
        "    text = unicodedata.normalize('NFD', text)\\\n",
        "           .encode('ascii', 'ignore')\\\n",
        "           .decode(\"utf-8\")\n",
        "\n",
        "    return str(text).lower()"
      ],
      "execution_count": null,
      "outputs": []
    },
    {
      "cell_type": "code",
      "metadata": {
        "id": "593zFwgul86e",
        "colab_type": "code",
        "colab": {}
      },
      "source": [
        "df_train = df.copy()"
      ],
      "execution_count": null,
      "outputs": []
    },
    {
      "cell_type": "code",
      "metadata": {
        "id": "yR0RmGgak0B1",
        "colab_type": "code",
        "colab": {}
      },
      "source": [
        "df_train['l2'] = df_train['l2'].apply(lambda x: strip_accents(x))\n",
        "df_train[(df_train['l2'] == 'san andres providencia y santa catalina') | (df_train['l2'] == 'archipielago de san andres, providencia y santa catalina')] = 'san andres y santa catalina'\n",
        "df_train = df_train[(df_train['l2'] != 'tachira') | (df_train['l2'] != 'apure')]\n",
        "df_train = df_train[(df_train['property_type'] == 'Casa') | (df_train['property_type'] == 'Apartamento')]\n",
        "df_train = df_train[df_train.currency == 'COP']\n",
        "df_train = df_train[df_train.operation_type == 'Venta']"
      ],
      "execution_count": null,
      "outputs": []
    },
    {
      "cell_type": "code",
      "metadata": {
        "id": "0oZzCVjmpFie",
        "colab_type": "code",
        "colab": {
          "base_uri": "https://localhost:8080/",
          "height": 949
        },
        "outputId": "17e43863-a4b3-4042-e040-dec7fb53c560"
      },
      "source": [
        "df_train"
      ],
      "execution_count": null,
      "outputs": [
        {
          "output_type": "execute_result",
          "data": {
            "text/html": [
              "<div>\n",
              "<style scoped>\n",
              "    .dataframe tbody tr th:only-of-type {\n",
              "        vertical-align: middle;\n",
              "    }\n",
              "\n",
              "    .dataframe tbody tr th {\n",
              "        vertical-align: top;\n",
              "    }\n",
              "\n",
              "    .dataframe thead th {\n",
              "        text-align: right;\n",
              "    }\n",
              "</style>\n",
              "<table border=\"1\" class=\"dataframe\">\n",
              "  <thead>\n",
              "    <tr style=\"text-align: right;\">\n",
              "      <th></th>\n",
              "      <th>id</th>\n",
              "      <th>ad_type</th>\n",
              "      <th>start_date</th>\n",
              "      <th>end_date</th>\n",
              "      <th>created_on</th>\n",
              "      <th>lat</th>\n",
              "      <th>lon</th>\n",
              "      <th>l1</th>\n",
              "      <th>l2</th>\n",
              "      <th>l3</th>\n",
              "      <th>l4</th>\n",
              "      <th>l5</th>\n",
              "      <th>l6</th>\n",
              "      <th>rooms</th>\n",
              "      <th>bedrooms</th>\n",
              "      <th>bathrooms</th>\n",
              "      <th>surface_total</th>\n",
              "      <th>surface_covered</th>\n",
              "      <th>price</th>\n",
              "      <th>currency</th>\n",
              "      <th>price_period</th>\n",
              "      <th>title</th>\n",
              "      <th>description</th>\n",
              "      <th>property_type</th>\n",
              "      <th>operation_type</th>\n",
              "    </tr>\n",
              "  </thead>\n",
              "  <tbody>\n",
              "    <tr>\n",
              "      <th>0</th>\n",
              "      <td>HSOmvzoNx39wqCR/yL57kw==</td>\n",
              "      <td>Propiedad</td>\n",
              "      <td>2018-09-14</td>\n",
              "      <td>2019-09-23</td>\n",
              "      <td>2018-09-14</td>\n",
              "      <td>3.439</td>\n",
              "      <td>-76.541</td>\n",
              "      <td>Colombia</td>\n",
              "      <td>valle del cauca</td>\n",
              "      <td>Cali</td>\n",
              "      <td>NaN</td>\n",
              "      <td>NaN</td>\n",
              "      <td>NaN</td>\n",
              "      <td>12</td>\n",
              "      <td>12</td>\n",
              "      <td>6</td>\n",
              "      <td>202</td>\n",
              "      <td>360</td>\n",
              "      <td>5e+08</td>\n",
              "      <td>COP</td>\n",
              "      <td>NaN</td>\n",
              "      <td>Casa En Venta En Cali Miraflores</td>\n",
              "      <td>Para inversin, actualmente rentando, casa de 4...</td>\n",
              "      <td>Casa</td>\n",
              "      <td>Venta</td>\n",
              "    </tr>\n",
              "    <tr>\n",
              "      <th>2</th>\n",
              "      <td>O2HQc7FoNv121JMqoWoVSQ==</td>\n",
              "      <td>Propiedad</td>\n",
              "      <td>2018-09-14</td>\n",
              "      <td>2018-09-18</td>\n",
              "      <td>2018-09-14</td>\n",
              "      <td>3.566</td>\n",
              "      <td>-76.55</td>\n",
              "      <td>Colombia</td>\n",
              "      <td>valle del cauca</td>\n",
              "      <td>Yumbo</td>\n",
              "      <td>NaN</td>\n",
              "      <td>NaN</td>\n",
              "      <td>NaN</td>\n",
              "      <td>6</td>\n",
              "      <td>6</td>\n",
              "      <td>2</td>\n",
              "      <td>2500</td>\n",
              "      <td>180</td>\n",
              "      <td>1.4e+08</td>\n",
              "      <td>COP</td>\n",
              "      <td>Mensual</td>\n",
              "      <td>Finca En Venta En Yumbo Dapa</td>\n",
              "      <td>Agradable finca en Alto Dapa, vereda Chicoral,...</td>\n",
              "      <td>Casa</td>\n",
              "      <td>Venta</td>\n",
              "    </tr>\n",
              "    <tr>\n",
              "      <th>3</th>\n",
              "      <td>ANobgxajTyuqNjmG0Iqv+Q==</td>\n",
              "      <td>Propiedad</td>\n",
              "      <td>2018-09-14</td>\n",
              "      <td>2018-10-01</td>\n",
              "      <td>2018-09-14</td>\n",
              "      <td>4.736</td>\n",
              "      <td>-75.896</td>\n",
              "      <td>Colombia</td>\n",
              "      <td>valle del cauca</td>\n",
              "      <td>Cartago</td>\n",
              "      <td>NaN</td>\n",
              "      <td>NaN</td>\n",
              "      <td>NaN</td>\n",
              "      <td>8</td>\n",
              "      <td>8</td>\n",
              "      <td>5</td>\n",
              "      <td>45000</td>\n",
              "      <td>10000</td>\n",
              "      <td>8e+08</td>\n",
              "      <td>COP</td>\n",
              "      <td>Mensual</td>\n",
              "      <td>Finca En Venta En Cartago Alcala</td>\n",
              "      <td>VENDO ..VENDO.. finca., excelente ubicacin ent...</td>\n",
              "      <td>Casa</td>\n",
              "      <td>Venta</td>\n",
              "    </tr>\n",
              "    <tr>\n",
              "      <th>4</th>\n",
              "      <td>zQ2CzilH6CzT+rEjIfFAbQ==</td>\n",
              "      <td>Propiedad</td>\n",
              "      <td>2018-09-14</td>\n",
              "      <td>2018-10-01</td>\n",
              "      <td>2018-09-14</td>\n",
              "      <td>3.661</td>\n",
              "      <td>-76.576</td>\n",
              "      <td>Colombia</td>\n",
              "      <td>valle del cauca</td>\n",
              "      <td>La Cumbre</td>\n",
              "      <td>NaN</td>\n",
              "      <td>NaN</td>\n",
              "      <td>NaN</td>\n",
              "      <td>6</td>\n",
              "      <td>6</td>\n",
              "      <td>6</td>\n",
              "      <td>650</td>\n",
              "      <td>650</td>\n",
              "      <td>2.9e+08</td>\n",
              "      <td>COP</td>\n",
              "      <td>Mensual</td>\n",
              "      <td>Finca En Venta En La Cumbre Pavas</td>\n",
              "      <td>VENDO.....Finca excelente ubicacin Pavas la cu...</td>\n",
              "      <td>Casa</td>\n",
              "      <td>Venta</td>\n",
              "    </tr>\n",
              "    <tr>\n",
              "      <th>11</th>\n",
              "      <td>Z15hWNIGfr1XlO1VVG6/4w==</td>\n",
              "      <td>Propiedad</td>\n",
              "      <td>2018-09-14</td>\n",
              "      <td>2019-07-25</td>\n",
              "      <td>2018-09-14</td>\n",
              "      <td>2.47282</td>\n",
              "      <td>-76.5744</td>\n",
              "      <td>Colombia</td>\n",
              "      <td>cauca</td>\n",
              "      <td>Popayan</td>\n",
              "      <td>NaN</td>\n",
              "      <td>NaN</td>\n",
              "      <td>NaN</td>\n",
              "      <td>5</td>\n",
              "      <td>NaN</td>\n",
              "      <td>3</td>\n",
              "      <td>125</td>\n",
              "      <td>125</td>\n",
              "      <td>1.9e+08</td>\n",
              "      <td>COP</td>\n",
              "      <td>NaN</td>\n",
              "      <td>SE VENDE CASA EN GUAYACANES DEL RIO</td>\n",
              "      <td>Se vende casaGuayacanes del Riola casa es ampl...</td>\n",
              "      <td>Casa</td>\n",
              "      <td>Venta</td>\n",
              "    </tr>\n",
              "    <tr>\n",
              "      <th>...</th>\n",
              "      <td>...</td>\n",
              "      <td>...</td>\n",
              "      <td>...</td>\n",
              "      <td>...</td>\n",
              "      <td>...</td>\n",
              "      <td>...</td>\n",
              "      <td>...</td>\n",
              "      <td>...</td>\n",
              "      <td>...</td>\n",
              "      <td>...</td>\n",
              "      <td>...</td>\n",
              "      <td>...</td>\n",
              "      <td>...</td>\n",
              "      <td>...</td>\n",
              "      <td>...</td>\n",
              "      <td>...</td>\n",
              "      <td>...</td>\n",
              "      <td>...</td>\n",
              "      <td>...</td>\n",
              "      <td>...</td>\n",
              "      <td>...</td>\n",
              "      <td>...</td>\n",
              "      <td>...</td>\n",
              "      <td>...</td>\n",
              "      <td>...</td>\n",
              "    </tr>\n",
              "    <tr>\n",
              "      <th>937779</th>\n",
              "      <td>fQgi/MRrMF/I8UkrPM1mWQ==</td>\n",
              "      <td>Propiedad</td>\n",
              "      <td>2019-03-14</td>\n",
              "      <td>2019-08-01</td>\n",
              "      <td>2019-03-14</td>\n",
              "      <td>7.865</td>\n",
              "      <td>-72.465</td>\n",
              "      <td>Colombia</td>\n",
              "      <td>norte de santander</td>\n",
              "      <td>Villa del Rosario</td>\n",
              "      <td>NaN</td>\n",
              "      <td>NaN</td>\n",
              "      <td>NaN</td>\n",
              "      <td>4</td>\n",
              "      <td>4</td>\n",
              "      <td>7</td>\n",
              "      <td>2000</td>\n",
              "      <td>600</td>\n",
              "      <td>3e+09</td>\n",
              "      <td>COP</td>\n",
              "      <td>NaN</td>\n",
              "      <td>Casa En Venta En Villa Del Rosario Bocono</td>\n",
              "      <td>Casa Liberty presenta amplia y moderna casa ca...</td>\n",
              "      <td>Casa</td>\n",
              "      <td>Venta</td>\n",
              "    </tr>\n",
              "    <tr>\n",
              "      <th>937780</th>\n",
              "      <td>TosKrwr0TQ7d9F/pJdj+OA==</td>\n",
              "      <td>Propiedad</td>\n",
              "      <td>2019-03-14</td>\n",
              "      <td>2019-08-01</td>\n",
              "      <td>2019-03-14</td>\n",
              "      <td>7.869</td>\n",
              "      <td>-72.465</td>\n",
              "      <td>Colombia</td>\n",
              "      <td>norte de santander</td>\n",
              "      <td>Villa del Rosario</td>\n",
              "      <td>NaN</td>\n",
              "      <td>NaN</td>\n",
              "      <td>NaN</td>\n",
              "      <td>5</td>\n",
              "      <td>5</td>\n",
              "      <td>7</td>\n",
              "      <td>1000</td>\n",
              "      <td>750</td>\n",
              "      <td>3.5e+09</td>\n",
              "      <td>COP</td>\n",
              "      <td>NaN</td>\n",
              "      <td>Casa En Venta En Villa Del Rosario Bocono</td>\n",
              "      <td>Casa Liberty presenta atractiva e iluminada ca...</td>\n",
              "      <td>Casa</td>\n",
              "      <td>Venta</td>\n",
              "    </tr>\n",
              "    <tr>\n",
              "      <th>937781</th>\n",
              "      <td>qHYlB7VULI2MiA7JdjIqKQ==</td>\n",
              "      <td>Propiedad</td>\n",
              "      <td>2019-03-14</td>\n",
              "      <td>2019-08-01</td>\n",
              "      <td>2019-03-14</td>\n",
              "      <td>7.873</td>\n",
              "      <td>-72.464</td>\n",
              "      <td>Colombia</td>\n",
              "      <td>norte de santander</td>\n",
              "      <td>Villa del Rosario</td>\n",
              "      <td>NaN</td>\n",
              "      <td>NaN</td>\n",
              "      <td>NaN</td>\n",
              "      <td>5</td>\n",
              "      <td>5</td>\n",
              "      <td>7</td>\n",
              "      <td>1262</td>\n",
              "      <td>1262</td>\n",
              "      <td>1.5e+09</td>\n",
              "      <td>COP</td>\n",
              "      <td>NaN</td>\n",
              "      <td>Casa En Venta En Villa Del Rosario Bocono</td>\n",
              "      <td>CASA LIBERTY DA A CONOCER ESTA CASA CON EXCELE...</td>\n",
              "      <td>Casa</td>\n",
              "      <td>Venta</td>\n",
              "    </tr>\n",
              "    <tr>\n",
              "      <th>937782</th>\n",
              "      <td>0+lU7/3+jgr/N6AWnPQU6A==</td>\n",
              "      <td>Propiedad</td>\n",
              "      <td>2019-03-14</td>\n",
              "      <td>2019-08-01</td>\n",
              "      <td>2019-03-14</td>\n",
              "      <td>7.844</td>\n",
              "      <td>-72.467</td>\n",
              "      <td>Colombia</td>\n",
              "      <td>norte de santander</td>\n",
              "      <td>Villa del Rosario</td>\n",
              "      <td>NaN</td>\n",
              "      <td>NaN</td>\n",
              "      <td>NaN</td>\n",
              "      <td>5</td>\n",
              "      <td>5</td>\n",
              "      <td>7</td>\n",
              "      <td>344</td>\n",
              "      <td>344</td>\n",
              "      <td>1.1e+09</td>\n",
              "      <td>COP</td>\n",
              "      <td>NaN</td>\n",
              "      <td>Casa En Venta En Villa Del Rosario Conjunto Ce...</td>\n",
              "      <td>Casa Liberty presenta exclusiva casa dentro de...</td>\n",
              "      <td>Casa</td>\n",
              "      <td>Venta</td>\n",
              "    </tr>\n",
              "    <tr>\n",
              "      <th>937783</th>\n",
              "      <td>bB5Q1zJpWT1ORaP0YogNMA==</td>\n",
              "      <td>Propiedad</td>\n",
              "      <td>2019-03-14</td>\n",
              "      <td>2019-08-01</td>\n",
              "      <td>2019-03-14</td>\n",
              "      <td>7.855</td>\n",
              "      <td>-72.464</td>\n",
              "      <td>Colombia</td>\n",
              "      <td>norte de santander</td>\n",
              "      <td>Villa del Rosario</td>\n",
              "      <td>NaN</td>\n",
              "      <td>NaN</td>\n",
              "      <td>NaN</td>\n",
              "      <td>7</td>\n",
              "      <td>7</td>\n",
              "      <td>7</td>\n",
              "      <td>500</td>\n",
              "      <td>300</td>\n",
              "      <td>8.5e+08</td>\n",
              "      <td>COP</td>\n",
              "      <td>NaN</td>\n",
              "      <td>Casa En Venta En Villa Del Rosario Bocono</td>\n",
              "      <td>Casa Liberty presenta amplia, iluminada y mode...</td>\n",
              "      <td>Casa</td>\n",
              "      <td>Venta</td>\n",
              "    </tr>\n",
              "  </tbody>\n",
              "</table>\n",
              "<p>398205 rows × 25 columns</p>\n",
              "</div>"
            ],
            "text/plain": [
              "                              id    ad_type  ... property_type operation_type\n",
              "0       HSOmvzoNx39wqCR/yL57kw==  Propiedad  ...          Casa          Venta\n",
              "2       O2HQc7FoNv121JMqoWoVSQ==  Propiedad  ...          Casa          Venta\n",
              "3       ANobgxajTyuqNjmG0Iqv+Q==  Propiedad  ...          Casa          Venta\n",
              "4       zQ2CzilH6CzT+rEjIfFAbQ==  Propiedad  ...          Casa          Venta\n",
              "11      Z15hWNIGfr1XlO1VVG6/4w==  Propiedad  ...          Casa          Venta\n",
              "...                          ...        ...  ...           ...            ...\n",
              "937779  fQgi/MRrMF/I8UkrPM1mWQ==  Propiedad  ...          Casa          Venta\n",
              "937780  TosKrwr0TQ7d9F/pJdj+OA==  Propiedad  ...          Casa          Venta\n",
              "937781  qHYlB7VULI2MiA7JdjIqKQ==  Propiedad  ...          Casa          Venta\n",
              "937782  0+lU7/3+jgr/N6AWnPQU6A==  Propiedad  ...          Casa          Venta\n",
              "937783  bB5Q1zJpWT1ORaP0YogNMA==  Propiedad  ...          Casa          Venta\n",
              "\n",
              "[398205 rows x 25 columns]"
            ]
          },
          "metadata": {
            "tags": []
          },
          "execution_count": 12
        }
      ]
    },
    {
      "cell_type": "code",
      "metadata": {
        "id": "TZNVCK1opKcV",
        "colab_type": "code",
        "colab": {
          "base_uri": "https://localhost:8080/",
          "height": 34
        },
        "outputId": "ee809e48-204b-4434-b4bb-bfd1c7badaf3"
      },
      "source": [
        "df_train.shape"
      ],
      "execution_count": null,
      "outputs": [
        {
          "output_type": "execute_result",
          "data": {
            "text/plain": [
              "(398205, 25)"
            ]
          },
          "metadata": {
            "tags": []
          },
          "execution_count": 13
        }
      ]
    },
    {
      "cell_type": "code",
      "metadata": {
        "colab_type": "code",
        "id": "ZNeWLziZnDLq",
        "scrolled": true,
        "colab": {
          "base_uri": "https://localhost:8080/",
          "height": 34
        },
        "outputId": "b2f1cb22-5983-4020-fe25-173043aa3285"
      },
      "source": [
        "df_train = df_train[df_train['price'] < df_train['price'].quantile(0.99)]\n",
        "df_train.surface_total = df_train.surface_total.apply(lambda x: abs(x))\n",
        "df_train = df_train[df_train.surface_total > 0]\n",
        "\n",
        "df_train['price'] = df_train.price.apply(lambda x: np.log(x))\n",
        "df_train.shape"
      ],
      "execution_count": null,
      "outputs": [
        {
          "output_type": "execute_result",
          "data": {
            "text/plain": [
              "(260978, 25)"
            ]
          },
          "metadata": {
            "tags": []
          },
          "execution_count": 14
        }
      ]
    },
    {
      "cell_type": "markdown",
      "metadata": {
        "id": "8WNZrjoRWbfY",
        "colab_type": "text"
      },
      "source": [
        "# HeatMap"
      ]
    },
    {
      "cell_type": "code",
      "metadata": {
        "id": "jn5Sy3OoWaUs",
        "colab_type": "code",
        "colab": {
          "base_uri": "https://localhost:8080/",
          "height": 265
        },
        "outputId": "86bfe550-8a48-4e7c-b6f9-a7f3ec1558c4"
      },
      "source": [
        "\n",
        "# Step 1 - Make a scatter plot with square markers, set column names as labels\n",
        "\n",
        "def heatmap(x, y, size, color):\n",
        "    fig, ax = plt.subplots()\n",
        "    \n",
        "    # Mapping from column names to integer coordinates\n",
        "    x_labels = [v for v in sorted(x.unique())]\n",
        "    y_labels = [v for v in sorted(y.unique())]\n",
        "    x_to_num = {p[1]:p[0] for p in enumerate(x_labels)} \n",
        "    y_to_num = {p[1]:p[0] for p in enumerate(y_labels)} \n",
        "    \n",
        "    size_scale = 500\n",
        "    ax.scatter(\n",
        "        x=x.map(x_to_num), # Use mapping for x\n",
        "        y=y.map(y_to_num), # Use mapping for y\n",
        "        s=size * size_scale, # Vector of square sizes, proportional to size parameter\n",
        "        marker='s' # Use square as scatterplot marker\n",
        "    )\n",
        "    \n",
        "    # Show column labels on the axes\n",
        "    ax.set_xticks([x_to_num[v] for v in x_labels])\n",
        "    ax.set_xticklabels(x_labels, rotation=45, horizontalalignment='right')\n",
        "    ax.set_yticks([y_to_num[v] for v in y_labels])\n",
        "    ax.set_yticklabels(y_labels)\n",
        "\n",
        "    ax.grid(False, 'major')\n",
        "    ax.grid(True, 'minor')\n",
        "    ax.set_xticks([t + 0.5 for t in ax.get_xticks()], minor=True)\n",
        "    ax.set_yticks([t + 0.5 for t in ax.get_yticks()], minor=True)\n",
        "    \n",
        "    ax.set_xlim([-0.5, max([v for v in x_to_num.values()]) + 0.5]) \n",
        "    ax.set_ylim([-0.5, max([v for v in y_to_num.values()]) + 0.5])\n",
        "\n",
        "    n_colors = 256 # Use 256 colors for the diverging color palette\n",
        "    palette = sns.diverging_palette(20, 220, n=n_colors) # Create the palette\n",
        "    color_min, color_max = [-1, 1] # Range of values that will be mapped to the palette, i.e. min and max possible correlation\n",
        "    \n",
        "    def value_to_color(val):\n",
        "      val_position = float((val - color_min)) / (color_max - color_min) # position of value in the input range, relative to the length of the input range\n",
        "      ind = int(val_position * (n_colors - 1)) # target index in the color palette\n",
        "      return palette[ind]\n",
        "    \n",
        "    plot_grid = plt.GridSpec(1, 15, hspace=0.2, wspace=0.1) # Setup a 1x15 grid\n",
        "    ax = plt.subplot(plot_grid[:,:-1]) # Use the leftmost 14 columns of the grid for the main plot\n",
        "    ax.scatter(\n",
        "        x=x.map(x_to_num), # Use mapping for x\n",
        "        y=y.map(y_to_num), # Use mapping for y\n",
        "        s=size * size_scale, # Vector of square sizes, proportional to size parameter\n",
        "        c=color.apply(value_to_color), # Vector of square colors, mapped to color palette\n",
        "        marker='s' # Use square as scatterplot marker\n",
        "        )\n",
        "    \n",
        "    # ...\n",
        "    \n",
        "    # Add color legend on the right side of the plot\n",
        "    ax = plt.subplot(plot_grid[:,-1]) # Use the rightmost column of the plot\n",
        "    \n",
        "    col_x = [0]*len(palette) # Fixed x coordinate for the bars\n",
        "    bar_y=np.linspace(color_min, color_max, n_colors) # y coordinates for each of the n_colors bars\n",
        "    \n",
        "    bar_height = bar_y[1] - bar_y[0]\n",
        "    ax.barh(\n",
        "        y=bar_y,\n",
        "        width=[5]*len(palette), # Make bars 5 units wide\n",
        "        left=col_x, # Make bars start at 0\n",
        "        height=bar_height,\n",
        "        color=palette,\n",
        "        linewidth=0\n",
        "    )\n",
        "    \n",
        "    ax.set_xlim(1, 2) # Bars are going from 0 to 5, so lets crop the plot somewhere in the middle\n",
        "    ax.grid(False) # Hide grid\n",
        "    ax.set_facecolor('white') # Make background white\n",
        "    ax.set_xticks([]) # Remove horizontal ticks\n",
        "    ax.set_yticks(np.linspace(min(bar_y), max(bar_y), 3)) # Show vertical ticks for min, middle and max\n",
        "    ax.yaxis.tick_right() # Show vertical ticks on the right \n",
        "    \n",
        "data = df1\n",
        "columns = ['lat', 'lon', 'bedrooms', 'bathrooms', 'surfacetotal', 'opArmenia', 'opBarranquilla', 'opBello', 'opBogotDC', 'opBucaramanga', 'opCali', 'opCartagena', 'opEnvigado', 'opManizales', 'opMedelln', 'opApartamento', 'opCasa', 'price'] \n",
        "corr = data[columns].corr()\n",
        "corr = pd.melt(corr.reset_index(), id_vars='index') # Unpivot the dataframe, so we can get pair of arrays for x and y\n",
        "corr.columns = ['x', 'y', 'value']\n",
        "heatmap(\n",
        "    x=corr['x'],\n",
        "    y=corr['y'],\n",
        "    size=corr['value'].abs(),\n",
        "    color = corr['value']\n",
        ")"
      ],
      "execution_count": null,
      "outputs": [
        {
          "output_type": "display_data",
          "data": {
            "image/png": "[encoded data removed]",
            "text/plain": [
              "<Figure size 432x288 with 2 Axes>"
            ]
          },
          "metadata": {
            "tags": [],
            "needs_background": "light"
          }
        }
      ]
    },
    {
      "cell_type": "code",
      "metadata": {
        "id": "XCt0AeUli5Y5",
        "colab_type": "code",
        "colab": {}
      },
      "source": [
        ""
      ],
      "execution_count": null,
      "outputs": []
    },
    {
      "cell_type": "code",
      "metadata": {
        "colab_type": "code",
        "id": "xUsq0t6sFTuM",
        "colab": {
          "base_uri": "https://localhost:8080/",
          "height": 168
        },
        "outputId": "6d3c93b7-3835-45e2-dbe3-0db3155a5f42"
      },
      "source": [
        "df_train.head(1)"
      ],
      "execution_count": null,
      "outputs": [
        {
          "output_type": "execute_result",
          "data": {
            "text/html": [
              "<div>\n",
              "<style scoped>\n",
              "    .dataframe tbody tr th:only-of-type {\n",
              "        vertical-align: middle;\n",
              "    }\n",
              "\n",
              "    .dataframe tbody tr th {\n",
              "        vertical-align: top;\n",
              "    }\n",
              "\n",
              "    .dataframe thead th {\n",
              "        text-align: right;\n",
              "    }\n",
              "</style>\n",
              "<table border=\"1\" class=\"dataframe\">\n",
              "  <thead>\n",
              "    <tr style=\"text-align: right;\">\n",
              "      <th></th>\n",
              "      <th>id</th>\n",
              "      <th>ad_type</th>\n",
              "      <th>start_date</th>\n",
              "      <th>end_date</th>\n",
              "      <th>created_on</th>\n",
              "      <th>lat</th>\n",
              "      <th>lon</th>\n",
              "      <th>l1</th>\n",
              "      <th>l2</th>\n",
              "      <th>l3</th>\n",
              "      <th>l4</th>\n",
              "      <th>l5</th>\n",
              "      <th>l6</th>\n",
              "      <th>rooms</th>\n",
              "      <th>bedrooms</th>\n",
              "      <th>bathrooms</th>\n",
              "      <th>surface_total</th>\n",
              "      <th>surface_covered</th>\n",
              "      <th>price</th>\n",
              "      <th>currency</th>\n",
              "      <th>price_period</th>\n",
              "      <th>title</th>\n",
              "      <th>description</th>\n",
              "      <th>property_type</th>\n",
              "      <th>operation_type</th>\n",
              "    </tr>\n",
              "  </thead>\n",
              "  <tbody>\n",
              "    <tr>\n",
              "      <th>0</th>\n",
              "      <td>HSOmvzoNx39wqCR/yL57kw==</td>\n",
              "      <td>Propiedad</td>\n",
              "      <td>2018-09-14</td>\n",
              "      <td>2019-09-23</td>\n",
              "      <td>2018-09-14</td>\n",
              "      <td>3.439</td>\n",
              "      <td>-76.541</td>\n",
              "      <td>Colombia</td>\n",
              "      <td>valle del cauca</td>\n",
              "      <td>Cali</td>\n",
              "      <td>NaN</td>\n",
              "      <td>NaN</td>\n",
              "      <td>NaN</td>\n",
              "      <td>12</td>\n",
              "      <td>12</td>\n",
              "      <td>6</td>\n",
              "      <td>202.0</td>\n",
              "      <td>360</td>\n",
              "      <td>20.030119</td>\n",
              "      <td>COP</td>\n",
              "      <td>NaN</td>\n",
              "      <td>Casa En Venta En Cali Miraflores</td>\n",
              "      <td>Para inversin, actualmente rentando, casa de 4...</td>\n",
              "      <td>Casa</td>\n",
              "      <td>Venta</td>\n",
              "    </tr>\n",
              "  </tbody>\n",
              "</table>\n",
              "</div>"
            ],
            "text/plain": [
              "                         id    ad_type  ... property_type operation_type\n",
              "0  HSOmvzoNx39wqCR/yL57kw==  Propiedad  ...          Casa          Venta\n",
              "\n",
              "[1 rows x 25 columns]"
            ]
          },
          "metadata": {
            "tags": []
          },
          "execution_count": 16
        }
      ]
    },
    {
      "cell_type": "code",
      "metadata": {
        "colab_type": "code",
        "id": "-erImUZCiXkM",
        "colab": {
          "base_uri": "https://localhost:8080/",
          "height": 932
        },
        "outputId": "a20cdaae-5ba0-4656-9dfe-720a14fdcf6a"
      },
      "source": [
        "df['start_date'] = pd.to_datetime(df.start_date)\n",
        "df.sort_values(by='start_date')"
      ],
      "execution_count": null,
      "outputs": [
        {
          "output_type": "execute_result",
          "data": {
            "text/html": [
              "<div>\n",
              "<style scoped>\n",
              "    .dataframe tbody tr th:only-of-type {\n",
              "        vertical-align: middle;\n",
              "    }\n",
              "\n",
              "    .dataframe tbody tr th {\n",
              "        vertical-align: top;\n",
              "    }\n",
              "\n",
              "    .dataframe thead th {\n",
              "        text-align: right;\n",
              "    }\n",
              "</style>\n",
              "<table border=\"1\" class=\"dataframe\">\n",
              "  <thead>\n",
              "    <tr style=\"text-align: right;\">\n",
              "      <th></th>\n",
              "      <th>id</th>\n",
              "      <th>ad_type</th>\n",
              "      <th>start_date</th>\n",
              "      <th>end_date</th>\n",
              "      <th>created_on</th>\n",
              "      <th>lat</th>\n",
              "      <th>lon</th>\n",
              "      <th>l1</th>\n",
              "      <th>l2</th>\n",
              "      <th>l3</th>\n",
              "      <th>l4</th>\n",
              "      <th>l5</th>\n",
              "      <th>l6</th>\n",
              "      <th>rooms</th>\n",
              "      <th>bedrooms</th>\n",
              "      <th>bathrooms</th>\n",
              "      <th>surface_total</th>\n",
              "      <th>surface_covered</th>\n",
              "      <th>price</th>\n",
              "      <th>currency</th>\n",
              "      <th>price_period</th>\n",
              "      <th>title</th>\n",
              "      <th>description</th>\n",
              "      <th>property_type</th>\n",
              "      <th>operation_type</th>\n",
              "    </tr>\n",
              "  </thead>\n",
              "  <tbody>\n",
              "    <tr>\n",
              "      <th>29997</th>\n",
              "      <td>L9QVdcgOK302Zb1n13riEw==</td>\n",
              "      <td>Propiedad</td>\n",
              "      <td>2018-09-13</td>\n",
              "      <td>2019-03-03</td>\n",
              "      <td>2018-09-13</td>\n",
              "      <td>3.447000</td>\n",
              "      <td>-76.489000</td>\n",
              "      <td>Colombia</td>\n",
              "      <td>Valle del Cauca</td>\n",
              "      <td>Cali</td>\n",
              "      <td>NaN</td>\n",
              "      <td>NaN</td>\n",
              "      <td>NaN</td>\n",
              "      <td>1.0</td>\n",
              "      <td>1.0</td>\n",
              "      <td>2.0</td>\n",
              "      <td>98.0</td>\n",
              "      <td>98.0</td>\n",
              "      <td>1.500000e+06</td>\n",
              "      <td>COP</td>\n",
              "      <td>Mensual</td>\n",
              "      <td>Local En Arriendo En Cali Base Area</td>\n",
              "      <td>AMPLIO LOCAL EN SECTOR COMERCIAL AL ORIENTE DE...</td>\n",
              "      <td>Casa</td>\n",
              "      <td>Arriendo</td>\n",
              "    </tr>\n",
              "    <tr>\n",
              "      <th>30010</th>\n",
              "      <td>h5IrWF+QI+kogteGtNqD1Q==</td>\n",
              "      <td>Propiedad</td>\n",
              "      <td>2018-09-13</td>\n",
              "      <td>2018-09-18</td>\n",
              "      <td>2018-09-13</td>\n",
              "      <td>3.457000</td>\n",
              "      <td>-76.532000</td>\n",
              "      <td>Colombia</td>\n",
              "      <td>Valle del Cauca</td>\n",
              "      <td>Cali</td>\n",
              "      <td>NaN</td>\n",
              "      <td>NaN</td>\n",
              "      <td>NaN</td>\n",
              "      <td>2.0</td>\n",
              "      <td>2.0</td>\n",
              "      <td>2.0</td>\n",
              "      <td>NaN</td>\n",
              "      <td>43.0</td>\n",
              "      <td>1.800000e+08</td>\n",
              "      <td>COP</td>\n",
              "      <td>Mensual</td>\n",
              "      <td>Oficina En Venta En Cali Centenario</td>\n",
              "      <td>Maravillosa Oficina con Dos baos en el noveno ...</td>\n",
              "      <td>Casa</td>\n",
              "      <td>Venta</td>\n",
              "    </tr>\n",
              "    <tr>\n",
              "      <th>30011</th>\n",
              "      <td>KymSNOIA35cGaTiJAKf3eQ==</td>\n",
              "      <td>Propiedad</td>\n",
              "      <td>2018-09-13</td>\n",
              "      <td>2018-12-05</td>\n",
              "      <td>2018-09-13</td>\n",
              "      <td>3.421000</td>\n",
              "      <td>-76.490000</td>\n",
              "      <td>Colombia</td>\n",
              "      <td>Valle del Cauca</td>\n",
              "      <td>Cali</td>\n",
              "      <td>NaN</td>\n",
              "      <td>NaN</td>\n",
              "      <td>NaN</td>\n",
              "      <td>2.0</td>\n",
              "      <td>2.0</td>\n",
              "      <td>1.0</td>\n",
              "      <td>45.0</td>\n",
              "      <td>NaN</td>\n",
              "      <td>4.200000e+05</td>\n",
              "      <td>COP</td>\n",
              "      <td>Mensual</td>\n",
              "      <td>Apartamento En Arriendo En Cali Ciudad Crdoba</td>\n",
              "      <td>APARTAMENTO CUARTO PISO, REA 45 M2, UBICADO EN...</td>\n",
              "      <td>Casa</td>\n",
              "      <td>Arriendo</td>\n",
              "    </tr>\n",
              "    <tr>\n",
              "      <th>30012</th>\n",
              "      <td>46SOiy81OXmO86fuxJknTQ==</td>\n",
              "      <td>Propiedad</td>\n",
              "      <td>2018-09-13</td>\n",
              "      <td>2018-11-13</td>\n",
              "      <td>2018-09-13</td>\n",
              "      <td>6.316000</td>\n",
              "      <td>-75.553000</td>\n",
              "      <td>Colombia</td>\n",
              "      <td>Antioquia</td>\n",
              "      <td>Bello</td>\n",
              "      <td>NaN</td>\n",
              "      <td>NaN</td>\n",
              "      <td>NaN</td>\n",
              "      <td>2.0</td>\n",
              "      <td>2.0</td>\n",
              "      <td>2.0</td>\n",
              "      <td>NaN</td>\n",
              "      <td>65.0</td>\n",
              "      <td>8.500000e+05</td>\n",
              "      <td>COP</td>\n",
              "      <td>Mensual</td>\n",
              "      <td>Apartamento En Arriendo En Bello Madera</td>\n",
              "      <td>Arriendo apartamento en Puerta Madera con boni...</td>\n",
              "      <td>Casa</td>\n",
              "      <td>Arriendo</td>\n",
              "    </tr>\n",
              "    <tr>\n",
              "      <th>30013</th>\n",
              "      <td>KxnY41ME1Mesoq5a15VEdQ==</td>\n",
              "      <td>Propiedad</td>\n",
              "      <td>2018-09-13</td>\n",
              "      <td>2018-11-13</td>\n",
              "      <td>2018-09-13</td>\n",
              "      <td>10.916000</td>\n",
              "      <td>-74.772000</td>\n",
              "      <td>Colombia</td>\n",
              "      <td>Atlántico</td>\n",
              "      <td>Soledad</td>\n",
              "      <td>NaN</td>\n",
              "      <td>NaN</td>\n",
              "      <td>NaN</td>\n",
              "      <td>2.0</td>\n",
              "      <td>2.0</td>\n",
              "      <td>1.0</td>\n",
              "      <td>55.0</td>\n",
              "      <td>55.0</td>\n",
              "      <td>7.265000e+05</td>\n",
              "      <td>COP</td>\n",
              "      <td>Mensual</td>\n",
              "      <td>Apartamento En Arriendo En Soledad Soledad</td>\n",
              "      <td>APARTAMENTO UBICADO EN CONJUNTO CERRADO - CERC...</td>\n",
              "      <td>Casa</td>\n",
              "      <td>Arriendo</td>\n",
              "    </tr>\n",
              "    <tr>\n",
              "      <th>...</th>\n",
              "      <td>...</td>\n",
              "      <td>...</td>\n",
              "      <td>...</td>\n",
              "      <td>...</td>\n",
              "      <td>...</td>\n",
              "      <td>...</td>\n",
              "      <td>...</td>\n",
              "      <td>...</td>\n",
              "      <td>...</td>\n",
              "      <td>...</td>\n",
              "      <td>...</td>\n",
              "      <td>...</td>\n",
              "      <td>...</td>\n",
              "      <td>...</td>\n",
              "      <td>...</td>\n",
              "      <td>...</td>\n",
              "      <td>...</td>\n",
              "      <td>...</td>\n",
              "      <td>...</td>\n",
              "      <td>...</td>\n",
              "      <td>...</td>\n",
              "      <td>...</td>\n",
              "      <td>...</td>\n",
              "      <td>...</td>\n",
              "      <td>...</td>\n",
              "    </tr>\n",
              "    <tr>\n",
              "      <th>328856</th>\n",
              "      <td>uHikRnae/Sm3aoUqSTFd3A==</td>\n",
              "      <td>Propiedad</td>\n",
              "      <td>2020-01-05</td>\n",
              "      <td>9999-12-31</td>\n",
              "      <td>2020-01-05</td>\n",
              "      <td>4.626063</td>\n",
              "      <td>-74.072620</td>\n",
              "      <td>Colombia</td>\n",
              "      <td>Cundinamarca</td>\n",
              "      <td>Bogotá D.C</td>\n",
              "      <td>Zona Chapinero</td>\n",
              "      <td>Teusaquillo</td>\n",
              "      <td>NaN</td>\n",
              "      <td>3.0</td>\n",
              "      <td>NaN</td>\n",
              "      <td>3.0</td>\n",
              "      <td>117.0</td>\n",
              "      <td>117.0</td>\n",
              "      <td>8.350876e+08</td>\n",
              "      <td>COP</td>\n",
              "      <td>NaN</td>\n",
              "      <td>Propiedad en Venta o Alquiler - Nororiente</td>\n",
              "      <td>Apartamento para estrenar en santa barbara! es...</td>\n",
              "      <td>Local comercial</td>\n",
              "      <td>Venta</td>\n",
              "    </tr>\n",
              "    <tr>\n",
              "      <th>328857</th>\n",
              "      <td>0nwq4cyyv1f/2zmptNvpHw==</td>\n",
              "      <td>Propiedad</td>\n",
              "      <td>2020-01-05</td>\n",
              "      <td>9999-12-31</td>\n",
              "      <td>2020-01-05</td>\n",
              "      <td>4.619710</td>\n",
              "      <td>-74.078750</td>\n",
              "      <td>Colombia</td>\n",
              "      <td>Cundinamarca</td>\n",
              "      <td>Bogotá D.C</td>\n",
              "      <td>Zona Centro</td>\n",
              "      <td>Los Mártires</td>\n",
              "      <td>NaN</td>\n",
              "      <td>NaN</td>\n",
              "      <td>NaN</td>\n",
              "      <td>1.0</td>\n",
              "      <td>258.0</td>\n",
              "      <td>258.0</td>\n",
              "      <td>1.290000e+09</td>\n",
              "      <td>COP</td>\n",
              "      <td>NaN</td>\n",
              "      <td>Propiedad en Alquiler - Centro</td>\n",
              "      <td>Estrategias comerciales y de mercadeo tiene el...</td>\n",
              "      <td>Casa</td>\n",
              "      <td>Venta</td>\n",
              "    </tr>\n",
              "    <tr>\n",
              "      <th>328849</th>\n",
              "      <td>b1pj1ejc1/XqxDgM4qMTHw==</td>\n",
              "      <td>Propiedad</td>\n",
              "      <td>2020-01-05</td>\n",
              "      <td>2020-02-25</td>\n",
              "      <td>2020-01-05</td>\n",
              "      <td>4.621436</td>\n",
              "      <td>-74.074731</td>\n",
              "      <td>Colombia</td>\n",
              "      <td>Cundinamarca</td>\n",
              "      <td>Bogotá D.C</td>\n",
              "      <td>Zona Chapinero</td>\n",
              "      <td>Teusaquillo</td>\n",
              "      <td>NaN</td>\n",
              "      <td>1.0</td>\n",
              "      <td>NaN</td>\n",
              "      <td>1.0</td>\n",
              "      <td>38.0</td>\n",
              "      <td>38.0</td>\n",
              "      <td>1.100000e+06</td>\n",
              "      <td>COP</td>\n",
              "      <td>NaN</td>\n",
              "      <td>Propiedad en Venta - Centro</td>\n",
              "      <td>Estrategias comerciales y de mercadeo tiene el...</td>\n",
              "      <td>Apartamento</td>\n",
              "      <td>Arriendo</td>\n",
              "    </tr>\n",
              "    <tr>\n",
              "      <th>328265</th>\n",
              "      <td>VaL5LKIFoj9KCVVmKxv2Ug==</td>\n",
              "      <td>Propiedad</td>\n",
              "      <td>2020-01-05</td>\n",
              "      <td>9999-12-31</td>\n",
              "      <td>2020-01-05</td>\n",
              "      <td>10.142000</td>\n",
              "      <td>-75.684000</td>\n",
              "      <td>Colombia</td>\n",
              "      <td>Bolívar</td>\n",
              "      <td>Cartagena</td>\n",
              "      <td>NaN</td>\n",
              "      <td>NaN</td>\n",
              "      <td>NaN</td>\n",
              "      <td>NaN</td>\n",
              "      <td>NaN</td>\n",
              "      <td>NaN</td>\n",
              "      <td>50000.0</td>\n",
              "      <td>NaN</td>\n",
              "      <td>1.700000e+09</td>\n",
              "      <td>COP</td>\n",
              "      <td>NaN</td>\n",
              "      <td>Lote En Venta En Cartagena Baru</td>\n",
              "      <td>Lote perfecto para realizar proyecto urbanstic...</td>\n",
              "      <td>Lote</td>\n",
              "      <td>Venta</td>\n",
              "    </tr>\n",
              "    <tr>\n",
              "      <th>182035</th>\n",
              "      <td>Apartamento</td>\n",
              "      <td>Venta</td>\n",
              "      <td>NaT</td>\n",
              "      <td>NaN</td>\n",
              "      <td>NaN</td>\n",
              "      <td>NaN</td>\n",
              "      <td>NaN</td>\n",
              "      <td>NaN</td>\n",
              "      <td>NaN</td>\n",
              "      <td>NaN</td>\n",
              "      <td>NaN</td>\n",
              "      <td>NaN</td>\n",
              "      <td>NaN</td>\n",
              "      <td>NaN</td>\n",
              "      <td>NaN</td>\n",
              "      <td>NaN</td>\n",
              "      <td>NaN</td>\n",
              "      <td>NaN</td>\n",
              "      <td>NaN</td>\n",
              "      <td>NaN</td>\n",
              "      <td>NaN</td>\n",
              "      <td>NaN</td>\n",
              "      <td>NaN</td>\n",
              "      <td>NaN</td>\n",
              "      <td>NaN</td>\n",
              "    </tr>\n",
              "  </tbody>\n",
              "</table>\n",
              "<p>937785 rows × 25 columns</p>\n",
              "</div>"
            ],
            "text/plain": [
              "                              id    ad_type  ...    property_type operation_type\n",
              "29997   L9QVdcgOK302Zb1n13riEw==  Propiedad  ...             Casa       Arriendo\n",
              "30010   h5IrWF+QI+kogteGtNqD1Q==  Propiedad  ...             Casa          Venta\n",
              "30011   KymSNOIA35cGaTiJAKf3eQ==  Propiedad  ...             Casa       Arriendo\n",
              "30012   46SOiy81OXmO86fuxJknTQ==  Propiedad  ...             Casa       Arriendo\n",
              "30013   KxnY41ME1Mesoq5a15VEdQ==  Propiedad  ...             Casa       Arriendo\n",
              "...                          ...        ...  ...              ...            ...\n",
              "328856  uHikRnae/Sm3aoUqSTFd3A==  Propiedad  ...  Local comercial          Venta\n",
              "328857  0nwq4cyyv1f/2zmptNvpHw==  Propiedad  ...             Casa          Venta\n",
              "328849  b1pj1ejc1/XqxDgM4qMTHw==  Propiedad  ...      Apartamento       Arriendo\n",
              "328265  VaL5LKIFoj9KCVVmKxv2Ug==  Propiedad  ...             Lote          Venta\n",
              "182035               Apartamento      Venta  ...              NaN            NaN\n",
              "\n",
              "[937785 rows x 25 columns]"
            ]
          },
          "metadata": {
            "tags": []
          },
          "execution_count": 17
        }
      ]
    },
    {
      "cell_type": "code",
      "metadata": {
        "colab_type": "code",
        "id": "n9BzQGaOFTuV",
        "colab": {}
      },
      "source": [
        "df_final = df_train.copy()"
      ],
      "execution_count": null,
      "outputs": []
    },
    {
      "cell_type": "code",
      "metadata": {
        "colab_type": "code",
        "id": "wbL501CsFTuk",
        "scrolled": true,
        "colab": {}
      },
      "source": [
        "n = 10 #First n most frequent municipalities\n",
        "series = df_train['l3'].value_counts()[:n]\n",
        "municipalities = list(series.index)\n",
        "freq = list(series)"
      ],
      "execution_count": null,
      "outputs": []
    },
    {
      "cell_type": "code",
      "metadata": {
        "colab_type": "code",
        "id": "I-LMapE0FTu1",
        "colab": {}
      },
      "source": [
        "df_balanced = pd.DataFrame(columns=list(df_train.columns))"
      ],
      "execution_count": null,
      "outputs": []
    },
    {
      "cell_type": "code",
      "metadata": {
        "colab_type": "code",
        "id": "mUeEmsZWFTu9",
        "colab": {}
      },
      "source": [
        "#To make undersampling\n",
        "n_under = min(freq) #Undersampling min number\n",
        "df_final = df_train[df_train['l3'].isin(municipalities)]\n",
        "\n",
        "for x in municipalities:\n",
        "    temp_df = df_final[df_final['l3'] == x].sample(n = n_under, random_state=4)\n",
        "    df_balanced = pd.concat([df_balanced, temp_df], ignore_index=True)\n",
        "    "
      ],
      "execution_count": null,
      "outputs": []
    },
    {
      "cell_type": "code",
      "metadata": {
        "colab_type": "code",
        "id": "D3PXSuiFh0mC",
        "colab": {
          "base_uri": "https://localhost:8080/",
          "height": 949
        },
        "outputId": "56fc6dd0-fc25-4b81-cd02-90a12ac572ca"
      },
      "source": [
        "df_balanced"
      ],
      "execution_count": null,
      "outputs": [
        {
          "output_type": "execute_result",
          "data": {
            "text/html": [
              "<div>\n",
              "<style scoped>\n",
              "    .dataframe tbody tr th:only-of-type {\n",
              "        vertical-align: middle;\n",
              "    }\n",
              "\n",
              "    .dataframe tbody tr th {\n",
              "        vertical-align: top;\n",
              "    }\n",
              "\n",
              "    .dataframe thead th {\n",
              "        text-align: right;\n",
              "    }\n",
              "</style>\n",
              "<table border=\"1\" class=\"dataframe\">\n",
              "  <thead>\n",
              "    <tr style=\"text-align: right;\">\n",
              "      <th></th>\n",
              "      <th>id</th>\n",
              "      <th>ad_type</th>\n",
              "      <th>start_date</th>\n",
              "      <th>end_date</th>\n",
              "      <th>created_on</th>\n",
              "      <th>lat</th>\n",
              "      <th>lon</th>\n",
              "      <th>l1</th>\n",
              "      <th>l2</th>\n",
              "      <th>l3</th>\n",
              "      <th>l4</th>\n",
              "      <th>l5</th>\n",
              "      <th>l6</th>\n",
              "      <th>rooms</th>\n",
              "      <th>bedrooms</th>\n",
              "      <th>bathrooms</th>\n",
              "      <th>surface_total</th>\n",
              "      <th>surface_covered</th>\n",
              "      <th>price</th>\n",
              "      <th>currency</th>\n",
              "      <th>price_period</th>\n",
              "      <th>title</th>\n",
              "      <th>description</th>\n",
              "      <th>property_type</th>\n",
              "      <th>operation_type</th>\n",
              "    </tr>\n",
              "  </thead>\n",
              "  <tbody>\n",
              "    <tr>\n",
              "      <th>0</th>\n",
              "      <td>21hVd8iuH+Vz8ccVUf91vg==</td>\n",
              "      <td>Propiedad</td>\n",
              "      <td>2019-09-10</td>\n",
              "      <td>2019-12-23</td>\n",
              "      <td>2019-09-10</td>\n",
              "      <td>4.73</td>\n",
              "      <td>-74.045</td>\n",
              "      <td>Colombia</td>\n",
              "      <td>cundinamarca</td>\n",
              "      <td>Bogotá D.C</td>\n",
              "      <td>Zona Norte</td>\n",
              "      <td>Usaquén</td>\n",
              "      <td>Cedritos</td>\n",
              "      <td>3</td>\n",
              "      <td>3</td>\n",
              "      <td>3</td>\n",
              "      <td>75.0</td>\n",
              "      <td>75</td>\n",
              "      <td>19.644456</td>\n",
              "      <td>COP</td>\n",
              "      <td>NaN</td>\n",
              "      <td>Apartamento En Venta En Bogota Cedritos-Usaqun</td>\n",
              "      <td>Se Vende Apartamento con vista a los cerros, c...</td>\n",
              "      <td>Apartamento</td>\n",
              "      <td>Venta</td>\n",
              "    </tr>\n",
              "    <tr>\n",
              "      <th>1</th>\n",
              "      <td>zK8cnFQTvLXcj9GQ9e7/Xw==</td>\n",
              "      <td>Propiedad</td>\n",
              "      <td>2019-06-20</td>\n",
              "      <td>2019-08-01</td>\n",
              "      <td>2019-06-20</td>\n",
              "      <td>4.693</td>\n",
              "      <td>-74.042</td>\n",
              "      <td>Colombia</td>\n",
              "      <td>cundinamarca</td>\n",
              "      <td>Bogotá D.C</td>\n",
              "      <td>Zona Norte</td>\n",
              "      <td>Santa Paula</td>\n",
              "      <td>NaN</td>\n",
              "      <td>3</td>\n",
              "      <td>3</td>\n",
              "      <td>2</td>\n",
              "      <td>115.0</td>\n",
              "      <td>115</td>\n",
              "      <td>20.322788</td>\n",
              "      <td>COP</td>\n",
              "      <td>NaN</td>\n",
              "      <td>Apartamento En Venta En Bogota Santa Paula-Usaqun</td>\n",
              "      <td>Lindo apartamento de 115  Mts2, con tres alcob...</td>\n",
              "      <td>Apartamento</td>\n",
              "      <td>Venta</td>\n",
              "    </tr>\n",
              "    <tr>\n",
              "      <th>2</th>\n",
              "      <td>Q5FuOEN1uZ1L9/eev3nP5Q==</td>\n",
              "      <td>Propiedad</td>\n",
              "      <td>2018-10-30</td>\n",
              "      <td>2018-11-17</td>\n",
              "      <td>2018-10-30</td>\n",
              "      <td>4.589</td>\n",
              "      <td>-74.103</td>\n",
              "      <td>Colombia</td>\n",
              "      <td>cundinamarca</td>\n",
              "      <td>Bogotá D.C</td>\n",
              "      <td>Antonio Nariño</td>\n",
              "      <td>NaN</td>\n",
              "      <td>NaN</td>\n",
              "      <td>5</td>\n",
              "      <td>5</td>\n",
              "      <td>1</td>\n",
              "      <td>92.0</td>\n",
              "      <td>159</td>\n",
              "      <td>18.825479</td>\n",
              "      <td>COP</td>\n",
              "      <td>Mensual</td>\n",
              "      <td>Casa En Venta En Bogota Rafael Uribe Uribe Mar...</td>\n",
              "      <td>EN SUBASTA PRECIO BASE DE OFERTA, CASA DE 3 NI...</td>\n",
              "      <td>Casa</td>\n",
              "      <td>Venta</td>\n",
              "    </tr>\n",
              "    <tr>\n",
              "      <th>3</th>\n",
              "      <td>P6B9tBZmJH0ut0j4LVnWwA==</td>\n",
              "      <td>Propiedad</td>\n",
              "      <td>2019-03-14</td>\n",
              "      <td>2020-01-07</td>\n",
              "      <td>2019-03-14</td>\n",
              "      <td>4.683</td>\n",
              "      <td>-74.05</td>\n",
              "      <td>Colombia</td>\n",
              "      <td>cundinamarca</td>\n",
              "      <td>Bogotá D.C</td>\n",
              "      <td>Zona Chapinero</td>\n",
              "      <td>Chico Reservado</td>\n",
              "      <td>NaN</td>\n",
              "      <td>2</td>\n",
              "      <td>2</td>\n",
              "      <td>3</td>\n",
              "      <td>82.0</td>\n",
              "      <td>82</td>\n",
              "      <td>20.049921</td>\n",
              "      <td>COP</td>\n",
              "      <td>NaN</td>\n",
              "      <td>Apartamento En Venta En Bogota Chico</td>\n",
              "      <td>Al ingresar al apartamento encontramos una zon...</td>\n",
              "      <td>Apartamento</td>\n",
              "      <td>Venta</td>\n",
              "    </tr>\n",
              "    <tr>\n",
              "      <th>4</th>\n",
              "      <td>ARHqD42gJbSoaCaOGoy9oA==</td>\n",
              "      <td>Propiedad</td>\n",
              "      <td>2019-03-07</td>\n",
              "      <td>2019-04-10</td>\n",
              "      <td>2019-03-07</td>\n",
              "      <td>4.68718</td>\n",
              "      <td>-74.0341</td>\n",
              "      <td>Colombia</td>\n",
              "      <td>cundinamarca</td>\n",
              "      <td>Bogotá D.C</td>\n",
              "      <td>Usaquén</td>\n",
              "      <td>NaN</td>\n",
              "      <td>NaN</td>\n",
              "      <td>4</td>\n",
              "      <td>NaN</td>\n",
              "      <td>5</td>\n",
              "      <td>260.0</td>\n",
              "      <td>260</td>\n",
              "      <td>21.639557</td>\n",
              "      <td>COP</td>\n",
              "      <td>Mensual</td>\n",
              "      <td>Apartamento en venta, SANTA ANA ORIENTAL Bogot</td>\n",
              "      <td>La ubicacin exacta de estapropiedad no se publ...</td>\n",
              "      <td>Apartamento</td>\n",
              "      <td>Venta</td>\n",
              "    </tr>\n",
              "    <tr>\n",
              "      <th>...</th>\n",
              "      <td>...</td>\n",
              "      <td>...</td>\n",
              "      <td>...</td>\n",
              "      <td>...</td>\n",
              "      <td>...</td>\n",
              "      <td>...</td>\n",
              "      <td>...</td>\n",
              "      <td>...</td>\n",
              "      <td>...</td>\n",
              "      <td>...</td>\n",
              "      <td>...</td>\n",
              "      <td>...</td>\n",
              "      <td>...</td>\n",
              "      <td>...</td>\n",
              "      <td>...</td>\n",
              "      <td>...</td>\n",
              "      <td>...</td>\n",
              "      <td>...</td>\n",
              "      <td>...</td>\n",
              "      <td>...</td>\n",
              "      <td>...</td>\n",
              "      <td>...</td>\n",
              "      <td>...</td>\n",
              "      <td>...</td>\n",
              "      <td>...</td>\n",
              "    </tr>\n",
              "    <tr>\n",
              "      <th>57715</th>\n",
              "      <td>sLkQ1IZ9293wUm8YmmSxug==</td>\n",
              "      <td>Propiedad</td>\n",
              "      <td>2019-04-26</td>\n",
              "      <td>2019-07-10</td>\n",
              "      <td>2019-04-26</td>\n",
              "      <td>4.53472</td>\n",
              "      <td>-75.8121</td>\n",
              "      <td>Colombia</td>\n",
              "      <td>quindio</td>\n",
              "      <td>Armenia</td>\n",
              "      <td>NaN</td>\n",
              "      <td>NaN</td>\n",
              "      <td>NaN</td>\n",
              "      <td>5</td>\n",
              "      <td>NaN</td>\n",
              "      <td>4</td>\n",
              "      <td>2250.0</td>\n",
              "      <td>400</td>\n",
              "      <td>20.394762</td>\n",
              "      <td>COP</td>\n",
              "      <td>NaN</td>\n",
              "      <td>CHALET EN CONJUNTO CERRADO</td>\n",
              "      <td>Chalet en conjunto cerrado los Yarumos va Arme...</td>\n",
              "      <td>Casa</td>\n",
              "      <td>Venta</td>\n",
              "    </tr>\n",
              "    <tr>\n",
              "      <th>57716</th>\n",
              "      <td>sYfcoBCp4Xd1FFQLPfHeFA==</td>\n",
              "      <td>Propiedad</td>\n",
              "      <td>2019-05-23</td>\n",
              "      <td>2019-11-06</td>\n",
              "      <td>2019-05-23</td>\n",
              "      <td>4.50079</td>\n",
              "      <td>-75.6704</td>\n",
              "      <td>Colombia</td>\n",
              "      <td>quindio</td>\n",
              "      <td>Armenia</td>\n",
              "      <td>NaN</td>\n",
              "      <td>NaN</td>\n",
              "      <td>NaN</td>\n",
              "      <td>4</td>\n",
              "      <td>NaN</td>\n",
              "      <td>3</td>\n",
              "      <td>2363.0</td>\n",
              "      <td>450</td>\n",
              "      <td>20.292483</td>\n",
              "      <td>COP</td>\n",
              "      <td>NaN</td>\n",
              "      <td>SE VENDE CASA CAMPESTRE VIA CALARCA - BARCELONA</td>\n",
              "      <td>SE VENDE CASA CAMPESTREVIA CALARCA - BARCELONA...</td>\n",
              "      <td>Casa</td>\n",
              "      <td>Venta</td>\n",
              "    </tr>\n",
              "    <tr>\n",
              "      <th>57717</th>\n",
              "      <td>80pJAPoYUE6/GaDGyDLyzg==</td>\n",
              "      <td>Propiedad</td>\n",
              "      <td>2019-07-30</td>\n",
              "      <td>2019-11-06</td>\n",
              "      <td>2019-07-30</td>\n",
              "      <td>4.55816</td>\n",
              "      <td>-75.6576</td>\n",
              "      <td>Colombia</td>\n",
              "      <td>quindio</td>\n",
              "      <td>Armenia</td>\n",
              "      <td>NaN</td>\n",
              "      <td>NaN</td>\n",
              "      <td>NaN</td>\n",
              "      <td>1</td>\n",
              "      <td>NaN</td>\n",
              "      <td>1</td>\n",
              "      <td>37.0</td>\n",
              "      <td>37</td>\n",
              "      <td>18.258162</td>\n",
              "      <td>COP</td>\n",
              "      <td>NaN</td>\n",
              "      <td>Apartaestudio para vender en Armenia Norte</td>\n",
              "      <td>Apartaestudioen venta sector norte consta de1 ...</td>\n",
              "      <td>Apartamento</td>\n",
              "      <td>Venta</td>\n",
              "    </tr>\n",
              "    <tr>\n",
              "      <th>57718</th>\n",
              "      <td>wLlsjTVo2SlqeFVLk1CNxw==</td>\n",
              "      <td>Propiedad</td>\n",
              "      <td>2018-11-27</td>\n",
              "      <td>2019-06-08</td>\n",
              "      <td>2018-11-27</td>\n",
              "      <td>4.55397</td>\n",
              "      <td>-75.6602</td>\n",
              "      <td>Colombia</td>\n",
              "      <td>quindio</td>\n",
              "      <td>Armenia</td>\n",
              "      <td>NaN</td>\n",
              "      <td>NaN</td>\n",
              "      <td>NaN</td>\n",
              "      <td>4</td>\n",
              "      <td>NaN</td>\n",
              "      <td>3</td>\n",
              "      <td>192.0</td>\n",
              "      <td>160</td>\n",
              "      <td>19.673444</td>\n",
              "      <td>COP</td>\n",
              "      <td>NaN</td>\n",
              "      <td>Casa en venta en Providencia 1496</td>\n",
              "      <td>CIC. Corporativo Inmobiliario cafetero ofrece ...</td>\n",
              "      <td>Casa</td>\n",
              "      <td>Venta</td>\n",
              "    </tr>\n",
              "    <tr>\n",
              "      <th>57719</th>\n",
              "      <td>fBzAGdXWzo2YgV0/zBPjYg==</td>\n",
              "      <td>Propiedad</td>\n",
              "      <td>2019-09-09</td>\n",
              "      <td>2019-09-13</td>\n",
              "      <td>2019-09-09</td>\n",
              "      <td>NaN</td>\n",
              "      <td>NaN</td>\n",
              "      <td>Colombia</td>\n",
              "      <td>quindio</td>\n",
              "      <td>Armenia</td>\n",
              "      <td>NaN</td>\n",
              "      <td>NaN</td>\n",
              "      <td>NaN</td>\n",
              "      <td>NaN</td>\n",
              "      <td>4</td>\n",
              "      <td>5</td>\n",
              "      <td>335.0</td>\n",
              "      <td>NaN</td>\n",
              "      <td>20.422161</td>\n",
              "      <td>COP</td>\n",
              "      <td>NaN</td>\n",
              "      <td>VENDO ESPECTACULAR CASA EN ARMENIA</td>\n",
              "      <td>Vendo espectacular casa estrato 5 al norte de ...</td>\n",
              "      <td>Casa</td>\n",
              "      <td>Venta</td>\n",
              "    </tr>\n",
              "  </tbody>\n",
              "</table>\n",
              "<p>57720 rows × 25 columns</p>\n",
              "</div>"
            ],
            "text/plain": [
              "                             id    ad_type  ... property_type operation_type\n",
              "0      21hVd8iuH+Vz8ccVUf91vg==  Propiedad  ...   Apartamento          Venta\n",
              "1      zK8cnFQTvLXcj9GQ9e7/Xw==  Propiedad  ...   Apartamento          Venta\n",
              "2      Q5FuOEN1uZ1L9/eev3nP5Q==  Propiedad  ...          Casa          Venta\n",
              "3      P6B9tBZmJH0ut0j4LVnWwA==  Propiedad  ...   Apartamento          Venta\n",
              "4      ARHqD42gJbSoaCaOGoy9oA==  Propiedad  ...   Apartamento          Venta\n",
              "...                         ...        ...  ...           ...            ...\n",
              "57715  sLkQ1IZ9293wUm8YmmSxug==  Propiedad  ...          Casa          Venta\n",
              "57716  sYfcoBCp4Xd1FFQLPfHeFA==  Propiedad  ...          Casa          Venta\n",
              "57717  80pJAPoYUE6/GaDGyDLyzg==  Propiedad  ...   Apartamento          Venta\n",
              "57718  wLlsjTVo2SlqeFVLk1CNxw==  Propiedad  ...          Casa          Venta\n",
              "57719  fBzAGdXWzo2YgV0/zBPjYg==  Propiedad  ...          Casa          Venta\n",
              "\n",
              "[57720 rows x 25 columns]"
            ]
          },
          "metadata": {
            "tags": []
          },
          "execution_count": 22
        }
      ]
    },
    {
      "cell_type": "code",
      "metadata": {
        "colab_type": "code",
        "id": "urDd6XCkFTvF",
        "colab": {}
      },
      "source": [
        "df_balanced.drop(columns=['id',\"ad_type\",'start_date', 'start_date','created_on','end_date',\n",
        "                 'l1','l2', 'l4','l6', 'l5', \n",
        "                 'rooms', 'price_period', 'surface_covered',\n",
        "                 'operation_type','currency', 'title', 'description'], inplace=True)"
      ],
      "execution_count": null,
      "outputs": []
    },
    {
      "cell_type": "code",
      "metadata": {
        "colab_type": "code",
        "id": "w8MlReNbFTvP",
        "colab": {}
      },
      "source": [
        "df_train = df_balanced.copy()"
      ],
      "execution_count": null,
      "outputs": []
    },
    {
      "cell_type": "markdown",
      "metadata": {
        "colab_type": "text",
        "id": "6oX3GfCmnDMJ"
      },
      "source": [
        "## Machine Learning - Initial Model"
      ]
    },
    {
      "cell_type": "code",
      "metadata": {
        "colab_type": "code",
        "id": "o4NLXP9qnDMK",
        "colab": {}
      },
      "source": [
        "X_df = df_train.drop('price', axis=1).copy()\n",
        "Y_df = df_train['price'].copy()"
      ],
      "execution_count": null,
      "outputs": []
    },
    {
      "cell_type": "code",
      "metadata": {
        "colab_type": "code",
        "id": "vpvO2oN9nDMN",
        "colab": {}
      },
      "source": [
        "from sklearn.model_selection import train_test_split"
      ],
      "execution_count": null,
      "outputs": []
    },
    {
      "cell_type": "code",
      "metadata": {
        "colab_type": "code",
        "id": "4CG8xM85nDMR",
        "colab": {}
      },
      "source": [
        "X_train_or, X_test_or, Y_train_or, Y_test_or = train_test_split(\n",
        "    X_df, Y_df, test_size=0.2, random_state=5000)"
      ],
      "execution_count": null,
      "outputs": []
    },
    {
      "cell_type": "code",
      "metadata": {
        "colab_type": "code",
        "id": "sarIj-WynDMU",
        "colab": {}
      },
      "source": [
        "# Para eliminar SettingWithCopyWarning\n",
        "\n",
        "X_train = X_train_or.copy()\n",
        "X_test = X_test_or.copy()\n",
        "Y_train = Y_train_or.copy()\n",
        "Y_test = Y_test_or.copy()"
      ],
      "execution_count": null,
      "outputs": []
    },
    {
      "cell_type": "code",
      "metadata": {
        "colab_type": "code",
        "id": "H41yPQZJnDMX",
        "colab": {}
      },
      "source": [
        "from sklearn.preprocessing import (PowerTransformer, StandardScaler, \n",
        "                                   MinMaxScaler, LabelEncoder, OneHotEncoder)"
      ],
      "execution_count": null,
      "outputs": []
    },
    {
      "cell_type": "markdown",
      "metadata": {
        "colab_type": "text",
        "id": "XYxFQQdnnDMg"
      },
      "source": [
        "### Power Transformer Labels (Box-Cox)\n",
        "\n",
        "Normalize and reduce scale"
      ]
    },
    {
      "cell_type": "code",
      "metadata": {
        "colab_type": "code",
        "id": "RA7ERD9anDMh",
        "colab": {
          "base_uri": "https://localhost:8080/",
          "height": 204
        },
        "outputId": "e95fe6c6-e440-4803-d4d2-7aef27920b51"
      },
      "source": [
        "box_cox = PowerTransformer(method='box-cox') # Box-Cox object instance\n",
        "box_cox.fit(X_train[\"surface_total\"].values.reshape(-1,1)) # Box-Cox, array 2 dimensions\n",
        "X_train.loc[:,\"surface_total\"] = box_cox.transform(X_train[\"surface_total\"].values.reshape(-1,1)) # Transformamos el array\n",
        "X_train.head()"
      ],
      "execution_count": null,
      "outputs": [
        {
          "output_type": "execute_result",
          "data": {
            "text/html": [
              "<div>\n",
              "<style scoped>\n",
              "    .dataframe tbody tr th:only-of-type {\n",
              "        vertical-align: middle;\n",
              "    }\n",
              "\n",
              "    .dataframe tbody tr th {\n",
              "        vertical-align: top;\n",
              "    }\n",
              "\n",
              "    .dataframe thead th {\n",
              "        text-align: right;\n",
              "    }\n",
              "</style>\n",
              "<table border=\"1\" class=\"dataframe\">\n",
              "  <thead>\n",
              "    <tr style=\"text-align: right;\">\n",
              "      <th></th>\n",
              "      <th>lat</th>\n",
              "      <th>lon</th>\n",
              "      <th>l3</th>\n",
              "      <th>bedrooms</th>\n",
              "      <th>bathrooms</th>\n",
              "      <th>surface_total</th>\n",
              "      <th>property_type</th>\n",
              "    </tr>\n",
              "  </thead>\n",
              "  <tbody>\n",
              "    <tr>\n",
              "      <th>34060</th>\n",
              "      <td>6.16987</td>\n",
              "      <td>-75.5704</td>\n",
              "      <td>Envigado</td>\n",
              "      <td>NaN</td>\n",
              "      <td>3</td>\n",
              "      <td>-0.046900</td>\n",
              "      <td>Apartamento</td>\n",
              "    </tr>\n",
              "    <tr>\n",
              "      <th>13423</th>\n",
              "      <td>3.449</td>\n",
              "      <td>-76.549</td>\n",
              "      <td>Cali</td>\n",
              "      <td>3</td>\n",
              "      <td>3</td>\n",
              "      <td>0.497064</td>\n",
              "      <td>Apartamento</td>\n",
              "    </tr>\n",
              "    <tr>\n",
              "      <th>47584</th>\n",
              "      <td>6.31997</td>\n",
              "      <td>-75.5681</td>\n",
              "      <td>Bello</td>\n",
              "      <td>NaN</td>\n",
              "      <td>2</td>\n",
              "      <td>-0.659697</td>\n",
              "      <td>Apartamento</td>\n",
              "    </tr>\n",
              "    <tr>\n",
              "      <th>34415</th>\n",
              "      <td>6.155</td>\n",
              "      <td>-75.596</td>\n",
              "      <td>Envigado</td>\n",
              "      <td>3</td>\n",
              "      <td>2</td>\n",
              "      <td>-0.747530</td>\n",
              "      <td>Casa</td>\n",
              "    </tr>\n",
              "    <tr>\n",
              "      <th>27181</th>\n",
              "      <td>5.053</td>\n",
              "      <td>-75.479</td>\n",
              "      <td>Manizales</td>\n",
              "      <td>3</td>\n",
              "      <td>1</td>\n",
              "      <td>-1.128431</td>\n",
              "      <td>Apartamento</td>\n",
              "    </tr>\n",
              "  </tbody>\n",
              "</table>\n",
              "</div>"
            ],
            "text/plain": [
              "           lat      lon         l3  ... bathrooms surface_total  property_type\n",
              "34060  6.16987 -75.5704   Envigado  ...         3     -0.046900    Apartamento\n",
              "13423    3.449  -76.549       Cali  ...         3      0.497064    Apartamento\n",
              "47584  6.31997 -75.5681      Bello  ...         2     -0.659697    Apartamento\n",
              "34415    6.155  -75.596   Envigado  ...         2     -0.747530           Casa\n",
              "27181    5.053  -75.479  Manizales  ...         1     -1.128431    Apartamento\n",
              "\n",
              "[5 rows x 7 columns]"
            ]
          },
          "metadata": {
            "tags": []
          },
          "execution_count": 30
        }
      ]
    },
    {
      "cell_type": "markdown",
      "metadata": {
        "colab_type": "text",
        "id": "Gf-a5hWQnDMr"
      },
      "source": [
        "### Standard Scaler\n",
        "El Standard Scaler sirve para centrar una distribución en 0 y que tenga desviación estándar unitaria.\n",
        "\n",
        " $$\\mathbf{Z} = \\frac{\\mathbf{X} - \\mathbf{\\mu}}{\\mathbf{\\sigma}}$$\n"
      ]
    },
    {
      "cell_type": "code",
      "metadata": {
        "colab_type": "code",
        "id": "EL0C-avKnDMs",
        "colab": {
          "base_uri": "https://localhost:8080/",
          "height": 221
        },
        "outputId": "99595041-6cad-499d-c96c-872330d2f8b3"
      },
      "source": [
        "# Categorical Class\n",
        "print(\"Classes: \", X_train['property_type'].unique())\n",
        "X_train.head()"
      ],
      "execution_count": null,
      "outputs": [
        {
          "output_type": "stream",
          "text": [
            "Classes:  ['Apartamento' 'Casa']\n"
          ],
          "name": "stdout"
        },
        {
          "output_type": "execute_result",
          "data": {
            "text/html": [
              "<div>\n",
              "<style scoped>\n",
              "    .dataframe tbody tr th:only-of-type {\n",
              "        vertical-align: middle;\n",
              "    }\n",
              "\n",
              "    .dataframe tbody tr th {\n",
              "        vertical-align: top;\n",
              "    }\n",
              "\n",
              "    .dataframe thead th {\n",
              "        text-align: right;\n",
              "    }\n",
              "</style>\n",
              "<table border=\"1\" class=\"dataframe\">\n",
              "  <thead>\n",
              "    <tr style=\"text-align: right;\">\n",
              "      <th></th>\n",
              "      <th>lat</th>\n",
              "      <th>lon</th>\n",
              "      <th>l3</th>\n",
              "      <th>bedrooms</th>\n",
              "      <th>bathrooms</th>\n",
              "      <th>surface_total</th>\n",
              "      <th>property_type</th>\n",
              "    </tr>\n",
              "  </thead>\n",
              "  <tbody>\n",
              "    <tr>\n",
              "      <th>34060</th>\n",
              "      <td>6.16987</td>\n",
              "      <td>-75.5704</td>\n",
              "      <td>Envigado</td>\n",
              "      <td>NaN</td>\n",
              "      <td>3</td>\n",
              "      <td>-0.046900</td>\n",
              "      <td>Apartamento</td>\n",
              "    </tr>\n",
              "    <tr>\n",
              "      <th>13423</th>\n",
              "      <td>3.449</td>\n",
              "      <td>-76.549</td>\n",
              "      <td>Cali</td>\n",
              "      <td>3</td>\n",
              "      <td>3</td>\n",
              "      <td>0.497064</td>\n",
              "      <td>Apartamento</td>\n",
              "    </tr>\n",
              "    <tr>\n",
              "      <th>47584</th>\n",
              "      <td>6.31997</td>\n",
              "      <td>-75.5681</td>\n",
              "      <td>Bello</td>\n",
              "      <td>NaN</td>\n",
              "      <td>2</td>\n",
              "      <td>-0.659697</td>\n",
              "      <td>Apartamento</td>\n",
              "    </tr>\n",
              "    <tr>\n",
              "      <th>34415</th>\n",
              "      <td>6.155</td>\n",
              "      <td>-75.596</td>\n",
              "      <td>Envigado</td>\n",
              "      <td>3</td>\n",
              "      <td>2</td>\n",
              "      <td>-0.747530</td>\n",
              "      <td>Casa</td>\n",
              "    </tr>\n",
              "    <tr>\n",
              "      <th>27181</th>\n",
              "      <td>5.053</td>\n",
              "      <td>-75.479</td>\n",
              "      <td>Manizales</td>\n",
              "      <td>3</td>\n",
              "      <td>1</td>\n",
              "      <td>-1.128431</td>\n",
              "      <td>Apartamento</td>\n",
              "    </tr>\n",
              "  </tbody>\n",
              "</table>\n",
              "</div>"
            ],
            "text/plain": [
              "           lat      lon         l3  ... bathrooms surface_total  property_type\n",
              "34060  6.16987 -75.5704   Envigado  ...         3     -0.046900    Apartamento\n",
              "13423    3.449  -76.549       Cali  ...         3      0.497064    Apartamento\n",
              "47584  6.31997 -75.5681      Bello  ...         2     -0.659697    Apartamento\n",
              "34415    6.155  -75.596   Envigado  ...         2     -0.747530           Casa\n",
              "27181    5.053  -75.479  Manizales  ...         1     -1.128431    Apartamento\n",
              "\n",
              "[5 rows x 7 columns]"
            ]
          },
          "metadata": {
            "tags": []
          },
          "execution_count": 31
        }
      ]
    },
    {
      "cell_type": "code",
      "metadata": {
        "colab_type": "code",
        "id": "AJG0Ag_7FTwJ",
        "colab": {}
      },
      "source": [
        "le_l3 = LabelEncoder()\n",
        "le_l3.fit(X_train['l3'])\n",
        "X_train['l3'] = le_l3.transform(X_train['l3'])"
      ],
      "execution_count": null,
      "outputs": []
    },
    {
      "cell_type": "code",
      "metadata": {
        "colab_type": "code",
        "id": "vI4CcRH0FTwO",
        "colab": {}
      },
      "source": [
        "ohe_l3 = OneHotEncoder()\n",
        "ohe_l3.fit(X_train[\"l3\"].values[:,None])\n",
        "out = ohe_l3.transform(X_train[\"l3\"].values[:,None]) \n",
        "out_array = out.toarray()\n",
        "ohe_cols_op = []\n",
        "for category in ohe_l3.categories_[0]:\n",
        "    current_class = le_l3.classes_[int(category)]\n",
        "    col_add = \"op_\" + current_class\n",
        "    ohe_cols_op.append(col_add)\n",
        "    X_train[col_add] = out_array[:,int(category)]\n",
        "\n",
        "X_train = X_train.drop(\"l3\", axis =1)"
      ],
      "execution_count": null,
      "outputs": []
    },
    {
      "cell_type": "code",
      "metadata": {
        "colab_type": "code",
        "id": "i8zKj42wnDMw",
        "colab": {}
      },
      "source": [
        "le_proper_type = LabelEncoder()\n",
        "le_proper_type.fit(X_train['property_type'])\n",
        "X_train['property_type'] = le_proper_type.transform(X_train['property_type'])"
      ],
      "execution_count": null,
      "outputs": []
    },
    {
      "cell_type": "code",
      "metadata": {
        "colab_type": "code",
        "id": "vn7yK53WnDMz",
        "colab": {}
      },
      "source": [
        "ohe_proper_type = OneHotEncoder()\n",
        "ohe_proper_type.fit(X_train[\"property_type\"].values[:,None])\n",
        "out = ohe_proper_type.transform(X_train[\"property_type\"].values[:,None]) \n",
        "out_array = out.toarray()\n",
        "ohe_cols_op2 = []\n",
        "for category in ohe_proper_type.categories_[0]:\n",
        "    current_class = le_proper_type.classes_[int(category)]\n",
        "    col_add = \"op_\" + current_class\n",
        "    ohe_cols_op2.append(col_add)\n",
        "    X_train[col_add] = out_array[:,int(category)]\n",
        "\n",
        "X_train = X_train.drop(\"property_type\", axis =1)"
      ],
      "execution_count": null,
      "outputs": []
    },
    {
      "cell_type": "markdown",
      "metadata": {
        "colab_type": "text",
        "id": "OGpBNrhAnDM7"
      },
      "source": [
        "### Tratamiento de datos faltantes o NaN"
      ]
    },
    {
      "cell_type": "code",
      "metadata": {
        "colab_type": "code",
        "id": "DSMMWE0pnDM8",
        "colab": {}
      },
      "source": [
        "from sklearn.impute import SimpleImputer"
      ],
      "execution_count": null,
      "outputs": []
    },
    {
      "cell_type": "code",
      "metadata": {
        "colab_type": "code",
        "id": "yl0Q_7xmnDNA",
        "colab": {}
      },
      "source": [
        "# Using Simple Imputer\n",
        "si_bedrooms = SimpleImputer(strategy='mean')\n",
        "si_bedrooms.fit(X_train[\"bedrooms\"].values[:,None])\n",
        "X_train[\"bedrooms\"] = si_bedrooms.transform(X_train[\"bedrooms\"].values[:,None])\n",
        "\n",
        "si_bedrooms = SimpleImputer(strategy='mean')\n",
        "si_bedrooms.fit(X_test[\"bedrooms\"].values[:,None])\n",
        "X_test[\"bedrooms\"] = si_bedrooms.transform(X_test[\"bedrooms\"].values[:,None])\n",
        "\n",
        "# si_surf = SimpleImputer(strategy='mean')\n",
        "# si_surf.fit(X_train[\"surface_total\"].values[:,None])\n",
        "# X_train[\"surface_total\"] = si_surf.transform(X_train[\"surface_total\"].values[:,None])\n",
        "\n",
        "# si_surf = SimpleImputer(strategy='mean')\n",
        "# si_surf.fit(X_test[\"surface_total\"].values[:,None])\n",
        "# X_test[\"surface_total\"] = si_surf.transform(X_test[\"surface_total\"].values[:,None])\n",
        "\n",
        "si_lat = SimpleImputer(strategy='mean')\n",
        "si_lat.fit(X_train[\"lat\"].values[:,None])\n",
        "X_train[\"lat\"] = si_lat.transform(X_train[\"lat\"].values[:,None])\n",
        "\n",
        "si_lat = SimpleImputer(strategy='mean')\n",
        "si_lat.fit(X_test[\"lat\"].values[:,None])\n",
        "X_test[\"lat\"] = si_lat.transform(X_test[\"lat\"].values[:,None])\n",
        "\n",
        "si_lon = SimpleImputer(strategy='mean')\n",
        "si_lon.fit(X_train[\"lon\"].values[:,None])\n",
        "X_train[\"lon\"] = si_lon.transform(X_train[\"lon\"].values[:,None])\n",
        "\n",
        "si_lon = SimpleImputer(strategy='mean')\n",
        "si_lon.fit(X_test[\"lon\"].values[:,None])\n",
        "X_test[\"lon\"] = si_lon.transform(X_test[\"lon\"].values[:,None])\n",
        "\n",
        "si_bath = SimpleImputer(strategy='mean')\n",
        "si_bath.fit(X_train[\"bathrooms\"].values[:,None])\n",
        "X_train[\"bathrooms\"] = si_bath.transform(X_train[\"bathrooms\"].values[:,None])\n",
        "\n",
        "si_bath = SimpleImputer(strategy='mean')\n",
        "si_bath.fit(X_test[\"bathrooms\"].values[:,None])\n",
        "X_test[\"bathrooms\"] = si_bath.transform(X_test[\"bathrooms\"].values[:,None])"
      ],
      "execution_count": null,
      "outputs": []
    },
    {
      "cell_type": "code",
      "metadata": {
        "id": "LHpxCxr9-U_H",
        "colab_type": "code",
        "colab": {
          "base_uri": "https://localhost:8080/",
          "height": 153
        },
        "outputId": "8081dde7-d3f4-4d5d-8725-607cf5d2251f"
      },
      "source": [
        "X_test.isna().sum()"
      ],
      "execution_count": null,
      "outputs": [
        {
          "output_type": "execute_result",
          "data": {
            "text/plain": [
              "lat              0\n",
              "lon              0\n",
              "l3               0\n",
              "bedrooms         0\n",
              "bathrooms        0\n",
              "surface_total    0\n",
              "property_type    0\n",
              "dtype: int64"
            ]
          },
          "metadata": {
            "tags": []
          },
          "execution_count": 38
        }
      ]
    },
    {
      "cell_type": "code",
      "metadata": {
        "colab_type": "code",
        "id": "qvXbbN-2nDNC",
        "scrolled": true,
        "colab": {
          "base_uri": "https://localhost:8080/",
          "height": 326
        },
        "outputId": "d232061d-50ca-4c7f-b8ba-566e0a67bd87"
      },
      "source": [
        "#Otras transformaciones\n",
        "cols2scale = ['bedrooms', 'bathrooms']\n",
        "se_cols2scale = StandardScaler()\n",
        "se_cols2scale.fit(X_train[cols2scale])\n",
        "X_train[cols2scale] = se_cols2scale.transform(X_train[cols2scale])\n",
        "X_train.head()"
      ],
      "execution_count": null,
      "outputs": [
        {
          "output_type": "execute_result",
          "data": {
            "text/html": [
              "<div>\n",
              "<style scoped>\n",
              "    .dataframe tbody tr th:only-of-type {\n",
              "        vertical-align: middle;\n",
              "    }\n",
              "\n",
              "    .dataframe tbody tr th {\n",
              "        vertical-align: top;\n",
              "    }\n",
              "\n",
              "    .dataframe thead th {\n",
              "        text-align: right;\n",
              "    }\n",
              "</style>\n",
              "<table border=\"1\" class=\"dataframe\">\n",
              "  <thead>\n",
              "    <tr style=\"text-align: right;\">\n",
              "      <th></th>\n",
              "      <th>lat</th>\n",
              "      <th>lon</th>\n",
              "      <th>bedrooms</th>\n",
              "      <th>bathrooms</th>\n",
              "      <th>surface_total</th>\n",
              "      <th>op_Armenia</th>\n",
              "      <th>op_Barranquilla</th>\n",
              "      <th>op_Bello</th>\n",
              "      <th>op_Bogotá D.C</th>\n",
              "      <th>op_Bucaramanga</th>\n",
              "      <th>op_Cali</th>\n",
              "      <th>op_Cartagena</th>\n",
              "      <th>op_Envigado</th>\n",
              "      <th>op_Manizales</th>\n",
              "      <th>op_Medellín</th>\n",
              "      <th>op_Apartamento</th>\n",
              "      <th>op_Casa</th>\n",
              "    </tr>\n",
              "  </thead>\n",
              "  <tbody>\n",
              "    <tr>\n",
              "      <th>34060</th>\n",
              "      <td>6.169865</td>\n",
              "      <td>-75.570410</td>\n",
              "      <td>3.675603e-16</td>\n",
              "      <td>0.399790</td>\n",
              "      <td>-0.046900</td>\n",
              "      <td>0.0</td>\n",
              "      <td>0.0</td>\n",
              "      <td>0.0</td>\n",
              "      <td>0.0</td>\n",
              "      <td>0.0</td>\n",
              "      <td>0.0</td>\n",
              "      <td>0.0</td>\n",
              "      <td>1.0</td>\n",
              "      <td>0.0</td>\n",
              "      <td>0.0</td>\n",
              "      <td>1.0</td>\n",
              "      <td>0.0</td>\n",
              "    </tr>\n",
              "    <tr>\n",
              "      <th>13423</th>\n",
              "      <td>3.449000</td>\n",
              "      <td>-76.549000</td>\n",
              "      <td>-2.547269e-01</td>\n",
              "      <td>0.399790</td>\n",
              "      <td>0.497064</td>\n",
              "      <td>0.0</td>\n",
              "      <td>0.0</td>\n",
              "      <td>0.0</td>\n",
              "      <td>0.0</td>\n",
              "      <td>0.0</td>\n",
              "      <td>1.0</td>\n",
              "      <td>0.0</td>\n",
              "      <td>0.0</td>\n",
              "      <td>0.0</td>\n",
              "      <td>0.0</td>\n",
              "      <td>1.0</td>\n",
              "      <td>0.0</td>\n",
              "    </tr>\n",
              "    <tr>\n",
              "      <th>47584</th>\n",
              "      <td>6.319971</td>\n",
              "      <td>-75.568084</td>\n",
              "      <td>3.675603e-16</td>\n",
              "      <td>-0.419304</td>\n",
              "      <td>-0.659697</td>\n",
              "      <td>0.0</td>\n",
              "      <td>0.0</td>\n",
              "      <td>1.0</td>\n",
              "      <td>0.0</td>\n",
              "      <td>0.0</td>\n",
              "      <td>0.0</td>\n",
              "      <td>0.0</td>\n",
              "      <td>0.0</td>\n",
              "      <td>0.0</td>\n",
              "      <td>0.0</td>\n",
              "      <td>1.0</td>\n",
              "      <td>0.0</td>\n",
              "    </tr>\n",
              "    <tr>\n",
              "      <th>34415</th>\n",
              "      <td>6.155000</td>\n",
              "      <td>-75.596000</td>\n",
              "      <td>-2.547269e-01</td>\n",
              "      <td>-0.419304</td>\n",
              "      <td>-0.747530</td>\n",
              "      <td>0.0</td>\n",
              "      <td>0.0</td>\n",
              "      <td>0.0</td>\n",
              "      <td>0.0</td>\n",
              "      <td>0.0</td>\n",
              "      <td>0.0</td>\n",
              "      <td>0.0</td>\n",
              "      <td>1.0</td>\n",
              "      <td>0.0</td>\n",
              "      <td>0.0</td>\n",
              "      <td>0.0</td>\n",
              "      <td>1.0</td>\n",
              "    </tr>\n",
              "    <tr>\n",
              "      <th>27181</th>\n",
              "      <td>5.053000</td>\n",
              "      <td>-75.478996</td>\n",
              "      <td>-2.547269e-01</td>\n",
              "      <td>-1.238397</td>\n",
              "      <td>-1.128431</td>\n",
              "      <td>0.0</td>\n",
              "      <td>0.0</td>\n",
              "      <td>0.0</td>\n",
              "      <td>0.0</td>\n",
              "      <td>0.0</td>\n",
              "      <td>0.0</td>\n",
              "      <td>0.0</td>\n",
              "      <td>0.0</td>\n",
              "      <td>1.0</td>\n",
              "      <td>0.0</td>\n",
              "      <td>1.0</td>\n",
              "      <td>0.0</td>\n",
              "    </tr>\n",
              "  </tbody>\n",
              "</table>\n",
              "</div>"
            ],
            "text/plain": [
              "            lat        lon      bedrooms  ...  op_Medellín  op_Apartamento  op_Casa\n",
              "34060  6.169865 -75.570410  3.675603e-16  ...          0.0             1.0      0.0\n",
              "13423  3.449000 -76.549000 -2.547269e-01  ...          0.0             1.0      0.0\n",
              "47584  6.319971 -75.568084  3.675603e-16  ...          0.0             1.0      0.0\n",
              "34415  6.155000 -75.596000 -2.547269e-01  ...          0.0             0.0      1.0\n",
              "27181  5.053000 -75.478996 -2.547269e-01  ...          0.0             1.0      0.0\n",
              "\n",
              "[5 rows x 17 columns]"
            ]
          },
          "metadata": {
            "tags": []
          },
          "execution_count": 39
        }
      ]
    },
    {
      "cell_type": "code",
      "metadata": {
        "colab_type": "code",
        "id": "jJqmtLw0nDNE",
        "colab": {}
      },
      "source": [
        "X_test['surface_total'] = box_cox.transform(X_test['surface_total'].values[:,None])\n"
      ],
      "execution_count": null,
      "outputs": []
    },
    {
      "cell_type": "code",
      "metadata": {
        "colab_type": "code",
        "id": "Tzhsfv9gnDNH",
        "colab": {}
      },
      "source": [
        "X_test['property_type'] = le_proper_type.transform(X_test['property_type'])"
      ],
      "execution_count": null,
      "outputs": []
    },
    {
      "cell_type": "code",
      "metadata": {
        "colab_type": "code",
        "id": "5iZlOH-RFTwz",
        "colab": {}
      },
      "source": [
        "X_test['l3'] = le_l3.transform(X_test['l3'])"
      ],
      "execution_count": null,
      "outputs": []
    },
    {
      "cell_type": "code",
      "metadata": {
        "colab_type": "code",
        "id": "P5dhAGxMnDNK",
        "scrolled": true,
        "colab": {}
      },
      "source": [
        "temp_test = ohe_l3.transform(X_test[\"l3\"].values[:,None]).toarray()\n",
        "for idx, col in enumerate(ohe_cols_op):\n",
        "    X_test[col] = temp_test[:,idx]\n",
        "\n",
        "temp_test = ohe_proper_type.transform(X_test[\"property_type\"].values[:,None]).toarray()\n",
        "\n",
        "for idx, col in enumerate(ohe_cols_op2):\n",
        "    X_test[col] = temp_test[:,idx]\n",
        "    \n",
        "    \n",
        "\n",
        "\n",
        "X_test = X_test.drop(\"property_type\", axis=1)\n",
        "X_test = X_test.drop(\"l3\", axis=1)"
      ],
      "execution_count": null,
      "outputs": []
    },
    {
      "cell_type": "code",
      "metadata": {
        "colab_type": "code",
        "id": "wC6Uv-LAnDNO",
        "colab": {}
      },
      "source": [
        "X_test['bedrooms'] = si_bedrooms.transform(X_test[\"bedrooms\"].values[:,None])\n",
        "X_test['lat'] = si_lat.transform(X_test['lat'].values[:, None])\n",
        "X_test['lon'] = si_lon.transform(X_test['lon'].values[:, None])\n",
        "X_test['bathrooms'] = si_bath.transform(X_test['bathrooms'].values[:,None])"
      ],
      "execution_count": null,
      "outputs": []
    },
    {
      "cell_type": "code",
      "metadata": {
        "colab_type": "code",
        "id": "-6M_4BYsnDNR",
        "colab": {}
      },
      "source": [
        "X_test[cols2scale] = se_cols2scale.transform(X_test[cols2scale])"
      ],
      "execution_count": null,
      "outputs": []
    },
    {
      "cell_type": "code",
      "metadata": {
        "colab_type": "code",
        "id": "JdU2FI8AnDNV",
        "colab": {}
      },
      "source": [
        "assert (X_test.columns.values == X_train.columns.values).all()"
      ],
      "execution_count": null,
      "outputs": []
    },
    {
      "cell_type": "code",
      "metadata": {
        "colab_type": "code",
        "id": "rBmAwltYnDNY",
        "scrolled": false,
        "colab": {
          "base_uri": "https://localhost:8080/",
          "height": 456
        },
        "outputId": "17b4319a-36df-48cc-fad2-467336f3e9f4"
      },
      "source": [
        "X_train"
      ],
      "execution_count": null,
      "outputs": [
        {
          "output_type": "execute_result",
          "data": {
            "text/html": [
              "<div>\n",
              "<style scoped>\n",
              "    .dataframe tbody tr th:only-of-type {\n",
              "        vertical-align: middle;\n",
              "    }\n",
              "\n",
              "    .dataframe tbody tr th {\n",
              "        vertical-align: top;\n",
              "    }\n",
              "\n",
              "    .dataframe thead th {\n",
              "        text-align: right;\n",
              "    }\n",
              "</style>\n",
              "<table border=\"1\" class=\"dataframe\">\n",
              "  <thead>\n",
              "    <tr style=\"text-align: right;\">\n",
              "      <th></th>\n",
              "      <th>lat</th>\n",
              "      <th>lon</th>\n",
              "      <th>bedrooms</th>\n",
              "      <th>bathrooms</th>\n",
              "      <th>surface_total</th>\n",
              "      <th>op_Armenia</th>\n",
              "      <th>op_Barranquilla</th>\n",
              "      <th>op_Bello</th>\n",
              "      <th>op_Bogotá D.C</th>\n",
              "      <th>op_Bucaramanga</th>\n",
              "      <th>op_Cali</th>\n",
              "      <th>op_Cartagena</th>\n",
              "      <th>op_Envigado</th>\n",
              "      <th>op_Manizales</th>\n",
              "      <th>op_Medellín</th>\n",
              "      <th>op_Apartamento</th>\n",
              "      <th>op_Casa</th>\n",
              "    </tr>\n",
              "  </thead>\n",
              "  <tbody>\n",
              "    <tr>\n",
              "      <th>34060</th>\n",
              "      <td>6.169865</td>\n",
              "      <td>-75.570410</td>\n",
              "      <td>3.675603e-16</td>\n",
              "      <td>0.399790</td>\n",
              "      <td>-0.046900</td>\n",
              "      <td>0.0</td>\n",
              "      <td>0.0</td>\n",
              "      <td>0.0</td>\n",
              "      <td>0.0</td>\n",
              "      <td>0.0</td>\n",
              "      <td>0.0</td>\n",
              "      <td>0.0</td>\n",
              "      <td>1.0</td>\n",
              "      <td>0.0</td>\n",
              "      <td>0.0</td>\n",
              "      <td>1.0</td>\n",
              "      <td>0.0</td>\n",
              "    </tr>\n",
              "    <tr>\n",
              "      <th>13423</th>\n",
              "      <td>3.449000</td>\n",
              "      <td>-76.549000</td>\n",
              "      <td>-2.547269e-01</td>\n",
              "      <td>0.399790</td>\n",
              "      <td>0.497064</td>\n",
              "      <td>0.0</td>\n",
              "      <td>0.0</td>\n",
              "      <td>0.0</td>\n",
              "      <td>0.0</td>\n",
              "      <td>0.0</td>\n",
              "      <td>1.0</td>\n",
              "      <td>0.0</td>\n",
              "      <td>0.0</td>\n",
              "      <td>0.0</td>\n",
              "      <td>0.0</td>\n",
              "      <td>1.0</td>\n",
              "      <td>0.0</td>\n",
              "    </tr>\n",
              "    <tr>\n",
              "      <th>47584</th>\n",
              "      <td>6.319971</td>\n",
              "      <td>-75.568084</td>\n",
              "      <td>3.675603e-16</td>\n",
              "      <td>-0.419304</td>\n",
              "      <td>-0.659697</td>\n",
              "      <td>0.0</td>\n",
              "      <td>0.0</td>\n",
              "      <td>1.0</td>\n",
              "      <td>0.0</td>\n",
              "      <td>0.0</td>\n",
              "      <td>0.0</td>\n",
              "      <td>0.0</td>\n",
              "      <td>0.0</td>\n",
              "      <td>0.0</td>\n",
              "      <td>0.0</td>\n",
              "      <td>1.0</td>\n",
              "      <td>0.0</td>\n",
              "    </tr>\n",
              "    <tr>\n",
              "      <th>34415</th>\n",
              "      <td>6.155000</td>\n",
              "      <td>-75.596000</td>\n",
              "      <td>-2.547269e-01</td>\n",
              "      <td>-0.419304</td>\n",
              "      <td>-0.747530</td>\n",
              "      <td>0.0</td>\n",
              "      <td>0.0</td>\n",
              "      <td>0.0</td>\n",
              "      <td>0.0</td>\n",
              "      <td>0.0</td>\n",
              "      <td>0.0</td>\n",
              "      <td>0.0</td>\n",
              "      <td>1.0</td>\n",
              "      <td>0.0</td>\n",
              "      <td>0.0</td>\n",
              "      <td>0.0</td>\n",
              "      <td>1.0</td>\n",
              "    </tr>\n",
              "    <tr>\n",
              "      <th>27181</th>\n",
              "      <td>5.053000</td>\n",
              "      <td>-75.478996</td>\n",
              "      <td>-2.547269e-01</td>\n",
              "      <td>-1.238397</td>\n",
              "      <td>-1.128431</td>\n",
              "      <td>0.0</td>\n",
              "      <td>0.0</td>\n",
              "      <td>0.0</td>\n",
              "      <td>0.0</td>\n",
              "      <td>0.0</td>\n",
              "      <td>0.0</td>\n",
              "      <td>0.0</td>\n",
              "      <td>0.0</td>\n",
              "      <td>1.0</td>\n",
              "      <td>0.0</td>\n",
              "      <td>1.0</td>\n",
              "      <td>0.0</td>\n",
              "    </tr>\n",
              "    <tr>\n",
              "      <th>...</th>\n",
              "      <td>...</td>\n",
              "      <td>...</td>\n",
              "      <td>...</td>\n",
              "      <td>...</td>\n",
              "      <td>...</td>\n",
              "      <td>...</td>\n",
              "      <td>...</td>\n",
              "      <td>...</td>\n",
              "      <td>...</td>\n",
              "      <td>...</td>\n",
              "      <td>...</td>\n",
              "      <td>...</td>\n",
              "      <td>...</td>\n",
              "      <td>...</td>\n",
              "      <td>...</td>\n",
              "      <td>...</td>\n",
              "      <td>...</td>\n",
              "    </tr>\n",
              "    <tr>\n",
              "      <th>40067</th>\n",
              "      <td>7.130197</td>\n",
              "      <td>-73.116875</td>\n",
              "      <td>3.675603e-16</td>\n",
              "      <td>0.399790</td>\n",
              "      <td>1.488048</td>\n",
              "      <td>0.0</td>\n",
              "      <td>0.0</td>\n",
              "      <td>0.0</td>\n",
              "      <td>0.0</td>\n",
              "      <td>1.0</td>\n",
              "      <td>0.0</td>\n",
              "      <td>0.0</td>\n",
              "      <td>0.0</td>\n",
              "      <td>0.0</td>\n",
              "      <td>0.0</td>\n",
              "      <td>0.0</td>\n",
              "      <td>1.0</td>\n",
              "    </tr>\n",
              "    <tr>\n",
              "      <th>52238</th>\n",
              "      <td>6.589991</td>\n",
              "      <td>-75.174546</td>\n",
              "      <td>3.675603e-16</td>\n",
              "      <td>-1.238397</td>\n",
              "      <td>-2.230710</td>\n",
              "      <td>1.0</td>\n",
              "      <td>0.0</td>\n",
              "      <td>0.0</td>\n",
              "      <td>0.0</td>\n",
              "      <td>0.0</td>\n",
              "      <td>0.0</td>\n",
              "      <td>0.0</td>\n",
              "      <td>0.0</td>\n",
              "      <td>0.0</td>\n",
              "      <td>0.0</td>\n",
              "      <td>1.0</td>\n",
              "      <td>0.0</td>\n",
              "    </tr>\n",
              "    <tr>\n",
              "      <th>30621</th>\n",
              "      <td>6.177000</td>\n",
              "      <td>-75.585999</td>\n",
              "      <td>-1.082399e+00</td>\n",
              "      <td>0.399790</td>\n",
              "      <td>-0.251764</td>\n",
              "      <td>0.0</td>\n",
              "      <td>0.0</td>\n",
              "      <td>0.0</td>\n",
              "      <td>0.0</td>\n",
              "      <td>0.0</td>\n",
              "      <td>0.0</td>\n",
              "      <td>0.0</td>\n",
              "      <td>1.0</td>\n",
              "      <td>0.0</td>\n",
              "      <td>0.0</td>\n",
              "      <td>1.0</td>\n",
              "      <td>0.0</td>\n",
              "    </tr>\n",
              "    <tr>\n",
              "      <th>55905</th>\n",
              "      <td>4.535000</td>\n",
              "      <td>-75.676003</td>\n",
              "      <td>-2.547269e-01</td>\n",
              "      <td>-1.238397</td>\n",
              "      <td>-0.604242</td>\n",
              "      <td>1.0</td>\n",
              "      <td>0.0</td>\n",
              "      <td>0.0</td>\n",
              "      <td>0.0</td>\n",
              "      <td>0.0</td>\n",
              "      <td>0.0</td>\n",
              "      <td>0.0</td>\n",
              "      <td>0.0</td>\n",
              "      <td>0.0</td>\n",
              "      <td>0.0</td>\n",
              "      <td>0.0</td>\n",
              "      <td>1.0</td>\n",
              "    </tr>\n",
              "    <tr>\n",
              "      <th>34242</th>\n",
              "      <td>6.589991</td>\n",
              "      <td>-75.174546</td>\n",
              "      <td>5.729453e-01</td>\n",
              "      <td>-0.419304</td>\n",
              "      <td>-0.251764</td>\n",
              "      <td>0.0</td>\n",
              "      <td>0.0</td>\n",
              "      <td>0.0</td>\n",
              "      <td>0.0</td>\n",
              "      <td>0.0</td>\n",
              "      <td>0.0</td>\n",
              "      <td>0.0</td>\n",
              "      <td>1.0</td>\n",
              "      <td>0.0</td>\n",
              "      <td>0.0</td>\n",
              "      <td>1.0</td>\n",
              "      <td>0.0</td>\n",
              "    </tr>\n",
              "  </tbody>\n",
              "</table>\n",
              "<p>46176 rows × 17 columns</p>\n",
              "</div>"
            ],
            "text/plain": [
              "            lat        lon      bedrooms  ...  op_Medellín  op_Apartamento  op_Casa\n",
              "34060  6.169865 -75.570410  3.675603e-16  ...          0.0             1.0      0.0\n",
              "13423  3.449000 -76.549000 -2.547269e-01  ...          0.0             1.0      0.0\n",
              "47584  6.319971 -75.568084  3.675603e-16  ...          0.0             1.0      0.0\n",
              "34415  6.155000 -75.596000 -2.547269e-01  ...          0.0             0.0      1.0\n",
              "27181  5.053000 -75.478996 -2.547269e-01  ...          0.0             1.0      0.0\n",
              "...         ...        ...           ...  ...          ...             ...      ...\n",
              "40067  7.130197 -73.116875  3.675603e-16  ...          0.0             0.0      1.0\n",
              "52238  6.589991 -75.174546  3.675603e-16  ...          0.0             1.0      0.0\n",
              "30621  6.177000 -75.585999 -1.082399e+00  ...          0.0             1.0      0.0\n",
              "55905  4.535000 -75.676003 -2.547269e-01  ...          0.0             0.0      1.0\n",
              "34242  6.589991 -75.174546  5.729453e-01  ...          0.0             1.0      0.0\n",
              "\n",
              "[46176 rows x 17 columns]"
            ]
          },
          "metadata": {
            "tags": []
          },
          "execution_count": 47
        }
      ]
    },
    {
      "cell_type": "code",
      "metadata": {
        "colab_type": "code",
        "id": "gPs9kJouFTxQ",
        "colab": {}
      },
      "source": [
        "#Rename columns\n",
        "new_col = []\n",
        "\n",
        "for col in list(X_train.columns):\n",
        "    new_col.append(clean_alpha(col))\n",
        "    \n",
        "    \n",
        "X_train.columns = new_col\n",
        "X_test.columns = new_col"
      ],
      "execution_count": null,
      "outputs": []
    },
    {
      "cell_type": "code",
      "metadata": {
        "id": "ygi7zpDfkKDs",
        "colab_type": "code",
        "colab": {}
      },
      "source": [
        "df1 = X_train.copy()\n",
        "\n",
        "df1['price'] = Y_train.copy()"
      ],
      "execution_count": null,
      "outputs": []
    },
    {
      "cell_type": "code",
      "metadata": {
        "id": "X2TRZ1oHpTwL",
        "colab_type": "code",
        "colab": {}
      },
      "source": [
        ""
      ],
      "execution_count": null,
      "outputs": []
    },
    {
      "cell_type": "markdown",
      "metadata": {
        "colab_type": "text",
        "id": "tI7Soilmrz6J"
      },
      "source": [
        "## Measure of Error of the Models\n"
      ]
    },
    {
      "cell_type": "code",
      "metadata": {
        "colab_type": "code",
        "id": "XQriTZ5xFTx8",
        "colab": {}
      },
      "source": [
        "from sklearn.metrics import mean_squared_error, r2_score, mean_absolute_error\n",
        "\n",
        "# measure error \n",
        "def error(Y_test, Y_estimate):\n",
        "    rmse = mean_squared_error(Y_test, Y_estimate)\n",
        "    mae = mean_absolute_error(Y_test, Y_estimate)\n",
        "    r2 = r2_score(Y_test, Y_estimate)\n",
        "    print(\"Root Mean Square Error (RMSE)= {:.3f}\".format(rmse),\n",
        "    \"\\nMean Absolute Error (MAE)= {:.3f}\".format(mae),\n",
        "    \"\\nR^2 = {:.3f}\".format(r2))\n"
      ],
      "execution_count": null,
      "outputs": []
    },
    {
      "cell_type": "code",
      "metadata": {
        "colab_type": "code",
        "id": "PZ6HeipUFTva",
        "colab": {}
      },
      "source": [
        "from sklearn.model_selection import cross_val_score\n",
        "# function to get cross validation scores\n",
        "def get_cv_scores(model):\n",
        "    scores = cross_val_score(model,\n",
        "                             X_train,\n",
        "                             Y_train,\n",
        "                             cv=5,\n",
        "                             scoring='r2')\n",
        "    \n",
        "    print('CV Mean: ', np.mean(scores))\n",
        "    print('STD: ', np.std(scores))\n",
        "    print('\\n')"
      ],
      "execution_count": null,
      "outputs": []
    },
    {
      "cell_type": "markdown",
      "metadata": {
        "colab_type": "text",
        "id": "oJ6Q6xNMFTxW"
      },
      "source": [
        "# Bagging"
      ]
    },
    {
      "cell_type": "code",
      "metadata": {
        "colab_type": "code",
        "id": "SZYgWkgDFTxX",
        "colab": {}
      },
      "source": [
        "import sklearn\n",
        "from sklearn.ensemble import BaggingRegressor\n",
        "model1 = sklearn.ensemble.BaggingRegressor(n_estimators=20).fit(X_train, Y_train)\n",
        "\n",
        "prediction1 = model1.predict(X_test)\n",
        "error(Y_test, prediction1)"
      ],
      "execution_count": null,
      "outputs": []
    },
    {
      "cell_type": "markdown",
      "metadata": {
        "colab_type": "text",
        "id": "jXT2biLlnDNa"
      },
      "source": [
        "## Bagging with ExtraTree"
      ]
    },
    {
      "cell_type": "code",
      "metadata": {
        "colab_type": "code",
        "id": "P8uWX-XknDNb",
        "colab": {}
      },
      "source": [
        "from sklearn.ensemble import BaggingRegressor\n",
        "from sklearn.tree import ExtraTreeRegressor\n",
        "extra_tree = ExtraTreeRegressor(splitter = \"best\" ,random_state=1000)\n",
        "model2 = BaggingRegressor(extra_tree, random_state=1000, n_estimators=60).fit(X_train, Y_train)\n",
        "prediction2 = model2.predict(X_test)\n",
        "error(Y_test, prediction2)"
      ],
      "execution_count": null,
      "outputs": []
    },
    {
      "cell_type": "code",
      "metadata": {
        "colab_type": "code",
        "id": "2snXG4bJFTxx",
        "scrolled": true,
        "colab": {}
      },
      "source": [
        "# p = 2**Y_test\n",
        "# p2 = 2**Y_test_estimate\n",
        "# mae = mean_absolute_error(p, p2)\n",
        "# print(mae)"
      ],
      "execution_count": null,
      "outputs": []
    },
    {
      "cell_type": "code",
      "metadata": {
        "colab_type": "code",
        "id": "4ZPrBaAXfI-4",
        "colab": {}
      },
      "source": [
        "plt.scatter(Y_test, prediction2)\n",
        "plt.xlabel(r'$y_{test}$',fontsize=16)\n",
        "plt.ylabel(r'$y_{pred}$',fontsize=16)\n",
        "plt.title(r'Precios Reales Vs Predichos',fontsize=16)"
      ],
      "execution_count": null,
      "outputs": []
    },
    {
      "cell_type": "markdown",
      "metadata": {
        "colab_type": "text",
        "id": "j7vg1ewPFTyA"
      },
      "source": [
        "## Lasso Regression"
      ]
    },
    {
      "cell_type": "code",
      "metadata": {
        "colab_type": "code",
        "id": "Jf2DmHVCFTyB",
        "scrolled": true,
        "colab": {}
      },
      "source": [
        "import sklearn\n",
        "from sklearn.linear_model import  Lasso\n",
        "\n",
        "model3 = sklearn.linear_model.Lasso(alpha = 0.1).fit(X_train, Y_train)\n",
        "prediction3 = model3.predict(X_test)\n",
        "error(Y_test, prediction3)"
      ],
      "execution_count": null,
      "outputs": []
    },
    {
      "cell_type": "markdown",
      "metadata": {
        "colab_type": "text",
        "id": "i-vbQQPEFTyF"
      },
      "source": [
        "## LightGBM"
      ]
    },
    {
      "cell_type": "code",
      "metadata": {
        "colab_type": "code",
        "id": "RoJ9XlW7FTyG",
        "colab": {}
      },
      "source": [
        "import lightgbm as lgb\n",
        "\n",
        "lgb_train = lgb.Dataset(X_train, Y_train)\n",
        "lgb_eval = lgb.Dataset(X_test, Y_test, reference=lgb_train)\n",
        "\n",
        "params = {\n",
        "    'boosting_type': 'gbdt','objective': 'regression', 'metric': {'l2', 'l1'},'num_leaves': 31,\n",
        "    'learning_rate': 0.05, 'feature_fraction': 0.7,'bagging_fraction': 0.8, 'bagging_freq': 5,  'verbose': 0\n",
        "}\n",
        "\n",
        "model4 = lgb.train(params,\n",
        "                lgb_train,\n",
        "                num_boost_round=6000,\n",
        "                valid_sets=lgb_eval,\n",
        "                early_stopping_rounds=10000)\n",
        "\n",
        "prediction4 = model4.predict(X_test, num_iteration=model4.best_iteration)\n",
        "error(Y_test, prediction4)"
      ],
      "execution_count": null,
      "outputs": []
    },
    {
      "cell_type": "code",
      "metadata": {
        "colab_type": "code",
        "id": "oFJF0wzTK6KC",
        "colab": {}
      },
      "source": [
        "fig = plt.figure()\n",
        "plt.scatter(Y_test, prediction4)\n",
        "plt.xlabel(r'$y_{test}$',fontsize=16)\n",
        "plt.ylabel(r'$y_{pred}$',fontsize=16)\n",
        "plt.title(r'Precios Reales Vs Predichos',fontsize=16)\n",
        "fig.savefig('temp23.png',  dpi=500)"
      ],
      "execution_count": null,
      "outputs": []
    },
    {
      "cell_type": "code",
      "metadata": {
        "colab_type": "code",
        "id": "sjYykvtDVoh8",
        "colab": {}
      },
      "source": [
        "import plotly.express as px\n",
        "\n",
        "fig = px.scatter(x=Y_test, y=prediction4)\n",
        "fig.update_layout(title='Precios Reales Vs Precios Predichos', xaxis_title=  r\"$y_{test}$\", yaxis_title= r\"$y_{pred}$\")\n",
        "fig.show()"
      ],
      "execution_count": null,
      "outputs": []
    },
    {
      "cell_type": "markdown",
      "metadata": {
        "colab_type": "text",
        "id": "3Pv_XS-EFTyO"
      },
      "source": [
        "### Lasso CV"
      ]
    },
    {
      "cell_type": "code",
      "metadata": {
        "colab_type": "code",
        "id": "gDTGoLrrFTyP",
        "colab": {}
      },
      "source": [
        "from sklearn.linear_model import  LassoCV\n",
        "model5 = LassoCV().fit(X_train, Y_train)\n",
        "prediction5 = model5.predict(X_test)\n",
        "error(Y_test, prediction5)"
      ],
      "execution_count": null,
      "outputs": []
    },
    {
      "cell_type": "markdown",
      "metadata": {
        "colab_type": "text",
        "id": "vF6x3ryfFTyS"
      },
      "source": [
        "## Ridge"
      ]
    },
    {
      "cell_type": "code",
      "metadata": {
        "colab_type": "code",
        "id": "Gqt7wVO3FTyT",
        "colab": {}
      },
      "source": [
        "from sklearn.linear_model import Ridge\n",
        "model6 = Ridge(alpha=1).fit(X_train, Y_train)\n",
        "prediction6 = model6.predict(X_test)\n",
        "error(Y_test, prediction6)"
      ],
      "execution_count": null,
      "outputs": []
    },
    {
      "cell_type": "markdown",
      "metadata": {
        "colab_type": "text",
        "id": "As-loP-ZFTyY"
      },
      "source": [
        "## Linear"
      ]
    },
    {
      "cell_type": "code",
      "metadata": {
        "colab_type": "code",
        "id": "YLCR7_OoFTyY",
        "colab": {}
      },
      "source": [
        "from sklearn.linear_model import LinearRegression\n",
        "model7 = LinearRegression().fit(X_train, Y_train)\n",
        "prediction7 = model7.predict(X_test)\n",
        "error(Y_test, prediction7)"
      ],
      "execution_count": null,
      "outputs": []
    },
    {
      "cell_type": "markdown",
      "metadata": {
        "colab_type": "text",
        "id": "VzS0k7ytFTyc"
      },
      "source": [
        "# Elastic-Net"
      ]
    },
    {
      "cell_type": "code",
      "metadata": {
        "colab_type": "code",
        "id": "gPqDNrYOFTyc",
        "colab": {}
      },
      "source": [
        "from sklearn.linear_model import ElasticNet\n",
        "model8 = ElasticNet(alpha=1, l1_ratio=0.5).fit(X_train, Y_train)\n",
        "prediction8 = model8.predict(X_test)\n",
        "error(Y_test, prediction8)"
      ],
      "execution_count": null,
      "outputs": []
    },
    {
      "cell_type": "markdown",
      "metadata": {
        "colab_type": "text",
        "id": "TThVFWeQi0gx"
      },
      "source": [
        "## XGboost"
      ]
    },
    {
      "cell_type": "code",
      "metadata": {
        "colab_type": "code",
        "id": "6OMILQNlFTye",
        "colab": {}
      },
      "source": [
        "import xgboost as xgb\n",
        "model9 = xgb.XGBRegressor(objective ='reg:squarederror', colsample_bytree = 0.9,\n",
        "                          learning_rate = 0.9, max_depth = 10, alpha = 30, n_estimators = 30).fit(X_train,Y_train)\n",
        "prediction9 = model9.predict(X_test)\n",
        "error(Y_test, prediction9)"
      ],
      "execution_count": null,
      "outputs": []
    },
    {
      "cell_type": "markdown",
      "metadata": {
        "colab_type": "text",
        "id": "_QKDbweAXx8M"
      },
      "source": [
        "# Tuning of Hyperparameters"
      ]
    },
    {
      "cell_type": "markdown",
      "metadata": {
        "colab_type": "text",
        "id": "xy48Nc7sy46y"
      },
      "source": [
        "## Tuning of Ligthlgb"
      ]
    },
    {
      "cell_type": "code",
      "metadata": {
        "colab_type": "code",
        "id": "KZBFjAf_i99Z",
        "colab": {}
      },
      "source": [
        "!pip install optuna"
      ],
      "execution_count": null,
      "outputs": []
    },
    {
      "cell_type": "code",
      "metadata": {
        "colab_type": "code",
        "id": "vCtEiLkMux47",
        "colab": {}
      },
      "source": [
        "import numpy as np\n",
        "import sklearn.datasets\n",
        "from sklearn.metrics import accuracy_score\n",
        "from sklearn.model_selection import train_test_split\n",
        "\n",
        "import optuna.integration.lightgbm as lgb\n",
        "\n",
        "\n",
        "dtrain = lgb.Dataset(X_train, label=Y_train)\n",
        "dval = lgb.Dataset(X_test, label=Y_test)\n",
        "\n",
        "params = {\n",
        "    \"objective\": \"regression\",\n",
        "    \"metric\": \"binary_logloss\",\n",
        "    \"verbosity\": -1,\n",
        "    \"boosting_type\": \"gbdt\",\n",
        "    'metric':  'l2'\n",
        "}\n",
        "\n",
        "best_params, tuning_history = dict(), list()\n",
        "\n",
        "model = lgb.train(\n",
        "    params,\n",
        "    dtrain,\n",
        "    valid_sets=[dtrain, dval],\n",
        "    best_params=best_params,\n",
        "    tuning_history=tuning_history,\n",
        "    verbose_eval=600,\n",
        "    early_stopping_rounds=100,\n",
        ")\n",
        "\n",
        "prediction = model.predict(X_test, num_iteration=model.best_iteration)\n",
        "\n"
      ],
      "execution_count": null,
      "outputs": []
    },
    {
      "cell_type": "code",
      "metadata": {
        "colab_type": "code",
        "id": "JFQ4BPWxuOWH",
        "colab": {}
      },
      "source": [
        "print(\"Number of finished trials: {}\".format(len(tuning_history)))\n",
        "print(\"Best params:\", best_params)\n",
        "print(\"  Params: \")\n",
        "for key, value in best_params.items():\n",
        "    print(\"    {}: {}\".format(key, value))\n",
        "\n",
        "\n",
        "error(Y_test, prediction)"
      ],
      "execution_count": null,
      "outputs": []
    },
    {
      "cell_type": "markdown",
      "metadata": {
        "colab_type": "text",
        "id": "c9msNDtszEGO"
      },
      "source": [
        "## Tunning of XGBRegresor"
      ]
    },
    {
      "cell_type": "code",
      "metadata": {
        "colab_type": "code",
        "id": "gJNZeUz6zyxc",
        "colab": {}
      },
      "source": [
        "from sklearn.model_selection import RandomizedSearchCV, GridSearchCV\n",
        "from sklearn.model_selection import StratifiedKFold\n",
        "from xgboost import XGBRegressor\n",
        "\n",
        "params = {\n",
        "        'min_child_weight': [1, 5, 6, 7],\n",
        "        'gamma': [5, 6, 7, 8, 9],\n",
        "        'alpha':[50, 100, 150],\n",
        "        'subsample': [ 0.7, 0.9, 1.0],\n",
        "        'colsample_bytree': [0.75 ,0.8, 0.9],\n",
        "        'max_depth': [29, 30, 32],\n",
        "        'random_state' : np.random.randint(10000, size=20)\n",
        "        }\n",
        "xgb = XGBRegressor(learning_rate=0.9, n_estimators=30, objective='reg:squarederror')\n",
        "\n",
        "skf = StratifiedKFold(n_splits = 3, shuffle = True, random_state = 42)\n",
        "\n",
        "random_search_xb = RandomizedSearchCV(xgb, param_distributions=params,\n",
        "                                   n_iter= 5 , n_jobs=-1,cv = 2, verbose=3)\n",
        "\n",
        "random_search_xb.fit(X_train, Y_train)\n"
      ],
      "execution_count": null,
      "outputs": []
    },
    {
      "cell_type": "code",
      "metadata": {
        "colab_type": "code",
        "id": "CBez8OqtIOFP",
        "colab": {}
      },
      "source": [
        "best_params_xboosts = random_search_xb.best_params_\n",
        "print('\\n Best hyperparameters:',best_params_xboosts)"
      ],
      "execution_count": null,
      "outputs": []
    },
    {
      "cell_type": "code",
      "metadata": {
        "colab_type": "code",
        "id": "NbC6t1shQfCb",
        "colab": {}
      },
      "source": [
        "ypred = random_search_xb.predict(X_test)\n",
        "error(Y_test, ypred)"
      ],
      "execution_count": null,
      "outputs": []
    },
    {
      "cell_type": "markdown",
      "metadata": {
        "colab_type": "text",
        "id": "tmOSukGqRPBs"
      },
      "source": [
        "## Tuning ExtraTrees"
      ]
    },
    {
      "cell_type": "code",
      "metadata": {
        "colab_type": "code",
        "id": "yS1l3IYzROXB",
        "colab": {}
      },
      "source": [
        "from sklearn.model_selection import RandomizedSearchCV, GridSearchCV\n",
        "from sklearn.model_selection import StratifiedKFold\n",
        "from sklearn.ensemble import ExtraTreesRegressor\n",
        "from sklearn.ensemble import BaggingRegressor\n",
        "params = {\n",
        "        'max_depth': [29, 30, 32],\n",
        "        'random_state' : np.random.randint(10000, size=20),\n",
        "        'max_features' : ['auto', 'sqrt', 'log2'],\n",
        "        }\n",
        "extr = ExtraTreeRegressor(splitter='best')\n",
        "\n",
        "skf = StratifiedKFold(n_splits = 3, shuffle = True, random_state = 42)\n",
        "\n",
        "random_search_et = RandomizedSearchCV(extr, param_distributions=params,\n",
        "                                   n_iter= 5 , n_jobs=-1,cv = 2, verbose=3)\n",
        "\n",
        "random_search_et.fit(X_train, Y_train)\n"
      ],
      "execution_count": null,
      "outputs": []
    },
    {
      "cell_type": "code",
      "metadata": {
        "colab_type": "code",
        "id": "ofEutWATSeMK",
        "colab": {}
      },
      "source": [
        "best_params_et = random_search_et.best_params_\n",
        "print('\\n Best hyperparameters:',best_params_et)"
      ],
      "execution_count": null,
      "outputs": []
    },
    {
      "cell_type": "code",
      "metadata": {
        "colab_type": "code",
        "id": "NnmeV5lWSTo8",
        "colab": {}
      },
      "source": [
        "ypred = random_search_et.predict(X_test)\n",
        "error(Y_test, ypred)"
      ],
      "execution_count": null,
      "outputs": []
    },
    {
      "cell_type": "markdown",
      "metadata": {
        "colab_type": "text",
        "id": "OnXgdlz3YNbU"
      },
      "source": [
        "### Tuning BaggingRegresor"
      ]
    },
    {
      "cell_type": "code",
      "metadata": {
        "colab_type": "code",
        "id": "7T2WNvV9Vn9e",
        "colab": {}
      },
      "source": [
        "from sklearn.model_selection import RandomizedSearchCV, GridSearchCV\n",
        "from sklearn.model_selection import StratifiedKFold\n",
        "from sklearn.ensemble import ExtraTreesRegressor\n",
        "from sklearn.ensemble import BaggingRegressor\n",
        "params = {\n",
        "        'random_state' : np.random.randint(10000, size=20),\n",
        "        'n_estimators' : np.random.randint(100, size=20),\n",
        "        }\n",
        "reg = BaggingRegressor()\n",
        "\n",
        "skf = StratifiedKFold(n_splits = 3, shuffle = True, random_state = 42)\n",
        "\n",
        "random_search_b = RandomizedSearchCV(reg, param_distributions=params,\n",
        "                                   n_iter= 1 ,cv = 2,  n_jobs=-1, verbose=3)\n",
        "\n",
        "random_search_b.fit(X_train, Y_train)\n"
      ],
      "execution_count": null,
      "outputs": []
    },
    {
      "cell_type": "code",
      "metadata": {
        "colab_type": "code",
        "id": "SXE1kUHmaUvM",
        "colab": {}
      },
      "source": [
        "best_params_b = random_search_b.best_params_\n",
        "print('\\n Best hyperparameters:',best_params_b)"
      ],
      "execution_count": null,
      "outputs": []
    },
    {
      "cell_type": "code",
      "metadata": {
        "colab_type": "code",
        "id": "2SAU-6udWTnk",
        "colab": {}
      },
      "source": [
        "ypred = random_search_b.predict(X_test)\n",
        "error(Y_test, ypred)"
      ],
      "execution_count": null,
      "outputs": []
    },
    {
      "cell_type": "markdown",
      "metadata": {
        "colab_type": "text",
        "id": "uHwMcBFjZICU"
      },
      "source": [
        "# Mixing of Best Models "
      ]
    },
    {
      "cell_type": "markdown",
      "metadata": {
        "colab_type": "text",
        "id": "83Nya-2udp0F"
      },
      "source": [
        "###  mixing xboost and bagging"
      ]
    },
    {
      "cell_type": "code",
      "metadata": {
        "colab_type": "code",
        "id": "hbffpboTZQEA",
        "colab": {}
      },
      "source": [
        "bes_xgb = XGBRegressor(subsample = 0.9, random_state = 3061,\n",
        "                       min_child_weight = 7, max_depth =  32,\n",
        "                       gamma =  7,colsample_bytree = 0.8,\n",
        "                       alpha = 150, learning_rate=0.9, \n",
        "                       n_estimators=30)#, objective='reg:squarederror')\n",
        "baaggin = BaggingRegressor(base_estimator=bes_xgb, random_state = 5627, n_estimators = 10)\n",
        "baaggin.fit(X_train, Y_train)"
      ],
      "execution_count": null,
      "outputs": []
    },
    {
      "cell_type": "code",
      "metadata": {
        "colab_type": "code",
        "id": "2s74FgPEdYcA",
        "colab": {}
      },
      "source": [
        "ypred = baaggin.predict(X_test)\n",
        "error(Y_test, ypred)"
      ],
      "execution_count": null,
      "outputs": []
    },
    {
      "cell_type": "markdown",
      "metadata": {
        "colab_type": "text",
        "id": "noiXW6UidxBn"
      },
      "source": [
        "### mixing bagging and extra_tree "
      ]
    },
    {
      "cell_type": "code",
      "metadata": {
        "colab_type": "code",
        "id": "x64w-zaTd7TU",
        "colab": {}
      },
      "source": [
        "best_extr = ExtraTreeRegressor(random_state = 9502, max_features = 'log2', max_depth = 30, splitter='best')\n",
        "baaggin2 = BaggingRegressor(base_estimator=best_extr, random_state = 5627, n_estimators = 10)\n",
        "baaggin2.fit(X_train, Y_train)"
      ],
      "execution_count": null,
      "outputs": []
    },
    {
      "cell_type": "code",
      "metadata": {
        "colab_type": "code",
        "id": "NOMyCe62lVCC",
        "colab": {}
      },
      "source": [
        "ypred = baaggin2.predict(X_test)\n",
        "error(Y_test, ypred)"
      ],
      "execution_count": null,
      "outputs": []
    },
    {
      "cell_type": "markdown",
      "metadata": {
        "id": "4SZ3s2XoSiRB",
        "colab_type": "text"
      },
      "source": [
        "# Plots"
      ]
    },
    {
      "cell_type": "code",
      "metadata": {
        "id": "8cw7WFXGSlbx",
        "colab_type": "code",
        "colab": {}
      },
      "source": [
        "import plotly\n",
        "from plotly.offline import init_notebook_mode, plot, iplot, download_plotlyjs\n",
        "\n",
        "import plotly.graph_objs as go\n",
        "import plotly.figure_factory as ff"
      ],
      "execution_count": null,
      "outputs": []
    },
    {
      "cell_type": "code",
      "metadata": {
        "id": "6bDltdhMcI9A",
        "colab_type": "code",
        "colab": {}
      },
      "source": [
        "def configure_plotly_browser_state():\n",
        "  import IPython\n",
        "  display(IPython.core.display.HTML('''\n",
        "        <script src=\"/static/components/requirejs/require.js\"></script>\n",
        "        <script>\n",
        "          requirejs.config({\n",
        "            paths: {\n",
        "              base: '/static/base',\n",
        "              plotly: 'https://cdn.plot.ly/plotly-latest.min.js?noext',\n",
        "            },\n",
        "          });\n",
        "        </script>\n",
        "        '''))"
      ],
      "execution_count": null,
      "outputs": []
    },
    {
      "cell_type": "code",
      "metadata": {
        "id": "iQL2i5eDSqFg",
        "colab_type": "code",
        "colab": {}
      },
      "source": [
        "#Sin log\n",
        "configure_plotly_browser_state()\n",
        "init_notebook_mode(connected = False)\n",
        "\n",
        "fig = ff.create_distplot([df_train.price.astype(float)], ['Price'], show_hist = False)\n",
        "fig.show()"
      ],
      "execution_count": null,
      "outputs": []
    },
    {
      "cell_type": "code",
      "metadata": {
        "id": "uTBZCxADSwOw",
        "colab_type": "code",
        "colab": {}
      },
      "source": [
        "#Con log\n",
        "configure_plotly_browser_state()\n",
        "init_notebook_mode(connected = False)\n",
        "\n",
        "fig = ff.create_distplot([df_train.price.apply(lambda x: np.log(x)).astype(float)], ['Price'], show_hist = False)\n",
        "fig.show()"
      ],
      "execution_count": null,
      "outputs": []
    }
  ]
}