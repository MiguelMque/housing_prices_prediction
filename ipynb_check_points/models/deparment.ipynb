{
 "cells": [
  {
   "cell_type": "code",
   "execution_count": 15,
   "metadata": {},
   "outputs": [],
   "source": [
    "import pandas as pd\n",
    "import numpy as np\n",
    "import matplotlib.pyplot as plt\n",
    "import seaborn as sns\n",
    "from tqdm import tqdm\n",
    "import reverse_geocoder as rg \n",
    "import pprint \n",
    "from sklearn.base import BaseEstimator, TransformerMixin\n",
    "from sklearn.pipeline import make_pipeline, FeatureUnion, Pipeline\n",
    "from sklearn.preprocessing import (PowerTransformer, StandardScaler, \n",
    "                                   MinMaxScaler, OneHotEncoder)\n",
    "from sklearn.compose import TransformedTargetRegressor\n",
    "from sklearn.model_selection import train_test_split"
   ]
  },
  {
   "cell_type": "markdown",
   "metadata": {},
   "source": [
    "# Utilities"
   ]
  },
  {
   "cell_type": "code",
   "execution_count": 16,
   "metadata": {},
   "outputs": [],
   "source": [
    "def reverseGeocode(coordinates): \n",
    "    result = rg.search(coordinates) \n",
    "    \n",
    "    return result[0]['admin1'], result[0]['name']\n",
    "\n",
    "# Dataframe must have been given reset_indexed\n",
    "# Complete missing values where deparment and municipality are unknown\n",
    "def relocate(df_geo):\n",
    "    n = df_geo.shape[0]\n",
    "    for i in tqdm(range(0,n)):\n",
    "        lat = df_geo.loc[i, 'lat']\n",
    "        lon = df_geo.loc[i, 'lon']\n",
    "        l2 = df_geo.loc[i, 'l2']\n",
    "        l3 = df_geo.loc[i, 'l3']\n",
    "        if (~np.isnan(lat) and ~np.isnan(lon)) and (pd.isnull(l3) or pd.isnull(l2)):\n",
    "            df_geo.loc[i, 'l2'], df_geo.loc[i, 'l3'] = reverseGeocode((lat,lon))\n",
    "            \n",
    "    return df_geo\n",
    "\n",
    "#Calculates missing data and shows dataframe\n",
    "def calculate_missing(df):\n",
    "    s_types = df.dtypes\n",
    "    missing = df.isnull().sum()\n",
    "    missing_per = (df.isnull().sum()/df.shape[0])*100\n",
    "\n",
    "    explo = pd.DataFrame({'Type' : s_types, 'Missing' : missing,\n",
    "                       'Missing%' : missing_per}).sort_values(by=['Missing%', 'Type'], ascending=False)\n",
    "\n",
    "    return explo\n",
    "\n",
    "#Graph missing data given dataframe\n",
    "def graph_missing(df):\n",
    "\n",
    "    df_missing = calculate_missing(df)\n",
    "\n",
    "    df_missing = df_missing.where(df_missing['Missing%'] > 25).dropna(subset=['Missing%'])\n",
    "\n",
    "    sns.barplot(x=df_missing.index, y=df_missing['Missing%'], data=df_missing)"
   ]
  },
  {
   "cell_type": "markdown",
   "metadata": {},
   "source": [
    "## Processing"
   ]
  },
  {
   "cell_type": "code",
   "execution_count": 17,
   "metadata": {},
   "outputs": [],
   "source": [
    "df = pd.read_csv('properties_co.csv')"
   ]
  },
  {
   "cell_type": "code",
   "execution_count": 18,
   "metadata": {},
   "outputs": [
    {
     "data": {
      "text/plain": [
       "Unnamed: 0              0\n",
       "id                      0\n",
       "ad_type                 0\n",
       "start_date              0\n",
       "end_date                0\n",
       "created_on              0\n",
       "lat                123483\n",
       "lon                123483\n",
       "l1                      0\n",
       "l2                      0\n",
       "l3                      0\n",
       "l4                 653425\n",
       "l5                 795847\n",
       "l6                 892800\n",
       "rooms              558509\n",
       "bedrooms           498812\n",
       "bathrooms          120747\n",
       "surface_total      339878\n",
       "surface_covered    517718\n",
       "price                   0\n",
       "currency                0\n",
       "price_period       680665\n",
       "title                   0\n",
       "description            18\n",
       "property_type           1\n",
       "operation_type          1\n",
       "dtype: int64"
      ]
     },
     "execution_count": 18,
     "metadata": {},
     "output_type": "execute_result"
    }
   ],
   "source": [
    "df = df.where(df['price'] > 0).dropna(subset=['price'])\n",
    "\n",
    "df.isnull().sum()"
   ]
  },
  {
   "cell_type": "code",
   "execution_count": 19,
   "metadata": {},
   "outputs": [],
   "source": [
    "df = df.where(df['operation_type'] == 'Venta').dropna(subset=['operation_type'])\n",
    "df.drop(columns=['operation_type', 'l6', 'l5', 'l4', 'l3', 'l1', 'rooms', 'price_period', 'surface_covered', 'id', 'start_date', 'Unnamed: 0', 'title', 'description',  'start_date', 'end_date', 'created_on', 'ad_type'], inplace=True)"
   ]
  },
  {
   "cell_type": "code",
   "execution_count": 20,
   "metadata": {},
   "outputs": [],
   "source": [
    "def cop_to_usd(currency, price):\n",
    "    if currency == 'USD':\n",
    "        return price*3200\n",
    "    return price"
   ]
  },
  {
   "cell_type": "code",
   "execution_count": 21,
   "metadata": {},
   "outputs": [
    {
     "name": "stderr",
     "output_type": "stream",
     "text": [
      "100%|██████████| 603276/603276 [00:00<00:00, 3034178.65it/s]\n"
     ]
    }
   ],
   "source": [
    "df['price'] = tqdm(df.apply(lambda x: cop_to_usd(x.currency, x.price), axis=1))"
   ]
  },
  {
   "cell_type": "code",
   "execution_count": 22,
   "metadata": {},
   "outputs": [
    {
     "data": {
      "text/plain": [
       "lat               80982\n",
       "lon               80982\n",
       "l2                    0\n",
       "bedrooms         342494\n",
       "bathrooms         86886\n",
       "surface_total    229033\n",
       "price                 0\n",
       "currency              0\n",
       "property_type         0\n",
       "dtype: int64"
      ]
     },
     "execution_count": 22,
     "metadata": {},
     "output_type": "execute_result"
    }
   ],
   "source": [
    "df.isnull().sum()"
   ]
  },
  {
   "cell_type": "code",
   "execution_count": 23,
   "metadata": {},
   "outputs": [],
   "source": [
    "df.drop(columns=['currency'], inplace = True)"
   ]
  },
  {
   "cell_type": "code",
   "execution_count": 24,
   "metadata": {},
   "outputs": [],
   "source": [
    "housing_data = df.copy()\n",
    "housing_data['price'] = np.log(housing_data['price'])\n",
    "housing_data['price_per_m2'] = housing_data['price']/housing_data['surface_total']"
   ]
  },
  {
   "cell_type": "code",
   "execution_count": 25,
   "metadata": {},
   "outputs": [],
   "source": [
    "housing_data.rename(columns={'l2' : 'deparment'}, inplace = True)"
   ]
  },
  {
   "cell_type": "code",
   "execution_count": 26,
   "metadata": {},
   "outputs": [
    {
     "data": {
      "text/plain": [
       "lat               80982\n",
       "lon               80982\n",
       "deparment             0\n",
       "bedrooms         342494\n",
       "bathrooms         86886\n",
       "surface_total    229033\n",
       "price                 0\n",
       "property_type         0\n",
       "price_per_m2     229033\n",
       "dtype: int64"
      ]
     },
     "execution_count": 26,
     "metadata": {},
     "output_type": "execute_result"
    }
   ],
   "source": [
    "housing_data.isnull().sum()"
   ]
  },
  {
   "cell_type": "code",
   "execution_count": 27,
   "metadata": {},
   "outputs": [
    {
     "data": {
      "image/png": "[encoded data removed]",
      "text/plain": [
       "<Figure size 432x288 with 1 Axes>"
      ]
     },
     "metadata": {
      "needs_background": "light"
     },
     "output_type": "display_data"
    }
   ],
   "source": [
    "ax = sns.distplot(np.log(housing_data['price']));\n",
    "ax.set(xlabel='', ylabel='Frecuency',title =\"SalePrice Distribution\")\n",
    "plt.show()"
   ]
  },
  {
   "cell_type": "code",
   "execution_count": 28,
   "metadata": {},
   "outputs": [
    {
     "data": {
      "image/png": "[encoded data removed]",
      "text/plain": [
       "<Figure size 1440x1440 with 9 Axes>"
      ]
     },
     "metadata": {
      "needs_background": "light"
     },
     "output_type": "display_data"
    }
   ],
   "source": [
    "housing_data.hist(bins=50, figsize=(20,20))\n",
    "plt.show()"
   ]
  },
  {
   "cell_type": "code",
   "execution_count": 29,
   "metadata": {},
   "outputs": [
    {
     "data": {
      "text/plain": [
       "<matplotlib.axes._subplots.AxesSubplot at 0x7fef789817f0>"
      ]
     },
     "execution_count": 29,
     "metadata": {},
     "output_type": "execute_result"
    },
    {
     "data": {
      "image/png": "[encoded data removed]",
      "text/plain": [
       "<Figure size 1080x1080 with 2 Axes>"
      ]
     },
     "metadata": {
      "needs_background": "light"
     },
     "output_type": "display_data"
    }
   ],
   "source": [
    "corr = housing_data.corr()\n",
    "plt.figure(figsize=(15,15))\n",
    "sns.heatmap(corr, annot=True)"
   ]
  },
  {
   "cell_type": "code",
   "execution_count": 30,
   "metadata": {},
   "outputs": [
    {
     "data": {
      "text/plain": [
       "Index(['lat', 'lon', 'deparment', 'bedrooms', 'bathrooms', 'surface_total',\n",
       "       'price', 'property_type', 'price_per_m2'],\n",
       "      dtype='object')"
      ]
     },
     "execution_count": 30,
     "metadata": {},
     "output_type": "execute_result"
    }
   ],
   "source": [
    "housing_data.columns"
   ]
  },
  {
   "cell_type": "code",
   "execution_count": 31,
   "metadata": {},
   "outputs": [
    {
     "data": {
      "text/html": [
       "<div>\n",
       "<style scoped>\n",
       "    .dataframe tbody tr th:only-of-type {\n",
       "        vertical-align: middle;\n",
       "    }\n",
       "\n",
       "    .dataframe tbody tr th {\n",
       "        vertical-align: top;\n",
       "    }\n",
       "\n",
       "    .dataframe thead th {\n",
       "        text-align: right;\n",
       "    }\n",
       "</style>\n",
       "<table border=\"1\" class=\"dataframe\">\n",
       "  <thead>\n",
       "    <tr style=\"text-align: right;\">\n",
       "      <th></th>\n",
       "      <th>lat</th>\n",
       "      <th>lon</th>\n",
       "      <th>deparment</th>\n",
       "      <th>bedrooms</th>\n",
       "      <th>bathrooms</th>\n",
       "      <th>surface_total</th>\n",
       "      <th>price</th>\n",
       "      <th>property_type</th>\n",
       "      <th>price_per_m2</th>\n",
       "    </tr>\n",
       "  </thead>\n",
       "  <tbody>\n",
       "  </tbody>\n",
       "</table>\n",
       "</div>"
      ],
      "text/plain": [
       "Empty DataFrame\n",
       "Columns: [lat, lon, deparment, bedrooms, bathrooms, surface_total, price, property_type, price_per_m2]\n",
       "Index: []"
      ]
     },
     "execution_count": 31,
     "metadata": {},
     "output_type": "execute_result"
    }
   ],
   "source": [
    "housing_data = housing_data.drop(housing_data.index[153283])\n",
    "housing_data[housing_data['surface_total']<=0]"
   ]
  },
  {
   "cell_type": "code",
   "execution_count": 33,
   "metadata": {},
   "outputs": [],
   "source": [
    "deparments = list(housing_data['deparment'].value_counts().index)[0:30]\n",
    "housing_data = housing_data[housing_data['deparment'].isin(deparments)]"
   ]
  },
  {
   "cell_type": "code",
   "execution_count": 34,
   "metadata": {},
   "outputs": [
    {
     "data": {
      "text/html": [
       "<div>\n",
       "<style scoped>\n",
       "    .dataframe tbody tr th:only-of-type {\n",
       "        vertical-align: middle;\n",
       "    }\n",
       "\n",
       "    .dataframe tbody tr th {\n",
       "        vertical-align: top;\n",
       "    }\n",
       "\n",
       "    .dataframe thead th {\n",
       "        text-align: right;\n",
       "    }\n",
       "</style>\n",
       "<table border=\"1\" class=\"dataframe\">\n",
       "  <thead>\n",
       "    <tr style=\"text-align: right;\">\n",
       "      <th></th>\n",
       "      <th>lat</th>\n",
       "      <th>lon</th>\n",
       "      <th>deparment</th>\n",
       "      <th>bedrooms</th>\n",
       "      <th>bathrooms</th>\n",
       "      <th>surface_total</th>\n",
       "      <th>price</th>\n",
       "      <th>property_type</th>\n",
       "      <th>price_per_m2</th>\n",
       "    </tr>\n",
       "  </thead>\n",
       "  <tbody>\n",
       "    <tr>\n",
       "      <th>0</th>\n",
       "      <td>3.439000</td>\n",
       "      <td>-76.541000</td>\n",
       "      <td>Valle del Cauca</td>\n",
       "      <td>12.0</td>\n",
       "      <td>6.0</td>\n",
       "      <td>202.0</td>\n",
       "      <td>20.030119</td>\n",
       "      <td>Casa</td>\n",
       "      <td>0.099159</td>\n",
       "    </tr>\n",
       "    <tr>\n",
       "      <th>2</th>\n",
       "      <td>3.566000</td>\n",
       "      <td>-76.550000</td>\n",
       "      <td>Valle del Cauca</td>\n",
       "      <td>6.0</td>\n",
       "      <td>2.0</td>\n",
       "      <td>2500.0</td>\n",
       "      <td>18.757153</td>\n",
       "      <td>Casa</td>\n",
       "      <td>0.007503</td>\n",
       "    </tr>\n",
       "    <tr>\n",
       "      <th>3</th>\n",
       "      <td>4.736000</td>\n",
       "      <td>-75.896000</td>\n",
       "      <td>Valle del Cauca</td>\n",
       "      <td>8.0</td>\n",
       "      <td>5.0</td>\n",
       "      <td>45000.0</td>\n",
       "      <td>20.500122</td>\n",
       "      <td>Casa</td>\n",
       "      <td>0.000456</td>\n",
       "    </tr>\n",
       "    <tr>\n",
       "      <th>4</th>\n",
       "      <td>3.661000</td>\n",
       "      <td>-76.576000</td>\n",
       "      <td>Valle del Cauca</td>\n",
       "      <td>6.0</td>\n",
       "      <td>6.0</td>\n",
       "      <td>650.0</td>\n",
       "      <td>19.485391</td>\n",
       "      <td>Casa</td>\n",
       "      <td>0.029978</td>\n",
       "    </tr>\n",
       "    <tr>\n",
       "      <th>11</th>\n",
       "      <td>2.472816</td>\n",
       "      <td>-76.574428</td>\n",
       "      <td>Cauca</td>\n",
       "      <td>NaN</td>\n",
       "      <td>3.0</td>\n",
       "      <td>125.0</td>\n",
       "      <td>19.062535</td>\n",
       "      <td>Casa</td>\n",
       "      <td>0.152500</td>\n",
       "    </tr>\n",
       "    <tr>\n",
       "      <th>...</th>\n",
       "      <td>...</td>\n",
       "      <td>...</td>\n",
       "      <td>...</td>\n",
       "      <td>...</td>\n",
       "      <td>...</td>\n",
       "      <td>...</td>\n",
       "      <td>...</td>\n",
       "      <td>...</td>\n",
       "      <td>...</td>\n",
       "    </tr>\n",
       "    <tr>\n",
       "      <th>937780</th>\n",
       "      <td>7.869000</td>\n",
       "      <td>-72.465000</td>\n",
       "      <td>Norte de Santander</td>\n",
       "      <td>5.0</td>\n",
       "      <td>7.0</td>\n",
       "      <td>1000.0</td>\n",
       "      <td>21.976029</td>\n",
       "      <td>Casa</td>\n",
       "      <td>0.021976</td>\n",
       "    </tr>\n",
       "    <tr>\n",
       "      <th>937781</th>\n",
       "      <td>7.873000</td>\n",
       "      <td>-72.464000</td>\n",
       "      <td>Norte de Santander</td>\n",
       "      <td>5.0</td>\n",
       "      <td>7.0</td>\n",
       "      <td>1262.0</td>\n",
       "      <td>21.128731</td>\n",
       "      <td>Casa</td>\n",
       "      <td>0.016742</td>\n",
       "    </tr>\n",
       "    <tr>\n",
       "      <th>937782</th>\n",
       "      <td>7.844000</td>\n",
       "      <td>-72.467000</td>\n",
       "      <td>Norte de Santander</td>\n",
       "      <td>5.0</td>\n",
       "      <td>7.0</td>\n",
       "      <td>344.0</td>\n",
       "      <td>20.818576</td>\n",
       "      <td>Casa</td>\n",
       "      <td>0.060519</td>\n",
       "    </tr>\n",
       "    <tr>\n",
       "      <th>937783</th>\n",
       "      <td>7.855000</td>\n",
       "      <td>-72.464000</td>\n",
       "      <td>Norte de Santander</td>\n",
       "      <td>7.0</td>\n",
       "      <td>7.0</td>\n",
       "      <td>500.0</td>\n",
       "      <td>20.560747</td>\n",
       "      <td>Casa</td>\n",
       "      <td>0.041121</td>\n",
       "    </tr>\n",
       "    <tr>\n",
       "      <th>937784</th>\n",
       "      <td>4.153000</td>\n",
       "      <td>-74.715000</td>\n",
       "      <td>Tolima</td>\n",
       "      <td>6.0</td>\n",
       "      <td>7.0</td>\n",
       "      <td>10000.0</td>\n",
       "      <td>20.723266</td>\n",
       "      <td>Otro</td>\n",
       "      <td>0.002072</td>\n",
       "    </tr>\n",
       "  </tbody>\n",
       "</table>\n",
       "<p>602965 rows × 9 columns</p>\n",
       "</div>"
      ],
      "text/plain": [
       "             lat        lon           deparment  bedrooms  bathrooms  \\\n",
       "0       3.439000 -76.541000     Valle del Cauca      12.0        6.0   \n",
       "2       3.566000 -76.550000     Valle del Cauca       6.0        2.0   \n",
       "3       4.736000 -75.896000     Valle del Cauca       8.0        5.0   \n",
       "4       3.661000 -76.576000     Valle del Cauca       6.0        6.0   \n",
       "11      2.472816 -76.574428               Cauca       NaN        3.0   \n",
       "...          ...        ...                 ...       ...        ...   \n",
       "937780  7.869000 -72.465000  Norte de Santander       5.0        7.0   \n",
       "937781  7.873000 -72.464000  Norte de Santander       5.0        7.0   \n",
       "937782  7.844000 -72.467000  Norte de Santander       5.0        7.0   \n",
       "937783  7.855000 -72.464000  Norte de Santander       7.0        7.0   \n",
       "937784  4.153000 -74.715000              Tolima       6.0        7.0   \n",
       "\n",
       "        surface_total      price property_type  price_per_m2  \n",
       "0               202.0  20.030119          Casa      0.099159  \n",
       "2              2500.0  18.757153          Casa      0.007503  \n",
       "3             45000.0  20.500122          Casa      0.000456  \n",
       "4               650.0  19.485391          Casa      0.029978  \n",
       "11              125.0  19.062535          Casa      0.152500  \n",
       "...               ...        ...           ...           ...  \n",
       "937780         1000.0  21.976029          Casa      0.021976  \n",
       "937781         1262.0  21.128731          Casa      0.016742  \n",
       "937782          344.0  20.818576          Casa      0.060519  \n",
       "937783          500.0  20.560747          Casa      0.041121  \n",
       "937784        10000.0  20.723266          Otro      0.002072  \n",
       "\n",
       "[602965 rows x 9 columns]"
      ]
     },
     "execution_count": 34,
     "metadata": {},
     "output_type": "execute_result"
    }
   ],
   "source": [
    "housing_data"
   ]
  },
  {
   "cell_type": "markdown",
   "metadata": {},
   "source": [
    "## Machine Learning"
   ]
  },
  {
   "cell_type": "code",
   "execution_count": 35,
   "metadata": {},
   "outputs": [],
   "source": [
    "X_df = housing_data.drop('price', axis=1).copy()\n",
    "Y_df = housing_data['price'].copy()"
   ]
  },
  {
   "cell_type": "code",
   "execution_count": 36,
   "metadata": {},
   "outputs": [],
   "source": [
    "X_train_or, X_test_or, Y_train_or, Y_test_or = train_test_split(X_df, Y_df, \n",
    "                                                    test_size=0.2, \n",
    "                                                    random_state=2)"
   ]
  },
  {
   "cell_type": "code",
   "execution_count": 37,
   "metadata": {},
   "outputs": [],
   "source": [
    "X_train = X_train_or.copy()\n",
    "X_test = X_test_or.copy()\n",
    "Y_train = Y_train_or.copy()\n",
    "Y_test = Y_test_or.copy()"
   ]
  },
  {
   "cell_type": "code",
   "execution_count": 38,
   "metadata": {},
   "outputs": [],
   "source": [
    "from sklearn.preprocessing import (PowerTransformer, StandardScaler, \n",
    "                                   MinMaxScaler, LabelEncoder, OneHotEncoder)"
   ]
  },
  {
   "cell_type": "code",
   "execution_count": 39,
   "metadata": {},
   "outputs": [
    {
     "data": {
      "text/html": [
       "<div>\n",
       "<style scoped>\n",
       "    .dataframe tbody tr th:only-of-type {\n",
       "        vertical-align: middle;\n",
       "    }\n",
       "\n",
       "    .dataframe tbody tr th {\n",
       "        vertical-align: top;\n",
       "    }\n",
       "\n",
       "    .dataframe thead th {\n",
       "        text-align: right;\n",
       "    }\n",
       "</style>\n",
       "<table border=\"1\" class=\"dataframe\">\n",
       "  <thead>\n",
       "    <tr style=\"text-align: right;\">\n",
       "      <th></th>\n",
       "      <th>lat</th>\n",
       "      <th>lon</th>\n",
       "      <th>deparment</th>\n",
       "      <th>bedrooms</th>\n",
       "      <th>bathrooms</th>\n",
       "      <th>surface_total</th>\n",
       "      <th>property_type</th>\n",
       "      <th>price_per_m2</th>\n",
       "    </tr>\n",
       "  </thead>\n",
       "  <tbody>\n",
       "    <tr>\n",
       "      <th>758572</th>\n",
       "      <td>NaN</td>\n",
       "      <td>NaN</td>\n",
       "      <td>Magdalena</td>\n",
       "      <td>NaN</td>\n",
       "      <td>3.0</td>\n",
       "      <td>NaN</td>\n",
       "      <td>Apartamento</td>\n",
       "      <td>NaN</td>\n",
       "    </tr>\n",
       "    <tr>\n",
       "      <th>814619</th>\n",
       "      <td>3.491000</td>\n",
       "      <td>-76.515000</td>\n",
       "      <td>Valle del Cauca</td>\n",
       "      <td>NaN</td>\n",
       "      <td>2.0</td>\n",
       "      <td>NaN</td>\n",
       "      <td>Otro</td>\n",
       "      <td>NaN</td>\n",
       "    </tr>\n",
       "    <tr>\n",
       "      <th>343705</th>\n",
       "      <td>5.055481</td>\n",
       "      <td>-75.485059</td>\n",
       "      <td>Caldas</td>\n",
       "      <td>NaN</td>\n",
       "      <td>NaN</td>\n",
       "      <td>-0.960322</td>\n",
       "      <td>Otro</td>\n",
       "      <td>0.327891</td>\n",
       "    </tr>\n",
       "    <tr>\n",
       "      <th>218728</th>\n",
       "      <td>4.721850</td>\n",
       "      <td>-74.067098</td>\n",
       "      <td>Cundinamarca</td>\n",
       "      <td>NaN</td>\n",
       "      <td>3.0</td>\n",
       "      <td>NaN</td>\n",
       "      <td>Apartamento</td>\n",
       "      <td>NaN</td>\n",
       "    </tr>\n",
       "    <tr>\n",
       "      <th>420470</th>\n",
       "      <td>NaN</td>\n",
       "      <td>NaN</td>\n",
       "      <td>Antioquia</td>\n",
       "      <td>3.0</td>\n",
       "      <td>2.0</td>\n",
       "      <td>-0.450132</td>\n",
       "      <td>Otro</td>\n",
       "      <td>0.225390</td>\n",
       "    </tr>\n",
       "  </tbody>\n",
       "</table>\n",
       "</div>"
      ],
      "text/plain": [
       "             lat        lon        deparment  bedrooms  bathrooms  \\\n",
       "758572       NaN        NaN        Magdalena       NaN        3.0   \n",
       "814619  3.491000 -76.515000  Valle del Cauca       NaN        2.0   \n",
       "343705  5.055481 -75.485059           Caldas       NaN        NaN   \n",
       "218728  4.721850 -74.067098     Cundinamarca       NaN        3.0   \n",
       "420470       NaN        NaN        Antioquia       3.0        2.0   \n",
       "\n",
       "        surface_total property_type  price_per_m2  \n",
       "758572            NaN   Apartamento           NaN  \n",
       "814619            NaN          Otro           NaN  \n",
       "343705      -0.960322          Otro      0.327891  \n",
       "218728            NaN   Apartamento           NaN  \n",
       "420470      -0.450132          Otro      0.225390  "
      ]
     },
     "execution_count": 39,
     "metadata": {},
     "output_type": "execute_result"
    }
   ],
   "source": [
    "box_cox = PowerTransformer(method='box-cox') # Box-Cox object instance\n",
    "box_cox.fit(X_train[\"surface_total\"].values.reshape(-1,1)) # Box-Cox, array 2 dimensions\n",
    "X_train.loc[:,\"surface_total\"] = box_cox.transform(X_train[\"surface_total\"].values.reshape(-1,1)) # Transformamos el array\n",
    "X_train.head()"
   ]
  },
  {
   "cell_type": "code",
   "execution_count": 40,
   "metadata": {},
   "outputs": [
    {
     "data": {
      "text/plain": [
       "array([-0.40408571])"
      ]
     },
     "execution_count": 40,
     "metadata": {},
     "output_type": "execute_result"
    }
   ],
   "source": [
    "box_cox.lambdas_"
   ]
  },
  {
   "cell_type": "code",
   "execution_count": 41,
   "metadata": {},
   "outputs": [
    {
     "data": {
      "image/png": "[encoded data removed]",
      "text/plain": [
       "<Figure size 432x288 with 1 Axes>"
      ]
     },
     "metadata": {
      "needs_background": "light"
     },
     "output_type": "display_data"
    }
   ],
   "source": [
    "X_train[\"surface_total\"].hist(bins=100)\n",
    "plt.show()"
   ]
  },
  {
   "cell_type": "code",
   "execution_count": 42,
   "metadata": {},
   "outputs": [],
   "source": [
    "le_proper_type = LabelEncoder()\n",
    "le_proper_type.fit(X_train['property_type'])\n",
    "X_train['property_type'] = le_proper_type.transform(X_train['property_type'])\n",
    "\n",
    "le_deparment = LabelEncoder()\n",
    "le_deparment.fit(X_train['deparment'])\n",
    "X_train['deparment'] = le_deparment.transform(X_train['deparment'])\n",
    "\n",
    "\n",
    "ohe_proper_type = OneHotEncoder()\n",
    "ohe_proper_type.fit(X_train[\"property_type\"].values[:,None])\n",
    "out = ohe_proper_type.transform(X_train[\"property_type\"].values[:,None]) \n",
    "out_array_proper = out.toarray()\n",
    "ohe_cols_proper_op = []\n",
    "for category in ohe_proper_type.categories_[0]:\n",
    "    current_class = le_proper_type.classes_[int(category)]\n",
    "    col_add = \"op_\" + current_class\n",
    "    ohe_cols_proper_op.append(col_add)\n",
    "    X_train[col_add] = out_array_proper[:,int(category)]\n",
    "\n",
    "X_train = X_train.drop(\"property_type\", axis =1)\n",
    "\n",
    "ohe_deparment = OneHotEncoder()\n",
    "ohe_deparment.fit(X_train[\"deparment\"].values[:,None])\n",
    "out = ohe_deparment.transform(X_train[\"deparment\"].values[:,None]) \n",
    "out_array = out.toarray()\n",
    "ohe_cols_op = []\n",
    "for category in ohe_deparment.categories_[0]:\n",
    "    current_class = le_deparment.classes_[int(category)]\n",
    "    col_add = \"op_\" + current_class\n",
    "    ohe_cols_op.append(col_add)\n",
    "    X_train[col_add] = out_array[:,int(category)]\n",
    "\n",
    "X_train = X_train.drop(\"deparment\", axis =1)"
   ]
  },
  {
   "cell_type": "code",
   "execution_count": 43,
   "metadata": {},
   "outputs": [
    {
     "data": {
      "text/plain": [
       "array([ 0,  1,  2,  3,  4,  5,  6,  7,  8,  9, 10, 11, 12, 13, 14, 15, 16,\n",
       "       17, 18, 19, 20, 21, 22, 23, 24, 25, 26, 27, 28, 29])"
      ]
     },
     "execution_count": 43,
     "metadata": {},
     "output_type": "execute_result"
    }
   ],
   "source": [
    "ohe_deparment.categories_[0]"
   ]
  },
  {
   "cell_type": "code",
   "execution_count": 44,
   "metadata": {},
   "outputs": [
    {
     "data": {
      "text/plain": [
       "Cundinamarca                               33181\n",
       "Antioquia                                  24395\n",
       "Valle del Cauca                            14373\n",
       "Atlántico                                  11659\n",
       "Caldas                                      6975\n",
       "Quindío                                     4359\n",
       "Norte de Santander                          4230\n",
       "Bolívar                                     4200\n",
       "Risaralda                                   4173\n",
       "Santander                                   4058\n",
       "Tolima                                      1585\n",
       "Meta                                        1339\n",
       "Magdalena                                   1248\n",
       "Cauca                                       1183\n",
       "Cordoba                                      989\n",
       "Quindio                                      683\n",
       "Narino                                       366\n",
       "Huila                                        366\n",
       "Boyacá                                       327\n",
       "Casanare                                     203\n",
       "Tachira                                      155\n",
       "Nariño                                       114\n",
       "Cesar                                        113\n",
       "Boyaca                                        73\n",
       "Sucre                                         66\n",
       "Córdoba                                       63\n",
       "Atlantico                                     60\n",
       "Choco                                         32\n",
       "Caquetá                                       15\n",
       "San Andrés Providencia y Santa Catalina       10\n",
       "Name: deparment, dtype: int64"
      ]
     },
     "execution_count": 44,
     "metadata": {},
     "output_type": "execute_result"
    }
   ],
   "source": [
    "from sklearn.impute import SimpleImputer\n",
    "# NaNs Columns\n",
    "X_test['deparment'].value_counts()\n",
    "\n"
   ]
  },
  {
   "cell_type": "code",
   "execution_count": 45,
   "metadata": {},
   "outputs": [],
   "source": [
    "si_bedrooms = SimpleImputer(strategy='median')\n",
    "si_bedrooms.fit(X_train[\"bedrooms\"].values[:,None])\n",
    "X_train[\"bedrooms\"] = si_bedrooms.transform(X_train[\"bedrooms\"].values[:,None])\n",
    "\n",
    "si_lat = SimpleImputer(strategy='median')\n",
    "si_lat.fit(X_train[\"lat\"].values[:,None])\n",
    "X_train[\"lat\"] = si_lat.transform(X_train[\"lat\"].values[:,None])\n",
    "\n",
    "si_lon = SimpleImputer(strategy='median')\n",
    "si_lon.fit(X_train[\"lon\"].values[:,None])\n",
    "X_train[\"lon\"] = si_lon.transform(X_train[\"lon\"].values[:,None])\n",
    "\n",
    "si_bath = SimpleImputer(strategy='median')\n",
    "si_bath.fit(X_train[\"bathrooms\"].values[:,None])\n",
    "X_train[\"bathrooms\"] = si_bath.transform(X_train[\"bathrooms\"].values[:,None])\n",
    "\n",
    "si_price_per_m2 = SimpleImputer(strategy='median')\n",
    "si_price_per_m2.fit(X_train[\"price_per_m2\"].values[:,None])\n",
    "X_train[\"price_per_m2\"] = si_price_per_m2.transform(X_train[\"price_per_m2\"].values[:,None])\n",
    "\n",
    "si_surface_total = SimpleImputer(strategy='median')\n",
    "si_surface_total.fit(X_train[\"surface_total\"].values[:,None])\n",
    "X_train[\"surface_total\"] = si_surface_total.transform(X_train[\"surface_total\"].values[:,None])"
   ]
  },
  {
   "cell_type": "code",
   "execution_count": 46,
   "metadata": {},
   "outputs": [
    {
     "data": {
      "text/html": [
       "<div>\n",
       "<style scoped>\n",
       "    .dataframe tbody tr th:only-of-type {\n",
       "        vertical-align: middle;\n",
       "    }\n",
       "\n",
       "    .dataframe tbody tr th {\n",
       "        vertical-align: top;\n",
       "    }\n",
       "\n",
       "    .dataframe thead th {\n",
       "        text-align: right;\n",
       "    }\n",
       "</style>\n",
       "<table border=\"1\" class=\"dataframe\">\n",
       "  <thead>\n",
       "    <tr style=\"text-align: right;\">\n",
       "      <th></th>\n",
       "      <th>lat</th>\n",
       "      <th>lon</th>\n",
       "      <th>bedrooms</th>\n",
       "      <th>bathrooms</th>\n",
       "      <th>surface_total</th>\n",
       "      <th>price_per_m2</th>\n",
       "      <th>op_Apartamento</th>\n",
       "      <th>op_Casa</th>\n",
       "      <th>op_Depósito</th>\n",
       "      <th>op_Finca</th>\n",
       "      <th>...</th>\n",
       "      <th>op_Norte de Santander</th>\n",
       "      <th>op_Quindio</th>\n",
       "      <th>op_Quindío</th>\n",
       "      <th>op_Risaralda</th>\n",
       "      <th>op_San Andrés Providencia y Santa Catalina</th>\n",
       "      <th>op_Santander</th>\n",
       "      <th>op_Sucre</th>\n",
       "      <th>op_Tachira</th>\n",
       "      <th>op_Tolima</th>\n",
       "      <th>op_Valle del Cauca</th>\n",
       "    </tr>\n",
       "  </thead>\n",
       "  <tbody>\n",
       "    <tr>\n",
       "      <th>758572</th>\n",
       "      <td>-0.410545</td>\n",
       "      <td>-0.291393</td>\n",
       "      <td>-0.039838</td>\n",
       "      <td>0.264159</td>\n",
       "      <td>-0.114116</td>\n",
       "      <td>-0.092496</td>\n",
       "      <td>1.0</td>\n",
       "      <td>0.0</td>\n",
       "      <td>0.0</td>\n",
       "      <td>0.0</td>\n",
       "      <td>...</td>\n",
       "      <td>0.0</td>\n",
       "      <td>0.0</td>\n",
       "      <td>0.0</td>\n",
       "      <td>0.0</td>\n",
       "      <td>0.0</td>\n",
       "      <td>0.0</td>\n",
       "      <td>0.0</td>\n",
       "      <td>0.0</td>\n",
       "      <td>0.0</td>\n",
       "      <td>0.0</td>\n",
       "    </tr>\n",
       "    <tr>\n",
       "      <th>814619</th>\n",
       "      <td>-1.050787</td>\n",
       "      <td>-1.531782</td>\n",
       "      <td>-0.039838</td>\n",
       "      <td>-0.461043</td>\n",
       "      <td>-0.114116</td>\n",
       "      <td>-0.092496</td>\n",
       "      <td>0.0</td>\n",
       "      <td>0.0</td>\n",
       "      <td>0.0</td>\n",
       "      <td>0.0</td>\n",
       "      <td>...</td>\n",
       "      <td>0.0</td>\n",
       "      <td>0.0</td>\n",
       "      <td>0.0</td>\n",
       "      <td>0.0</td>\n",
       "      <td>0.0</td>\n",
       "      <td>0.0</td>\n",
       "      <td>0.0</td>\n",
       "      <td>0.0</td>\n",
       "      <td>0.0</td>\n",
       "      <td>1.0</td>\n",
       "    </tr>\n",
       "    <tr>\n",
       "      <th>343705</th>\n",
       "      <td>-0.350317</td>\n",
       "      <td>-0.486344</td>\n",
       "      <td>-0.039838</td>\n",
       "      <td>-0.461043</td>\n",
       "      <td>-0.960322</td>\n",
       "      <td>1.107600</td>\n",
       "      <td>0.0</td>\n",
       "      <td>0.0</td>\n",
       "      <td>0.0</td>\n",
       "      <td>0.0</td>\n",
       "      <td>...</td>\n",
       "      <td>0.0</td>\n",
       "      <td>0.0</td>\n",
       "      <td>0.0</td>\n",
       "      <td>0.0</td>\n",
       "      <td>0.0</td>\n",
       "      <td>0.0</td>\n",
       "      <td>0.0</td>\n",
       "      <td>0.0</td>\n",
       "      <td>0.0</td>\n",
       "      <td>0.0</td>\n",
       "    </tr>\n",
       "    <tr>\n",
       "      <th>218728</th>\n",
       "      <td>-0.499694</td>\n",
       "      <td>0.952953</td>\n",
       "      <td>-0.039838</td>\n",
       "      <td>0.264159</td>\n",
       "      <td>-0.114116</td>\n",
       "      <td>-0.092496</td>\n",
       "      <td>1.0</td>\n",
       "      <td>0.0</td>\n",
       "      <td>0.0</td>\n",
       "      <td>0.0</td>\n",
       "      <td>...</td>\n",
       "      <td>0.0</td>\n",
       "      <td>0.0</td>\n",
       "      <td>0.0</td>\n",
       "      <td>0.0</td>\n",
       "      <td>0.0</td>\n",
       "      <td>0.0</td>\n",
       "      <td>0.0</td>\n",
       "      <td>0.0</td>\n",
       "      <td>0.0</td>\n",
       "      <td>0.0</td>\n",
       "    </tr>\n",
       "    <tr>\n",
       "      <th>420470</th>\n",
       "      <td>-0.410545</td>\n",
       "      <td>-0.291393</td>\n",
       "      <td>-0.039838</td>\n",
       "      <td>-0.461043</td>\n",
       "      <td>-0.450132</td>\n",
       "      <td>0.347573</td>\n",
       "      <td>0.0</td>\n",
       "      <td>0.0</td>\n",
       "      <td>0.0</td>\n",
       "      <td>0.0</td>\n",
       "      <td>...</td>\n",
       "      <td>0.0</td>\n",
       "      <td>0.0</td>\n",
       "      <td>0.0</td>\n",
       "      <td>0.0</td>\n",
       "      <td>0.0</td>\n",
       "      <td>0.0</td>\n",
       "      <td>0.0</td>\n",
       "      <td>0.0</td>\n",
       "      <td>0.0</td>\n",
       "      <td>0.0</td>\n",
       "    </tr>\n",
       "  </tbody>\n",
       "</table>\n",
       "<p>5 rows × 45 columns</p>\n",
       "</div>"
      ],
      "text/plain": [
       "             lat       lon  bedrooms  bathrooms  surface_total  price_per_m2  \\\n",
       "758572 -0.410545 -0.291393 -0.039838   0.264159      -0.114116     -0.092496   \n",
       "814619 -1.050787 -1.531782 -0.039838  -0.461043      -0.114116     -0.092496   \n",
       "343705 -0.350317 -0.486344 -0.039838  -0.461043      -0.960322      1.107600   \n",
       "218728 -0.499694  0.952953 -0.039838   0.264159      -0.114116     -0.092496   \n",
       "420470 -0.410545 -0.291393 -0.039838  -0.461043      -0.450132      0.347573   \n",
       "\n",
       "        op_Apartamento  op_Casa  op_Depósito  op_Finca  ...  \\\n",
       "758572             1.0      0.0          0.0       0.0  ...   \n",
       "814619             0.0      0.0          0.0       0.0  ...   \n",
       "343705             0.0      0.0          0.0       0.0  ...   \n",
       "218728             1.0      0.0          0.0       0.0  ...   \n",
       "420470             0.0      0.0          0.0       0.0  ...   \n",
       "\n",
       "        op_Norte de Santander  op_Quindio  op_Quindío  op_Risaralda  \\\n",
       "758572                    0.0         0.0         0.0           0.0   \n",
       "814619                    0.0         0.0         0.0           0.0   \n",
       "343705                    0.0         0.0         0.0           0.0   \n",
       "218728                    0.0         0.0         0.0           0.0   \n",
       "420470                    0.0         0.0         0.0           0.0   \n",
       "\n",
       "        op_San Andrés Providencia y Santa Catalina  op_Santander  op_Sucre  \\\n",
       "758572                                         0.0           0.0       0.0   \n",
       "814619                                         0.0           0.0       0.0   \n",
       "343705                                         0.0           0.0       0.0   \n",
       "218728                                         0.0           0.0       0.0   \n",
       "420470                                         0.0           0.0       0.0   \n",
       "\n",
       "        op_Tachira  op_Tolima  op_Valle del Cauca  \n",
       "758572         0.0        0.0                 0.0  \n",
       "814619         0.0        0.0                 1.0  \n",
       "343705         0.0        0.0                 0.0  \n",
       "218728         0.0        0.0                 0.0  \n",
       "420470         0.0        0.0                 0.0  \n",
       "\n",
       "[5 rows x 45 columns]"
      ]
     },
     "execution_count": 46,
     "metadata": {},
     "output_type": "execute_result"
    }
   ],
   "source": [
    "cols2scale = ['lon', 'lat', 'bedrooms', 'bathrooms', 'price_per_m2']\n",
    "se_cols2scale = StandardScaler()\n",
    "se_cols2scale.fit(X_train[cols2scale])\n",
    "X_train[cols2scale] = se_cols2scale.transform(X_train[cols2scale])\n",
    "X_train.head()"
   ]
  },
  {
   "cell_type": "code",
   "execution_count": 47,
   "metadata": {},
   "outputs": [],
   "source": [
    "X_test['surface_total'] = box_cox.transform(X_test['surface_total'].values[:,None])\n",
    "\n",
    "\n",
    "X_test['deparment'] = le_deparment.transform(X_test['deparment'])\n",
    "temp_test = ohe_deparment.transform(X_test[\"deparment\"].values[:,None]).toarray()\n",
    "for idx, col in enumerate(ohe_cols_op):\n",
    "    X_test[col] = temp_test[:,idx]\n",
    "\n",
    "X_test = X_test.drop(\"deparment\", axis=1)"
   ]
  },
  {
   "cell_type": "code",
   "execution_count": 48,
   "metadata": {},
   "outputs": [],
   "source": [
    "X_test['property_type'] = le_proper_type.transform(X_test['property_type'])\n",
    "temp_test = ohe_proper_type.transform(X_test[\"property_type\"].values[:,None]).toarray()\n",
    "for idx, col in enumerate(ohe_cols_proper_op):\n",
    "    X_test[col] = temp_test[:,idx]\n",
    "\n",
    "X_test = X_test.drop(\"property_type\", axis=1)\n"
   ]
  },
  {
   "cell_type": "code",
   "execution_count": 49,
   "metadata": {},
   "outputs": [],
   "source": [
    "X_test['bedrooms'] = si_bedrooms.transform(X_test[\"bedrooms\"].values[:,None])\n",
    "X_test['lat'] = si_lat.transform(X_test['lat'].values[:, None])\n",
    "X_test['lon'] = si_lon.transform(X_test['lon'].values[:, None])\n",
    "X_test['bathrooms'] = si_bath.transform(X_test['bathrooms'].values[:,None])\n",
    "X_test['surface_total'] = si_surface_total.transform(X_test['surface_total'].values[:,None])\n",
    "X_test['price_per_m2'] = si_price_per_m2.transform(X_test['price_per_m2'].values[:,None])"
   ]
  },
  {
   "cell_type": "code",
   "execution_count": 50,
   "metadata": {},
   "outputs": [],
   "source": [
    "X_test[cols2scale] = se_cols2scale.transform(X_test[cols2scale])"
   ]
  },
  {
   "cell_type": "code",
   "execution_count": 51,
   "metadata": {},
   "outputs": [],
   "source": [
    "X_test = X_test[list(X_train.columns)]"
   ]
  },
  {
   "cell_type": "code",
   "execution_count": 52,
   "metadata": {},
   "outputs": [],
   "source": [
    "assert (X_test.columns.values == X_train.columns.values).all()"
   ]
  },
  {
   "cell_type": "code",
   "execution_count": 53,
   "metadata": {},
   "outputs": [
    {
     "data": {
      "text/plain": [
       "(19.773398782315496,\n",
       " array([ 0.00355331, -0.00652426, -0.00851316,  0.34728465,  0.72340397,\n",
       "         0.27523377, -0.16360923, -0.27321383, -0.65912448, -0.22109026,\n",
       "         0.31164028, -0.1138754 ,  0.32335063,  0.00150645,  0.79441584,\n",
       "         0.19483055,  0.36115402,  0.21262573,  0.51897313,  0.19940024,\n",
       "        -0.03533169, -0.06741846, -0.50404467, -0.16368752, -0.23570356,\n",
       "        -0.24203982, -0.01542784, -0.2534068 ,  0.48755304,  0.09110127,\n",
       "        -0.25530002,  0.23151764, -0.03800347, -0.02545243,  0.1036463 ,\n",
       "        -0.1571099 , -0.14126626, -0.16040839, -0.14464989,  0.45578544,\n",
       "        -0.06949991, -0.02357551, -0.21225954, -0.08238909, -0.02961261]))"
      ]
     },
     "execution_count": 53,
     "metadata": {},
     "output_type": "execute_result"
    }
   ],
   "source": [
    "from sklearn.linear_model import LinearRegression \n",
    "lin_reg = LinearRegression()\n",
    "lin_reg.fit(X_train, Y_train)\n",
    "lin_reg.intercept_, lin_reg.coef_"
   ]
  },
  {
   "cell_type": "code",
   "execution_count": 54,
   "metadata": {},
   "outputs": [],
   "source": [
    "Y_test_estimate = lin_reg.predict(X_test)"
   ]
  },
  {
   "cell_type": "code",
   "execution_count": 55,
   "metadata": {},
   "outputs": [],
   "source": [
    "from sklearn.metrics import mean_squared_error, r2_score, mean_absolute_error"
   ]
  },
  {
   "cell_type": "code",
   "execution_count": 56,
   "metadata": {},
   "outputs": [
    {
     "name": "stdout",
     "output_type": "stream",
     "text": [
      "Root Mean Square Error (RMSE)= 0.56\n"
     ]
    }
   ],
   "source": [
    "rmse = mean_squared_error(Y_test, Y_test_estimate, squared=True)\n",
    "print(\"Root Mean Square Error (RMSE)= {:.2f}\".format(rmse))"
   ]
  },
  {
   "cell_type": "code",
   "execution_count": 58,
   "metadata": {},
   "outputs": [
    {
     "name": "stdout",
     "output_type": "stream",
     "text": [
      "Mean Absolute Error (MAE)= 0.51\n"
     ]
    }
   ],
   "source": [
    "mae = mean_absolute_error(Y_test, Y_test_estimate)\n",
    "print(\"Mean Absolute Error (MAE)= {:.2f}\".format(mae))"
   ]
  },
  {
   "cell_type": "code",
   "execution_count": 59,
   "metadata": {},
   "outputs": [
    {
     "name": "stdout",
     "output_type": "stream",
     "text": [
      "R_2 = 0.423\n"
     ]
    }
   ],
   "source": [
    "r2 = r2_score(Y_test, Y_test_estimate)\n",
    "print(\"R_2 = {:.3f}\".format(r2))"
   ]
  },
  {
   "cell_type": "code",
   "execution_count": 60,
   "metadata": {},
   "outputs": [
    {
     "data": {
      "text/plain": [
       "<matplotlib.collections.PathCollection at 0x7fef62714370>"
      ]
     },
     "execution_count": 60,
     "metadata": {},
     "output_type": "execute_result"
    },
    {
     "data": {
      "image/png": "[encoded data removed]",
      "text/plain": [
       "<Figure size 432x288 with 1 Axes>"
      ]
     },
     "metadata": {
      "needs_background": "light"
     },
     "output_type": "display_data"
    }
   ],
   "source": [
    "plt.scatter(Y_test, Y_test_estimate)"
   ]
  },
  {
   "cell_type": "markdown",
   "metadata": {},
   "source": [
    "## Municipality"
   ]
  },
  {
   "cell_type": "code",
   "execution_count": 61,
   "metadata": {},
   "outputs": [],
   "source": [
    "df = pd.read_csv('properties_co.csv')\n"
   ]
  },
  {
   "cell_type": "code",
   "execution_count": null,
   "metadata": {},
   "outputs": [],
   "source": [
    "df = df[df['l3'].isin(list(df['l3'].value_counts().where(df['l3'].value_counts() > 200).dropna().index))]"
   ]
  },
  {
   "cell_type": "code",
   "execution_count": null,
   "metadata": {},
   "outputs": [],
   "source": [
    "df = df.where(df['price'] > 0).dropna(subset=['price'])"
   ]
  },
  {
   "cell_type": "code",
   "execution_count": null,
   "metadata": {},
   "outputs": [],
   "source": [
    "df = df.where(df['operation_type'] == 'Venta').dropna(subset=['operation_type'])\n",
    "df.drop(columns=['operation_type', 'l6', 'l5', 'l4', 'l2', 'l1', 'rooms', 'price_period', 'surface_covered', 'id', 'start_date', 'Unnamed: 0', 'title', 'description',  'start_date', 'end_date', 'created_on', 'ad_type'], inplace=True)"
   ]
  },
  {
   "cell_type": "code",
   "execution_count": null,
   "metadata": {},
   "outputs": [],
   "source": [
    "def cop_to_usd(currency, price):\n",
    "    if currency == 'USD':\n",
    "        return price*3200\n",
    "    return price"
   ]
  },
  {
   "cell_type": "code",
   "execution_count": null,
   "metadata": {},
   "outputs": [],
   "source": [
    "df['price'] = tqdm(df.apply(lambda x: cop_to_usd(x.currency, x.price), axis=1))"
   ]
  },
  {
   "cell_type": "code",
   "execution_count": null,
   "metadata": {},
   "outputs": [],
   "source": []
  },
  {
   "cell_type": "code",
   "execution_count": null,
   "metadata": {},
   "outputs": [],
   "source": []
  },
  {
   "cell_type": "code",
   "execution_count": null,
   "metadata": {},
   "outputs": [],
   "source": []
  },
  {
   "cell_type": "code",
   "execution_count": null,
   "metadata": {},
   "outputs": [],
   "source": []
  }
 ],
 "metadata": {
  "kernelspec": {
   "display_name": "Python 3",
   "language": "python",
   "name": "python3"
  },
  "language_info": {
   "codemirror_mode": {
    "name": "ipython",
    "version": 3
   },
   "file_extension": ".py",
   "mimetype": "text/x-python",
   "name": "python",
   "nbconvert_exporter": "python",
   "pygments_lexer": "ipython3",
   "version": "3.8.1"
  }
 },
 "nbformat": 4,
 "nbformat_minor": 4
}
