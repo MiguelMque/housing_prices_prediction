{
  "nbformat": 4,
  "nbformat_minor": 0,
  "metadata": {
    "colab": {
      "name": "Untitled",
      "provenance": [],
      "toc_visible": true
    },
    "kernelspec": {
      "name": "python3",
      "display_name": "Python 3"
    },
    "accelerator": "GPU"
  },
  "cells": [
    {
      "cell_type": "code",
      "metadata": {
        "id": "jsF-FzU90CQS",
        "colab_type": "code",
        "outputId": "9839a238-b493-4366-ac76-8e9f84da3269",
        "colab": {
          "base_uri": "https://localhost:8080/",
          "height": 122
        }
      },
      "source": [
        "from google.colab import drive\n",
        "\n",
        "drive.mount('/content/drive')"
      ],
      "execution_count": 0,
      "outputs": [
        {
          "output_type": "stream",
          "text": [
            "Go to this URL in a browser: https://accounts.google.com/o/oauth2/auth?client_id=947318989803-6bn6qk8qdgf4n4g3pfee6491hc0brc4i.apps.googleusercontent.com&redirect_uri=urn%3aietf%3awg%3aoauth%3a2.0%3aoob&response_type=code&scope=email%20https%3a%2f%2fwww.googleapis.com%2fauth%2fdocs.test%20https%3a%2f%2fwww.googleapis.com%2fauth%2fdrive%20https%3a%2f%2fwww.googleapis.com%2fauth%2fdrive.photos.readonly%20https%3a%2f%2fwww.googleapis.com%2fauth%2fpeopleapi.readonly\n",
            "\n",
            "Enter your authorization code:\n",
            "··········\n",
            "Mounted at /content/drive\n"
          ],
          "name": "stdout"
        }
      ]
    },
    {
      "cell_type": "code",
      "metadata": {
        "id": "LjQeefgakgsj",
        "colab_type": "code",
        "outputId": "69ba0224-dff3-4102-c072-f0c466baf8db",
        "colab": {
          "base_uri": "https://localhost:8080/",
          "height": 117
        }
      },
      "source": [
        "!pip install matplotlib"
      ],
      "execution_count": 0,
      "outputs": [
        {
          "output_type": "stream",
          "text": [
            "Collecting matplotlib\n",
            "\u001b[?25l  Downloading https://files.pythonhosted.org/packages/7e/07/4b361d6d0f4e08942575f83a11d33f36897e1aae4279046606dd1808778a/matplotlib-3.1.3-cp36-cp36m-manylinux1_x86_64.whl (13.1MB)\n",
            "\u001b[K     |████████████████████████████████| 13.1MB 242kB/s \n"
          ],
          "name": "stdout"
        }
      ]
    },
    {
      "cell_type": "code",
      "metadata": {
        "id": "tBxVunuP2nos",
        "colab_type": "code",
        "colab": {}
      },
      "source": [
        "import pandas as pd\n",
        "import matplotlib.pyplot as plt\n",
        "import seaborn as sns\n",
        "import numpy as np\n",
        "from scipy.stats import norm\n",
        "from sklearn.preprocessing import StandardScaler\n",
        "from scipy import stats\n",
        "import warnings\n",
        "from pandas_profiling import ProfileReport\n",
        "warnings.filterwarnings('ignore')\n",
        "%matplotlib inline\n",
        "\n",
        "\n",
        "df = pd.read_csv('/content/drive/My Drive/factored_ia_sessions/project/co_properties.csv')"
      ],
      "execution_count": 0,
      "outputs": []
    },
    {
      "cell_type": "code",
      "metadata": {
        "id": "m2_2Q0-9kGWS",
        "colab_type": "code",
        "outputId": "e9f4cb96-b4e3-45f1-9de2-2f97e6fb3ccf",
        "colab": {
          "base_uri": "https://localhost:8080/",
          "height": 34
        }
      },
      "source": [
        "print(\"The dataset has {} rows and {} columns. {} duplicated rows\".format(df.shape[0], df.shape[1],df.duplicated().sum()))"
      ],
      "execution_count": 0,
      "outputs": [
        {
          "output_type": "stream",
          "text": [
            "The dataset has 974977 rows and 25 columns. 0 duplicated rows\n"
          ],
          "name": "stdout"
        }
      ]
    },
    {
      "cell_type": "code",
      "metadata": {
        "id": "gv_KLudYkHUv",
        "colab_type": "code",
        "outputId": "c0ebcb57-a053-4da8-9289-64219b5f02f3",
        "colab": {
          "base_uri": "https://localhost:8080/",
          "height": 199
        }
      },
      "source": [
        "sell = df.operation_type == \"Venta\"\n",
        "df = df[sell]\n",
        "\n",
        "s_types = df.dtypes\n",
        "s_head= df.apply(lambda x: x[0:3].tolist())\n",
        "\n",
        "explo1 = pd.DataFrame({'Types': s_types,\n",
        "                      'Head': s_head}).sort_values(by=['Types'],ascending=False)\n",
        "explo1.transpose()"
      ],
      "execution_count": 0,
      "outputs": [
        {
          "output_type": "execute_result",
          "data": {
            "text/html": [
              "<div>\n",
              "<style scoped>\n",
              "    .dataframe tbody tr th:only-of-type {\n",
              "        vertical-align: middle;\n",
              "    }\n",
              "\n",
              "    .dataframe tbody tr th {\n",
              "        vertical-align: top;\n",
              "    }\n",
              "\n",
              "    .dataframe thead th {\n",
              "        text-align: right;\n",
              "    }\n",
              "</style>\n",
              "<table border=\"1\" class=\"dataframe\">\n",
              "  <thead>\n",
              "    <tr style=\"text-align: right;\">\n",
              "      <th></th>\n",
              "      <th>id</th>\n",
              "      <th>l4</th>\n",
              "      <th>property_type</th>\n",
              "      <th>description</th>\n",
              "      <th>title</th>\n",
              "      <th>price_period</th>\n",
              "      <th>currency</th>\n",
              "      <th>ad_type</th>\n",
              "      <th>l5</th>\n",
              "      <th>l6</th>\n",
              "      <th>l3</th>\n",
              "      <th>l2</th>\n",
              "      <th>l1</th>\n",
              "      <th>created_on</th>\n",
              "      <th>end_date</th>\n",
              "      <th>start_date</th>\n",
              "      <th>operation_type</th>\n",
              "      <th>rooms</th>\n",
              "      <th>bedrooms</th>\n",
              "      <th>bathrooms</th>\n",
              "      <th>surface_total</th>\n",
              "      <th>surface_covered</th>\n",
              "      <th>price</th>\n",
              "      <th>lon</th>\n",
              "      <th>lat</th>\n",
              "    </tr>\n",
              "  </thead>\n",
              "  <tbody>\n",
              "    <tr>\n",
              "      <th>Types</th>\n",
              "      <td>object</td>\n",
              "      <td>object</td>\n",
              "      <td>object</td>\n",
              "      <td>object</td>\n",
              "      <td>object</td>\n",
              "      <td>object</td>\n",
              "      <td>object</td>\n",
              "      <td>object</td>\n",
              "      <td>object</td>\n",
              "      <td>object</td>\n",
              "      <td>object</td>\n",
              "      <td>object</td>\n",
              "      <td>object</td>\n",
              "      <td>object</td>\n",
              "      <td>object</td>\n",
              "      <td>object</td>\n",
              "      <td>object</td>\n",
              "      <td>float64</td>\n",
              "      <td>float64</td>\n",
              "      <td>float64</td>\n",
              "      <td>float64</td>\n",
              "      <td>float64</td>\n",
              "      <td>float64</td>\n",
              "      <td>float64</td>\n",
              "      <td>float64</td>\n",
              "    </tr>\n",
              "    <tr>\n",
              "      <th>Head</th>\n",
              "      <td>[4OPTRe/9KsMoa6fvcizh/A==, yOMBjLf0eajrK7HhqnV...</td>\n",
              "      <td>[nan, nan, nan]</td>\n",
              "      <td>[Casa, Casa, Casa]</td>\n",
              "      <td>[Se vende espectacular casa ubicada en el barr...</td>\n",
              "      <td>[Venta casa en La Campia en Barranquilla, VEND...</td>\n",
              "      <td>[nan, nan, nan]</td>\n",
              "      <td>[COP, COP, COP]</td>\n",
              "      <td>[Propiedad, Propiedad, Propiedad]</td>\n",
              "      <td>[nan, nan, nan]</td>\n",
              "      <td>[nan, nan, nan]</td>\n",
              "      <td>[Barranquilla, nan, nan]</td>\n",
              "      <td>[Atlántico, Córdoba, Córdoba]</td>\n",
              "      <td>[Colombia, Colombia, Colombia]</td>\n",
              "      <td>[2018-12-08, 2018-09-06, 2018-09-06]</td>\n",
              "      <td>[2019-07-25, 2019-05-22, 2019-05-22]</td>\n",
              "      <td>[2018-12-08, 2018-09-06, 2018-09-06]</td>\n",
              "      <td>[Venta, Venta, Venta]</td>\n",
              "      <td>[4.0, 4.0, 4.0]</td>\n",
              "      <td>[nan, nan, nan]</td>\n",
              "      <td>[4.0, 2.0, 2.0]</td>\n",
              "      <td>[546.0, nan, nan]</td>\n",
              "      <td>[306.0, 98.0, 98.0]</td>\n",
              "      <td>[1000000000.0, 110000000.0, 135000000.0]</td>\n",
              "      <td>[-74.820729301, -75.8745541, -75.8926655]</td>\n",
              "      <td>[10.998798109, 8.7460551, 8.761538]</td>\n",
              "    </tr>\n",
              "  </tbody>\n",
              "</table>\n",
              "</div>"
            ],
            "text/plain": [
              "                                                      id  ...                                  lat\n",
              "Types                                             object  ...                              float64\n",
              "Head   [4OPTRe/9KsMoa6fvcizh/A==, yOMBjLf0eajrK7HhqnV...  ...  [10.998798109, 8.7460551, 8.761538]\n",
              "\n",
              "[2 rows x 25 columns]"
            ]
          },
          "metadata": {
            "tags": []
          },
          "execution_count": 30
        }
      ]
    },
    {
      "cell_type": "code",
      "metadata": {
        "id": "-VjsxcAz3rt5",
        "colab_type": "code",
        "outputId": "91d26fb4-c2df-4139-f1cf-7d3ce459fc59",
        "colab": {
          "base_uri": "https://localhost:8080/",
          "height": 162
        }
      },
      "source": [
        "s_missing= df.isnull().sum()\n",
        "s_missingper= (df.isnull().sum()/df.shape[0])*100\n",
        "\n",
        "explo2 = pd.DataFrame({'Types': s_types,\n",
        "                       'Missing': s_missing,\n",
        "                      'Missing%': s_missingper,}).sort_values(by=['Missing%','Types'],ascending=False)\n",
        "explo2.transpose()"
      ],
      "execution_count": 0,
      "outputs": [
        {
          "output_type": "execute_result",
          "data": {
            "text/html": [
              "<div>\n",
              "<style scoped>\n",
              "    .dataframe tbody tr th:only-of-type {\n",
              "        vertical-align: middle;\n",
              "    }\n",
              "\n",
              "    .dataframe tbody tr th {\n",
              "        vertical-align: top;\n",
              "    }\n",
              "\n",
              "    .dataframe thead th {\n",
              "        text-align: right;\n",
              "    }\n",
              "</style>\n",
              "<table border=\"1\" class=\"dataframe\">\n",
              "  <thead>\n",
              "    <tr style=\"text-align: right;\">\n",
              "      <th></th>\n",
              "      <th>l6</th>\n",
              "      <th>l5</th>\n",
              "      <th>price_period</th>\n",
              "      <th>l4</th>\n",
              "      <th>bedrooms</th>\n",
              "      <th>rooms</th>\n",
              "      <th>surface_covered</th>\n",
              "      <th>surface_total</th>\n",
              "      <th>lat</th>\n",
              "      <th>lon</th>\n",
              "      <th>bathrooms</th>\n",
              "      <th>l3</th>\n",
              "      <th>currency</th>\n",
              "      <th>price</th>\n",
              "      <th>description</th>\n",
              "      <th>id</th>\n",
              "      <th>ad_type</th>\n",
              "      <th>start_date</th>\n",
              "      <th>end_date</th>\n",
              "      <th>created_on</th>\n",
              "      <th>l1</th>\n",
              "      <th>l2</th>\n",
              "      <th>title</th>\n",
              "      <th>property_type</th>\n",
              "      <th>operation_type</th>\n",
              "    </tr>\n",
              "  </thead>\n",
              "  <tbody>\n",
              "    <tr>\n",
              "      <th>Types</th>\n",
              "      <td>object</td>\n",
              "      <td>object</td>\n",
              "      <td>object</td>\n",
              "      <td>object</td>\n",
              "      <td>float64</td>\n",
              "      <td>float64</td>\n",
              "      <td>float64</td>\n",
              "      <td>float64</td>\n",
              "      <td>float64</td>\n",
              "      <td>float64</td>\n",
              "      <td>float64</td>\n",
              "      <td>object</td>\n",
              "      <td>object</td>\n",
              "      <td>float64</td>\n",
              "      <td>object</td>\n",
              "      <td>object</td>\n",
              "      <td>object</td>\n",
              "      <td>object</td>\n",
              "      <td>object</td>\n",
              "      <td>object</td>\n",
              "      <td>object</td>\n",
              "      <td>object</td>\n",
              "      <td>object</td>\n",
              "      <td>object</td>\n",
              "      <td>object</td>\n",
              "    </tr>\n",
              "    <tr>\n",
              "      <th>Missing</th>\n",
              "      <td>620279</td>\n",
              "      <td>556087</td>\n",
              "      <td>476507</td>\n",
              "      <td>463093</td>\n",
              "      <td>369752</td>\n",
              "      <td>352685</td>\n",
              "      <td>339302</td>\n",
              "      <td>239092</td>\n",
              "      <td>108134</td>\n",
              "      <td>108134</td>\n",
              "      <td>95134</td>\n",
              "      <td>79885</td>\n",
              "      <td>10799</td>\n",
              "      <td>5953</td>\n",
              "      <td>6</td>\n",
              "      <td>0</td>\n",
              "      <td>0</td>\n",
              "      <td>0</td>\n",
              "      <td>0</td>\n",
              "      <td>0</td>\n",
              "      <td>0</td>\n",
              "      <td>0</td>\n",
              "      <td>0</td>\n",
              "      <td>0</td>\n",
              "      <td>0</td>\n",
              "    </tr>\n",
              "    <tr>\n",
              "      <th>Missing%</th>\n",
              "      <td>97.0823</td>\n",
              "      <td>87.0353</td>\n",
              "      <td>74.58</td>\n",
              "      <td>72.4805</td>\n",
              "      <td>57.8713</td>\n",
              "      <td>55.2001</td>\n",
              "      <td>53.1055</td>\n",
              "      <td>37.4212</td>\n",
              "      <td>16.9245</td>\n",
              "      <td>16.9245</td>\n",
              "      <td>14.8898</td>\n",
              "      <td>12.5031</td>\n",
              "      <td>1.69019</td>\n",
              "      <td>0.931727</td>\n",
              "      <td>0.000939083</td>\n",
              "      <td>0</td>\n",
              "      <td>0</td>\n",
              "      <td>0</td>\n",
              "      <td>0</td>\n",
              "      <td>0</td>\n",
              "      <td>0</td>\n",
              "      <td>0</td>\n",
              "      <td>0</td>\n",
              "      <td>0</td>\n",
              "      <td>0</td>\n",
              "    </tr>\n",
              "  </tbody>\n",
              "</table>\n",
              "</div>"
            ],
            "text/plain": [
              "               l6       l5 price_period  ...   title property_type operation_type\n",
              "Types      object   object       object  ...  object        object         object\n",
              "Missing    620279   556087       476507  ...       0             0              0\n",
              "Missing%  97.0823  87.0353        74.58  ...       0             0              0\n",
              "\n",
              "[3 rows x 25 columns]"
            ]
          },
          "metadata": {
            "tags": []
          },
          "execution_count": 32
        }
      ]
    },
    {
      "cell_type": "code",
      "metadata": {
        "id": "qIF9-jjOZZ-n",
        "colab_type": "code",
        "colab": {}
      },
      "source": [
        "from google.colab import drive\n",
        "drive.mount('/content/drive')"
      ],
      "execution_count": 0,
      "outputs": []
    },
    {
      "cell_type": "code",
      "metadata": {
        "id": "1a5CVZNX4Q4a",
        "colab_type": "code",
        "outputId": "f6365be4-fbd8-4f02-f773-6b05e7569630",
        "colab": {
          "base_uri": "https://localhost:8080/",
          "height": 283
        }
      },
      "source": [
        "sns.distplot(np.log(data[data['price']>0]['price']));\n",
        "plt.ylabel =('Frequency')\n",
        "plt.title = ('SalePrice Distribution');\n"
      ],
      "execution_count": 0,
      "outputs": [
        {
          "output_type": "display_data",
          "data": {
            "image/png": "[encoded data removed]",
            "text/plain": [
              "<Figure size 432x288 with 1 Axes>"
            ]
          },
          "metadata": {
            "tags": []
          }
        }
      ]
    },
    {
      "cell_type": "code",
      "metadata": {
        "id": "x9V9U2nH_3_Q",
        "colab_type": "code",
        "outputId": "4d964d1e-1145-44fc-c62d-29a43ac2fd3d",
        "colab": {
          "base_uri": "https://localhost:8080/",
          "height": 180
        }
      },
      "source": [
        "print(\"Skewness: %f\" % data['price'].skew())\n",
        "print(\"Kurtosis: %f\" % data['price'].kurt())"
      ],
      "execution_count": 0,
      "outputs": [
        {
          "output_type": "error",
          "ename": "NameError",
          "evalue": "ignored",
          "traceback": [
            "\u001b[0;31m---------------------------------------------------------------------------\u001b[0m",
            "\u001b[0;31mNameError\u001b[0m                                 Traceback (most recent call last)",
            "\u001b[0;32m<ipython-input-1-e0d5704721ca>\u001b[0m in \u001b[0;36m<module>\u001b[0;34m()\u001b[0m\n\u001b[0;32m----> 1\u001b[0;31m \u001b[0mprint\u001b[0m\u001b[0;34m(\u001b[0m\u001b[0;34m\"Skewness: %f\"\u001b[0m \u001b[0;34m%\u001b[0m \u001b[0mdata\u001b[0m\u001b[0;34m[\u001b[0m\u001b[0;34m'price'\u001b[0m\u001b[0;34m]\u001b[0m\u001b[0;34m.\u001b[0m\u001b[0mskew\u001b[0m\u001b[0;34m(\u001b[0m\u001b[0;34m)\u001b[0m\u001b[0;34m)\u001b[0m\u001b[0;34m\u001b[0m\u001b[0;34m\u001b[0m\u001b[0m\n\u001b[0m\u001b[1;32m      2\u001b[0m \u001b[0mprint\u001b[0m\u001b[0;34m(\u001b[0m\u001b[0;34m\"Kurtosis: %f\"\u001b[0m \u001b[0;34m%\u001b[0m \u001b[0mdata\u001b[0m\u001b[0;34m[\u001b[0m\u001b[0;34m'price'\u001b[0m\u001b[0;34m]\u001b[0m\u001b[0;34m.\u001b[0m\u001b[0mkurt\u001b[0m\u001b[0;34m(\u001b[0m\u001b[0;34m)\u001b[0m\u001b[0;34m)\u001b[0m\u001b[0;34m\u001b[0m\u001b[0;34m\u001b[0m\u001b[0m\n",
            "\u001b[0;31mNameError\u001b[0m: name 'data' is not defined"
          ]
        }
      ]
    },
    {
      "cell_type": "code",
      "metadata": {
        "id": "mdIdYpIDAy-5",
        "colab_type": "code",
        "outputId": "183e3656-d774-4a76-92cc-f32d13693fe1",
        "colab": {
          "base_uri": "https://localhost:8080/",
          "height": 102
        }
      },
      "source": [
        "df.columns"
      ],
      "execution_count": 0,
      "outputs": [
        {
          "output_type": "execute_result",
          "data": {
            "text/plain": [
              "Index(['id', 'ad_type', 'start_date', 'end_date', 'created_on', 'lat', 'lon',\n",
              "       'l1', 'l2', 'l3', 'l4', 'l5', 'l6', 'rooms', 'bedrooms', 'bathrooms',\n",
              "       'surface_total', 'surface_covered', 'price', 'currency', 'price_period',\n",
              "       'title', 'description', 'property_type', 'operation_type'],\n",
              "      dtype='object')"
            ]
          },
          "metadata": {
            "tags": []
          },
          "execution_count": 36
        }
      ]
    },
    {
      "cell_type": "code",
      "metadata": {
        "id": "5xfRRsu2l8FD",
        "colab_type": "code",
        "colab": {}
      },
      "source": [
        "henry = df[df['price']>0][['created_on', 'price']]"
      ],
      "execution_count": 0,
      "outputs": []
    },
    {
      "cell_type": "code",
      "metadata": {
        "id": "vqdUY_NHD-cg",
        "colab_type": "code",
        "colab": {}
      },
      "source": [
        "henry['created_on'] = pd.to_datetime(df.created_on)\n",
        "henry = henry.sort_values(by='created_on')"
      ],
      "execution_count": 0,
      "outputs": []
    },
    {
      "cell_type": "code",
      "metadata": {
        "id": "Ehrpv_H4Em60",
        "colab_type": "code",
        "colab": {}
      },
      "source": [
        "henry.to_csv('time_series_vivienda.csv')"
      ],
      "execution_count": 0,
      "outputs": []
    },
    {
      "cell_type": "code",
      "metadata": {
        "id": "BVIA7lzzFO2a",
        "colab_type": "code",
        "outputId": "dfe083b5-1559-4554-b6b0-01e63f8d22d5",
        "colab": {
          "base_uri": "https://localhost:8080/",
          "height": 204
        }
      },
      "source": [
        "henry.head(5)"
      ],
      "execution_count": 0,
      "outputs": [
        {
          "output_type": "execute_result",
          "data": {
            "text/html": [
              "<div>\n",
              "<style scoped>\n",
              "    .dataframe tbody tr th:only-of-type {\n",
              "        vertical-align: middle;\n",
              "    }\n",
              "\n",
              "    .dataframe tbody tr th {\n",
              "        vertical-align: top;\n",
              "    }\n",
              "\n",
              "    .dataframe thead th {\n",
              "        text-align: right;\n",
              "    }\n",
              "</style>\n",
              "<table border=\"1\" class=\"dataframe\">\n",
              "  <thead>\n",
              "    <tr style=\"text-align: right;\">\n",
              "      <th></th>\n",
              "      <th>created_on</th>\n",
              "      <th>price</th>\n",
              "    </tr>\n",
              "  </thead>\n",
              "  <tbody>\n",
              "    <tr>\n",
              "      <th>74051</th>\n",
              "      <td>2018-08-30</td>\n",
              "      <td>65000000.0</td>\n",
              "    </tr>\n",
              "    <tr>\n",
              "      <th>74102</th>\n",
              "      <td>2018-08-30</td>\n",
              "      <td>90000000.0</td>\n",
              "    </tr>\n",
              "    <tr>\n",
              "      <th>74103</th>\n",
              "      <td>2018-08-30</td>\n",
              "      <td>650000000.0</td>\n",
              "    </tr>\n",
              "    <tr>\n",
              "      <th>74104</th>\n",
              "      <td>2018-08-30</td>\n",
              "      <td>380000000.0</td>\n",
              "    </tr>\n",
              "    <tr>\n",
              "      <th>74105</th>\n",
              "      <td>2018-08-30</td>\n",
              "      <td>630000000.0</td>\n",
              "    </tr>\n",
              "  </tbody>\n",
              "</table>\n",
              "</div>"
            ],
            "text/plain": [
              "      created_on        price\n",
              "74051 2018-08-30   65000000.0\n",
              "74102 2018-08-30   90000000.0\n",
              "74103 2018-08-30  650000000.0\n",
              "74104 2018-08-30  380000000.0\n",
              "74105 2018-08-30  630000000.0"
            ]
          },
          "metadata": {
            "tags": []
          },
          "execution_count": 18
        }
      ]
    },
    {
      "cell_type": "code",
      "metadata": {
        "id": "25D-BZDTFY8Y",
        "colab_type": "code",
        "outputId": "4efc14c0-9328-42e7-c671-c1decfbc55ca",
        "colab": {
          "base_uri": "https://localhost:8080/",
          "height": 419
        }
      },
      "source": [
        "henry"
      ],
      "execution_count": 0,
      "outputs": [
        {
          "output_type": "execute_result",
          "data": {
            "text/html": [
              "<div>\n",
              "<style scoped>\n",
              "    .dataframe tbody tr th:only-of-type {\n",
              "        vertical-align: middle;\n",
              "    }\n",
              "\n",
              "    .dataframe tbody tr th {\n",
              "        vertical-align: top;\n",
              "    }\n",
              "\n",
              "    .dataframe thead th {\n",
              "        text-align: right;\n",
              "    }\n",
              "</style>\n",
              "<table border=\"1\" class=\"dataframe\">\n",
              "  <thead>\n",
              "    <tr style=\"text-align: right;\">\n",
              "      <th></th>\n",
              "      <th>created_on</th>\n",
              "      <th>price</th>\n",
              "    </tr>\n",
              "  </thead>\n",
              "  <tbody>\n",
              "    <tr>\n",
              "      <th>74051</th>\n",
              "      <td>2018-08-30</td>\n",
              "      <td>65000000.0</td>\n",
              "    </tr>\n",
              "    <tr>\n",
              "      <th>74102</th>\n",
              "      <td>2018-08-30</td>\n",
              "      <td>90000000.0</td>\n",
              "    </tr>\n",
              "    <tr>\n",
              "      <th>74103</th>\n",
              "      <td>2018-08-30</td>\n",
              "      <td>650000000.0</td>\n",
              "    </tr>\n",
              "    <tr>\n",
              "      <th>74104</th>\n",
              "      <td>2018-08-30</td>\n",
              "      <td>380000000.0</td>\n",
              "    </tr>\n",
              "    <tr>\n",
              "      <th>74105</th>\n",
              "      <td>2018-08-30</td>\n",
              "      <td>630000000.0</td>\n",
              "    </tr>\n",
              "    <tr>\n",
              "      <th>...</th>\n",
              "      <td>...</td>\n",
              "      <td>...</td>\n",
              "    </tr>\n",
              "    <tr>\n",
              "      <th>25813</th>\n",
              "      <td>2019-12-22</td>\n",
              "      <td>135000000.0</td>\n",
              "    </tr>\n",
              "    <tr>\n",
              "      <th>25814</th>\n",
              "      <td>2019-12-22</td>\n",
              "      <td>175000000.0</td>\n",
              "    </tr>\n",
              "    <tr>\n",
              "      <th>25815</th>\n",
              "      <td>2019-12-22</td>\n",
              "      <td>830000.0</td>\n",
              "    </tr>\n",
              "    <tr>\n",
              "      <th>25808</th>\n",
              "      <td>2019-12-22</td>\n",
              "      <td>1400000.0</td>\n",
              "    </tr>\n",
              "    <tr>\n",
              "      <th>25818</th>\n",
              "      <td>2019-12-22</td>\n",
              "      <td>1050000.0</td>\n",
              "    </tr>\n",
              "  </tbody>\n",
              "</table>\n",
              "<p>956391 rows × 2 columns</p>\n",
              "</div>"
            ],
            "text/plain": [
              "      created_on        price\n",
              "74051 2018-08-30   65000000.0\n",
              "74102 2018-08-30   90000000.0\n",
              "74103 2018-08-30  650000000.0\n",
              "74104 2018-08-30  380000000.0\n",
              "74105 2018-08-30  630000000.0\n",
              "...          ...          ...\n",
              "25813 2019-12-22  135000000.0\n",
              "25814 2019-12-22  175000000.0\n",
              "25815 2019-12-22     830000.0\n",
              "25808 2019-12-22    1400000.0\n",
              "25818 2019-12-22    1050000.0\n",
              "\n",
              "[956391 rows x 2 columns]"
            ]
          },
          "metadata": {
            "tags": []
          },
          "execution_count": 17
        }
      ]
    },
    {
      "cell_type": "code",
      "metadata": {
        "id": "NfvSwssYF8vA",
        "colab_type": "code",
        "colab": {}
      },
      "source": [
        ""
      ],
      "execution_count": 0,
      "outputs": []
    }
  ]
}