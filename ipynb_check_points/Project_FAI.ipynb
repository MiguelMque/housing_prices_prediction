{
  "nbformat": 4,
  "nbformat_minor": 0,
  "metadata": {
    "colab": {
      "name": "Project_FAI.ipynb",
      "provenance": [],
      "toc_visible": true
    },
    "kernelspec": {
      "name": "python3",
      "display_name": "Python 3"
    }
  },
  "cells": [
    {
      "cell_type": "code",
      "metadata": {
        "id": "WoFl4a763zf3",
        "colab_type": "code",
        "outputId": "0f5a95a3-7f4f-415a-f6b6-4e2cf504cb31",
        "colab": {
          "base_uri": "https://localhost:8080/",
          "height": 54
        }
      },
      "source": [
        "import numpy as np\n",
        "import matplotlib.pyplot as plt\n",
        "import pandas as pd\n",
        "import seaborn as sns\n",
        "from google.colab import drive\n",
        "import datetime\n",
        "\n",
        "drive.mount('/content/drive')"
      ],
      "execution_count": 1,
      "outputs": [
        {
          "output_type": "stream",
          "text": [
            "Drive already mounted at /content/drive; to attempt to forcibly remount, call drive.mount(\"/content/drive\", force_remount=True).\n"
          ],
          "name": "stdout"
        }
      ]
    },
    {
      "cell_type": "code",
      "metadata": {
        "id": "2ZCHL2nx5ZKe",
        "colab_type": "code",
        "outputId": "05081248-1caa-4afb-de75-1b440802ad88",
        "colab": {
          "base_uri": "https://localhost:8080/",
          "height": 88
        }
      },
      "source": [
        "df = pd.read_csv('/content/drive/My Drive/project/cleandataset.csv')\n",
        "df=df.drop('start_date',axis=1)\n",
        "df=df.drop('ad_type',axis=1)\n",
        "df=df.drop('Unnamed: 0',axis=1)\n",
        "df['año']=df['end_date'].str[:4]\n",
        "d1=df[df['año']=='2019']\n",
        "d2=df[df['año']=='2018']\n",
        "d3=df[df['año']=='2020']\n",
        "df4=pd.concat([d1,d2])\n",
        "df=pd.concat([df4,d3])\n",
        "dfechas=df['created_on'].str.split('-', expand=True)\n",
        "df=pd.concat([df,dfechas], axis=1)\n",
        "df['created_on']=pd.to_datetime(df['created_on'], format=\"%Y-%m-%d\")\n",
        "df['end_date']=pd.to_datetime(df['end_date'], format=\"%Y-%m-%d\")\n",
        "df['selling_time']=df['end_date']-df['created_on']\n",
        "df['price/m2']=np.divide(df['price'],df['surface_total'])\n",
        "df.columns=['end_date', 'created_on', 'lat', 'lon',\n",
        "      'l2', 'l3', 'rooms', 'surface_total', 'surface_covered', 'price',\n",
        "       'title', 'description', 'property_type', 'operation_type', 'año',\n",
        "    'Año', 'Mes', 'Dia','selling_time','price/m2']\n",
        "df['Mes']=pd.to_numeric(df['Mes'])\n",
        "df['Año']=pd.to_numeric(df['Año'])\n",
        "df['Dia']=pd.to_numeric(df['Dia'])\n",
        "df=df.fillna(0)\n",
        "df['selling_time']=df['selling_time'].apply(lambda x: x.days)\n",
        "dfnum=df[['lat', 'lon', 'rooms','surface_total', 'surface_covered', 'price', 'Año', 'Mes', 'Dia','selling_time','price/m2']]"
      ],
      "execution_count": 45,
      "outputs": [
        {
          "output_type": "stream",
          "text": [
            "/usr/local/lib/python3.6/dist-packages/IPython/core/interactiveshell.py:2718: DtypeWarning: Columns (0) have mixed types. Specify dtype option on import or set low_memory=False.\n",
            "  interactivity=interactivity, compiler=compiler, result=result)\n",
            "/usr/local/lib/python3.6/dist-packages/ipykernel_launcher.py:24: FutureWarning: Passing integers to fillna is deprecated, will raise a TypeError in a future version.  To retain the old behavior, pass pd.Timedelta(seconds=n) instead.\n"
          ],
          "name": "stderr"
        }
      ]
    },
    {
      "cell_type": "code",
      "metadata": {
        "id": "Im67eb1I6zFr",
        "colab_type": "code",
        "colab": {
          "base_uri": "https://localhost:8080/",
          "height": 439
        },
        "outputId": "1ffe00ca-2c7f-4c21-ccac-0ffe93f8ae54"
      },
      "source": [
        "dfnum"
      ],
      "execution_count": 46,
      "outputs": [
        {
          "output_type": "execute_result",
          "data": {
            "text/html": [
              "<div>\n",
              "<style scoped>\n",
              "    .dataframe tbody tr th:only-of-type {\n",
              "        vertical-align: middle;\n",
              "    }\n",
              "\n",
              "    .dataframe tbody tr th {\n",
              "        vertical-align: top;\n",
              "    }\n",
              "\n",
              "    .dataframe thead th {\n",
              "        text-align: right;\n",
              "    }\n",
              "</style>\n",
              "<table border=\"1\" class=\"dataframe\">\n",
              "  <thead>\n",
              "    <tr style=\"text-align: right;\">\n",
              "      <th></th>\n",
              "      <th>lat</th>\n",
              "      <th>lon</th>\n",
              "      <th>rooms</th>\n",
              "      <th>surface_total</th>\n",
              "      <th>surface_covered</th>\n",
              "      <th>price</th>\n",
              "      <th>Año</th>\n",
              "      <th>Mes</th>\n",
              "      <th>Dia</th>\n",
              "      <th>selling_time</th>\n",
              "      <th>price/m2</th>\n",
              "    </tr>\n",
              "  </thead>\n",
              "  <tbody>\n",
              "    <tr>\n",
              "      <th>0</th>\n",
              "      <td>10.998798</td>\n",
              "      <td>-74.820729</td>\n",
              "      <td>4.0</td>\n",
              "      <td>546.0</td>\n",
              "      <td>306.0</td>\n",
              "      <td>1.000000e+09</td>\n",
              "      <td>2018</td>\n",
              "      <td>12</td>\n",
              "      <td>8</td>\n",
              "      <td>229</td>\n",
              "      <td>1.831502e+06</td>\n",
              "    </tr>\n",
              "    <tr>\n",
              "      <th>1</th>\n",
              "      <td>8.746055</td>\n",
              "      <td>-75.874554</td>\n",
              "      <td>4.0</td>\n",
              "      <td>0.0</td>\n",
              "      <td>98.0</td>\n",
              "      <td>1.100000e+08</td>\n",
              "      <td>2018</td>\n",
              "      <td>9</td>\n",
              "      <td>6</td>\n",
              "      <td>258</td>\n",
              "      <td>0.000000e+00</td>\n",
              "    </tr>\n",
              "    <tr>\n",
              "      <th>2</th>\n",
              "      <td>8.761538</td>\n",
              "      <td>-75.892666</td>\n",
              "      <td>4.0</td>\n",
              "      <td>0.0</td>\n",
              "      <td>98.0</td>\n",
              "      <td>1.350000e+08</td>\n",
              "      <td>2018</td>\n",
              "      <td>9</td>\n",
              "      <td>6</td>\n",
              "      <td>258</td>\n",
              "      <td>0.000000e+00</td>\n",
              "    </tr>\n",
              "    <tr>\n",
              "      <th>3</th>\n",
              "      <td>8.760989</td>\n",
              "      <td>-75.874927</td>\n",
              "      <td>3.0</td>\n",
              "      <td>120.0</td>\n",
              "      <td>130.0</td>\n",
              "      <td>1.900000e+08</td>\n",
              "      <td>2018</td>\n",
              "      <td>9</td>\n",
              "      <td>6</td>\n",
              "      <td>400</td>\n",
              "      <td>1.583333e+06</td>\n",
              "    </tr>\n",
              "    <tr>\n",
              "      <th>4</th>\n",
              "      <td>3.362849</td>\n",
              "      <td>-76.540670</td>\n",
              "      <td>4.0</td>\n",
              "      <td>0.0</td>\n",
              "      <td>280.0</td>\n",
              "      <td>5.300000e+08</td>\n",
              "      <td>2018</td>\n",
              "      <td>9</td>\n",
              "      <td>6</td>\n",
              "      <td>275</td>\n",
              "      <td>0.000000e+00</td>\n",
              "    </tr>\n",
              "    <tr>\n",
              "      <th>...</th>\n",
              "      <td>...</td>\n",
              "      <td>...</td>\n",
              "      <td>...</td>\n",
              "      <td>...</td>\n",
              "      <td>...</td>\n",
              "      <td>...</td>\n",
              "      <td>...</td>\n",
              "      <td>...</td>\n",
              "      <td>...</td>\n",
              "      <td>...</td>\n",
              "      <td>...</td>\n",
              "    </tr>\n",
              "    <tr>\n",
              "      <th>583265</th>\n",
              "      <td>10.930616</td>\n",
              "      <td>-75.022459</td>\n",
              "      <td>4.0</td>\n",
              "      <td>800.0</td>\n",
              "      <td>204.0</td>\n",
              "      <td>1.183182e+09</td>\n",
              "      <td>2019</td>\n",
              "      <td>2</td>\n",
              "      <td>27</td>\n",
              "      <td>355</td>\n",
              "      <td>1.478978e+06</td>\n",
              "    </tr>\n",
              "    <tr>\n",
              "      <th>586800</th>\n",
              "      <td>10.519894</td>\n",
              "      <td>-75.469126</td>\n",
              "      <td>4.0</td>\n",
              "      <td>900.0</td>\n",
              "      <td>350.0</td>\n",
              "      <td>1.550000e+09</td>\n",
              "      <td>2019</td>\n",
              "      <td>2</td>\n",
              "      <td>27</td>\n",
              "      <td>329</td>\n",
              "      <td>1.722222e+06</td>\n",
              "    </tr>\n",
              "    <tr>\n",
              "      <th>586801</th>\n",
              "      <td>6.248410</td>\n",
              "      <td>-75.565514</td>\n",
              "      <td>3.0</td>\n",
              "      <td>600.0</td>\n",
              "      <td>250.0</td>\n",
              "      <td>1.600000e+09</td>\n",
              "      <td>2019</td>\n",
              "      <td>2</td>\n",
              "      <td>27</td>\n",
              "      <td>329</td>\n",
              "      <td>2.666667e+06</td>\n",
              "    </tr>\n",
              "    <tr>\n",
              "      <th>587152</th>\n",
              "      <td>6.142827</td>\n",
              "      <td>-75.609026</td>\n",
              "      <td>5.0</td>\n",
              "      <td>3000.0</td>\n",
              "      <td>750.0</td>\n",
              "      <td>3.900000e+09</td>\n",
              "      <td>2019</td>\n",
              "      <td>2</td>\n",
              "      <td>27</td>\n",
              "      <td>346</td>\n",
              "      <td>1.300000e+06</td>\n",
              "    </tr>\n",
              "    <tr>\n",
              "      <th>588989</th>\n",
              "      <td>10.996022</td>\n",
              "      <td>-74.801264</td>\n",
              "      <td>8.0</td>\n",
              "      <td>445.0</td>\n",
              "      <td>445.0</td>\n",
              "      <td>6.500000e+08</td>\n",
              "      <td>2019</td>\n",
              "      <td>2</td>\n",
              "      <td>27</td>\n",
              "      <td>341</td>\n",
              "      <td>1.460674e+06</td>\n",
              "    </tr>\n",
              "  </tbody>\n",
              "</table>\n",
              "<p>492199 rows × 11 columns</p>\n",
              "</div>"
            ],
            "text/plain": [
              "              lat        lon  rooms  ...  Dia  selling_time      price/m2\n",
              "0       10.998798 -74.820729    4.0  ...    8           229  1.831502e+06\n",
              "1        8.746055 -75.874554    4.0  ...    6           258  0.000000e+00\n",
              "2        8.761538 -75.892666    4.0  ...    6           258  0.000000e+00\n",
              "3        8.760989 -75.874927    3.0  ...    6           400  1.583333e+06\n",
              "4        3.362849 -76.540670    4.0  ...    6           275  0.000000e+00\n",
              "...           ...        ...    ...  ...  ...           ...           ...\n",
              "583265  10.930616 -75.022459    4.0  ...   27           355  1.478978e+06\n",
              "586800  10.519894 -75.469126    4.0  ...   27           329  1.722222e+06\n",
              "586801   6.248410 -75.565514    3.0  ...   27           329  2.666667e+06\n",
              "587152   6.142827 -75.609026    5.0  ...   27           346  1.300000e+06\n",
              "588989  10.996022 -74.801264    8.0  ...   27           341  1.460674e+06\n",
              "\n",
              "[492199 rows x 11 columns]"
            ]
          },
          "metadata": {
            "tags": []
          },
          "execution_count": 46
        }
      ]
    },
    {
      "cell_type": "code",
      "metadata": {
        "id": "ZA2KuSwS7AXm",
        "colab_type": "code",
        "outputId": "92135885-95cd-4816-b905-27de7843d5e9",
        "colab": {
          "base_uri": "https://localhost:8080/",
          "height": 295
        }
      },
      "source": [
        "plt.scatter((df.iloc[:,19]),(df['selling_time']), alpha=0.1)"
      ],
      "execution_count": 97,
      "outputs": [
        {
          "output_type": "execute_result",
          "data": {
            "text/plain": [
              "<matplotlib.collections.PathCollection at 0x7f0878030b70>"
            ]
          },
          "metadata": {
            "tags": []
          },
          "execution_count": 97
        },
        {
          "output_type": "display_data",
          "data": {
            "image/png": "[encoded data removed]",
            "text/plain": [
              "<Figure size 432x288 with 1 Axes>"
            ]
          },
          "metadata": {
            "tags": []
          }
        }
      ]
    },
    {
      "cell_type": "code",
      "metadata": {
        "id": "omrvE3kTtapV",
        "colab_type": "code",
        "colab": {
          "base_uri": "https://localhost:8080/",
          "height": 306
        },
        "outputId": "f552e9bf-cacc-47e4-8c01-6cfd9d16ab26"
      },
      "source": [
        "sns.distplot(dfnum[dfnum['price/m2']>0])\n",
        "plt.axis([1000000, 10000000, 0, 0.00000001])"
      ],
      "execution_count": 83,
      "outputs": [
        {
          "output_type": "execute_result",
          "data": {
            "text/plain": [
              "[1000000, 10000000, 0, 1e-08]"
            ]
          },
          "metadata": {
            "tags": []
          },
          "execution_count": 83
        },
        {
          "output_type": "display_data",
          "data": {
            "image/png": "[encoded data removed]",
            "text/plain": [
              "<Figure size 432x288 with 1 Axes>"
            ]
          },
          "metadata": {
            "tags": []
          }
        }
      ]
    },
    {
      "cell_type": "code",
      "metadata": {
        "id": "1B0DfBdGxNZH",
        "colab_type": "code",
        "colab": {
          "base_uri": "https://localhost:8080/",
          "height": 204
        },
        "outputId": "5d59e962-b960-465c-860f-f8cd71d304dd"
      },
      "source": [
        "dfnum.iloc[1]"
      ],
      "execution_count": 26,
      "outputs": [
        {
          "output_type": "execute_result",
          "data": {
            "text/plain": [
              "lat                8.746055e+00\n",
              "lon               -7.587455e+01\n",
              "rooms              4.000000e+00\n",
              "surface_total      0.000000e+00\n",
              "surface_covered    9.800000e+01\n",
              "price              1.100000e+08\n",
              "Año                2.018000e+03\n",
              "Mes                9.000000e+00\n",
              "Dia                6.000000e+00\n",
              "selling_time       2.580000e+02\n",
              "Name: 1, dtype: float64"
            ]
          },
          "metadata": {
            "tags": []
          },
          "execution_count": 26
        }
      ]
    },
    {
      "cell_type": "code",
      "metadata": {
        "id": "V_ZNWUGrDGED",
        "colab_type": "code",
        "colab": {}
      },
      "source": [
        "q1=df['selling_time'].quantile(0.5)\n",
        "\n",
        "def vel(x):\n",
        "  if x<q1:\n",
        "    x=0  \n",
        "  else:\n",
        "    x=1\n",
        "  return(x) "
      ],
      "execution_count": 0,
      "outputs": []
    },
    {
      "cell_type": "code",
      "metadata": {
        "id": "-dc-3oMuuwNt",
        "colab_type": "code",
        "colab": {
          "base_uri": "https://localhost:8080/",
          "height": 221
        },
        "outputId": "406cb8ab-ec83-4167-9c41-9873f216b93d"
      },
      "source": [
        "df['selling_time'].apply(lambda x:vel(x))"
      ],
      "execution_count": 7,
      "outputs": [
        {
          "output_type": "execute_result",
          "data": {
            "text/plain": [
              "0         1\n",
              "1         1\n",
              "2         1\n",
              "3         1\n",
              "4         1\n",
              "         ..\n",
              "583265    1\n",
              "586800    1\n",
              "586801    1\n",
              "587152    1\n",
              "588989    1\n",
              "Name: selling_time, Length: 492199, dtype: int64"
            ]
          },
          "metadata": {
            "tags": []
          },
          "execution_count": 7
        }
      ]
    },
    {
      "cell_type": "code",
      "metadata": {
        "id": "OpZ0MLqZvIQA",
        "colab_type": "code",
        "colab": {
          "base_uri": "https://localhost:8080/",
          "height": 51
        },
        "outputId": "3ece2c4f-1d76-46d3-f800-8b4141be07c1"
      },
      "source": [
        "print('rápidos', df['selling_time'].sum()/len(df['selling_time']),'%')\n",
        "print('lentos',100-(df['selling_time'].sum()/len(df['selling_time'])),'%')"
      ],
      "execution_count": 13,
      "outputs": [
        {
          "output_type": "stream",
          "text": [
            "rápidos 79.55951149839801 %\n",
            "lentos 20.44048850160199 %\n"
          ],
          "name": "stdout"
        }
      ]
    },
    {
      "cell_type": "code",
      "metadata": {
        "id": "uzEjy-1lwQ-x",
        "colab_type": "code",
        "colab": {}
      },
      "source": [
        ""
      ],
      "execution_count": 0,
      "outputs": []
    },
    {
      "cell_type": "code",
      "metadata": {
        "id": "WgMeYyUBmhpH",
        "colab_type": "code",
        "colab": {
          "base_uri": "https://localhost:8080/",
          "height": 286
        },
        "outputId": "e205b265-d8a8-427a-87d0-5aa5cbd0d0e1"
      },
      "source": [
        "plt.scatter(dfnum.iloc[:,0],dfnum.iloc[:,1], alpha=0.1)\n",
        "plt.axis([0, 14, -80, -70])"
      ],
      "execution_count": 26,
      "outputs": [
        {
          "output_type": "execute_result",
          "data": {
            "text/plain": [
              "[0, 14, -80, -70]"
            ]
          },
          "metadata": {
            "tags": []
          },
          "execution_count": 26
        },
        {
          "output_type": "display_data",
          "data": {
            "image/png": "[encoded data removed]",
            "text/plain": [
              "<Figure size 432x288 with 1 Axes>"
            ]
          },
          "metadata": {
            "tags": []
          }
        }
      ]
    },
    {
      "cell_type": "code",
      "metadata": {
        "id": "P6X2VwDs7opK",
        "colab_type": "code",
        "outputId": "cc89d27a-2630-4439-cbe3-669cc1249b58",
        "colab": {
          "base_uri": "https://localhost:8080/",
          "height": 221
        }
      },
      "source": [
        "df['selling_time'].apply(lambda x:vel(x))"
      ],
      "execution_count": 0,
      "outputs": [
        {
          "output_type": "execute_result",
          "data": {
            "text/plain": [
              "0         Slow\n",
              "1         Slow\n",
              "2         Slow\n",
              "3         Slow\n",
              "4         Slow\n",
              "          ... \n",
              "583265    Slow\n",
              "586800    Slow\n",
              "586801    Slow\n",
              "587152    Slow\n",
              "588989    Slow\n",
              "Name: selling_time, Length: 492199, dtype: object"
            ]
          },
          "metadata": {
            "tags": []
          },
          "execution_count": 210
        }
      ]
    },
    {
      "cell_type": "code",
      "metadata": {
        "id": "ZKzLhZQD1JXQ",
        "colab_type": "code",
        "colab": {}
      },
      "source": [
        ""
      ],
      "execution_count": 0,
      "outputs": []
    }
  ]
}