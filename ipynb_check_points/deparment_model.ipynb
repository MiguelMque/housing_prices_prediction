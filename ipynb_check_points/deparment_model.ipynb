{
 "cells": [
  {
   "cell_type": "code",
   "execution_count": 11,
   "metadata": {},
   "outputs": [],
   "source": [
    "import pandas as pd\n",
    "import numpy as np\n",
    "import matplotlib.pyplot as plt\n",
    "import seaborn as sns\n",
    "from tqdm import tqdm\n",
    "import reverse_geocoder as rg \n",
    "import pprint "
   ]
  },
  {
   "cell_type": "markdown",
   "metadata": {},
   "source": [
    "# Utilities"
   ]
  },
  {
   "cell_type": "code",
   "execution_count": 12,
   "metadata": {},
   "outputs": [],
   "source": [
    "def reverseGeocode(coordinates): \n",
    "    result = rg.search(coordinates) \n",
    "    \n",
    "    return result[0]['admin1'], result[0]['name']\n",
    "\n",
    "# Dataframe must have been given reset_indexed\n",
    "# Complete missing values where deparment and municipality are unknown\n",
    "def relocate(df_geo):\n",
    "    n = df_geo.shape[0]\n",
    "    for i in tqdm(range(0,n)):\n",
    "        lat = df_geo.loc[i, 'lat']\n",
    "        lon = df_geo.loc[i, 'lon']\n",
    "        l2 = df_geo.loc[i, 'l2']\n",
    "        l3 = df_geo.loc[i, 'l3']\n",
    "        if (~np.isnan(lat) and ~np.isnan(lon)) and (pd.isnull(l3) or pd.isnull(l2)):\n",
    "            df_geo.loc[i, 'l2'], df_geo.loc[i, 'l3'] = reverseGeocode((lat,lon))\n",
    "            \n",
    "    return df_geo\n",
    "\n",
    "#Calculates missing data and shows dataframe\n",
    "def calculate_missing(df):\n",
    "    s_types = df.dtypes\n",
    "    missing = df.isnull().sum()\n",
    "    missing_per = (df.isnull().sum()/df.shape[0])*100\n",
    "\n",
    "    explo = pd.DataFrame({'Type' : s_types, 'Missing' : missing,\n",
    "                       'Missing%' : missing_per}).sort_values(by=['Missing%', 'Type'], ascending=False)\n",
    "\n",
    "    return explo\n",
    "\n",
    "#Graph missing data given dataframe\n",
    "def graph_missing(df):\n",
    "\n",
    "    df_missing = calculate_missing(df)\n",
    "\n",
    "    df_missing = df_missing.where(df_missing['Missing%'] > 25).dropna(subset=['Missing%'])\n",
    "\n",
    "    sns.barplot(x=df_missing.index, y=df_missing['Missing%'], data=df_missing)"
   ]
  },
  {
   "cell_type": "markdown",
   "metadata": {},
   "source": [
    "## Processing"
   ]
  },
  {
   "cell_type": "code",
   "execution_count": 13,
   "metadata": {},
   "outputs": [],
   "source": [
    "df = pd.read_csv('properties_co.csv')"
   ]
  },
  {
   "cell_type": "code",
   "execution_count": 14,
   "metadata": {},
   "outputs": [],
   "source": [
    "df = df.where(df['operation_type'] == 'Venta').dropna(subset=['operation_type'])\n",
    "df.drop(columns=['operation_type', 'l6', 'l5', 'l4', 'l3', 'l1', 'rooms', 'price_period', 'surface_covered', 'id', 'start_date', 'Unnamed: 0', 'title', 'description',  'start_date', 'end_date', 'created_on', 'ad_type'], inplace=True)"
   ]
  },
  {
   "cell_type": "code",
   "execution_count": 15,
   "metadata": {},
   "outputs": [],
   "source": [
    "def cop_to_usd(currency, price):\n",
    "    if currency == 'USD':\n",
    "        return price*3200\n",
    "    return price"
   ]
  },
  {
   "cell_type": "code",
   "execution_count": 16,
   "metadata": {},
   "outputs": [
    {
     "name": "stderr",
     "output_type": "stream",
     "text": [
      "100%|██████████| 613054/613054 [00:00<00:00, 3427820.31it/s]\n"
     ]
    }
   ],
   "source": [
    "df['price'] = tqdm(df.apply(lambda x: cop_to_usd(x.currency, x.price), axis=1))"
   ]
  },
  {
   "cell_type": "code",
   "execution_count": 17,
   "metadata": {},
   "outputs": [],
   "source": [
    "df.drop(columns=['currency'], inplace = True)"
   ]
  },
  {
   "cell_type": "code",
   "execution_count": 19,
   "metadata": {},
   "outputs": [
    {
     "data": {
      "text/html": [
       "<div>\n",
       "<style scoped>\n",
       "    .dataframe tbody tr th:only-of-type {\n",
       "        vertical-align: middle;\n",
       "    }\n",
       "\n",
       "    .dataframe tbody tr th {\n",
       "        vertical-align: top;\n",
       "    }\n",
       "\n",
       "    .dataframe thead th {\n",
       "        text-align: right;\n",
       "    }\n",
       "</style>\n",
       "<table border=\"1\" class=\"dataframe\">\n",
       "  <thead>\n",
       "    <tr style=\"text-align: right;\">\n",
       "      <th></th>\n",
       "      <th>Type</th>\n",
       "      <th>Missing</th>\n",
       "      <th>Missing%</th>\n",
       "    </tr>\n",
       "  </thead>\n",
       "  <tbody>\n",
       "    <tr>\n",
       "      <th>bedrooms</th>\n",
       "      <td>float64</td>\n",
       "      <td>351027</td>\n",
       "      <td>57.258741</td>\n",
       "    </tr>\n",
       "    <tr>\n",
       "      <th>surface_total</th>\n",
       "      <td>float64</td>\n",
       "      <td>231445</td>\n",
       "      <td>37.752792</td>\n",
       "    </tr>\n",
       "    <tr>\n",
       "      <th>bathrooms</th>\n",
       "      <td>float64</td>\n",
       "      <td>90642</td>\n",
       "      <td>14.785321</td>\n",
       "    </tr>\n",
       "    <tr>\n",
       "      <th>lat</th>\n",
       "      <td>float64</td>\n",
       "      <td>82426</td>\n",
       "      <td>13.445145</td>\n",
       "    </tr>\n",
       "    <tr>\n",
       "      <th>lon</th>\n",
       "      <td>float64</td>\n",
       "      <td>82426</td>\n",
       "      <td>13.445145</td>\n",
       "    </tr>\n",
       "    <tr>\n",
       "      <th>price</th>\n",
       "      <td>float64</td>\n",
       "      <td>5444</td>\n",
       "      <td>0.888013</td>\n",
       "    </tr>\n",
       "    <tr>\n",
       "      <th>l2</th>\n",
       "      <td>object</td>\n",
       "      <td>0</td>\n",
       "      <td>0.000000</td>\n",
       "    </tr>\n",
       "    <tr>\n",
       "      <th>property_type</th>\n",
       "      <td>object</td>\n",
       "      <td>0</td>\n",
       "      <td>0.000000</td>\n",
       "    </tr>\n",
       "  </tbody>\n",
       "</table>\n",
       "</div>"
      ],
      "text/plain": [
       "                  Type  Missing   Missing%\n",
       "bedrooms       float64   351027  57.258741\n",
       "surface_total  float64   231445  37.752792\n",
       "bathrooms      float64    90642  14.785321\n",
       "lat            float64    82426  13.445145\n",
       "lon            float64    82426  13.445145\n",
       "price          float64     5444   0.888013\n",
       "l2              object        0   0.000000\n",
       "property_type   object        0   0.000000"
      ]
     },
     "execution_count": 19,
     "metadata": {},
     "output_type": "execute_result"
    }
   ],
   "source": [
    "calculate_missing(df)"
   ]
  },
  {
   "cell_type": "code",
   "execution_count": null,
   "metadata": {},
   "outputs": [],
   "source": []
  },
  {
   "cell_type": "code",
   "execution_count": null,
   "metadata": {},
   "outputs": [],
   "source": []
  }
 ],
 "metadata": {
  "kernelspec": {
   "display_name": "Python 3",
   "language": "python",
   "name": "python3"
  },
  "language_info": {
   "codemirror_mode": {
    "name": "ipython",
    "version": 3
   },
   "file_extension": ".py",
   "mimetype": "text/x-python",
   "name": "python",
   "nbconvert_exporter": "python",
   "pygments_lexer": "ipython3",
   "version": "3.8.1"
  }
 },
 "nbformat": 4,
 "nbformat_minor": 4
}
