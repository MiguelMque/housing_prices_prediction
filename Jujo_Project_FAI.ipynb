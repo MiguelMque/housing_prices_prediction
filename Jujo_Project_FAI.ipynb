{
  "nbformat": 4,
  "nbformat_minor": 0,
  "metadata": {
    "colab": {
      "name": "Jujo_Project_FAI.ipynb",
      "provenance": [],
      "toc_visible": true
    },
    "kernelspec": {
      "name": "python3",
      "display_name": "Python 3"
    }
  },
  "cells": [
    {
      "cell_type": "markdown",
      "metadata": {
        "id": "XsUdldi8FPEo",
        "colab_type": "text"
      },
      "source": [
        "Library Import"
      ]
    },
    {
      "cell_type": "code",
      "metadata": {
        "id": "WoFl4a763zf3",
        "colab_type": "code",
        "outputId": "eae94363-5e0b-4353-bc9e-80482dcbe8d0",
        "colab": {
          "base_uri": "https://localhost:8080/",
          "height": 55
        }
      },
      "source": [
        "import numpy as np\n",
        "import matplotlib.pyplot as plt\n",
        "import pandas as pd\n",
        "import seaborn as sns\n",
        "from google.colab import drive\n",
        "import datetime\n",
        "from sklearn.preprocessing import (PowerTransformer, StandardScaler, \n",
        "                                   MinMaxScaler, LabelEncoder, OneHotEncoder)\n",
        "\n",
        "drive.mount('/content/drive')"
      ],
      "execution_count": 116,
      "outputs": [
        {
          "output_type": "stream",
          "text": [
            "Drive already mounted at /content/drive; to attempt to forcibly remount, call drive.mount(\"/content/drive\", force_remount=True).\n"
          ],
          "name": "stdout"
        }
      ]
    },
    {
      "cell_type": "markdown",
      "metadata": {
        "id": "-6zC37YUFUG6",
        "colab_type": "text"
      },
      "source": [
        "Data Preprocessing"
      ]
    },
    {
      "cell_type": "code",
      "metadata": {
        "id": "2ZCHL2nx5ZKe",
        "colab_type": "code",
        "outputId": "40f72b7f-e15f-4918-c148-38d5b1713e66",
        "colab": {
          "base_uri": "https://localhost:8080/",
          "height": 74
        }
      },
      "source": [
        "df = pd.read_csv('/content/drive/My Drive/project/nutritive.csv')\n",
        "\n",
        "#remove columns\n",
        "df=df.drop('start_date',axis=1)\n",
        "df=df.drop('ad_type',axis=1)\n",
        "df=df.drop('Unnamed: 0',axis=1)\n",
        "df=df.drop('id',axis=1)\n",
        "df=df.drop('description',axis=1)\n",
        "df=df.drop('title',axis=1)\n",
        "df=df.drop('l1',axis=1)\n",
        "df=df.drop('l2',axis=1)\n",
        "df=df.drop('l4',axis=1)\n",
        "df=df.drop('l5',axis=1)\n",
        "df=df.drop('l6',axis=1)\n",
        "df=df.drop('price_period',axis=1)\n",
        "\n",
        "#clean dataset, rows with years higher than 2020 will be removed\n",
        "df['año']=df['end_date'].str[:4]\n",
        "d1=df[df['año']=='2019']\n",
        "d2=df[df['año']=='2018']\n",
        "d3=df[df['año']=='2020']\n",
        "df4=pd.concat([d1,d2])\n",
        "df=pd.concat([df4,d3])\n",
        "\n",
        "#split 'created_on' variable\n",
        "dfechas=df['created_on'].str.split('-', expand=True)\n",
        "df=pd.concat([df,dfechas], axis=1)\n",
        "\n",
        "# change format of variables created on and end date\n",
        "df['created_on']=pd.to_datetime(df['created_on'], format=\"%Y-%m-%d\")\n",
        "df['end_date']=pd.to_datetime(df['end_date'], format=\"%Y-%m-%d\")\n",
        "\n",
        "#substract dates to get selling time\n",
        "df['selling_time']=df['end_date']-df['created_on']\n",
        "df['price/m2']=np.divide(df['price'],df['surface_total'])\n",
        "df=df.drop('end_date',axis=1)\n",
        "\n",
        "#rename columns\n",
        "\n",
        "df.columns=[          'created_on',             'lat',\n",
        "                   'lon',              'l3',           'rooms',\n",
        "              'bedrooms',       'bathrooms',   'surface_total',\n",
        "       'surface_covered',           'price',        'currency',\n",
        "         'property_type',  'operation_type',             'año',\n",
        "                       'Year',                 'Month',                 'Day',\n",
        "          'selling_time',        'price/m2']\n",
        "\n",
        "#create numbers from strings\n",
        "df['Month']=pd.to_numeric(df['Month'])\n",
        "df['Year']=pd.to_numeric(df['Year'])\n",
        "df['Day']=pd.to_numeric(df['Day'])\n",
        "\n",
        "# remove created_on cause it has been splited into month year and day\n",
        "df=df.drop('created_on',axis=1)\n",
        "\n",
        "#remove 'año'\n",
        "df=df.drop('año',axis=1)\n",
        "\n",
        "#drop rows with na values\n",
        "df=df.dropna()\n",
        "\n",
        "# get number of days from date\n",
        "df['selling_time']=df['selling_time'].apply(lambda x: x.days)\n",
        "\n",
        "#apply filters 'Currency'=COP, property type='Apto or casa'\n",
        "\n",
        "df=df[(df['property_type']=='Casa') | (df['property_type']=='Apartamento')]\n",
        "df=df[(df['currency']=='COP') & (df['operation_type']=='Venta')]\n",
        "df=df.drop('currency',axis=1)\n",
        "df=df.drop('operation_type',axis=1)\n",
        "\n",
        "#flitering the 8 most frecuent cities\n",
        "df=df[(df['l3']=='Bogotá D.C') |(df['l3']=='Barranquilla' )|(df['l3']=='Cali' )|(df['l3']=='Cucuta' )|(df['l3']=='Medellín' )|(df['l3']=='Chía' )|(df['l3']=='Pereira' )|(df['l3']=='Envigado' )]\n",
        "\n",
        "df=df[df['selling_time']!=0]\n",
        "\n",
        "df=df[df['bedrooms']<df['bedrooms'].quantile(0.95)]\n",
        "\n",
        "df=df[df['bathrooms']<df['bathrooms'].quantile(0.95)]\n",
        "\n",
        "df=df[df['surface_total']<df['surface_total'].quantile(0.95)]\n",
        "\n",
        "df=df[df['surface_covered']<df['surface_covered'].quantile(0.95)]\n",
        "\n",
        "df=df[df['price/m2']<df['price/m2'].quantile(0.95)]\n",
        "\n",
        "\n",
        "#get dummies\n",
        "df=pd.get_dummies(df,columns=['l3','property_type'],drop_first=True)\n",
        "\n",
        "# reset index\n",
        "df=df.reset_index()\n",
        "\n",
        "\n"
      ],
      "execution_count": 438,
      "outputs": [
        {
          "output_type": "stream",
          "text": [
            "/usr/local/lib/python3.6/dist-packages/IPython/core/interactiveshell.py:2718: DtypeWarning: Columns (0) have mixed types. Specify dtype option on import or set low_memory=False.\n",
            "  interactivity=interactivity, compiler=compiler, result=result)\n"
          ],
          "name": "stderr"
        }
      ]
    },
    {
      "cell_type": "markdown",
      "metadata": {
        "id": "pEAYKUFoFeSA",
        "colab_type": "text"
      },
      "source": [
        "(Optional) Encode selling time"
      ]
    },
    {
      "cell_type": "code",
      "metadata": {
        "id": "kil4dIgZFd6-",
        "colab_type": "code",
        "colab": {}
      },
      "source": [
        "#q1=df['selling_time'].quantile(0.5)\n",
        "\n",
        "#def vel(x):\n",
        "#  if x<q1:\n",
        "#    x='0'  \n",
        "#  else:\n",
        "#    x='1'\n",
        "#  return(x) \n",
        "\n",
        "#df['selling_time']=df['selling_time'].apply(lambda x:vel(x))"
      ],
      "execution_count": 0,
      "outputs": []
    },
    {
      "cell_type": "markdown",
      "metadata": {
        "id": "eUgSok5nF-7W",
        "colab_type": "text"
      },
      "source": [
        "Define Numerical Variables"
      ]
    },
    {
      "cell_type": "code",
      "metadata": {
        "id": "MtgS0m8S8te0",
        "colab_type": "code",
        "colab": {
          "base_uri": "https://localhost:8080/",
          "height": 35
        },
        "outputId": "e8dc6878-98d2-42a0-fd3d-87cefd51ef3a"
      },
      "source": [
        "# df_num is made of only the numerical values\n",
        "df_num=df[['lat', 'lon', 'rooms', 'bedrooms', 'bathrooms', 'surface_total', 'surface_covered', 'price', 'Year', 'Month', 'Day', 'selling_time','price/m2', ]]\n",
        "df_num.shape"
      ],
      "execution_count": 439,
      "outputs": [
        {
          "output_type": "execute_result",
          "data": {
            "text/plain": [
              "(23052, 13)"
            ]
          },
          "metadata": {
            "tags": []
          },
          "execution_count": 439
        }
      ]
    },
    {
      "cell_type": "markdown",
      "metadata": {
        "id": "nGzZIWitGhN9",
        "colab_type": "text"
      },
      "source": [
        "Define Non numerical Values (dummies columns)"
      ]
    },
    {
      "cell_type": "code",
      "metadata": {
        "id": "8slt4zKmGkAd",
        "colab_type": "code",
        "colab": {}
      },
      "source": [
        "df_dummies=df[['l3_Bogotá D.C', 'l3_Cali', 'l3_Chía', 'l3_Cucuta', 'l3_Envigado', 'l3_Medellín', 'l3_Pereira', 'property_type_Casa']]"
      ],
      "execution_count": 0,
      "outputs": []
    },
    {
      "cell_type": "markdown",
      "metadata": {
        "id": "pzRlFDlfNMbe",
        "colab_type": "text"
      },
      "source": [
        "Scalling (only numerical columns)"
      ]
    },
    {
      "cell_type": "code",
      "metadata": {
        "id": "KIUJgZdvMs85",
        "colab_type": "code",
        "colab": {
          "base_uri": "https://localhost:8080/",
          "height": 517
        },
        "outputId": "0ce26023-8b6e-4559-b98c-beac71814bc3"
      },
      "source": [
        "from sklearn.preprocessing import StandardScaler\n",
        "scaler = StandardScaler()\n",
        "scaler.fit(df_num)\n",
        "print(scaler.mean_)\n",
        "df_scaled=scaler.transform(df_num)\n",
        "#dataframe from scaled values\n",
        "df_scaled=pd.DataFrame(df_scaled, columns=['lat', 'lon', 'rooms', 'bedrooms', 'bathrooms', 'surface_total', 'surface_covered', 'price', 'Year', 'Month', 'Day', 'selling_time','price/m2', ])\n",
        "df_scaled=pd.merge(df_scaled,df_dummies,left_index=True,right_index=True)\n",
        "df_scaled"
      ],
      "execution_count": 443,
      "outputs": [
        {
          "output_type": "stream",
          "text": [
            "[ 6.51131563e+00 -7.48104394e+01  2.86391636e+00  2.86391636e+00\n",
            "  2.46369079e+00  1.12801275e+02  1.13865738e+02  3.97338654e+08\n",
            "  2.01875798e+03  6.43037480e+00  1.55685407e+01  1.12651527e+02\n",
            "  3.54591576e+06]\n"
          ],
          "name": "stdout"
        },
        {
          "output_type": "execute_result",
          "data": {
            "text/html": [
              "<div>\n",
              "<style scoped>\n",
              "    .dataframe tbody tr th:only-of-type {\n",
              "        vertical-align: middle;\n",
              "    }\n",
              "\n",
              "    .dataframe tbody tr th {\n",
              "        vertical-align: top;\n",
              "    }\n",
              "\n",
              "    .dataframe thead th {\n",
              "        text-align: right;\n",
              "    }\n",
              "</style>\n",
              "<table border=\"1\" class=\"dataframe\">\n",
              "  <thead>\n",
              "    <tr style=\"text-align: right;\">\n",
              "      <th></th>\n",
              "      <th>lat</th>\n",
              "      <th>lon</th>\n",
              "      <th>rooms</th>\n",
              "      <th>bedrooms</th>\n",
              "      <th>bathrooms</th>\n",
              "      <th>surface_total</th>\n",
              "      <th>surface_covered</th>\n",
              "      <th>price</th>\n",
              "      <th>Year</th>\n",
              "      <th>Month</th>\n",
              "      <th>Day</th>\n",
              "      <th>selling_time</th>\n",
              "      <th>price/m2</th>\n",
              "      <th>l3_Bogotá D.C</th>\n",
              "      <th>l3_Cali</th>\n",
              "      <th>l3_Chía</th>\n",
              "      <th>l3_Cucuta</th>\n",
              "      <th>l3_Envigado</th>\n",
              "      <th>l3_Medellín</th>\n",
              "      <th>l3_Pereira</th>\n",
              "      <th>property_type_Casa</th>\n",
              "    </tr>\n",
              "  </thead>\n",
              "  <tbody>\n",
              "    <tr>\n",
              "      <th>0</th>\n",
              "      <td>-0.121456</td>\n",
              "      <td>-0.664540</td>\n",
              "      <td>-1.127070</td>\n",
              "      <td>-1.127070</td>\n",
              "      <td>-0.549332</td>\n",
              "      <td>-0.293790</td>\n",
              "      <td>-0.333006</td>\n",
              "      <td>-0.008808</td>\n",
              "      <td>-1.758121</td>\n",
              "      <td>0.749814</td>\n",
              "      <td>-0.217528</td>\n",
              "      <td>0.796269</td>\n",
              "      <td>0.404662</td>\n",
              "      <td>0</td>\n",
              "      <td>0</td>\n",
              "      <td>0</td>\n",
              "      <td>0</td>\n",
              "      <td>1</td>\n",
              "      <td>0</td>\n",
              "      <td>0</td>\n",
              "      <td>0</td>\n",
              "    </tr>\n",
              "    <tr>\n",
              "      <th>1</th>\n",
              "      <td>-1.067066</td>\n",
              "      <td>-1.451694</td>\n",
              "      <td>0.177535</td>\n",
              "      <td>0.177535</td>\n",
              "      <td>-1.734028</td>\n",
              "      <td>0.125878</td>\n",
              "      <td>-0.556678</td>\n",
              "      <td>-1.255403</td>\n",
              "      <td>-1.758121</td>\n",
              "      <td>0.749814</td>\n",
              "      <td>-0.217528</td>\n",
              "      <td>-0.035308</td>\n",
              "      <td>-2.143746</td>\n",
              "      <td>0</td>\n",
              "      <td>1</td>\n",
              "      <td>0</td>\n",
              "      <td>0</td>\n",
              "      <td>0</td>\n",
              "      <td>0</td>\n",
              "      <td>0</td>\n",
              "      <td>1</td>\n",
              "    </tr>\n",
              "    <tr>\n",
              "      <th>2</th>\n",
              "      <td>-0.119387</td>\n",
              "      <td>-0.675809</td>\n",
              "      <td>0.177535</td>\n",
              "      <td>0.177535</td>\n",
              "      <td>0.635363</td>\n",
              "      <td>0.825326</td>\n",
              "      <td>0.859913</td>\n",
              "      <td>-0.121792</td>\n",
              "      <td>-1.758121</td>\n",
              "      <td>0.749814</td>\n",
              "      <td>-0.217528</td>\n",
              "      <td>1.511812</td>\n",
              "      <td>-0.899933</td>\n",
              "      <td>0</td>\n",
              "      <td>0</td>\n",
              "      <td>0</td>\n",
              "      <td>0</td>\n",
              "      <td>1</td>\n",
              "      <td>0</td>\n",
              "      <td>0</td>\n",
              "      <td>1</td>\n",
              "    </tr>\n",
              "    <tr>\n",
              "      <th>3</th>\n",
              "      <td>-0.117319</td>\n",
              "      <td>-0.677543</td>\n",
              "      <td>0.177535</td>\n",
              "      <td>0.177535</td>\n",
              "      <td>0.635363</td>\n",
              "      <td>-0.066470</td>\n",
              "      <td>-0.090694</td>\n",
              "      <td>-0.441915</td>\n",
              "      <td>-1.758121</td>\n",
              "      <td>0.749814</td>\n",
              "      <td>-0.217528</td>\n",
              "      <td>0.332133</td>\n",
              "      <td>-0.695308</td>\n",
              "      <td>0</td>\n",
              "      <td>0</td>\n",
              "      <td>0</td>\n",
              "      <td>0</td>\n",
              "      <td>1</td>\n",
              "      <td>0</td>\n",
              "      <td>0</td>\n",
              "      <td>1</td>\n",
              "    </tr>\n",
              "    <tr>\n",
              "      <th>4</th>\n",
              "      <td>-0.122835</td>\n",
              "      <td>-0.683612</td>\n",
              "      <td>0.177535</td>\n",
              "      <td>0.177535</td>\n",
              "      <td>-0.549332</td>\n",
              "      <td>-0.800890</td>\n",
              "      <td>-0.873547</td>\n",
              "      <td>-0.592561</td>\n",
              "      <td>-1.758121</td>\n",
              "      <td>0.749814</td>\n",
              "      <td>-0.217528</td>\n",
              "      <td>1.695533</td>\n",
              "      <td>0.025741</td>\n",
              "      <td>0</td>\n",
              "      <td>0</td>\n",
              "      <td>0</td>\n",
              "      <td>0</td>\n",
              "      <td>1</td>\n",
              "      <td>0</td>\n",
              "      <td>0</td>\n",
              "      <td>0</td>\n",
              "    </tr>\n",
              "    <tr>\n",
              "      <th>...</th>\n",
              "      <td>...</td>\n",
              "      <td>...</td>\n",
              "      <td>...</td>\n",
              "      <td>...</td>\n",
              "      <td>...</td>\n",
              "      <td>...</td>\n",
              "      <td>...</td>\n",
              "      <td>...</td>\n",
              "      <td>...</td>\n",
              "      <td>...</td>\n",
              "      <td>...</td>\n",
              "      <td>...</td>\n",
              "      <td>...</td>\n",
              "      <td>...</td>\n",
              "      <td>...</td>\n",
              "      <td>...</td>\n",
              "      <td>...</td>\n",
              "      <td>...</td>\n",
              "      <td>...</td>\n",
              "      <td>...</td>\n",
              "      <td>...</td>\n",
              "    </tr>\n",
              "    <tr>\n",
              "      <th>23047</th>\n",
              "      <td>-0.649246</td>\n",
              "      <td>0.581211</td>\n",
              "      <td>2.786746</td>\n",
              "      <td>2.786746</td>\n",
              "      <td>1.820059</td>\n",
              "      <td>0.842812</td>\n",
              "      <td>1.493651</td>\n",
              "      <td>0.951560</td>\n",
              "      <td>0.561355</td>\n",
              "      <td>-1.000979</td>\n",
              "      <td>-0.217528</td>\n",
              "      <td>1.801898</td>\n",
              "      <td>0.349644</td>\n",
              "      <td>1</td>\n",
              "      <td>0</td>\n",
              "      <td>0</td>\n",
              "      <td>0</td>\n",
              "      <td>0</td>\n",
              "      <td>0</td>\n",
              "      <td>0</td>\n",
              "      <td>1</td>\n",
              "    </tr>\n",
              "    <tr>\n",
              "      <th>23048</th>\n",
              "      <td>-0.626494</td>\n",
              "      <td>0.641028</td>\n",
              "      <td>2.786746</td>\n",
              "      <td>2.786746</td>\n",
              "      <td>1.820059</td>\n",
              "      <td>0.475602</td>\n",
              "      <td>1.475012</td>\n",
              "      <td>1.215191</td>\n",
              "      <td>0.561355</td>\n",
              "      <td>-1.000979</td>\n",
              "      <td>-0.217528</td>\n",
              "      <td>1.801898</td>\n",
              "      <td>1.136380</td>\n",
              "      <td>1</td>\n",
              "      <td>0</td>\n",
              "      <td>0</td>\n",
              "      <td>0</td>\n",
              "      <td>0</td>\n",
              "      <td>0</td>\n",
              "      <td>0</td>\n",
              "      <td>1</td>\n",
              "    </tr>\n",
              "    <tr>\n",
              "      <th>23049</th>\n",
              "      <td>-0.658210</td>\n",
              "      <td>0.608952</td>\n",
              "      <td>2.786746</td>\n",
              "      <td>2.786746</td>\n",
              "      <td>1.820059</td>\n",
              "      <td>0.265768</td>\n",
              "      <td>0.263454</td>\n",
              "      <td>-0.366592</td>\n",
              "      <td>0.561355</td>\n",
              "      <td>-1.000979</td>\n",
              "      <td>-0.217528</td>\n",
              "      <td>1.801898</td>\n",
              "      <td>-0.855458</td>\n",
              "      <td>1</td>\n",
              "      <td>0</td>\n",
              "      <td>0</td>\n",
              "      <td>0</td>\n",
              "      <td>0</td>\n",
              "      <td>0</td>\n",
              "      <td>0</td>\n",
              "      <td>1</td>\n",
              "    </tr>\n",
              "    <tr>\n",
              "      <th>23050</th>\n",
              "      <td>-0.622357</td>\n",
              "      <td>0.677438</td>\n",
              "      <td>2.786746</td>\n",
              "      <td>2.786746</td>\n",
              "      <td>1.820059</td>\n",
              "      <td>0.563033</td>\n",
              "      <td>2.444259</td>\n",
              "      <td>1.817774</td>\n",
              "      <td>0.561355</td>\n",
              "      <td>-1.000979</td>\n",
              "      <td>-0.217528</td>\n",
              "      <td>1.801898</td>\n",
              "      <td>1.795396</td>\n",
              "      <td>1</td>\n",
              "      <td>0</td>\n",
              "      <td>0</td>\n",
              "      <td>0</td>\n",
              "      <td>0</td>\n",
              "      <td>0</td>\n",
              "      <td>0</td>\n",
              "      <td>1</td>\n",
              "    </tr>\n",
              "    <tr>\n",
              "      <th>23051</th>\n",
              "      <td>1.551547</td>\n",
              "      <td>-0.012623</td>\n",
              "      <td>0.177535</td>\n",
              "      <td>0.177535</td>\n",
              "      <td>1.820059</td>\n",
              "      <td>-0.188873</td>\n",
              "      <td>-0.221170</td>\n",
              "      <td>-0.253607</td>\n",
              "      <td>0.561355</td>\n",
              "      <td>-1.000979</td>\n",
              "      <td>-0.217528</td>\n",
              "      <td>2.111322</td>\n",
              "      <td>-0.221038</td>\n",
              "      <td>0</td>\n",
              "      <td>0</td>\n",
              "      <td>0</td>\n",
              "      <td>0</td>\n",
              "      <td>0</td>\n",
              "      <td>0</td>\n",
              "      <td>0</td>\n",
              "      <td>0</td>\n",
              "    </tr>\n",
              "  </tbody>\n",
              "</table>\n",
              "<p>23052 rows × 21 columns</p>\n",
              "</div>"
            ],
            "text/plain": [
              "            lat       lon  ...  l3_Pereira  property_type_Casa\n",
              "0     -0.121456 -0.664540  ...           0                   0\n",
              "1     -1.067066 -1.451694  ...           0                   1\n",
              "2     -0.119387 -0.675809  ...           0                   1\n",
              "3     -0.117319 -0.677543  ...           0                   1\n",
              "4     -0.122835 -0.683612  ...           0                   0\n",
              "...         ...       ...  ...         ...                 ...\n",
              "23047 -0.649246  0.581211  ...           0                   1\n",
              "23048 -0.626494  0.641028  ...           0                   1\n",
              "23049 -0.658210  0.608952  ...           0                   1\n",
              "23050 -0.622357  0.677438  ...           0                   1\n",
              "23051  1.551547 -0.012623  ...           0                   0\n",
              "\n",
              "[23052 rows x 21 columns]"
            ]
          },
          "metadata": {
            "tags": []
          },
          "execution_count": 443
        }
      ]
    },
    {
      "cell_type": "markdown",
      "metadata": {
        "id": "atIC2q1dHxL6",
        "colab_type": "text"
      },
      "source": [
        "MODEL 1 (Price Forecast)"
      ]
    },
    {
      "cell_type": "code",
      "metadata": {
        "id": "El17FNM9H3u7",
        "colab_type": "code",
        "colab": {
          "base_uri": "https://localhost:8080/",
          "height": 35
        },
        "outputId": "d9793eec-4f19-4a69-8bab-1dceadb93e1b"
      },
      "source": [
        "#drop price/m2\n",
        "df_model1=df_scaled.drop('price/m2', axis=1)\n",
        "\n",
        "#Split\n",
        "# partir los datos en input y output(val_rpta)\n",
        "inputs=df_model1.drop(['price'],axis=1).values #todas las variables\n",
        "#inputs_sin_escalar=df_debajo01_.iloc[:,3:] #eliminando variables con coeficientes inferiories a 0,01\n",
        "output=df_model1['price'].values\n",
        "\n",
        "#train test split\n",
        "\n",
        "from sklearn.model_selection import train_test_split\n",
        "train_test_split(inputs, output)\n",
        "X_train, X_test, Y_train, Y_test=train_test_split(inputs, output, train_size=0.8, random_state=60)\n",
        "print('tamaños de train , test ',X_train.shape, X_test.shape)"
      ],
      "execution_count": 445,
      "outputs": [
        {
          "output_type": "stream",
          "text": [
            "tamaños de train , test  (18441, 19) (4611, 19)\n"
          ],
          "name": "stdout"
        }
      ]
    },
    {
      "cell_type": "markdown",
      "metadata": {
        "id": "B1xQuTviJODj",
        "colab_type": "text"
      },
      "source": [
        "MODEL 2 (Selling Time Forecast)"
      ]
    },
    {
      "cell_type": "code",
      "metadata": {
        "id": "ujXKvupbJhDP",
        "colab_type": "code",
        "colab": {
          "base_uri": "https://localhost:8080/",
          "height": 35
        },
        "outputId": "01ef5a08-5b97-4e23-ac81-4767bd778ced"
      },
      "source": [
        "#Split\n",
        "# partir los datos en input y output(val_rpta)\n",
        "inputs=df_scaled.drop(['selling_time'],axis=1).values #todas las variables\n",
        "#inputs_sin_escalar=df_debajo01_.iloc[:,3:] #eliminando variables con coeficientes inferiories a 0,01\n",
        "output=df_scaled['selling_time'].values\n",
        "\n",
        "#train test split\n",
        "\n",
        "from sklearn.model_selection import train_test_split\n",
        "train_test_split(inputs, output)\n",
        "X_train, X_test, Y_train, Y_test=train_test_split(inputs, output, train_size=0.8, random_state=60)\n",
        "print('tamaños de train , test ',X_train.shape, X_test.shape)"
      ],
      "execution_count": 451,
      "outputs": [
        {
          "output_type": "stream",
          "text": [
            "tamaños de train , test  (18441, 20) (4611, 20)\n"
          ],
          "name": "stdout"
        }
      ]
    },
    {
      "cell_type": "markdown",
      "metadata": {
        "id": "FlWCNgRBKZeZ",
        "colab_type": "text"
      },
      "source": [
        "Bagging"
      ]
    },
    {
      "cell_type": "code",
      "metadata": {
        "id": "TpXBjoYrM8i4",
        "colab_type": "code",
        "colab": {
          "base_uri": "https://localhost:8080/",
          "height": 35
        },
        "outputId": "4ef88799-551a-453b-c328-862aa2b28452"
      },
      "source": [
        "import sklearn\n",
        "from sklearn.ensemble import BaggingRegressor\n",
        "model2 = sklearn.ensemble.BaggingRegressor(n_estimators = 2000, max_samples = 20, max_features =19)\n",
        "model2.fit(X_train, Y_train)\n",
        "\n",
        "prediction2 = model2.predict(X_test)\n",
        "score = model2.score(X_test, Y_test)\n",
        "\n",
        "score"
      ],
      "execution_count": 452,
      "outputs": [
        {
          "output_type": "execute_result",
          "data": {
            "text/plain": [
              "0.21334492367298186"
            ]
          },
          "metadata": {
            "tags": []
          },
          "execution_count": 452
        }
      ]
    },
    {
      "cell_type": "markdown",
      "metadata": {
        "id": "6iGL748uKbjo",
        "colab_type": "text"
      },
      "source": [
        "Bagging with ExtraTree"
      ]
    },
    {
      "cell_type": "code",
      "metadata": {
        "id": "P_6S7MsdOZ6D",
        "colab_type": "code",
        "colab": {
          "base_uri": "https://localhost:8080/",
          "height": 290
        },
        "outputId": "4f7d1830-d876-421f-da7e-6a0df9413601"
      },
      "source": [
        "from sklearn.ensemble import BaggingRegressor\n",
        "from sklearn.tree import ExtraTreeRegressor\n",
        "extra_tree = ExtraTreeRegressor(splitter = \"best\" ,random_state=1000)\n",
        "lin_reg = BaggingRegressor(extra_tree, random_state=1000, n_estimators=20)\n",
        "lin_reg.fit(X_train, Y_train)"
      ],
      "execution_count": 453,
      "outputs": [
        {
          "output_type": "execute_result",
          "data": {
            "text/plain": [
              "BaggingRegressor(base_estimator=ExtraTreeRegressor(ccp_alpha=0.0,\n",
              "                                                   criterion='mse',\n",
              "                                                   max_depth=None,\n",
              "                                                   max_features='auto',\n",
              "                                                   max_leaf_nodes=None,\n",
              "                                                   min_impurity_decrease=0.0,\n",
              "                                                   min_impurity_split=None,\n",
              "                                                   min_samples_leaf=1,\n",
              "                                                   min_samples_split=2,\n",
              "                                                   min_weight_fraction_leaf=0.0,\n",
              "                                                   random_state=1000,\n",
              "                                                   splitter='best'),\n",
              "                 bootstrap=True, bootstrap_features=False, max_features=1.0,\n",
              "                 max_samples=1.0, n_estimators=20, n_jobs=None, oob_score=False,\n",
              "                 random_state=1000, verbose=0, warm_start=False)"
            ]
          },
          "metadata": {
            "tags": []
          },
          "execution_count": 453
        }
      ]
    },
    {
      "cell_type": "code",
      "metadata": {
        "id": "z0XCFXGeOfSX",
        "colab_type": "code",
        "colab": {
          "base_uri": "https://localhost:8080/",
          "height": 72
        },
        "outputId": "b8385321-418c-4076-c151-606ff7538c1d"
      },
      "source": [
        "Y_test_estimate = lin_reg.predict(X_test)\n",
        "from sklearn.metrics import mean_squared_error, r2_score, mean_absolute_error\n",
        "rmse = mean_squared_error(Y_test, Y_test_estimate)\n",
        "print(\"Root Mean Square Error (RMSE)= {:.2f}\".format(rmse))\n",
        "mae = mean_absolute_error(Y_test, Y_test_estimate)\n",
        "print(\"Mean Absolute Error (MAE)= {:.2f}\".format(mae))\n",
        "r2 = r2_score(Y_test, Y_test_estimate)\n",
        "print(\"R^2 = {:.3f}\".format(r2))"
      ],
      "execution_count": 454,
      "outputs": [
        {
          "output_type": "stream",
          "text": [
            "Root Mean Square Error (RMSE)= 0.46\n",
            "Mean Absolute Error (MAE)= 0.46\n",
            "R^2 = 0.524\n"
          ],
          "name": "stdout"
        }
      ]
    }
  ]
}