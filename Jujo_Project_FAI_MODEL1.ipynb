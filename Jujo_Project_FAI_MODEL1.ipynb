{
  "nbformat": 4,
  "nbformat_minor": 0,
  "metadata": {
    "colab": {
      "name": "Jujo_Project_FAI_MODEL1.ipynb",
      "provenance": [],
      "toc_visible": true
    },
    "kernelspec": {
      "name": "python3",
      "display_name": "Python 3"
    }
  },
  "cells": [
    {
      "cell_type": "markdown",
      "metadata": {
        "id": "XsUdldi8FPEo",
        "colab_type": "text"
      },
      "source": [
        "Library Import"
      ]
    },
    {
      "cell_type": "code",
      "metadata": {
        "id": "WoFl4a763zf3",
        "colab_type": "code",
        "outputId": "b2474d79-107a-4b3f-f215-770dbc99cf9b",
        "colab": {
          "base_uri": "https://localhost:8080/",
          "height": 55
        }
      },
      "source": [
        "import numpy as np\n",
        "import matplotlib.pyplot as plt\n",
        "import pandas as pd\n",
        "import seaborn as sns\n",
        "from google.colab import drive\n",
        "import datetime\n",
        "from sklearn.preprocessing import (PowerTransformer, StandardScaler, \n",
        "                                   MinMaxScaler, LabelEncoder, OneHotEncoder)\n",
        "\n",
        "drive.mount('/content/drive')"
      ],
      "execution_count": 1,
      "outputs": [
        {
          "output_type": "stream",
          "text": [
            "Drive already mounted at /content/drive; to attempt to forcibly remount, call drive.mount(\"/content/drive\", force_remount=True).\n"
          ],
          "name": "stdout"
        }
      ]
    },
    {
      "cell_type": "markdown",
      "metadata": {
        "id": "-6zC37YUFUG6",
        "colab_type": "text"
      },
      "source": [
        "Data Preprocessing"
      ]
    },
    {
      "cell_type": "code",
      "metadata": {
        "id": "2ZCHL2nx5ZKe",
        "colab_type": "code",
        "outputId": "37b828cc-2315-4853-a6c0-0f96351cba80",
        "colab": {
          "base_uri": "https://localhost:8080/",
          "height": 74
        }
      },
      "source": [
        "df = pd.read_csv('/content/drive/My Drive/project/nutritive.csv')\n",
        "\n",
        "#remove columns\n",
        "df=df.drop('start_date',axis=1)\n",
        "df=df.drop('ad_type',axis=1)\n",
        "df=df.drop('Unnamed: 0',axis=1)\n",
        "df=df.drop('id',axis=1)\n",
        "df=df.drop('description',axis=1)\n",
        "df=df.drop('title',axis=1)\n",
        "df=df.drop('l1',axis=1)\n",
        "df=df.drop('l2',axis=1)\n",
        "df=df.drop('l4',axis=1)\n",
        "df=df.drop('l5',axis=1)\n",
        "df=df.drop('l6',axis=1)\n",
        "df=df.drop('price_period',axis=1)\n",
        "\n",
        "#clean dataset, rows with years higher than 2020 will be removed\n",
        "df['año']=df['end_date'].str[:4]\n",
        "d1=df[df['año']=='2019']\n",
        "d2=df[df['año']=='2018']\n",
        "d3=df[df['año']=='2020']\n",
        "df4=pd.concat([d1,d2])\n",
        "df=pd.concat([df4,d3])\n",
        "\n",
        "#split 'created_on' variable\n",
        "dfechas=df['created_on'].str.split('-', expand=True)\n",
        "df=pd.concat([df,dfechas], axis=1)\n",
        "\n",
        "# change format of variables created on and end date\n",
        "df['created_on']=pd.to_datetime(df['created_on'], format=\"%Y-%m-%d\")\n",
        "df['end_date']=pd.to_datetime(df['end_date'], format=\"%Y-%m-%d\")\n",
        "\n",
        "#substract dates to get selling time\n",
        "df['selling_time']=df['end_date']-df['created_on']\n",
        "df['price/m2']=np.divide(df['price'],df['surface_total'])\n",
        "df=df.drop('end_date',axis=1)\n",
        "\n",
        "#rename columns\n",
        "\n",
        "df.columns=[          'created_on',             'lat',\n",
        "                   'lon',              'l3',           'rooms',\n",
        "              'bedrooms',       'bathrooms',   'surface_total',\n",
        "       'surface_covered',           'price',        'currency',\n",
        "         'property_type',  'operation_type',             'año',\n",
        "                       'Year',                 'Month',                 'Day',\n",
        "          'selling_time',        'price/m2']\n",
        "\n",
        "#create numbers from strings\n",
        "df['Month']=pd.to_numeric(df['Month'])\n",
        "df['Year']=pd.to_numeric(df['Year'])\n",
        "df['Day']=pd.to_numeric(df['Day'])\n",
        "\n",
        "# remove created_on cause it has been splited into month year and day\n",
        "df=df.drop('created_on',axis=1)\n",
        "\n",
        "#remove 'año'\n",
        "df=df.drop('año',axis=1)\n",
        "\n",
        "#drop rows with na values\n",
        "df=df.dropna()\n",
        "\n",
        "# get number of days from date\n",
        "df['selling_time']=df['selling_time'].apply(lambda x: x.days)\n",
        "\n",
        "#apply filters 'Currency'=COP, property type='Apto or casa'\n",
        "\n",
        "df=df[(df['property_type']=='Casa') | (df['property_type']=='Apartamento')]\n",
        "df=df[(df['currency']=='COP') & (df['operation_type']=='Venta')]\n",
        "df=df.drop('currency',axis=1)\n",
        "df=df.drop('operation_type',axis=1)\n",
        "\n",
        "#flitering the 8 most frecuent cities\n",
        "df=df[(df['l3']=='Bogotá D.C') |(df['l3']=='Barranquilla' )|(df['l3']=='Cali' )|(df['l3']=='Cucuta' )|(df['l3']=='Medellín' )|(df['l3']=='Chía' )|(df['l3']=='Pereira' )|(df['l3']=='Envigado' )]\n",
        "\n",
        "df=df[df['selling_time']!=0]\n",
        "\n",
        "df=df[df['bedrooms']<df['bedrooms'].quantile(0.98)]\n",
        "\n",
        "df=df[df['bathrooms']<df['bathrooms'].quantile(0.98)]\n",
        "\n",
        "df=df[df['surface_total']<df['surface_total'].quantile(0.98)]\n",
        "\n",
        "df=df[df['surface_covered']<df['surface_covered'].quantile(0.98)]\n",
        "\n",
        "df=df[df['price/m2']<df['price/m2'].quantile(0.98)]\n",
        "\n",
        "\n",
        "#get dummies\n",
        "df=pd.get_dummies(df,columns=['l3','property_type'])\n",
        "\n",
        "# reset index\n",
        "df=df.reset_index()\n",
        "\n",
        "\n"
      ],
      "execution_count": 2,
      "outputs": [
        {
          "output_type": "stream",
          "text": [
            "/usr/local/lib/python3.6/dist-packages/IPython/core/interactiveshell.py:2718: DtypeWarning: Columns (0) have mixed types. Specify dtype option on import or set low_memory=False.\n",
            "  interactivity=interactivity, compiler=compiler, result=result)\n"
          ],
          "name": "stderr"
        }
      ]
    },
    {
      "cell_type": "markdown",
      "metadata": {
        "id": "nGzZIWitGhN9",
        "colab_type": "text"
      },
      "source": [
        "Define Non numerical Values (dummies columns)"
      ]
    },
    {
      "cell_type": "code",
      "metadata": {
        "id": "8slt4zKmGkAd",
        "colab_type": "code",
        "colab": {}
      },
      "source": [
        "df_dummies=df[['l3_Bogotá D.C', 'l3_Cali', 'l3_Chía', 'l3_Cucuta', 'l3_Envigado', 'l3_Medellín', 'l3_Pereira', 'property_type_Casa']]"
      ],
      "execution_count": 0,
      "outputs": []
    },
    {
      "cell_type": "markdown",
      "metadata": {
        "id": "UqrgfyN28t8i",
        "colab_type": "text"
      },
      "source": [
        "Define numerical Values"
      ]
    },
    {
      "cell_type": "code",
      "metadata": {
        "id": "MtgS0m8S8te0",
        "colab_type": "code",
        "outputId": "142ffe5e-8b80-4fb9-8b86-e3f48a5aff35",
        "colab": {
          "base_uri": "https://localhost:8080/",
          "height": 35
        }
      },
      "source": [
        "# df_num is made of only the numerical values\n",
        "df_num=df[['lat', 'lon', 'rooms', 'bedrooms', 'bathrooms', 'surface_total', 'surface_covered', 'price', 'Year', 'Month', 'Day', 'selling_time','price/m2', ]]\n",
        "df_num.shape"
      ],
      "execution_count": 5,
      "outputs": [
        {
          "output_type": "execute_result",
          "data": {
            "text/plain": [
              "(27946, 13)"
            ]
          },
          "metadata": {
            "tags": []
          },
          "execution_count": 5
        }
      ]
    },
    {
      "cell_type": "markdown",
      "metadata": {
        "id": "pzRlFDlfNMbe",
        "colab_type": "text"
      },
      "source": [
        "Scalling (only numerical columns)"
      ]
    },
    {
      "cell_type": "code",
      "metadata": {
        "id": "KIUJgZdvMs85",
        "colab_type": "code",
        "outputId": "8d64a4b6-ce13-4a0b-da05-0b61550546d9",
        "colab": {
          "base_uri": "https://localhost:8080/",
          "height": 517
        }
      },
      "source": [
        "from sklearn.preprocessing import StandardScaler\n",
        "scaler = StandardScaler()\n",
        "scaler.fit(df_num)\n",
        "print(scaler.mean_)\n",
        "df_scaled=scaler.transform(df_num)\n",
        "#dataframe from scaled values\n",
        "df_scaled=pd.DataFrame(df_scaled, columns=['lat', 'lon', 'rooms', 'bedrooms', 'bathrooms', 'surface_total', 'surface_covered', 'price', 'Year', 'Month', 'Day', 'selling_time','price/m2', ])\n",
        "df_scaled=pd.merge(df_scaled,df_dummies,left_index=True,right_index=True)\n",
        "df_scaled"
      ],
      "execution_count": 6,
      "outputs": [
        {
          "output_type": "stream",
          "text": [
            "[ 6.37559257e+00 -7.48025383e+01  3.03449510e+00  3.03449510e+00\n",
            "  2.70453732e+00  1.48510485e+02  1.39383740e+02  5.04382645e+08\n",
            "  2.01876873e+03  6.32577113e+00  1.55393616e+01  1.14148035e+02\n",
            "  3.63905273e+06]\n"
          ],
          "name": "stdout"
        },
        {
          "output_type": "execute_result",
          "data": {
            "text/html": [
              "<div>\n",
              "<style scoped>\n",
              "    .dataframe tbody tr th:only-of-type {\n",
              "        vertical-align: middle;\n",
              "    }\n",
              "\n",
              "    .dataframe tbody tr th {\n",
              "        vertical-align: top;\n",
              "    }\n",
              "\n",
              "    .dataframe thead th {\n",
              "        text-align: right;\n",
              "    }\n",
              "</style>\n",
              "<table border=\"1\" class=\"dataframe\">\n",
              "  <thead>\n",
              "    <tr style=\"text-align: right;\">\n",
              "      <th></th>\n",
              "      <th>lat</th>\n",
              "      <th>lon</th>\n",
              "      <th>rooms</th>\n",
              "      <th>bedrooms</th>\n",
              "      <th>bathrooms</th>\n",
              "      <th>surface_total</th>\n",
              "      <th>surface_covered</th>\n",
              "      <th>price</th>\n",
              "      <th>Year</th>\n",
              "      <th>Month</th>\n",
              "      <th>Day</th>\n",
              "      <th>selling_time</th>\n",
              "      <th>price/m2</th>\n",
              "      <th>l3_Bogotá D.C</th>\n",
              "      <th>l3_Cali</th>\n",
              "      <th>l3_Chía</th>\n",
              "      <th>l3_Cucuta</th>\n",
              "      <th>l3_Envigado</th>\n",
              "      <th>l3_Medellín</th>\n",
              "      <th>l3_Pereira</th>\n",
              "      <th>property_type_Casa</th>\n",
              "    </tr>\n",
              "  </thead>\n",
              "  <tbody>\n",
              "    <tr>\n",
              "      <th>0</th>\n",
              "      <td>-0.075857</td>\n",
              "      <td>-0.671515</td>\n",
              "      <td>-1.075062</td>\n",
              "      <td>-1.075062</td>\n",
              "      <td>-0.682322</td>\n",
              "      <td>-0.382125</td>\n",
              "      <td>-0.513130</td>\n",
              "      <td>-0.254827</td>\n",
              "      <td>-1.812634</td>\n",
              "      <td>0.782036</td>\n",
              "      <td>-0.215945</td>\n",
              "      <td>0.784666</td>\n",
              "      <td>0.287396</td>\n",
              "      <td>0</td>\n",
              "      <td>0</td>\n",
              "      <td>0</td>\n",
              "      <td>0</td>\n",
              "      <td>1</td>\n",
              "      <td>0</td>\n",
              "      <td>0</td>\n",
              "      <td>0</td>\n",
              "    </tr>\n",
              "    <tr>\n",
              "      <th>1</th>\n",
              "      <td>-1.036530</td>\n",
              "      <td>-1.458818</td>\n",
              "      <td>-0.035848</td>\n",
              "      <td>-0.035848</td>\n",
              "      <td>-1.650791</td>\n",
              "      <td>-0.207474</td>\n",
              "      <td>-0.655062</td>\n",
              "      <td>-1.025954</td>\n",
              "      <td>-1.812634</td>\n",
              "      <td>0.782036</td>\n",
              "      <td>-0.215945</td>\n",
              "      <td>-0.049962</td>\n",
              "      <td>-1.876998</td>\n",
              "      <td>0</td>\n",
              "      <td>1</td>\n",
              "      <td>0</td>\n",
              "      <td>0</td>\n",
              "      <td>0</td>\n",
              "      <td>0</td>\n",
              "      <td>0</td>\n",
              "      <td>1</td>\n",
              "    </tr>\n",
              "    <tr>\n",
              "      <th>2</th>\n",
              "      <td>-0.073755</td>\n",
              "      <td>-0.682787</td>\n",
              "      <td>-0.035848</td>\n",
              "      <td>-0.035848</td>\n",
              "      <td>0.286146</td>\n",
              "      <td>0.083611</td>\n",
              "      <td>0.243843</td>\n",
              "      <td>-0.324718</td>\n",
              "      <td>-1.812634</td>\n",
              "      <td>0.782036</td>\n",
              "      <td>-0.215945</td>\n",
              "      <td>1.502835</td>\n",
              "      <td>-0.820613</td>\n",
              "      <td>0</td>\n",
              "      <td>0</td>\n",
              "      <td>0</td>\n",
              "      <td>0</td>\n",
              "      <td>1</td>\n",
              "      <td>0</td>\n",
              "      <td>0</td>\n",
              "      <td>1</td>\n",
              "    </tr>\n",
              "    <tr>\n",
              "      <th>3</th>\n",
              "      <td>-0.071654</td>\n",
              "      <td>-0.684521</td>\n",
              "      <td>-0.035848</td>\n",
              "      <td>-0.035848</td>\n",
              "      <td>0.286146</td>\n",
              "      <td>-0.287523</td>\n",
              "      <td>-0.359370</td>\n",
              "      <td>-0.522742</td>\n",
              "      <td>-1.812634</td>\n",
              "      <td>0.782036</td>\n",
              "      <td>-0.215945</td>\n",
              "      <td>0.318828</td>\n",
              "      <td>-0.646822</td>\n",
              "      <td>0</td>\n",
              "      <td>0</td>\n",
              "      <td>0</td>\n",
              "      <td>0</td>\n",
              "      <td>1</td>\n",
              "      <td>0</td>\n",
              "      <td>0</td>\n",
              "      <td>1</td>\n",
              "    </tr>\n",
              "    <tr>\n",
              "      <th>4</th>\n",
              "      <td>-0.077258</td>\n",
              "      <td>-0.690591</td>\n",
              "      <td>-0.035848</td>\n",
              "      <td>-0.035848</td>\n",
              "      <td>-0.682322</td>\n",
              "      <td>-0.593162</td>\n",
              "      <td>-0.856133</td>\n",
              "      <td>-0.615929</td>\n",
              "      <td>-1.812634</td>\n",
              "      <td>0.782036</td>\n",
              "      <td>-0.215945</td>\n",
              "      <td>1.687229</td>\n",
              "      <td>-0.034427</td>\n",
              "      <td>0</td>\n",
              "      <td>0</td>\n",
              "      <td>0</td>\n",
              "      <td>0</td>\n",
              "      <td>1</td>\n",
              "      <td>0</td>\n",
              "      <td>0</td>\n",
              "      <td>0</td>\n",
              "    </tr>\n",
              "    <tr>\n",
              "      <th>...</th>\n",
              "      <td>...</td>\n",
              "      <td>...</td>\n",
              "      <td>...</td>\n",
              "      <td>...</td>\n",
              "      <td>...</td>\n",
              "      <td>...</td>\n",
              "      <td>...</td>\n",
              "      <td>...</td>\n",
              "      <td>...</td>\n",
              "      <td>...</td>\n",
              "      <td>...</td>\n",
              "      <td>...</td>\n",
              "      <td>...</td>\n",
              "      <td>...</td>\n",
              "      <td>...</td>\n",
              "      <td>...</td>\n",
              "      <td>...</td>\n",
              "      <td>...</td>\n",
              "      <td>...</td>\n",
              "      <td>...</td>\n",
              "      <td>...</td>\n",
              "    </tr>\n",
              "    <tr>\n",
              "      <th>27941</th>\n",
              "      <td>-0.599796</td>\n",
              "      <td>0.638633</td>\n",
              "      <td>2.042580</td>\n",
              "      <td>2.042580</td>\n",
              "      <td>2.223083</td>\n",
              "      <td>1.226119</td>\n",
              "      <td>2.100791</td>\n",
              "      <td>0.339243</td>\n",
              "      <td>0.545317</td>\n",
              "      <td>-0.972569</td>\n",
              "      <td>-0.215945</td>\n",
              "      <td>1.793984</td>\n",
              "      <td>-0.960087</td>\n",
              "      <td>1</td>\n",
              "      <td>0</td>\n",
              "      <td>0</td>\n",
              "      <td>0</td>\n",
              "      <td>0</td>\n",
              "      <td>0</td>\n",
              "      <td>0</td>\n",
              "      <td>1</td>\n",
              "    </tr>\n",
              "    <tr>\n",
              "      <th>27942</th>\n",
              "      <td>-0.605050</td>\n",
              "      <td>0.636899</td>\n",
              "      <td>2.042580</td>\n",
              "      <td>2.042580</td>\n",
              "      <td>2.223083</td>\n",
              "      <td>2.048435</td>\n",
              "      <td>3.437321</td>\n",
              "      <td>2.202994</td>\n",
              "      <td>0.545317</td>\n",
              "      <td>-0.972569</td>\n",
              "      <td>-0.215945</td>\n",
              "      <td>1.793984</td>\n",
              "      <td>-0.161342</td>\n",
              "      <td>1</td>\n",
              "      <td>0</td>\n",
              "      <td>0</td>\n",
              "      <td>0</td>\n",
              "      <td>0</td>\n",
              "      <td>0</td>\n",
              "      <td>0</td>\n",
              "      <td>1</td>\n",
              "    </tr>\n",
              "    <tr>\n",
              "      <th>27943</th>\n",
              "      <td>-0.588939</td>\n",
              "      <td>0.662911</td>\n",
              "      <td>2.042580</td>\n",
              "      <td>2.042580</td>\n",
              "      <td>2.223083</td>\n",
              "      <td>1.975663</td>\n",
              "      <td>3.319044</td>\n",
              "      <td>3.018384</td>\n",
              "      <td>0.545317</td>\n",
              "      <td>-0.972569</td>\n",
              "      <td>-0.215945</td>\n",
              "      <td>1.793984</td>\n",
              "      <td>0.390822</td>\n",
              "      <td>1</td>\n",
              "      <td>0</td>\n",
              "      <td>0</td>\n",
              "      <td>0</td>\n",
              "      <td>0</td>\n",
              "      <td>0</td>\n",
              "      <td>0</td>\n",
              "      <td>0</td>\n",
              "    </tr>\n",
              "    <tr>\n",
              "      <th>27944</th>\n",
              "      <td>-0.586488</td>\n",
              "      <td>0.630829</td>\n",
              "      <td>3.081794</td>\n",
              "      <td>3.081794</td>\n",
              "      <td>2.223083</td>\n",
              "      <td>1.044191</td>\n",
              "      <td>1.757788</td>\n",
              "      <td>0.688696</td>\n",
              "      <td>0.545317</td>\n",
              "      <td>-0.972569</td>\n",
              "      <td>-0.215945</td>\n",
              "      <td>1.793984</td>\n",
              "      <td>-0.543524</td>\n",
              "      <td>1</td>\n",
              "      <td>0</td>\n",
              "      <td>0</td>\n",
              "      <td>0</td>\n",
              "      <td>0</td>\n",
              "      <td>0</td>\n",
              "      <td>0</td>\n",
              "      <td>1</td>\n",
              "    </tr>\n",
              "    <tr>\n",
              "      <th>27945</th>\n",
              "      <td>-0.596995</td>\n",
              "      <td>0.571001</td>\n",
              "      <td>4.121008</td>\n",
              "      <td>4.121008</td>\n",
              "      <td>2.223083</td>\n",
              "      <td>0.403804</td>\n",
              "      <td>2.017997</td>\n",
              "      <td>2.435962</td>\n",
              "      <td>0.545317</td>\n",
              "      <td>-0.972569</td>\n",
              "      <td>-0.215945</td>\n",
              "      <td>1.793984</td>\n",
              "      <td>2.392685</td>\n",
              "      <td>1</td>\n",
              "      <td>0</td>\n",
              "      <td>0</td>\n",
              "      <td>0</td>\n",
              "      <td>0</td>\n",
              "      <td>0</td>\n",
              "      <td>0</td>\n",
              "      <td>1</td>\n",
              "    </tr>\n",
              "  </tbody>\n",
              "</table>\n",
              "<p>27946 rows × 21 columns</p>\n",
              "</div>"
            ],
            "text/plain": [
              "            lat       lon  ...  l3_Pereira  property_type_Casa\n",
              "0     -0.075857 -0.671515  ...           0                   0\n",
              "1     -1.036530 -1.458818  ...           0                   1\n",
              "2     -0.073755 -0.682787  ...           0                   1\n",
              "3     -0.071654 -0.684521  ...           0                   1\n",
              "4     -0.077258 -0.690591  ...           0                   0\n",
              "...         ...       ...  ...         ...                 ...\n",
              "27941 -0.599796  0.638633  ...           0                   1\n",
              "27942 -0.605050  0.636899  ...           0                   1\n",
              "27943 -0.588939  0.662911  ...           0                   0\n",
              "27944 -0.586488  0.630829  ...           0                   1\n",
              "27945 -0.596995  0.571001  ...           0                   1\n",
              "\n",
              "[27946 rows x 21 columns]"
            ]
          },
          "metadata": {
            "tags": []
          },
          "execution_count": 6
        }
      ]
    },
    {
      "cell_type": "markdown",
      "metadata": {
        "id": "atIC2q1dHxL6",
        "colab_type": "text"
      },
      "source": [
        "MODEL 1 (Price Forecast)"
      ]
    },
    {
      "cell_type": "code",
      "metadata": {
        "id": "El17FNM9H3u7",
        "colab_type": "code",
        "outputId": "2afef12a-6b8a-4423-eb89-cbc1872d4104",
        "colab": {
          "base_uri": "https://localhost:8080/",
          "height": 35
        }
      },
      "source": [
        "#drop price/m2\n",
        "df_model1=df_scaled.drop('price/m2', axis=1)\n",
        "\n",
        "#Split\n",
        "# partir los datos en input y output(val_rpta)\n",
        "inputs=df_model1.drop(['price'],axis=1).values #todas las variables\n",
        "#inputs_sin_escalar=df_debajo01_.iloc[:,3:] #eliminando variables con coeficientes inferiories a 0,01\n",
        "output=df_model1['price'].values\n",
        "\n",
        "#train test split\n",
        "\n",
        "from sklearn.model_selection import train_test_split\n",
        "train_test_split(inputs, output)\n",
        "X_train, X_test, Y_train, Y_test=train_test_split(inputs, output, train_size=0.8, random_state=60)\n",
        "print('tamaños de train , test ',X_train.shape, X_test.shape)"
      ],
      "execution_count": 7,
      "outputs": [
        {
          "output_type": "stream",
          "text": [
            "tamaños de train , test  (22356, 19) (5590, 19)\n"
          ],
          "name": "stdout"
        }
      ]
    },
    {
      "cell_type": "markdown",
      "metadata": {
        "id": "FlWCNgRBKZeZ",
        "colab_type": "text"
      },
      "source": [
        "Bagging"
      ]
    },
    {
      "cell_type": "code",
      "metadata": {
        "id": "TpXBjoYrM8i4",
        "colab_type": "code",
        "outputId": "242031e9-3637-4580-fcba-af9d117e3dec",
        "colab": {
          "base_uri": "https://localhost:8080/",
          "height": 35
        }
      },
      "source": [
        "import sklearn\n",
        "from sklearn.ensemble import BaggingRegressor\n",
        "model2 = sklearn.ensemble.BaggingRegressor(n_estimators = 2000, max_samples = 20, max_features =19)\n",
        "model2.fit(X_train, Y_train)\n",
        "\n",
        "prediction2 = model2.predict(X_test)\n",
        "score = model2.score(X_test, Y_test)\n",
        "\n",
        "score"
      ],
      "execution_count": 8,
      "outputs": [
        {
          "output_type": "execute_result",
          "data": {
            "text/plain": [
              "0.5951068478434389"
            ]
          },
          "metadata": {
            "tags": []
          },
          "execution_count": 8
        }
      ]
    },
    {
      "cell_type": "markdown",
      "metadata": {
        "id": "6iGL748uKbjo",
        "colab_type": "text"
      },
      "source": [
        "Bagging with ExtraTree"
      ]
    },
    {
      "cell_type": "code",
      "metadata": {
        "id": "P_6S7MsdOZ6D",
        "colab_type": "code",
        "outputId": "00098062-7af1-4ba1-c560-7a9cdeaed44b",
        "colab": {
          "base_uri": "https://localhost:8080/",
          "height": 290
        }
      },
      "source": [
        "from sklearn.ensemble import BaggingRegressor\n",
        "from sklearn.tree import ExtraTreeRegressor\n",
        "extra_tree = ExtraTreeRegressor(splitter = \"best\" ,random_state=1000)\n",
        "lin_reg = BaggingRegressor(extra_tree, random_state=1000, n_estimators=20)\n",
        "lin_reg.fit(X_train, Y_train)"
      ],
      "execution_count": 9,
      "outputs": [
        {
          "output_type": "execute_result",
          "data": {
            "text/plain": [
              "BaggingRegressor(base_estimator=ExtraTreeRegressor(ccp_alpha=0.0,\n",
              "                                                   criterion='mse',\n",
              "                                                   max_depth=None,\n",
              "                                                   max_features='auto',\n",
              "                                                   max_leaf_nodes=None,\n",
              "                                                   min_impurity_decrease=0.0,\n",
              "                                                   min_impurity_split=None,\n",
              "                                                   min_samples_leaf=1,\n",
              "                                                   min_samples_split=2,\n",
              "                                                   min_weight_fraction_leaf=0.0,\n",
              "                                                   random_state=1000,\n",
              "                                                   splitter='best'),\n",
              "                 bootstrap=True, bootstrap_features=False, max_features=1.0,\n",
              "                 max_samples=1.0, n_estimators=20, n_jobs=None, oob_score=False,\n",
              "                 random_state=1000, verbose=0, warm_start=False)"
            ]
          },
          "metadata": {
            "tags": []
          },
          "execution_count": 9
        }
      ]
    },
    {
      "cell_type": "code",
      "metadata": {
        "id": "z0XCFXGeOfSX",
        "colab_type": "code",
        "outputId": "bb37433a-99f3-425d-e6c4-286974e0fe65",
        "colab": {
          "base_uri": "https://localhost:8080/",
          "height": 72
        }
      },
      "source": [
        "Y_test_estimate = lin_reg.predict(X_test)\n",
        "from sklearn.metrics import mean_squared_error, r2_score, mean_absolute_error\n",
        "rmse = mean_squared_error(Y_test, Y_test_estimate)\n",
        "print(\"Root Mean Square Error (RMSE)= {:.2f}\".format(rmse))\n",
        "mae = mean_absolute_error(Y_test, Y_test_estimate)\n",
        "print(\"Mean Absolute Error (MAE)= {:.2f}\".format(mae))\n",
        "r2 = r2_score(Y_test, Y_test_estimate)\n",
        "print(\"R^2 = {:.3f}\".format(r2))"
      ],
      "execution_count": 10,
      "outputs": [
        {
          "output_type": "stream",
          "text": [
            "Root Mean Square Error (RMSE)= 0.16\n",
            "Mean Absolute Error (MAE)= 0.22\n",
            "R^2 = 0.838\n"
          ],
          "name": "stdout"
        }
      ]
    },
    {
      "cell_type": "markdown",
      "metadata": {
        "id": "pEAYKUFoFeSA",
        "colab_type": "text"
      },
      "source": [
        "(Optional) Encode selling time"
      ]
    },
    {
      "cell_type": "code",
      "metadata": {
        "id": "kil4dIgZFd6-",
        "colab_type": "code",
        "colab": {}
      },
      "source": [
        "#dias en que se vende\n",
        "q1=df['selling_time'].quantile(0.5)\n",
        "\n",
        "def vel(x):\n",
        "  if x<q1:\n",
        "    x='0'  \n",
        "  else:\n",
        "    x='1'\n",
        "  return(x) \n",
        "\n",
        "df['selling_time']=df['selling_time'].apply(lambda x:vel(x))\n",
        "\n"
      ],
      "execution_count": 0,
      "outputs": []
    },
    {
      "cell_type": "code",
      "metadata": {
        "id": "eSll8P5nS2S4",
        "colab_type": "code",
        "outputId": "2251c40b-abd4-4e47-8bf2-c2ebb3957326",
        "colab": {
          "base_uri": "https://localhost:8080/",
          "height": 464
        }
      },
      "source": [
        "#norte sur centro\n",
        "a=np.array(['l3_Barranquilla','l3_Bogotá D.C', 'l3_Cali', 'l3_Chía', 'l3_Cucuta', 'l3_Envigado','l3_Medellín', 'l3_Pereira'])\n",
        "\n",
        "dl_=df[df[a[0]]==1]\n",
        "\n",
        "cero=dl_['lat'].min()\n",
        "norte=dl_['lat'].quantile(0.66)\n",
        "sur=dl_['lat'].quantile(0.33)\n",
        "maxim=dl_['lat'].max()\n",
        "\n",
        "latitud=pd.cut(dl_.lat,bins=[cero,sur,norte,maxim],labels=['sur','centro','norte'])\n",
        "\n",
        "dl_['lat']=latitud\n",
        "\n",
        "for l in range(1,a.shape[0]+1):\n",
        "\n",
        "  dl_1=df[df[a[l]]==1]\n",
        "\n",
        "  cero=dl_1['lat'].min()\n",
        "  norte=dl_1['lat'].quantile(0.66)\n",
        "  sur=dl_1['lat'].quantile(0.33)\n",
        "  maxim=dl_1['lat'].max()\n",
        "\n",
        "  latitud=pd.cut(dl_1.lat,bins=[cero,sur,norte,maxim],labels=['sur','centro','norte'])\n",
        "  \n",
        "  dl_1['lat']=latitud\n",
        "\n",
        "  dl_=dl_.append(dl_1)\n",
        "\n"
      ],
      "execution_count": 0,
      "outputs": [
        {
          "output_type": "stream",
          "text": [
            "/usr/local/lib/python3.6/dist-packages/ipykernel_launcher.py:12: SettingWithCopyWarning: \n",
            "A value is trying to be set on a copy of a slice from a DataFrame.\n",
            "Try using .loc[row_indexer,col_indexer] = value instead\n",
            "\n",
            "See the caveats in the documentation: http://pandas.pydata.org/pandas-docs/stable/user_guide/indexing.html#returning-a-view-versus-a-copy\n",
            "  if sys.path[0] == '':\n",
            "/usr/local/lib/python3.6/dist-packages/ipykernel_launcher.py:25: SettingWithCopyWarning: \n",
            "A value is trying to be set on a copy of a slice from a DataFrame.\n",
            "Try using .loc[row_indexer,col_indexer] = value instead\n",
            "\n",
            "See the caveats in the documentation: http://pandas.pydata.org/pandas-docs/stable/user_guide/indexing.html#returning-a-view-versus-a-copy\n"
          ],
          "name": "stderr"
        },
        {
          "output_type": "error",
          "ename": "IndexError",
          "evalue": "ignored",
          "traceback": [
            "\u001b[0;31m---------------------------------------------------------------------------\u001b[0m",
            "\u001b[0;31mIndexError\u001b[0m                                Traceback (most recent call last)",
            "\u001b[0;32m<ipython-input-571-71ee56c3d3d9>\u001b[0m in \u001b[0;36m<module>\u001b[0;34m()\u001b[0m\n\u001b[1;32m     14\u001b[0m \u001b[0;32mfor\u001b[0m \u001b[0ml\u001b[0m \u001b[0;32min\u001b[0m \u001b[0mrange\u001b[0m\u001b[0;34m(\u001b[0m\u001b[0;36m1\u001b[0m\u001b[0;34m,\u001b[0m\u001b[0ma\u001b[0m\u001b[0;34m.\u001b[0m\u001b[0mshape\u001b[0m\u001b[0;34m[\u001b[0m\u001b[0;36m0\u001b[0m\u001b[0;34m]\u001b[0m\u001b[0;34m+\u001b[0m\u001b[0;36m1\u001b[0m\u001b[0;34m)\u001b[0m\u001b[0;34m:\u001b[0m\u001b[0;34m\u001b[0m\u001b[0;34m\u001b[0m\u001b[0m\n\u001b[1;32m     15\u001b[0m \u001b[0;34m\u001b[0m\u001b[0m\n\u001b[0;32m---> 16\u001b[0;31m   \u001b[0mdl_1\u001b[0m\u001b[0;34m=\u001b[0m\u001b[0mdf\u001b[0m\u001b[0;34m[\u001b[0m\u001b[0mdf\u001b[0m\u001b[0;34m[\u001b[0m\u001b[0ma\u001b[0m\u001b[0;34m[\u001b[0m\u001b[0ml\u001b[0m\u001b[0;34m]\u001b[0m\u001b[0;34m]\u001b[0m\u001b[0;34m==\u001b[0m\u001b[0;36m1\u001b[0m\u001b[0;34m]\u001b[0m\u001b[0;34m\u001b[0m\u001b[0;34m\u001b[0m\u001b[0m\n\u001b[0m\u001b[1;32m     17\u001b[0m \u001b[0;34m\u001b[0m\u001b[0m\n\u001b[1;32m     18\u001b[0m   \u001b[0mcero\u001b[0m\u001b[0;34m=\u001b[0m\u001b[0mdl_1\u001b[0m\u001b[0;34m[\u001b[0m\u001b[0;34m'lat'\u001b[0m\u001b[0;34m]\u001b[0m\u001b[0;34m.\u001b[0m\u001b[0mmin\u001b[0m\u001b[0;34m(\u001b[0m\u001b[0;34m)\u001b[0m\u001b[0;34m\u001b[0m\u001b[0;34m\u001b[0m\u001b[0m\n",
            "\u001b[0;31mIndexError\u001b[0m: index 8 is out of bounds for axis 0 with size 8"
          ]
        }
      ]
    },
    {
      "cell_type": "code",
      "metadata": {
        "id": "SNmkoTXqsX5o",
        "colab_type": "code",
        "outputId": "0d24d333-05b4-4106-a162-e51a4b0c288c",
        "colab": {
          "base_uri": "https://localhost:8080/",
          "height": 237
        }
      },
      "source": [
        "# oriente centro occidente\n",
        "\n",
        "dl_=dl_[dl_[a[0]]==1]\n",
        "\n",
        "cero=dl_['lon'].min()\n",
        "occidente=dl_['lon'].quantile(0.66)\n",
        "oriente=dl_['lon'].quantile(0.33)\n",
        "maxim=dl_['lon'].max()\n",
        "\n",
        "longitud=pd.cut(dl_.lon,bins=[cero,oriente,occidente,maxim],labels=['oriente','centro','occidente'])\n",
        "\n",
        "dl_['lon']=latitud\n",
        "\n",
        "for l in range(1,a.shape[0]):\n",
        "\n",
        "  dl_1=df[df[a[l]]==1]\n",
        "\n",
        "  cero=dl_1['lon'].min()\n",
        "  occidente=dl_1['lon'].quantile(0.66)\n",
        "  oriente=dl_1['lon'].quantile(0.33)\n",
        "  maxim=dl_1['lon'].max()\n",
        "\n",
        "  longitud=pd.cut(dl_.lon,bins=[cero,oriente,occidente,maxim],labels=['oriente','centro','occidente'])\n",
        "  \n",
        "  dl_1['lon']=latitud\n",
        "\n",
        "  dl_=dl_.append(dl_1)\n"
      ],
      "execution_count": 0,
      "outputs": [
        {
          "output_type": "stream",
          "text": [
            "/usr/local/lib/python3.6/dist-packages/ipykernel_launcher.py:11: SettingWithCopyWarning: \n",
            "A value is trying to be set on a copy of a slice from a DataFrame.\n",
            "Try using .loc[row_indexer,col_indexer] = value instead\n",
            "\n",
            "See the caveats in the documentation: http://pandas.pydata.org/pandas-docs/stable/user_guide/indexing.html#returning-a-view-versus-a-copy\n",
            "  # This is added back by InteractiveShellApp.init_path()\n",
            "/usr/local/lib/python3.6/dist-packages/ipykernel_launcher.py:24: SettingWithCopyWarning: \n",
            "A value is trying to be set on a copy of a slice from a DataFrame.\n",
            "Try using .loc[row_indexer,col_indexer] = value instead\n",
            "\n",
            "See the caveats in the documentation: http://pandas.pydata.org/pandas-docs/stable/user_guide/indexing.html#returning-a-view-versus-a-copy\n"
          ],
          "name": "stderr"
        }
      ]
    },
    {
      "cell_type": "markdown",
      "metadata": {
        "id": "eUgSok5nF-7W",
        "colab_type": "text"
      },
      "source": [
        "Define Numerical Variables (For Non-categorical Y variable)"
      ]
    },
    {
      "cell_type": "code",
      "metadata": {
        "id": "dR6NHhbGPBR8",
        "colab_type": "code",
        "colab": {}
      },
      "source": [
        ""
      ],
      "execution_count": 0,
      "outputs": []
    },
    {
      "cell_type": "markdown",
      "metadata": {
        "id": "8pMeH2ftO33k",
        "colab_type": "text"
      },
      "source": [
        "Define Numerical Variables (For categorical Y variable)"
      ]
    },
    {
      "cell_type": "code",
      "metadata": {
        "id": "_Yq50LU9q2bn",
        "colab_type": "code",
        "colab": {}
      },
      "source": [
        ""
      ],
      "execution_count": 0,
      "outputs": []
    },
    {
      "cell_type": "markdown",
      "metadata": {
        "id": "B1xQuTviJODj",
        "colab_type": "text"
      },
      "source": [
        "MODEL 2 (Selling Time Forecast)"
      ]
    },
    {
      "cell_type": "code",
      "metadata": {
        "id": "ujXKvupbJhDP",
        "colab_type": "code",
        "outputId": "01ef5a08-5b97-4e23-ac81-4767bd778ced",
        "colab": {
          "base_uri": "https://localhost:8080/",
          "height": 35
        }
      },
      "source": [
        "#Split\n",
        "# partir los datos en input y output(val_rpta)\n",
        "inputs=df_scaled.drop(['selling_time'],axis=1).values #todas las variables\n",
        "#inputs_sin_escalar=df_debajo01_.iloc[:,3:] #eliminando variables con coeficientes inferiories a 0,01\n",
        "output=df_scaled['selling_time'].values\n",
        "\n",
        "#train test split\n",
        "\n",
        "from sklearn.model_selection import train_test_split\n",
        "train_test_split(inputs, output)\n",
        "X_train, X_test, Y_train, Y_test=train_test_split(inputs, output, train_size=0.8, random_state=60)\n",
        "print('tamaños de train , test ',X_train.shape, X_test.shape)"
      ],
      "execution_count": 0,
      "outputs": [
        {
          "output_type": "stream",
          "text": [
            "tamaños de train , test  (18441, 20) (4611, 20)\n"
          ],
          "name": "stdout"
        }
      ]
    },
    {
      "cell_type": "markdown",
      "metadata": {
        "id": "RciGEqNBNeA8",
        "colab_type": "text"
      },
      "source": [
        "AdaBoost Cassifier"
      ]
    },
    {
      "cell_type": "code",
      "metadata": {
        "id": "L080a2h7QQv7",
        "colab_type": "code",
        "colab": {}
      },
      "source": [
        "from sklearn.ensemble import AdaBoostClassifier\n",
        "from sklearn.tree import DecisionTreeClassifier\n",
        "from sklearn.metrics import confusion_matrix"
      ],
      "execution_count": 0,
      "outputs": []
    },
    {
      "cell_type": "code",
      "metadata": {
        "id": "PDlaCz7CNq7Z",
        "colab_type": "code",
        "outputId": "07265c8a-9f1a-4a1a-8abe-e8e848386ab1",
        "colab": {
          "base_uri": "https://localhost:8080/",
          "height": 358
        }
      },
      "source": [
        "classifier = AdaBoostClassifier(\n",
        "    DecisionTreeClassifier(max_depth=1),\n",
        "    n_estimators=200\n",
        ")\n",
        "classifier.fit(X_train, Y_train)"
      ],
      "execution_count": 0,
      "outputs": [
        {
          "output_type": "error",
          "ename": "ValueError",
          "evalue": "ignored",
          "traceback": [
            "\u001b[0;31m---------------------------------------------------------------------------\u001b[0m",
            "\u001b[0;31mValueError\u001b[0m                                Traceback (most recent call last)",
            "\u001b[0;32m<ipython-input-461-1e3f830124e6>\u001b[0m in \u001b[0;36m<module>\u001b[0;34m()\u001b[0m\n\u001b[1;32m      3\u001b[0m     \u001b[0mn_estimators\u001b[0m\u001b[0;34m=\u001b[0m\u001b[0;36m200\u001b[0m\u001b[0;34m\u001b[0m\u001b[0;34m\u001b[0m\u001b[0m\n\u001b[1;32m      4\u001b[0m )\n\u001b[0;32m----> 5\u001b[0;31m \u001b[0mclassifier\u001b[0m\u001b[0;34m.\u001b[0m\u001b[0mfit\u001b[0m\u001b[0;34m(\u001b[0m\u001b[0mX_train\u001b[0m\u001b[0;34m,\u001b[0m \u001b[0mY_train\u001b[0m\u001b[0;34m)\u001b[0m\u001b[0;34m\u001b[0m\u001b[0;34m\u001b[0m\u001b[0m\n\u001b[0m",
            "\u001b[0;32m/usr/local/lib/python3.6/dist-packages/sklearn/ensemble/_weight_boosting.py\u001b[0m in \u001b[0;36mfit\u001b[0;34m(self, X, y, sample_weight)\u001b[0m\n\u001b[1;32m    436\u001b[0m \u001b[0;34m\u001b[0m\u001b[0m\n\u001b[1;32m    437\u001b[0m         \u001b[0;31m# Fit\u001b[0m\u001b[0;34m\u001b[0m\u001b[0;34m\u001b[0m\u001b[0;34m\u001b[0m\u001b[0m\n\u001b[0;32m--> 438\u001b[0;31m         \u001b[0;32mreturn\u001b[0m \u001b[0msuper\u001b[0m\u001b[0;34m(\u001b[0m\u001b[0;34m)\u001b[0m\u001b[0;34m.\u001b[0m\u001b[0mfit\u001b[0m\u001b[0;34m(\u001b[0m\u001b[0mX\u001b[0m\u001b[0;34m,\u001b[0m \u001b[0my\u001b[0m\u001b[0;34m,\u001b[0m \u001b[0msample_weight\u001b[0m\u001b[0;34m)\u001b[0m\u001b[0;34m\u001b[0m\u001b[0;34m\u001b[0m\u001b[0m\n\u001b[0m\u001b[1;32m    439\u001b[0m \u001b[0;34m\u001b[0m\u001b[0m\n\u001b[1;32m    440\u001b[0m     \u001b[0;32mdef\u001b[0m \u001b[0m_validate_estimator\u001b[0m\u001b[0;34m(\u001b[0m\u001b[0mself\u001b[0m\u001b[0;34m)\u001b[0m\u001b[0;34m:\u001b[0m\u001b[0;34m\u001b[0m\u001b[0;34m\u001b[0m\u001b[0m\n",
            "\u001b[0;32m/usr/local/lib/python3.6/dist-packages/sklearn/ensemble/_weight_boosting.py\u001b[0m in \u001b[0;36mfit\u001b[0;34m(self, X, y, sample_weight)\u001b[0m\n\u001b[1;32m    140\u001b[0m                 \u001b[0mX\u001b[0m\u001b[0;34m,\u001b[0m \u001b[0my\u001b[0m\u001b[0;34m,\u001b[0m\u001b[0;34m\u001b[0m\u001b[0;34m\u001b[0m\u001b[0m\n\u001b[1;32m    141\u001b[0m                 \u001b[0msample_weight\u001b[0m\u001b[0;34m,\u001b[0m\u001b[0;34m\u001b[0m\u001b[0;34m\u001b[0m\u001b[0m\n\u001b[0;32m--> 142\u001b[0;31m                 random_state)\n\u001b[0m\u001b[1;32m    143\u001b[0m \u001b[0;34m\u001b[0m\u001b[0m\n\u001b[1;32m    144\u001b[0m             \u001b[0;31m# Early termination\u001b[0m\u001b[0;34m\u001b[0m\u001b[0;34m\u001b[0m\u001b[0;34m\u001b[0m\u001b[0m\n",
            "\u001b[0;32m/usr/local/lib/python3.6/dist-packages/sklearn/ensemble/_weight_boosting.py\u001b[0m in \u001b[0;36m_boost\u001b[0;34m(self, iboost, X, y, sample_weight, random_state)\u001b[0m\n\u001b[1;32m    495\u001b[0m         \"\"\"\n\u001b[1;32m    496\u001b[0m         \u001b[0;32mif\u001b[0m \u001b[0mself\u001b[0m\u001b[0;34m.\u001b[0m\u001b[0malgorithm\u001b[0m \u001b[0;34m==\u001b[0m \u001b[0;34m'SAMME.R'\u001b[0m\u001b[0;34m:\u001b[0m\u001b[0;34m\u001b[0m\u001b[0;34m\u001b[0m\u001b[0m\n\u001b[0;32m--> 497\u001b[0;31m             \u001b[0;32mreturn\u001b[0m \u001b[0mself\u001b[0m\u001b[0;34m.\u001b[0m\u001b[0m_boost_real\u001b[0m\u001b[0;34m(\u001b[0m\u001b[0miboost\u001b[0m\u001b[0;34m,\u001b[0m \u001b[0mX\u001b[0m\u001b[0;34m,\u001b[0m \u001b[0my\u001b[0m\u001b[0;34m,\u001b[0m \u001b[0msample_weight\u001b[0m\u001b[0;34m,\u001b[0m \u001b[0mrandom_state\u001b[0m\u001b[0;34m)\u001b[0m\u001b[0;34m\u001b[0m\u001b[0;34m\u001b[0m\u001b[0m\n\u001b[0m\u001b[1;32m    498\u001b[0m \u001b[0;34m\u001b[0m\u001b[0m\n\u001b[1;32m    499\u001b[0m         \u001b[0;32melse\u001b[0m\u001b[0;34m:\u001b[0m  \u001b[0;31m# elif self.algorithm == \"SAMME\":\u001b[0m\u001b[0;34m\u001b[0m\u001b[0;34m\u001b[0m\u001b[0m\n",
            "\u001b[0;32m/usr/local/lib/python3.6/dist-packages/sklearn/ensemble/_weight_boosting.py\u001b[0m in \u001b[0;36m_boost_real\u001b[0;34m(self, iboost, X, y, sample_weight, random_state)\u001b[0m\n\u001b[1;32m    505\u001b[0m         \u001b[0mestimator\u001b[0m \u001b[0;34m=\u001b[0m \u001b[0mself\u001b[0m\u001b[0;34m.\u001b[0m\u001b[0m_make_estimator\u001b[0m\u001b[0;34m(\u001b[0m\u001b[0mrandom_state\u001b[0m\u001b[0;34m=\u001b[0m\u001b[0mrandom_state\u001b[0m\u001b[0;34m)\u001b[0m\u001b[0;34m\u001b[0m\u001b[0;34m\u001b[0m\u001b[0m\n\u001b[1;32m    506\u001b[0m \u001b[0;34m\u001b[0m\u001b[0m\n\u001b[0;32m--> 507\u001b[0;31m         \u001b[0mestimator\u001b[0m\u001b[0;34m.\u001b[0m\u001b[0mfit\u001b[0m\u001b[0;34m(\u001b[0m\u001b[0mX\u001b[0m\u001b[0;34m,\u001b[0m \u001b[0my\u001b[0m\u001b[0;34m,\u001b[0m \u001b[0msample_weight\u001b[0m\u001b[0;34m=\u001b[0m\u001b[0msample_weight\u001b[0m\u001b[0;34m)\u001b[0m\u001b[0;34m\u001b[0m\u001b[0;34m\u001b[0m\u001b[0m\n\u001b[0m\u001b[1;32m    508\u001b[0m \u001b[0;34m\u001b[0m\u001b[0m\n\u001b[1;32m    509\u001b[0m         \u001b[0my_predict_proba\u001b[0m \u001b[0;34m=\u001b[0m \u001b[0mestimator\u001b[0m\u001b[0;34m.\u001b[0m\u001b[0mpredict_proba\u001b[0m\u001b[0;34m(\u001b[0m\u001b[0mX\u001b[0m\u001b[0;34m)\u001b[0m\u001b[0;34m\u001b[0m\u001b[0;34m\u001b[0m\u001b[0m\n",
            "\u001b[0;32m/usr/local/lib/python3.6/dist-packages/sklearn/tree/_classes.py\u001b[0m in \u001b[0;36mfit\u001b[0;34m(self, X, y, sample_weight, check_input, X_idx_sorted)\u001b[0m\n\u001b[1;32m    875\u001b[0m             \u001b[0msample_weight\u001b[0m\u001b[0;34m=\u001b[0m\u001b[0msample_weight\u001b[0m\u001b[0;34m,\u001b[0m\u001b[0;34m\u001b[0m\u001b[0;34m\u001b[0m\u001b[0m\n\u001b[1;32m    876\u001b[0m             \u001b[0mcheck_input\u001b[0m\u001b[0;34m=\u001b[0m\u001b[0mcheck_input\u001b[0m\u001b[0;34m,\u001b[0m\u001b[0;34m\u001b[0m\u001b[0;34m\u001b[0m\u001b[0m\n\u001b[0;32m--> 877\u001b[0;31m             X_idx_sorted=X_idx_sorted)\n\u001b[0m\u001b[1;32m    878\u001b[0m         \u001b[0;32mreturn\u001b[0m \u001b[0mself\u001b[0m\u001b[0;34m\u001b[0m\u001b[0;34m\u001b[0m\u001b[0m\n\u001b[1;32m    879\u001b[0m \u001b[0;34m\u001b[0m\u001b[0m\n",
            "\u001b[0;32m/usr/local/lib/python3.6/dist-packages/sklearn/tree/_classes.py\u001b[0m in \u001b[0;36mfit\u001b[0;34m(self, X, y, sample_weight, check_input, X_idx_sorted)\u001b[0m\n\u001b[1;32m    171\u001b[0m \u001b[0;34m\u001b[0m\u001b[0m\n\u001b[1;32m    172\u001b[0m         \u001b[0;32mif\u001b[0m \u001b[0mis_classification\u001b[0m\u001b[0;34m:\u001b[0m\u001b[0;34m\u001b[0m\u001b[0;34m\u001b[0m\u001b[0m\n\u001b[0;32m--> 173\u001b[0;31m             \u001b[0mcheck_classification_targets\u001b[0m\u001b[0;34m(\u001b[0m\u001b[0my\u001b[0m\u001b[0;34m)\u001b[0m\u001b[0;34m\u001b[0m\u001b[0;34m\u001b[0m\u001b[0m\n\u001b[0m\u001b[1;32m    174\u001b[0m             \u001b[0my\u001b[0m \u001b[0;34m=\u001b[0m \u001b[0mnp\u001b[0m\u001b[0;34m.\u001b[0m\u001b[0mcopy\u001b[0m\u001b[0;34m(\u001b[0m\u001b[0my\u001b[0m\u001b[0;34m)\u001b[0m\u001b[0;34m\u001b[0m\u001b[0;34m\u001b[0m\u001b[0m\n\u001b[1;32m    175\u001b[0m \u001b[0;34m\u001b[0m\u001b[0m\n",
            "\u001b[0;32m/usr/local/lib/python3.6/dist-packages/sklearn/utils/multiclass.py\u001b[0m in \u001b[0;36mcheck_classification_targets\u001b[0;34m(y)\u001b[0m\n\u001b[1;32m    167\u001b[0m     if y_type not in ['binary', 'multiclass', 'multiclass-multioutput',\n\u001b[1;32m    168\u001b[0m                       'multilabel-indicator', 'multilabel-sequences']:\n\u001b[0;32m--> 169\u001b[0;31m         \u001b[0;32mraise\u001b[0m \u001b[0mValueError\u001b[0m\u001b[0;34m(\u001b[0m\u001b[0;34m\"Unknown label type: %r\"\u001b[0m \u001b[0;34m%\u001b[0m \u001b[0my_type\u001b[0m\u001b[0;34m)\u001b[0m\u001b[0;34m\u001b[0m\u001b[0;34m\u001b[0m\u001b[0m\n\u001b[0m\u001b[1;32m    170\u001b[0m \u001b[0;34m\u001b[0m\u001b[0m\n\u001b[1;32m    171\u001b[0m \u001b[0;34m\u001b[0m\u001b[0m\n",
            "\u001b[0;31mValueError\u001b[0m: Unknown label type: 'continuous'"
          ]
        }
      ]
    }
  ]
}